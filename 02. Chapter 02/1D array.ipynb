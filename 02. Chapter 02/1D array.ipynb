{
 "cells": [
  {
   "cell_type": "code",
   "execution_count": 2,
   "id": "326c6eea",
   "metadata": {},
   "outputs": [],
   "source": [
    "import numpy as np"
   ]
  },
  {
   "cell_type": "markdown",
   "id": "021ff838",
   "metadata": {},
   "source": [
    "## Array"
   ]
  },
  {
   "cell_type": "code",
   "execution_count": 3,
   "id": "b57b9ef3",
   "metadata": {},
   "outputs": [
    {
     "name": "stdout",
     "output_type": "stream",
     "text": [
      "[120  85 230 150  60]\n"
     ]
    },
    {
     "data": {
      "text/plain": [
       "array([120,  85, 230, 150,  60])"
      ]
     },
     "execution_count": 3,
     "metadata": {},
     "output_type": "execute_result"
    }
   ],
   "source": [
    "# Create an array containing the sales quantity of a product for each month (from January to May)\n",
    "arr1 = np.array([120, 85, 230, 150, 60])\n",
    "print(arr1)\n",
    "arr1\n"
   ]
  },
  {
   "cell_type": "code",
   "execution_count": 10,
   "id": "0682fea6",
   "metadata": {},
   "outputs": [
    {
     "data": {
      "text/plain": [
       "dtype('int64')"
      ]
     },
     "execution_count": 10,
     "metadata": {},
     "output_type": "execute_result"
    }
   ],
   "source": [
    "arr1.dtype"
   ]
  },
  {
   "cell_type": "code",
   "execution_count": 11,
   "id": "78ab84c7",
   "metadata": {},
   "outputs": [
    {
     "data": {
      "text/plain": [
       "numpy.ndarray"
      ]
     },
     "execution_count": 11,
     "metadata": {},
     "output_type": "execute_result"
    }
   ],
   "source": [
    "type(arr1)"
   ]
  },
  {
   "cell_type": "code",
   "execution_count": null,
   "id": "3a9ef0bb",
   "metadata": {},
   "outputs": [],
   "source": [
    "# Array object has 2 components: properties, methods (functions)\n",
    "# Access:\n",
    "# arrayname.properties\n",
    "# arrayname.method()"
   ]
  },
  {
   "cell_type": "markdown",
   "id": "fbe99184",
   "metadata": {},
   "source": [
    "## Properties"
   ]
  },
  {
   "cell_type": "code",
   "execution_count": 13,
   "id": "bdf566b7",
   "metadata": {},
   "outputs": [
    {
     "data": {
      "text/plain": [
       "numpy.ndarray"
      ]
     },
     "execution_count": 13,
     "metadata": {},
     "output_type": "execute_result"
    }
   ],
   "source": [
    "type(arr1)"
   ]
  },
  {
   "cell_type": "code",
   "execution_count": 4,
   "id": "be5a4c4f",
   "metadata": {},
   "outputs": [
    {
     "data": {
      "text/plain": [
       "dtype('int64')"
      ]
     },
     "execution_count": 4,
     "metadata": {},
     "output_type": "execute_result"
    }
   ],
   "source": [
    "# data type of elements in array\n",
    "arr1.dtype"
   ]
  },
  {
   "cell_type": "code",
   "execution_count": 14,
   "id": "106a54f4",
   "metadata": {},
   "outputs": [
    {
     "data": {
      "text/plain": [
       "5"
      ]
     },
     "execution_count": 14,
     "metadata": {},
     "output_type": "execute_result"
    }
   ],
   "source": [
    "# count the number of elements in the array\n",
    "arr1.size"
   ]
  },
  {
   "cell_type": "code",
   "execution_count": 5,
   "id": "eef2cef8",
   "metadata": {},
   "outputs": [
    {
     "data": {
      "text/plain": [
       "(5,)"
      ]
     },
     "execution_count": 5,
     "metadata": {},
     "output_type": "execute_result"
    }
   ],
   "source": [
    "# 1-dimensional array, with 5 elements\n",
    "arr1.shape"
   ]
  },
  {
   "cell_type": "code",
   "execution_count": 25,
   "id": "2cae1939",
   "metadata": {},
   "outputs": [
    {
     "data": {
      "text/plain": [
       "1"
      ]
     },
     "execution_count": 25,
     "metadata": {},
     "output_type": "execute_result"
    }
   ],
   "source": [
    "# 1-dimensional array\n",
    "arr1.ndim"
   ]
  },
  {
   "cell_type": "code",
   "execution_count": 26,
   "id": "a2c61821",
   "metadata": {},
   "outputs": [
    {
     "data": {
      "text/plain": [
       "8"
      ]
     },
     "execution_count": 26,
     "metadata": {},
     "output_type": "execute_result"
    }
   ],
   "source": [
    "# size\n",
    "arr1.itemsize "
   ]
  },
  {
   "cell_type": "code",
   "execution_count": 29,
   "id": "9521abb8",
   "metadata": {},
   "outputs": [
    {
     "data": {
      "text/plain": [
       "40"
      ]
     },
     "execution_count": 29,
     "metadata": {},
     "output_type": "execute_result"
    }
   ],
   "source": [
    "# array-size\n",
    "arr1.nbytes"
   ]
  },
  {
   "cell_type": "code",
   "execution_count": 31,
   "id": "4f7c7e84",
   "metadata": {},
   "outputs": [
    {
     "name": "stdout",
     "output_type": "stream",
     "text": [
      "230\n"
     ]
    }
   ],
   "source": [
    "# maximum\n",
    "print(arr1.max())"
   ]
  },
  {
   "cell_type": "markdown",
   "id": "1ae4575b",
   "metadata": {},
   "source": [
    "#### Create array from tuple, using dtype with different parameter values"
   ]
  },
  {
   "cell_type": "code",
   "execution_count": 6,
   "id": "1eeca482",
   "metadata": {},
   "outputs": [
    {
     "data": {
      "text/plain": [
       "array([21, 25, 29, 30, 32], dtype=int8)"
      ]
     },
     "execution_count": 6,
     "metadata": {},
     "output_type": "execute_result"
    }
   ],
   "source": [
    "# Create an array containing the ages of 5 students from a tuple\n",
    "arr_age = np.array((21, 25, 29, 30, 32), dtype='i1')\n",
    "arr_age\n"
   ]
  },
  {
   "cell_type": "code",
   "execution_count": 39,
   "id": "881c3af1",
   "metadata": {},
   "outputs": [
    {
     "data": {
      "text/plain": [
       "dtype('int8')"
      ]
     },
     "execution_count": 39,
     "metadata": {},
     "output_type": "execute_result"
    }
   ],
   "source": [
    "arr_age.dtype"
   ]
  },
  {
   "cell_type": "code",
   "execution_count": 7,
   "id": "3d22c64a",
   "metadata": {},
   "outputs": [
    {
     "data": {
      "text/plain": [
       "40"
      ]
     },
     "execution_count": 7,
     "metadata": {},
     "output_type": "execute_result"
    }
   ],
   "source": [
    "# Create an array to store the heights of 5 students\n",
    "arr_height = np.array([160.5, 165.7, 170.2, 175.3, 180.0])\n",
    "arr_height.nbytes\n"
   ]
  },
  {
   "cell_type": "code",
   "execution_count": 8,
   "id": "179e62f6",
   "metadata": {},
   "outputs": [
    {
     "data": {
      "text/plain": [
       "dtype('float64')"
      ]
     },
     "execution_count": 8,
     "metadata": {},
     "output_type": "execute_result"
    }
   ],
   "source": [
    "arr_height.dtype"
   ]
  },
  {
   "cell_type": "code",
   "execution_count": 9,
   "id": "4d970466",
   "metadata": {},
   "outputs": [
    {
     "data": {
      "text/plain": [
       "array([160.5, 165.7, 170.2, 175.3, 180. ], dtype=float32)"
      ]
     },
     "execution_count": 9,
     "metadata": {},
     "output_type": "execute_result"
    }
   ],
   "source": [
    "# Create an array to store the heights of 5 students\n",
    "# with the following data types:\n",
    "# - signed integer 2 bytes (dtype='i2')\n",
    "# - unsigned integer 1 byte (dtype='u1')\n",
    "# - floating point 2 bytes (dtype='float16')\n",
    "arr_height = np.array([160.5, 165.7, 170.2, 175.3, 180.0], dtype='f4')\n",
    "arr_height\n"
   ]
  },
  {
   "cell_type": "code",
   "execution_count": 43,
   "id": "6702d828",
   "metadata": {},
   "outputs": [
    {
     "data": {
      "text/plain": [
       "dtype('float32')"
      ]
     },
     "execution_count": 43,
     "metadata": {},
     "output_type": "execute_result"
    }
   ],
   "source": [
    "arr_height.dtype"
   ]
  },
  {
   "cell_type": "markdown",
   "id": "de2372dc",
   "metadata": {},
   "source": [
    "## Create arrays from utility functions\n"
   ]
  },
  {
   "cell_type": "code",
   "execution_count": 10,
   "id": "81976ca6",
   "metadata": {},
   "outputs": [
    {
     "data": {
      "text/plain": [
       "array([0, 0, 0, 0, 0, 0, 0, 0, 0, 0])"
      ]
     },
     "execution_count": 10,
     "metadata": {},
     "output_type": "execute_result"
    }
   ],
   "source": [
    "# Create an array with 10 elements, all initialized to 0\n",
    "arr0 = np.zeros((10,), dtype=int)\n",
    "arr0\n"
   ]
  },
  {
   "cell_type": "code",
   "execution_count": 11,
   "id": "b8766ea1",
   "metadata": {},
   "outputs": [
    {
     "name": "stdout",
     "output_type": "stream",
     "text": [
      "[1 1 1 1 1 1 1 1 1 1]\n"
     ]
    }
   ],
   "source": [
    "# Create an array with 10 elements of value 1\n",
    "arr_1 = np.ones((10,), dtype=int)\n",
    "print(arr_1)\n"
   ]
  },
  {
   "cell_type": "code",
   "execution_count": 12,
   "id": "d4223cc3",
   "metadata": {},
   "outputs": [
    {
     "name": "stdout",
     "output_type": "stream",
     "text": [
      "[4 4 4 4 4 4 4 4 4 4]\n"
     ]
    }
   ],
   "source": [
    "# Create an array with 10 elements, all initialized to 4\n",
    "arr2 = np.full((10,), fill_value=4)\n",
    "print(arr2)\n"
   ]
  },
  {
   "cell_type": "code",
   "execution_count": 13,
   "id": "bb16c92e",
   "metadata": {},
   "outputs": [
    {
     "name": "stdout",
     "output_type": "stream",
     "text": [
      "[0 1 2 3 4 5 6 7 8 9]\n"
     ]
    }
   ],
   "source": [
    "# Create an array with 10 elements from 0 to 9\n",
    "arr3 = np.arange(10)  # arange(0, 10, 1)\n",
    "print(arr3)\n"
   ]
  },
  {
   "cell_type": "code",
   "execution_count": 14,
   "id": "5e449fd8",
   "metadata": {},
   "outputs": [
    {
     "name": "stdout",
     "output_type": "stream",
     "text": [
      "[1 2 3 4 5 6 7 8 9]\n"
     ]
    }
   ],
   "source": [
    "# Create an array with 9 elements from 1 to 9\n",
    "arr4 = np.arange(1, 10)\n",
    "print(arr4)\n"
   ]
  },
  {
   "cell_type": "code",
   "execution_count": 15,
   "id": "7374dac7",
   "metadata": {},
   "outputs": [
    {
     "name": "stdout",
     "output_type": "stream",
     "text": [
      "[0 2 4 6 8]\n"
     ]
    }
   ],
   "source": [
    "# Create an array with even numbers less than 10\n",
    "arr5 = np.arange(0, 10, 2)\n",
    "print(arr5)\n"
   ]
  },
  {
   "cell_type": "code",
   "execution_count": 16,
   "id": "693b6b0a",
   "metadata": {},
   "outputs": [
    {
     "name": "stdout",
     "output_type": "stream",
     "text": [
      "[10  9  8  7  6  5  4  3  2  1]\n"
     ]
    }
   ],
   "source": [
    "# Create an array with elements from 10 to 1\n",
    "arr5 = np.arange(10, 0, -1)\n",
    "print(arr5)\n"
   ]
  },
  {
   "cell_type": "code",
   "execution_count": null,
   "id": "6bc16fbd",
   "metadata": {},
   "outputs": [],
   "source": [
    "# linspace(start,stop,num,endpoint)\n",
    "# endpoint = True => bins= (stop - start)/(num - 1)\n",
    "# endpoint = False => bins= (stop - start)/(num)"
   ]
  },
  {
   "cell_type": "code",
   "execution_count": 17,
   "id": "ed33fc27",
   "metadata": {},
   "outputs": [
    {
     "name": "stdout",
     "output_type": "stream",
     "text": [
      "(array([ 2.,  4.,  6.,  8., 10., 12., 14., 16., 18., 20., 22., 24., 26.,\n",
      "       28., 30.]), 2.0)\n"
     ]
    }
   ],
   "source": [
    "# Create an array with 15 evenly spaced integers from 2 to 30 (including 30)\n",
    "arr6 = np.linspace(2, 30, 15, endpoint=True, retstep=True)\n",
    "print(arr6)\n"
   ]
  },
  {
   "cell_type": "code",
   "execution_count": 18,
   "id": "2900f2d7",
   "metadata": {},
   "outputs": [
    {
     "name": "stdout",
     "output_type": "stream",
     "text": [
      "(array([1. , 1.6, 2.2, 2.8, 3.4, 4. , 4.6, 5.2, 5.8, 6.4, 7. , 7.6, 8.2,\n",
      "       8.8, 9.4]), 0.6)\n"
     ]
    }
   ],
   "source": [
    "# Create an array with 15 evenly spaced values from 1 to 10 (excluding 10)\n",
    "arr6 = np.linspace(1, 10, 15, endpoint=False, retstep=True)\n",
    "print(arr6)\n"
   ]
  },
  {
   "cell_type": "code",
   "execution_count": 19,
   "id": "16ef284d",
   "metadata": {},
   "outputs": [
    {
     "name": "stdout",
     "output_type": "stream",
     "text": [
      "[ 2.  4.  6.  8. 10.]\n"
     ]
    }
   ],
   "source": [
    "# Create an array with 5 evenly spaced values from 2 to 10 (including 10)\n",
    "arr7 = np.linspace(2, 10, 5, endpoint=True)\n",
    "print(arr7)\n"
   ]
  },
  {
   "cell_type": "code",
   "execution_count": 20,
   "id": "be07c80b",
   "metadata": {},
   "outputs": [
    {
     "name": "stdout",
     "output_type": "stream",
     "text": [
      "[2.  3.6 5.2 6.8 8.4]\n"
     ]
    }
   ],
   "source": [
    "# Create an array with 5 evenly spaced values from 2 to 10 (excluding 10)\n",
    "arr8 = np.linspace(2, 10, 5, endpoint=False)\n",
    "print(arr8)\n"
   ]
  },
  {
   "cell_type": "code",
   "execution_count": 21,
   "id": "3a22f058",
   "metadata": {},
   "outputs": [
    {
     "name": "stdout",
     "output_type": "stream",
     "text": [
      "[0.39021806 0.60798251 0.16494066 0.64339205]\n"
     ]
    }
   ],
   "source": [
    "# Create an array with 4 random values between 0 and 1 (excluding 1)\n",
    "arr9 = np.random.rand(4)\n",
    "print(arr9)\n"
   ]
  },
  {
   "cell_type": "code",
   "execution_count": 22,
   "id": "b6325c73",
   "metadata": {},
   "outputs": [
    {
     "name": "stdout",
     "output_type": "stream",
     "text": [
      "[0 4 0 1 4 3 3 3 3 0]\n"
     ]
    }
   ],
   "source": [
    "# Create an array with 10 random integers between 0 and 5\n",
    "arr10 = np.random.randint(6, size=10)\n",
    "print(arr10)\n"
   ]
  },
  {
   "cell_type": "code",
   "execution_count": 84,
   "id": "0f18d0f1",
   "metadata": {},
   "outputs": [
    {
     "name": "stdout",
     "output_type": "stream",
     "text": [
      "[4 5 2 2 3 1 4 1 1 5]\n"
     ]
    }
   ],
   "source": [
    "np.random.seed(8)\n",
    "arr10 = np.random.randint(low=1,high=6, size=10)\n",
    "print(arr10)"
   ]
  },
  {
   "cell_type": "code",
   "execution_count": 23,
   "id": "913c17f1",
   "metadata": {},
   "outputs": [
    {
     "name": "stdout",
     "output_type": "stream",
     "text": [
      "[0 1 1 1 2]\n"
     ]
    }
   ],
   "source": [
    "# Create an array with 5 random integers between 0 and 2\n",
    "np.random.seed(8)\n",
    "arr11 = np.random.randint(0, 3, 5)\n",
    "print(arr11)\n"
   ]
  },
  {
   "cell_type": "code",
   "execution_count": 24,
   "id": "4cd7c111",
   "metadata": {},
   "outputs": [
    {
     "name": "stdout",
     "output_type": "stream",
     "text": [
      "[74. 74. 72. 72. 73. 69. 69. 71. 76. 71.]\n",
      "1015\n"
     ]
    }
   ],
   "source": [
    "# Create an array from the file heights.txt\n",
    "heights = np.genfromtxt('heights.txt', delimiter=',')  # Heights of baseball players (in inches)\n",
    "print(heights[:10])\n",
    "print(heights.size)\n"
   ]
  },
  {
   "cell_type": "markdown",
   "id": "b2774ede",
   "metadata": {},
   "source": [
    "## Retrieve\n",
    "### Retrieve 1 element"
   ]
  },
  {
   "cell_type": "code",
   "execution_count": 87,
   "id": "17006d0b",
   "metadata": {},
   "outputs": [
    {
     "data": {
      "text/plain": [
       "array([120,  85, 230, 150,  60])"
      ]
     },
     "execution_count": 87,
     "metadata": {},
     "output_type": "execute_result"
    }
   ],
   "source": [
    "arr1"
   ]
  },
  {
   "cell_type": "code",
   "execution_count": 88,
   "id": "414b2bb5",
   "metadata": {},
   "outputs": [
    {
     "data": {
      "text/plain": [
       "np.int64(120)"
      ]
     },
     "execution_count": 88,
     "metadata": {},
     "output_type": "execute_result"
    }
   ],
   "source": [
    "arr1[0]  # 1st element"
   ]
  },
  {
   "cell_type": "code",
   "execution_count": 89,
   "id": "a7aecab6",
   "metadata": {},
   "outputs": [
    {
     "data": {
      "text/plain": [
       "np.int64(60)"
      ]
     },
     "execution_count": 89,
     "metadata": {},
     "output_type": "execute_result"
    }
   ],
   "source": [
    "arr1[-1] # last element"
   ]
  },
  {
   "cell_type": "code",
   "execution_count": 90,
   "id": "f7f6278a",
   "metadata": {},
   "outputs": [
    {
     "data": {
      "text/plain": [
       "np.int64(150)"
      ]
     },
     "execution_count": 90,
     "metadata": {},
     "output_type": "execute_result"
    }
   ],
   "source": [
    "arr1[3] # index 3"
   ]
  },
  {
   "cell_type": "code",
   "execution_count": 91,
   "id": "f8afa877",
   "metadata": {},
   "outputs": [
    {
     "data": {
      "text/plain": [
       "np.float64(73.0)"
      ]
     },
     "execution_count": 91,
     "metadata": {},
     "output_type": "execute_result"
    }
   ],
   "source": [
    "heights[1014]"
   ]
  },
  {
   "cell_type": "code",
   "execution_count": 92,
   "id": "527bbfa4-17e1-471c-a42e-f7f6f55c972a",
   "metadata": {},
   "outputs": [
    {
     "data": {
      "text/plain": [
       "np.float64(73.0)"
      ]
     },
     "execution_count": 92,
     "metadata": {},
     "output_type": "execute_result"
    }
   ],
   "source": [
    "heights[-1]"
   ]
  },
  {
   "cell_type": "markdown",
   "id": "9918bdaf",
   "metadata": {},
   "source": [
    "### Retrieve several elements"
   ]
  },
  {
   "cell_type": "code",
   "execution_count": 100,
   "id": "753b6295",
   "metadata": {},
   "outputs": [
    {
     "data": {
      "text/plain": [
       "array([120,  85, 230, 150,  60])"
      ]
     },
     "execution_count": 100,
     "metadata": {},
     "output_type": "execute_result"
    }
   ],
   "source": [
    "arr1"
   ]
  },
  {
   "cell_type": "code",
   "execution_count": 25,
   "id": "86541b3b",
   "metadata": {},
   "outputs": [
    {
     "data": {
      "text/plain": [
       "array([120,  85,  60])"
      ]
     },
     "execution_count": 25,
     "metadata": {},
     "output_type": "execute_result"
    }
   ],
   "source": [
    "# Values of the elements at indices 0, 1, and 4\n",
    "lst_index = [0, 1, 4]\n",
    "arr1[lst_index]\n"
   ]
  },
  {
   "cell_type": "markdown",
   "id": "9df060fb",
   "metadata": {},
   "source": [
    "### Slice"
   ]
  },
  {
   "cell_type": "code",
   "execution_count": 27,
   "id": "63099cb0",
   "metadata": {},
   "outputs": [
    {
     "data": {
      "text/plain": [
       "array([120,  85, 230])"
      ]
     },
     "execution_count": 27,
     "metadata": {},
     "output_type": "execute_result"
    }
   ],
   "source": [
    "#Display the value of the first 3 elements index 0,1,2\n",
    "arr1[:3]  "
   ]
  },
  {
   "cell_type": "code",
   "execution_count": 26,
   "id": "ec3937b1",
   "metadata": {},
   "outputs": [
    {
     "data": {
      "text/plain": [
       "array([150,  60])"
      ]
     },
     "execution_count": 26,
     "metadata": {},
     "output_type": "execute_result"
    }
   ],
   "source": [
    "#Display the value of the last 2 elements -2,-1\n",
    "arr1[-2:]"
   ]
  },
  {
   "cell_type": "code",
   "execution_count": 28,
   "id": "9f22bc06",
   "metadata": {},
   "outputs": [
    {
     "data": {
      "text/plain": [
       "array([ 85, 150])"
      ]
     },
     "execution_count": 28,
     "metadata": {},
     "output_type": "execute_result"
    }
   ],
   "source": [
    "#Display odd index element values\n",
    "arr1[1::2]"
   ]
  },
  {
   "cell_type": "code",
   "execution_count": 99,
   "id": "e52ba1f2",
   "metadata": {},
   "outputs": [
    {
     "data": {
      "text/plain": [
       "array([ 60, 150, 230,  85, 120])"
      ]
     },
     "execution_count": 99,
     "metadata": {},
     "output_type": "execute_result"
    }
   ],
   "source": [
    "# Display the reversed array of arr1\n",
    "arr1[::-1]"
   ]
  },
  {
   "cell_type": "markdown",
   "id": "87dabb2d",
   "metadata": {},
   "source": [
    "### Retrieve element by condition"
   ]
  },
  {
   "cell_type": "code",
   "execution_count": 102,
   "id": "cb7562fb",
   "metadata": {},
   "outputs": [
    {
     "data": {
      "text/plain": [
       "array([120,  85, 230, 150,  60])"
      ]
     },
     "execution_count": 102,
     "metadata": {},
     "output_type": "execute_result"
    }
   ],
   "source": [
    "arr1"
   ]
  },
  {
   "cell_type": "code",
   "execution_count": 104,
   "id": "c52ec63f",
   "metadata": {},
   "outputs": [
    {
     "data": {
      "text/plain": [
       "array([ True, False,  True,  True, False])"
      ]
     },
     "execution_count": 104,
     "metadata": {},
     "output_type": "execute_result"
    }
   ],
   "source": [
    "arr1 > 100"
   ]
  },
  {
   "cell_type": "code",
   "execution_count": 103,
   "id": "98408361",
   "metadata": {},
   "outputs": [
    {
     "data": {
      "text/plain": [
       "array([120, 230, 150])"
      ]
     },
     "execution_count": 103,
     "metadata": {},
     "output_type": "execute_result"
    }
   ],
   "source": [
    "# Display elements with values ​​>100\n",
    "arr1[arr1 > 100]"
   ]
  },
  {
   "cell_type": "markdown",
   "id": "668b2e15",
   "metadata": {},
   "source": [
    "### Retrieve elements based on multiple conditions"
   ]
  },
  {
   "cell_type": "code",
   "execution_count": 118,
   "id": "52e4bf97",
   "metadata": {},
   "outputs": [
    {
     "data": {
      "text/plain": [
       "array([120, 150])"
      ]
     },
     "execution_count": 118,
     "metadata": {},
     "output_type": "execute_result"
    }
   ],
   "source": [
    "# Display elements with values ​​from 100 to 200\n",
    "arr1[(arr1 >= 100) & (arr1 <= 200)] # and"
   ]
  },
  {
   "cell_type": "code",
   "execution_count": 110,
   "id": "c17ef98e",
   "metadata": {},
   "outputs": [
    {
     "data": {
      "text/plain": [
       "array([ 85, 230,  60])"
      ]
     },
     "execution_count": 110,
     "metadata": {},
     "output_type": "execute_result"
    }
   ],
   "source": [
    "# Display elements with values ​​less than 100 or greater than 200\n",
    "arr1[(arr1 < 100) | (arr1 > 200)] # or"
   ]
  },
  {
   "cell_type": "code",
   "execution_count": 111,
   "id": "5eadf5c9",
   "metadata": {},
   "outputs": [
    {
     "data": {
      "text/plain": [
       "array([85, 60])"
      ]
     },
     "execution_count": 111,
     "metadata": {},
     "output_type": "execute_result"
    }
   ],
   "source": [
    "# Display elements with values no greater than 100\n",
    "arr1[~(arr1 > 100)]# not"
   ]
  },
  {
   "cell_type": "markdown",
   "id": "6235de61",
   "metadata": {},
   "source": [
    "### Retrieve elements based on conditions with np.where"
   ]
  },
  {
   "cell_type": "code",
   "execution_count": 115,
   "id": "bb172ad4",
   "metadata": {},
   "outputs": [
    {
     "data": {
      "text/plain": [
       "array([120, 230, 150])"
      ]
     },
     "execution_count": 115,
     "metadata": {},
     "output_type": "execute_result"
    }
   ],
   "source": [
    "arr1[arr1 > 100]"
   ]
  },
  {
   "cell_type": "code",
   "execution_count": 113,
   "id": "7d3cb19f",
   "metadata": {},
   "outputs": [
    {
     "data": {
      "text/plain": [
       "array([120,  85, 230, 150,  60])"
      ]
     },
     "execution_count": 113,
     "metadata": {},
     "output_type": "execute_result"
    }
   ],
   "source": [
    "arr1"
   ]
  },
  {
   "cell_type": "code",
   "execution_count": 112,
   "id": "bb7c0e66",
   "metadata": {},
   "outputs": [
    {
     "data": {
      "text/plain": [
       "(array([0, 2, 3]),)"
      ]
     },
     "execution_count": 112,
     "metadata": {},
     "output_type": "execute_result"
    }
   ],
   "source": [
    "# Index of elements with value > 100?\n",
    "idx = np.where(arr1 > 100)\n",
    "idx"
   ]
  },
  {
   "cell_type": "code",
   "execution_count": 114,
   "id": "a4e6ea49",
   "metadata": {},
   "outputs": [
    {
     "data": {
      "text/plain": [
       "array([120, 230, 150])"
      ]
     },
     "execution_count": 114,
     "metadata": {},
     "output_type": "execute_result"
    }
   ],
   "source": [
    "# Show elements with value > 100\n",
    "arr1[idx]"
   ]
  },
  {
   "cell_type": "markdown",
   "id": "293ddbce",
   "metadata": {},
   "source": [
    "## Add, delete, edit array data\n",
    "### Add element to the end of array"
   ]
  },
  {
   "cell_type": "code",
   "execution_count": 119,
   "id": "382ec5ee",
   "metadata": {},
   "outputs": [
    {
     "data": {
      "text/plain": [
       "array([120,  85, 230, 150,  60])"
      ]
     },
     "execution_count": 119,
     "metadata": {},
     "output_type": "execute_result"
    }
   ],
   "source": [
    "arr1"
   ]
  },
  {
   "cell_type": "code",
   "execution_count": 120,
   "id": "78d531da",
   "metadata": {},
   "outputs": [
    {
     "data": {
      "text/plain": [
       "array([120,  85, 230, 150,  60, 200])"
      ]
     },
     "execution_count": 120,
     "metadata": {},
     "output_type": "execute_result"
    }
   ],
   "source": [
    "np.concatenate ([arr1,[200]])"
   ]
  },
  {
   "cell_type": "code",
   "execution_count": 121,
   "id": "52c4a471",
   "metadata": {},
   "outputs": [
    {
     "data": {
      "text/plain": [
       "array([120,  85, 230, 150,  60])"
      ]
     },
     "execution_count": 121,
     "metadata": {},
     "output_type": "execute_result"
    }
   ],
   "source": [
    "arr1"
   ]
  },
  {
   "cell_type": "code",
   "execution_count": 122,
   "id": "845d26df",
   "metadata": {},
   "outputs": [
    {
     "data": {
      "text/plain": [
       "array([120,  85, 230, 150,  60, 200])"
      ]
     },
     "execution_count": 122,
     "metadata": {},
     "output_type": "execute_result"
    }
   ],
   "source": [
    "# Add value to the end of array arr1\n",
    "arr1 = np.concatenate ([arr1, [200]])\n",
    "arr1"
   ]
  },
  {
   "cell_type": "code",
   "execution_count": 123,
   "id": "b64ce64a",
   "metadata": {},
   "outputs": [
    {
     "data": {
      "text/plain": [
       "array([120,  85, 230, 150,  60, 200, 170,  95, 210])"
      ]
     },
     "execution_count": 123,
     "metadata": {},
     "output_type": "execute_result"
    }
   ],
   "source": [
    "# add multiple values to the end of array arr1\n",
    "arr1= np.concatenate([arr1, [170, 95, 210]])\n",
    "arr1"
   ]
  },
  {
   "cell_type": "markdown",
   "id": "5aec70f4",
   "metadata": {},
   "source": [
    "### Insert an element into an array at a specified position, using np.insert()"
   ]
  },
  {
   "cell_type": "code",
   "execution_count": 124,
   "id": "264f7932",
   "metadata": {},
   "outputs": [
    {
     "data": {
      "text/plain": [
       "array([120,  85, 230, 150,  60])"
      ]
     },
     "execution_count": 124,
     "metadata": {},
     "output_type": "execute_result"
    }
   ],
   "source": [
    "arr1 = np.array([120, 85, 230, 150, 60])\n",
    "arr1"
   ]
  },
  {
   "cell_type": "code",
   "execution_count": 125,
   "id": "5d411137",
   "metadata": {},
   "outputs": [
    {
     "data": {
      "text/plain": [
       "array([120,  85, 230, 150, 100,  60])"
      ]
     },
     "execution_count": 125,
     "metadata": {},
     "output_type": "execute_result"
    }
   ],
   "source": [
    "# Insert an element into the array\n",
    "arr4 = np.insert(arr1, 4, 100)\n",
    "arr4"
   ]
  },
  {
   "cell_type": "code",
   "execution_count": 126,
   "id": "2579e102",
   "metadata": {},
   "outputs": [
    {
     "data": {
      "text/plain": [
       "array([120,  85, 230, 150,  60,  80,  70])"
      ]
     },
     "execution_count": 126,
     "metadata": {},
     "output_type": "execute_result"
    }
   ],
   "source": [
    "# Insert multiple elements into the array\n",
    "arr4 = np.insert(arr1, 5, [80, 70])\n",
    "arr4"
   ]
  },
  {
   "cell_type": "code",
   "execution_count": 127,
   "id": "c1dc6f59",
   "metadata": {},
   "outputs": [
    {
     "data": {
      "text/plain": [
       "array([120,  85, 230, 150,  60])"
      ]
     },
     "execution_count": 127,
     "metadata": {},
     "output_type": "execute_result"
    }
   ],
   "source": [
    "arr1"
   ]
  },
  {
   "cell_type": "code",
   "execution_count": 128,
   "id": "e49e1db9",
   "metadata": {},
   "outputs": [
    {
     "data": {
      "text/plain": [
       "array([120,  80,  85, 230, 150,  70,  60])"
      ]
     },
     "execution_count": 128,
     "metadata": {},
     "output_type": "execute_result"
    }
   ],
   "source": [
    "# Insert multiple elements into the array at multiple positions\n",
    "arr4 = np.insert(arr1, [1,4], [80, 70])\n",
    "arr4"
   ]
  },
  {
   "cell_type": "markdown",
   "id": "47455bfe",
   "metadata": {},
   "source": [
    "### Delete\n"
   ]
  },
  {
   "cell_type": "code",
   "execution_count": 129,
   "id": "c7cec968",
   "metadata": {},
   "outputs": [
    {
     "data": {
      "text/plain": [
       "array([120,  85, 230, 150,  60])"
      ]
     },
     "execution_count": 129,
     "metadata": {},
     "output_type": "execute_result"
    }
   ],
   "source": [
    "arr1 = np.array([120, 85, 230, 150, 60])\n",
    "arr1"
   ]
  },
  {
   "cell_type": "code",
   "execution_count": 130,
   "id": "404235f3",
   "metadata": {},
   "outputs": [
    {
     "data": {
      "text/plain": [
       "array([120, 230, 150,  60])"
      ]
     },
     "execution_count": 130,
     "metadata": {},
     "output_type": "execute_result"
    }
   ],
   "source": [
    "# 1st\n",
    "np.delete(arr1, 1)"
   ]
  },
  {
   "cell_type": "code",
   "execution_count": 131,
   "id": "45c0cfb0-eb87-44b2-8b1d-ce0d97469c8f",
   "metadata": {},
   "outputs": [
    {
     "data": {
      "text/plain": [
       "array([120,  85, 230, 150,  60])"
      ]
     },
     "execution_count": 131,
     "metadata": {},
     "output_type": "execute_result"
    }
   ],
   "source": [
    "arr1"
   ]
  },
  {
   "cell_type": "code",
   "execution_count": 132,
   "id": "38183bf8",
   "metadata": {},
   "outputs": [
    {
     "data": {
      "text/plain": [
       "array([85, 60])"
      ]
     },
     "execution_count": 132,
     "metadata": {},
     "output_type": "execute_result"
    }
   ],
   "source": [
    "#0,2,3\n",
    "np.delete(arr1, [0,2,3])"
   ]
  },
  {
   "cell_type": "markdown",
   "id": "79627b6a",
   "metadata": {},
   "source": [
    "### Edit element value in array\n",
    "#### Edit 1 element"
   ]
  },
  {
   "cell_type": "code",
   "execution_count": 133,
   "id": "fb57d9aa",
   "metadata": {},
   "outputs": [
    {
     "data": {
      "text/plain": [
       "array([120,  85, 230, 150,  60])"
      ]
     },
     "execution_count": 133,
     "metadata": {},
     "output_type": "execute_result"
    }
   ],
   "source": [
    "arr1 = np.array([120, 85, 230, 150, 60])\n",
    "arr1"
   ]
  },
  {
   "cell_type": "code",
   "execution_count": 134,
   "id": "259b6e83",
   "metadata": {},
   "outputs": [
    {
     "data": {
      "text/plain": [
       "np.int64(230)"
      ]
     },
     "execution_count": 134,
     "metadata": {},
     "output_type": "execute_result"
    }
   ],
   "source": [
    "arr1[2]"
   ]
  },
  {
   "cell_type": "code",
   "execution_count": 135,
   "id": "7b2d0014",
   "metadata": {},
   "outputs": [
    {
     "data": {
      "text/plain": [
       "array([120,  85,  80, 150,  60])"
      ]
     },
     "execution_count": 135,
     "metadata": {},
     "output_type": "execute_result"
    }
   ],
   "source": [
    "# 2\n",
    "arr1[2] = 80\n",
    "arr1"
   ]
  },
  {
   "cell_type": "markdown",
   "id": "55c69b14",
   "metadata": {},
   "source": [
    "#### multiple elements"
   ]
  },
  {
   "cell_type": "code",
   "execution_count": 136,
   "id": "39ab921b",
   "metadata": {},
   "outputs": [
    {
     "data": {
      "text/plain": [
       "array([120,  85,  80, 150,  60])"
      ]
     },
     "execution_count": 136,
     "metadata": {},
     "output_type": "execute_result"
    }
   ],
   "source": [
    "arr1"
   ]
  },
  {
   "cell_type": "code",
   "execution_count": 137,
   "id": "e69511d2",
   "metadata": {},
   "outputs": [
    {
     "data": {
      "text/plain": [
       "array([85, 80, 60])"
      ]
     },
     "execution_count": 137,
     "metadata": {},
     "output_type": "execute_result"
    }
   ],
   "source": [
    "arr1[arr1 < 100]"
   ]
  },
  {
   "cell_type": "code",
   "execution_count": 138,
   "id": "51e7b7fd",
   "metadata": {},
   "outputs": [
    {
     "data": {
      "text/plain": [
       "array([120, 100, 100, 150, 100])"
      ]
     },
     "execution_count": 138,
     "metadata": {},
     "output_type": "execute_result"
    }
   ],
   "source": [
    "# values less than 100 to 100\n",
    "arr1[arr1 < 100] = 100\n",
    "arr1"
   ]
  },
  {
   "cell_type": "code",
   "execution_count": 140,
   "id": "0d74da38",
   "metadata": {},
   "outputs": [
    {
     "data": {
      "text/plain": [
       "array([120,   1,   2, 150,   3])"
      ]
     },
     "execution_count": 140,
     "metadata": {},
     "output_type": "execute_result"
    }
   ],
   "source": [
    "# values equal to 100 to be 1,2,3\n",
    "arr1[arr1 == 100] = [1,2,3]\n",
    "arr1\n"
   ]
  },
  {
   "cell_type": "code",
   "execution_count": 141,
   "id": "1c7fae53",
   "metadata": {},
   "outputs": [
    {
     "data": {
      "text/plain": [
       "array([2, 3])"
      ]
     },
     "execution_count": 141,
     "metadata": {},
     "output_type": "execute_result"
    }
   ],
   "source": [
    "arr1[[2,4]]"
   ]
  },
  {
   "cell_type": "code",
   "execution_count": 142,
   "id": "f2ccbd93",
   "metadata": {},
   "outputs": [
    {
     "data": {
      "text/plain": [
       "array([120,   1,  90, 150,  85])"
      ]
     },
     "execution_count": 142,
     "metadata": {},
     "output_type": "execute_result"
    }
   ],
   "source": [
    "# value at position 2,4\n",
    "arr1[[2,4]] = [90, 85]\n",
    "arr1"
   ]
  },
  {
   "cell_type": "markdown",
   "id": "76fbc469",
   "metadata": {},
   "source": [
    "## Arithmetic operations on arrays"
   ]
  },
  {
   "cell_type": "code",
   "execution_count": 2,
   "id": "35ed148f",
   "metadata": {},
   "outputs": [
    {
     "data": {
      "text/plain": [
       "array([120,  85, 230, 150,  60])"
      ]
     },
     "execution_count": 2,
     "metadata": {},
     "output_type": "execute_result"
    }
   ],
   "source": [
    "arr1 = np.array([120, 85, 230, 150, 60])\n",
    "arr1"
   ]
  },
  {
   "cell_type": "code",
   "execution_count": 3,
   "id": "89fc7453",
   "metadata": {},
   "outputs": [
    {
     "data": {
      "text/plain": [
       "array([130,  95, 240, 160,  70])"
      ]
     },
     "execution_count": 3,
     "metadata": {},
     "output_type": "execute_result"
    }
   ],
   "source": [
    "arr1 + 10"
   ]
  },
  {
   "cell_type": "code",
   "execution_count": 4,
   "id": "a123ee3b",
   "metadata": {},
   "outputs": [
    {
     "data": {
      "text/plain": [
       "array([100,  65, 210, 130,  40])"
      ]
     },
     "execution_count": 4,
     "metadata": {},
     "output_type": "execute_result"
    }
   ],
   "source": [
    "arr1 - 20"
   ]
  },
  {
   "cell_type": "code",
   "execution_count": 5,
   "id": "ef1056c8",
   "metadata": {},
   "outputs": [
    {
     "data": {
      "text/plain": [
       "array([360, 255, 690, 450, 180])"
      ]
     },
     "execution_count": 5,
     "metadata": {},
     "output_type": "execute_result"
    }
   ],
   "source": [
    "arr1 * 3"
   ]
  },
  {
   "cell_type": "code",
   "execution_count": 6,
   "id": "4f7a904b",
   "metadata": {},
   "outputs": [
    {
     "data": {
      "text/plain": [
       "array([ 60. ,  42.5, 115. ,  75. ,  30. ])"
      ]
     },
     "execution_count": 6,
     "metadata": {},
     "output_type": "execute_result"
    }
   ],
   "source": [
    "arr1 /2"
   ]
  },
  {
   "cell_type": "code",
   "execution_count": 7,
   "id": "c7121581",
   "metadata": {},
   "outputs": [],
   "source": [
    "arr_a = np.array([110, 50, 60, 80, 100])\n",
    "arr_b = np.array([90, 65, 75, 85, 105])"
   ]
  },
  {
   "cell_type": "code",
   "execution_count": 8,
   "id": "a67ebbd9",
   "metadata": {},
   "outputs": [
    {
     "data": {
      "text/plain": [
       "array([200, 115, 135, 165, 205])"
      ]
     },
     "execution_count": 8,
     "metadata": {},
     "output_type": "execute_result"
    }
   ],
   "source": [
    "arr_a + arr_b"
   ]
  },
  {
   "cell_type": "markdown",
   "id": "f76d7b03",
   "metadata": {},
   "source": [
    "## Mathematical functions"
   ]
  },
  {
   "cell_type": "code",
   "execution_count": 9,
   "id": "49e4138c",
   "metadata": {},
   "outputs": [],
   "source": [
    "arr3 = np.array([1,4,9,16,25])\n",
    "arr4 = np.array([1,8,27,64,125])"
   ]
  },
  {
   "cell_type": "code",
   "execution_count": 10,
   "id": "38cb8963",
   "metadata": {},
   "outputs": [
    {
     "data": {
      "text/plain": [
       "array([  1,  16,  81, 256, 625])"
      ]
     },
     "execution_count": 10,
     "metadata": {},
     "output_type": "execute_result"
    }
   ],
   "source": [
    "arr3 ** 2"
   ]
  },
  {
   "cell_type": "code",
   "execution_count": 11,
   "id": "7dbd6329",
   "metadata": {},
   "outputs": [
    {
     "data": {
      "text/plain": [
       "array([  1,  16,  81, 256, 625])"
      ]
     },
     "execution_count": 11,
     "metadata": {},
     "output_type": "execute_result"
    }
   ],
   "source": [
    "\n",
    "np.square(arr3)"
   ]
  },
  {
   "cell_type": "code",
   "execution_count": 12,
   "id": "5ad7e934",
   "metadata": {},
   "outputs": [
    {
     "data": {
      "text/plain": [
       "array([1., 2., 3., 4., 5.])"
      ]
     },
     "execution_count": 12,
     "metadata": {},
     "output_type": "execute_result"
    }
   ],
   "source": [
    "\n",
    "np.sqrt(arr3)"
   ]
  },
  {
   "cell_type": "code",
   "execution_count": 13,
   "id": "68883539",
   "metadata": {},
   "outputs": [
    {
     "data": {
      "text/plain": [
       "array([1., 2., 3., 4., 5.])"
      ]
     },
     "execution_count": 13,
     "metadata": {},
     "output_type": "execute_result"
    }
   ],
   "source": [
    "# cube root\n",
    "np.cbrt(arr4)"
   ]
  },
  {
   "cell_type": "code",
   "execution_count": 14,
   "id": "ae32c2f1",
   "metadata": {},
   "outputs": [
    {
     "data": {
      "text/plain": [
       "array([4, 2, 6, 9, 3])"
      ]
     },
     "execution_count": 14,
     "metadata": {},
     "output_type": "execute_result"
    }
   ],
   "source": [
    "arr5 = np.array([4, -2, 6, -9, 3])\n",
    "# abs\n",
    "np.abs(arr5)"
   ]
  },
  {
   "cell_type": "code",
   "execution_count": 15,
   "id": "6f6b876a",
   "metadata": {
    "scrolled": true
   },
   "outputs": [
    {
     "data": {
      "text/plain": [
       "array([5.423 , 8.976 , 4.3584, 7.6582])"
      ]
     },
     "execution_count": 15,
     "metadata": {},
     "output_type": "execute_result"
    }
   ],
   "source": [
    "arr6 = np.array([5.423, 8.976, 4.3584, 7.6582])\n",
    "arr6"
   ]
  },
  {
   "cell_type": "code",
   "execution_count": 16,
   "id": "52f33fca",
   "metadata": {},
   "outputs": [
    {
     "data": {
      "text/plain": [
       "array([5.4, 9. , 4.4, 7.7])"
      ]
     },
     "execution_count": 16,
     "metadata": {},
     "output_type": "execute_result"
    }
   ],
   "source": [
    "np.round(arr6, 1)"
   ]
  },
  {
   "cell_type": "code",
   "execution_count": 17,
   "id": "b158a69f",
   "metadata": {},
   "outputs": [
    {
     "data": {
      "text/plain": [
       "array([5., 9., 4., 8.])"
      ]
     },
     "execution_count": 17,
     "metadata": {},
     "output_type": "execute_result"
    }
   ],
   "source": [
    "np.round(arr6)"
   ]
  },
  {
   "cell_type": "markdown",
   "id": "03dc6910",
   "metadata": {},
   "source": [
    "## Statistical functions"
   ]
  },
  {
   "cell_type": "code",
   "execution_count": 18,
   "id": "64fa903a",
   "metadata": {},
   "outputs": [
    {
     "data": {
      "text/plain": [
       "array([120,  85, 230, 150,  60, 200,  10])"
      ]
     },
     "execution_count": 18,
     "metadata": {},
     "output_type": "execute_result"
    }
   ],
   "source": [
    "arr1 = np.array([120, 85, 230, 150, 60,200,10])\n",
    "arr1"
   ]
  },
  {
   "cell_type": "code",
   "execution_count": 19,
   "id": "a904ad66",
   "metadata": {},
   "outputs": [
    {
     "data": {
      "text/plain": [
       "np.int64(855)"
      ]
     },
     "execution_count": 19,
     "metadata": {},
     "output_type": "execute_result"
    }
   ],
   "source": [
    "# Sum\n",
    "np.sum(arr1)"
   ]
  },
  {
   "cell_type": "code",
   "execution_count": 20,
   "id": "06a7f3ba",
   "metadata": {},
   "outputs": [
    {
     "data": {
      "text/plain": [
       "np.int64(855)"
      ]
     },
     "execution_count": 20,
     "metadata": {},
     "output_type": "execute_result"
    }
   ],
   "source": [
    "arr1.sum()"
   ]
  },
  {
   "cell_type": "code",
   "execution_count": 21,
   "id": "9e127d72",
   "metadata": {},
   "outputs": [
    {
     "data": {
      "text/plain": [
       "np.int64(855)"
      ]
     },
     "execution_count": 21,
     "metadata": {},
     "output_type": "execute_result"
    }
   ],
   "source": [
    "sum(arr1)"
   ]
  },
  {
   "cell_type": "code",
   "execution_count": 22,
   "id": "21881fef",
   "metadata": {},
   "outputs": [
    {
     "data": {
      "text/plain": [
       "np.int64(10)"
      ]
     },
     "execution_count": 22,
     "metadata": {},
     "output_type": "execute_result"
    }
   ],
   "source": [
    "# minimum\n",
    "np.min(arr1)"
   ]
  },
  {
   "cell_type": "code",
   "execution_count": 23,
   "id": "4177d78a",
   "metadata": {},
   "outputs": [
    {
     "data": {
      "text/plain": [
       "np.int64(10)"
      ]
     },
     "execution_count": 23,
     "metadata": {},
     "output_type": "execute_result"
    }
   ],
   "source": [
    "arr1.min()"
   ]
  },
  {
   "cell_type": "code",
   "execution_count": 24,
   "id": "933f733e",
   "metadata": {},
   "outputs": [
    {
     "data": {
      "text/plain": [
       "np.int64(10)"
      ]
     },
     "execution_count": 24,
     "metadata": {},
     "output_type": "execute_result"
    }
   ],
   "source": [
    "min(arr1)"
   ]
  },
  {
   "cell_type": "code",
   "execution_count": 25,
   "id": "f537b772",
   "metadata": {},
   "outputs": [
    {
     "data": {
      "text/plain": [
       "np.int64(230)"
      ]
     },
     "execution_count": 25,
     "metadata": {},
     "output_type": "execute_result"
    }
   ],
   "source": [
    "# maximum\n",
    "np.max(arr1)"
   ]
  },
  {
   "cell_type": "code",
   "execution_count": 26,
   "id": "0b8640f2",
   "metadata": {},
   "outputs": [
    {
     "data": {
      "text/plain": [
       "np.float64(122.14285714285714)"
      ]
     },
     "execution_count": 26,
     "metadata": {},
     "output_type": "execute_result"
    }
   ],
   "source": [
    "# average\n",
    "np.mean(arr1)"
   ]
  },
  {
   "cell_type": "code",
   "execution_count": 27,
   "id": "a5a86ac3",
   "metadata": {},
   "outputs": [
    {
     "data": {
      "text/plain": [
       "np.float64(122.14285714285714)"
      ]
     },
     "execution_count": 27,
     "metadata": {},
     "output_type": "execute_result"
    }
   ],
   "source": [
    "arr1.mean()"
   ]
  },
  {
   "cell_type": "code",
   "execution_count": 28,
   "id": "50efe2cc",
   "metadata": {},
   "outputs": [
    {
     "data": {
      "text/plain": [
       "array([120,  85, 230, 150,  60, 200,  10])"
      ]
     },
     "execution_count": 28,
     "metadata": {},
     "output_type": "execute_result"
    }
   ],
   "source": [
    "arr1"
   ]
  },
  {
   "cell_type": "code",
   "execution_count": 29,
   "id": "dd20ddcb",
   "metadata": {},
   "outputs": [
    {
     "data": {
      "text/plain": [
       "np.float64(120.0)"
      ]
     },
     "execution_count": 29,
     "metadata": {},
     "output_type": "execute_result"
    }
   ],
   "source": [
    "# median\n",
    "#120, 85, 230, 150, 60, 200 10 =>10 60 85 120 150 200 230\n",
    "np.median(arr1)"
   ]
  },
  {
   "cell_type": "code",
   "execution_count": 31,
   "id": "7403a63d",
   "metadata": {},
   "outputs": [
    {
     "data": {
      "text/plain": [
       "np.float64(72.0048184328731)"
      ]
     },
     "execution_count": 31,
     "metadata": {},
     "output_type": "execute_result"
    }
   ],
   "source": [
    "# standard deviation\n",
    "np.std(arr1)"
   ]
  },
  {
   "cell_type": "code",
   "execution_count": 32,
   "id": "eb0e8c7b",
   "metadata": {},
   "outputs": [
    {
     "data": {
      "text/plain": [
       "np.float64(72.0048184328731)"
      ]
     },
     "execution_count": 32,
     "metadata": {},
     "output_type": "execute_result"
    }
   ],
   "source": [
    "arr1.std()"
   ]
  },
  {
   "cell_type": "code",
   "execution_count": 33,
   "id": "0a2ad0ee",
   "metadata": {},
   "outputs": [
    {
     "data": {
      "text/plain": [
       "np.float64(5184.693877551021)"
      ]
     },
     "execution_count": 33,
     "metadata": {},
     "output_type": "execute_result"
    }
   ],
   "source": [
    "#variance\n",
    "np.var(arr1)"
   ]
  },
  {
   "cell_type": "code",
   "execution_count": 34,
   "id": "d64126f3",
   "metadata": {},
   "outputs": [
    {
     "name": "stdout",
     "output_type": "stream",
     "text": [
      "Q1 = 72.5\n",
      "Q2 = 120.0\n",
      "Q3 = 175.0\n"
     ]
    }
   ],
   "source": [
    "# quartile\n",
    "print('Q1 =', np.quantile(arr1, 0.25))\n",
    "print('Q2 =', np.quantile(arr1, 0.5))\n",
    "print('Q3 =', np.quantile(arr1, 0.75))"
   ]
  },
  {
   "cell_type": "markdown",
   "id": "6cef0b4d",
   "metadata": {},
   "source": [
    "## Arrgs"
   ]
  },
  {
   "cell_type": "code",
   "execution_count": 35,
   "id": "fce40cb7",
   "metadata": {},
   "outputs": [
    {
     "data": {
      "text/plain": [
       "array([ 10,  60,  85, 120, 150, 200, 230])"
      ]
     },
     "execution_count": 35,
     "metadata": {},
     "output_type": "execute_result"
    }
   ],
   "source": [
    "# increasing\n",
    "np.sort(arr1)"
   ]
  },
  {
   "cell_type": "code",
   "execution_count": 36,
   "id": "791cf20d",
   "metadata": {},
   "outputs": [
    {
     "data": {
      "text/plain": [
       "array([120,  85, 230, 150,  60, 200,  10])"
      ]
     },
     "execution_count": 36,
     "metadata": {},
     "output_type": "execute_result"
    }
   ],
   "source": [
    "arr1"
   ]
  },
  {
   "cell_type": "code",
   "execution_count": 37,
   "id": "205edf9b",
   "metadata": {},
   "outputs": [],
   "source": [
    "arr1.sort()"
   ]
  },
  {
   "cell_type": "code",
   "execution_count": 38,
   "id": "cb750267",
   "metadata": {},
   "outputs": [
    {
     "data": {
      "text/plain": [
       "array([ 10,  60,  85, 120, 150, 200, 230])"
      ]
     },
     "execution_count": 38,
     "metadata": {},
     "output_type": "execute_result"
    }
   ],
   "source": [
    "arr1"
   ]
  },
  {
   "cell_type": "code",
   "execution_count": 39,
   "id": "6339d403",
   "metadata": {},
   "outputs": [
    {
     "data": {
      "text/plain": [
       "array([230, 200, 150, 120,  85,  60,  10])"
      ]
     },
     "execution_count": 39,
     "metadata": {},
     "output_type": "execute_result"
    }
   ],
   "source": [
    "# decreasing\n",
    "np.sort(arr1)[::-1]"
   ]
  },
  {
   "cell_type": "markdown",
   "id": "64551dbd",
   "metadata": {},
   "source": [
    "# Conversion"
   ]
  },
  {
   "cell_type": "code",
   "execution_count": 46,
   "id": "a6153de8",
   "metadata": {},
   "outputs": [
    {
     "data": {
      "text/plain": [
       "array([120.,  85., 230., 150.,  60., 200.])"
      ]
     },
     "execution_count": 46,
     "metadata": {},
     "output_type": "execute_result"
    }
   ],
   "source": [
    "arr1 = np.array([120, 85, 230, 150, 60,200],dtype=float)\n",
    "arr1"
   ]
  },
  {
   "cell_type": "code",
   "execution_count": 47,
   "id": "38815d76-ffbe-471a-8606-f6214104c574",
   "metadata": {},
   "outputs": [
    {
     "data": {
      "text/plain": [
       "dtype('float64')"
      ]
     },
     "execution_count": 47,
     "metadata": {},
     "output_type": "execute_result"
    }
   ],
   "source": [
    "arr1.dtype"
   ]
  },
  {
   "cell_type": "code",
   "execution_count": 50,
   "id": "6db768b0",
   "metadata": {},
   "outputs": [],
   "source": [
    "arr1 = arr1.astype(int)"
   ]
  },
  {
   "cell_type": "code",
   "execution_count": 51,
   "id": "bc84f7ea",
   "metadata": {},
   "outputs": [
    {
     "data": {
      "text/plain": [
       "array([120,  85, 230, 150,  60, 200])"
      ]
     },
     "execution_count": 51,
     "metadata": {},
     "output_type": "execute_result"
    }
   ],
   "source": [
    "arr1"
   ]
  },
  {
   "cell_type": "code",
   "execution_count": null,
   "id": "cf81f9d5",
   "metadata": {},
   "outputs": [],
   "source": []
  }
 ],
 "metadata": {
  "kernelspec": {
   "display_name": "Python 3 (ipykernel)",
   "language": "python",
   "name": "python3"
  },
  "language_info": {
   "codemirror_mode": {
    "name": "ipython",
    "version": 3
   },
   "file_extension": ".py",
   "mimetype": "text/x-python",
   "name": "python",
   "nbconvert_exporter": "python",
   "pygments_lexer": "ipython3",
   "version": "3.11.4"
  }
 },
 "nbformat": 4,
 "nbformat_minor": 5
}
