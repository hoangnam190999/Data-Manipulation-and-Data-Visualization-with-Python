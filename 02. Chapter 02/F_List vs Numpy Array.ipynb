{
 "cells": [
  {
   "cell_type": "code",
   "execution_count": 3,
   "id": "stuffed-wireless",
   "metadata": {},
   "outputs": [],
   "source": [
    "import numpy as np\n",
    "import time\n",
    "import sys"
   ]
  },
  {
   "cell_type": "markdown",
   "id": "9a8b6087",
   "metadata": {},
   "source": [
    "### Data type"
   ]
  },
  {
   "cell_type": "code",
   "execution_count": 1,
   "id": "435c083a",
   "metadata": {},
   "outputs": [
    {
     "name": "stdout",
     "output_type": "stream",
     "text": [
      "<class 'list'> ['Trần Tuấn Anh', 19, 8.5, True]\n"
     ]
    }
   ],
   "source": [
    "my_list = ['Trần Tuấn Anh', 19, 8.5, True]\n",
    "print(type(my_list), my_list)"
   ]
  },
  {
   "cell_type": "code",
   "execution_count": 4,
   "id": "pregnant-tackle",
   "metadata": {},
   "outputs": [
    {
     "name": "stdout",
     "output_type": "stream",
     "text": [
      "<class 'numpy.ndarray'> ['Trần Tuấn Anh' '19' '8.5' 'True']\n"
     ]
    }
   ],
   "source": [
    "my_arr = np.array(my_list)\n",
    "print(type(my_arr), my_arr)"
   ]
  },
  {
   "cell_type": "code",
   "execution_count": 5,
   "id": "e2a331f4",
   "metadata": {},
   "outputs": [
    {
     "data": {
      "text/plain": [
       "array(['1', '3', 'False', '5.7', 'hi'], dtype='<U32')"
      ]
     },
     "execution_count": 5,
     "metadata": {},
     "output_type": "execute_result"
    }
   ],
   "source": [
    "np.array([1, 3, False, 5.7, 'hi'])"
   ]
  },
  {
   "cell_type": "markdown",
   "id": "fc1064cd",
   "metadata": {},
   "source": [
    "### Storage"
   ]
  },
  {
   "cell_type": "code",
   "execution_count": 6,
   "id": "dietary-netherlands",
   "metadata": {},
   "outputs": [
    {
     "name": "stdout",
     "output_type": "stream",
     "text": [
      "Memory size of lst_num: 8000056\n",
      "1000000\n"
     ]
    }
   ],
   "source": [
    "# Create a list of integers from 0 to 999999\n",
    "lst_num = list(range(1000000))\n",
    "\n",
    "# Memory size\n",
    "print(f\"Memory size of lst_num: {sys.getsizeof(lst_num)}\")\n",
    "print(len(lst_num))\n"
   ]
  },
  {
   "cell_type": "code",
   "execution_count": 7,
   "id": "valuable-mambo",
   "metadata": {},
   "outputs": [
    {
     "name": "stdout",
     "output_type": "stream",
     "text": [
      "Memory size of arr_num: 4000112 bytes\n",
      "1000000\n"
     ]
    }
   ],
   "source": [
    "# Convert the list into a NumPy array with the same data\n",
    "arr_num = np.array(lst_num, dtype=np.int32)\n",
    "\n",
    "# Memory size\n",
    "print(f\"Memory size of arr_num: {sys.getsizeof(arr_num)} bytes\")\n",
    "print(arr_num.size)\n"
   ]
  },
  {
   "cell_type": "code",
   "execution_count": 10,
   "id": "b880c728",
   "metadata": {},
   "outputs": [
    {
     "data": {
      "text/plain": [
       "dtype('int64')"
      ]
     },
     "execution_count": 10,
     "metadata": {},
     "output_type": "execute_result"
    }
   ],
   "source": [
    "arr_num.dtype"
   ]
  },
  {
   "cell_type": "markdown",
   "id": "4f7eec73",
   "metadata": {},
   "source": [
    "### Tasks"
   ]
  },
  {
   "cell_type": "code",
   "execution_count": 8,
   "id": "divine-specialist",
   "metadata": {},
   "outputs": [
    {
     "data": {
      "text/plain": [
       "[0, 2, 4, 6, 8]"
      ]
     },
     "execution_count": 8,
     "metadata": {},
     "output_type": "execute_result"
    }
   ],
   "source": [
    "# Multiply each element in lst_num by 2\n",
    "lst_cal = [x * 2 for x in lst_num]\n",
    "lst_cal[:5]\n"
   ]
  },
  {
   "cell_type": "code",
   "execution_count": 9,
   "id": "missing-nothing",
   "metadata": {},
   "outputs": [
    {
     "data": {
      "text/plain": [
       "array([0, 2, 4, 6, 8], dtype=int32)"
      ]
     },
     "execution_count": 9,
     "metadata": {},
     "output_type": "execute_result"
    }
   ],
   "source": [
    "# Multiply each element in arr_num by 2\n",
    "arr_cal = arr_num * 2\n",
    "arr_cal[:5]\n"
   ]
  },
  {
   "cell_type": "markdown",
   "id": "98c1693e",
   "metadata": {},
   "source": [
    "### Speed"
   ]
  },
  {
   "cell_type": "code",
   "execution_count": 10,
   "id": "84e062ff",
   "metadata": {},
   "outputs": [
    {
     "name": "stdout",
     "output_type": "stream",
     "text": [
      "Time: 0.084256 seconds\n"
     ]
    },
    {
     "data": {
      "text/plain": [
       "[0, 1, 4, 9, 16]"
      ]
     },
     "execution_count": 10,
     "metadata": {},
     "output_type": "execute_result"
    }
   ],
   "source": [
    "# Square each element in lst_num\n",
    "start_time = time.time()\n",
    "lst_result = [x ** 2 for x in lst_num]\n",
    "end_time = time.time()\n",
    "t0 = end_time - start_time\n",
    "print(f\"Time: {t0:.6f} seconds\")\n",
    "lst_result[:5]\n"
   ]
  },
  {
   "cell_type": "code",
   "execution_count": 11,
   "id": "346939b7",
   "metadata": {},
   "outputs": [
    {
     "name": "stdout",
     "output_type": "stream",
     "text": [
      "Time: 0.008178 seconds\n"
     ]
    },
    {
     "data": {
      "text/plain": [
       "array([ 0,  1,  4,  9, 16], dtype=int32)"
      ]
     },
     "execution_count": 11,
     "metadata": {},
     "output_type": "execute_result"
    }
   ],
   "source": [
    "# Square each element in arr_num\n",
    "start_time = time.time()\n",
    "arr_result = arr_num ** 2\n",
    "end_time = time.time()\n",
    "t1 = end_time - start_time\n",
    "print(f\"Time: {t1:.6f} seconds\")\n",
    "arr_result[:5]\n"
   ]
  },
  {
   "cell_type": "markdown",
   "id": "ce7f804e",
   "metadata": {},
   "source": [
    "## Practice:\n",
    "Create an array containing the average temperature for each day of the week (degrees C), then convert it to degrees F (degrees F = degrees C * 9/5 + 32)"
   ]
  },
  {
   "cell_type": "code",
   "execution_count": 36,
   "id": "890e17eb",
   "metadata": {},
   "outputs": [
    {
     "data": {
      "text/plain": [
       "[86.0, 98.6, 102.2, 105.8, 77.0]"
      ]
     },
     "execution_count": 36,
     "metadata": {},
     "output_type": "execute_result"
    }
   ],
   "source": [
    "doc = [30,37,39,41,25]\n",
    "dof = [(c*9/5 +32) for c in doc]\n",
    "dof"
   ]
  },
  {
   "cell_type": "code",
   "execution_count": 37,
   "id": "d423b971",
   "metadata": {},
   "outputs": [
    {
     "data": {
      "text/plain": [
       "array([ 86. ,  98.6, 102.2, 105.8,  77. ])"
      ]
     },
     "execution_count": 37,
     "metadata": {},
     "output_type": "execute_result"
    }
   ],
   "source": [
    "arr_doc = np.array(doc)\n",
    "arr_dof = arr_doc *9/5 +32\n",
    "arr_dof"
   ]
  }
 ],
 "metadata": {
  "kernelspec": {
   "display_name": "Python 3 (ipykernel)",
   "language": "python",
   "name": "python3"
  },
  "language_info": {
   "codemirror_mode": {
    "name": "ipython",
    "version": 3
   },
   "file_extension": ".py",
   "mimetype": "text/x-python",
   "name": "python",
   "nbconvert_exporter": "python",
   "pygments_lexer": "ipython3",
   "version": "3.11.4"
  }
 },
 "nbformat": 4,
 "nbformat_minor": 5
}
