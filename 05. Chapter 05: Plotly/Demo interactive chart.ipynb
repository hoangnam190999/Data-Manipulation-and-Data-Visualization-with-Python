{
 "cells": [
  {
   "cell_type": "code",
   "execution_count": null,
   "id": "eb8ddaeb-4baa-4ee7-89dd-708b468d464f",
   "metadata": {},
   "outputs": [],
   "source": [
    "import numpy as np\n",
    "import pandas as pd\n",
    "from datetime import datetime\n",
    "import plotly.express as px"
   ]
  },
  {
   "cell_type": "code",
   "execution_count": 9,
   "id": "ffbb0d4d-cd83-4e17-94f3-d0c257bdd1b1",
   "metadata": {},
   "outputs": [
    {
     "data": {
      "text/html": [
       "<div>\n",
       "<style scoped>\n",
       "    .dataframe tbody tr th:only-of-type {\n",
       "        vertical-align: middle;\n",
       "    }\n",
       "\n",
       "    .dataframe tbody tr th {\n",
       "        vertical-align: top;\n",
       "    }\n",
       "\n",
       "    .dataframe thead th {\n",
       "        text-align: right;\n",
       "    }\n",
       "</style>\n",
       "<table border=\"1\" class=\"dataframe\">\n",
       "  <thead>\n",
       "    <tr style=\"text-align: right;\">\n",
       "      <th></th>\n",
       "      <th>country</th>\n",
       "      <th>continent</th>\n",
       "      <th>year</th>\n",
       "      <th>lifeExp</th>\n",
       "      <th>pop</th>\n",
       "      <th>gdpPercap</th>\n",
       "      <th>iso_alpha</th>\n",
       "      <th>iso_num</th>\n",
       "    </tr>\n",
       "  </thead>\n",
       "  <tbody>\n",
       "    <tr>\n",
       "      <th>0</th>\n",
       "      <td>Afghanistan</td>\n",
       "      <td>Asia</td>\n",
       "      <td>1952</td>\n",
       "      <td>28.801</td>\n",
       "      <td>8425333</td>\n",
       "      <td>779.445314</td>\n",
       "      <td>AFG</td>\n",
       "      <td>4</td>\n",
       "    </tr>\n",
       "    <tr>\n",
       "      <th>1</th>\n",
       "      <td>Afghanistan</td>\n",
       "      <td>Asia</td>\n",
       "      <td>1957</td>\n",
       "      <td>30.332</td>\n",
       "      <td>9240934</td>\n",
       "      <td>820.853030</td>\n",
       "      <td>AFG</td>\n",
       "      <td>4</td>\n",
       "    </tr>\n",
       "    <tr>\n",
       "      <th>2</th>\n",
       "      <td>Afghanistan</td>\n",
       "      <td>Asia</td>\n",
       "      <td>1962</td>\n",
       "      <td>31.997</td>\n",
       "      <td>10267083</td>\n",
       "      <td>853.100710</td>\n",
       "      <td>AFG</td>\n",
       "      <td>4</td>\n",
       "    </tr>\n",
       "    <tr>\n",
       "      <th>3</th>\n",
       "      <td>Afghanistan</td>\n",
       "      <td>Asia</td>\n",
       "      <td>1967</td>\n",
       "      <td>34.020</td>\n",
       "      <td>11537966</td>\n",
       "      <td>836.197138</td>\n",
       "      <td>AFG</td>\n",
       "      <td>4</td>\n",
       "    </tr>\n",
       "    <tr>\n",
       "      <th>4</th>\n",
       "      <td>Afghanistan</td>\n",
       "      <td>Asia</td>\n",
       "      <td>1972</td>\n",
       "      <td>36.088</td>\n",
       "      <td>13079460</td>\n",
       "      <td>739.981106</td>\n",
       "      <td>AFG</td>\n",
       "      <td>4</td>\n",
       "    </tr>\n",
       "  </tbody>\n",
       "</table>\n",
       "</div>"
      ],
      "text/plain": [
       "       country continent  year  lifeExp       pop   gdpPercap iso_alpha  \\\n",
       "0  Afghanistan      Asia  1952   28.801   8425333  779.445314       AFG   \n",
       "1  Afghanistan      Asia  1957   30.332   9240934  820.853030       AFG   \n",
       "2  Afghanistan      Asia  1962   31.997  10267083  853.100710       AFG   \n",
       "3  Afghanistan      Asia  1967   34.020  11537966  836.197138       AFG   \n",
       "4  Afghanistan      Asia  1972   36.088  13079460  739.981106       AFG   \n",
       "\n",
       "   iso_num  \n",
       "0        4  \n",
       "1        4  \n",
       "2        4  \n",
       "3        4  \n",
       "4        4  "
      ]
     },
     "execution_count": 9,
     "metadata": {},
     "output_type": "execute_result"
    }
   ],
   "source": [
    "# Load Gapminder dataset\n",
    "gapminder = px.data.gapminder()\n",
    "\n",
    "# Display the first 5 rows of the DataFrame to check the data\n",
    "gapminder.head()"
   ]
  },
  {
   "cell_type": "code",
   "execution_count": null,
   "id": "e67e68f8-7e17-4af6-830d-8b6813cdfcc9",
   "metadata": {},
   "outputs": [],
   "source": [
    "# Select most recent year data\n",
    "max_year= gapminder['year'].max()\n",
    "\n",
    "df_latest = gapminder[gapminder['year'] == max_year]\n",
    "df_latest"
   ]
  },
  {
   "cell_type": "code",
   "execution_count": null,
   "id": "6e3483ba-a280-4c64-b268-9e5efa0ddf5b",
   "metadata": {},
   "outputs": [],
   "source": [
    "# Calculate the total population for each continent in the last year in the dataset\n",
    "df_continent=df_latest.groupby(['continent','year']).sum().reset_index()\n",
    "df_continent.head()"
   ]
  },
  {
   "cell_type": "markdown",
   "id": "74f44eea-a435-4ae5-861e-2f0441d0049d",
   "metadata": {},
   "source": [
    "### Plotly express vs Plotly graph object"
   ]
  },
  {
   "cell_type": "code",
   "execution_count": null,
   "id": "5d34260c-4b05-4d46-b46a-22151745c614",
   "metadata": {},
   "outputs": [],
   "source": [
    "import plotly.express as px\n",
    "\n",
    "# Draw bar chart\n",
    "fig = px.bar(data_frame=df_continent,\n",
    "x='continent',\n",
    "y='pop',\n",
    "title='Population of continents - ' + str(max_year),\n",
    "labels={'pop':'Population', 'continent':'Continent'})\n",
    "\n",
    "# Show chart\n",
    "fig.show()"
   ]
  },
  {
   "cell_type": "code",
   "execution_count": null,
   "id": "00e909de-9797-482a-a3d9-95806d96a7ca",
   "metadata": {},
   "outputs": [],
   "source": [
    "import plotly.graph_objects as go"
   ]
  },
  {
   "cell_type": "code",
   "execution_count": null,
   "id": "559421b2-465e-4f1d-87d8-78da23a6071c",
   "metadata": {},
   "outputs": [],
   "source": [
    "# Create trace\n",
    "trace = go.Bar(\n",
    "x=df_continent['continent'],\n",
    "y=df_continent['pop'],\n",
    "marker=dict(color='royalblue')\n",
    ")\n",
    "# Create layout\n",
    "layout = go.Layout(\n",
    "title='Population of continents - ' + str(max_year) ,\n",
    "xaxis=dict(title='Continent'),\n",
    "yaxis=dict(title='Population')\n",
    ")\n",
    "# Create figure and add trace\n",
    "fig = go.Figure(data=[trace], layout=layout)\n",
    "\n",
    "# Show chart\n",
    "fig.show()"
   ]
  },
  {
   "cell_type": "code",
   "execution_count": null,
   "id": "3fc75867",
   "metadata": {},
   "outputs": [],
   "source": [
    "from plotly.subplots import make_subplots"
   ]
  },
  {
   "cell_type": "code",
   "execution_count": null,
   "id": "43f2ff9e",
   "metadata": {},
   "outputs": [],
   "source": [
    "fig = make_subplots(rows=1, cols=2)\n",
    "\n",
    "fig.add_trace(\n",
    "    go.Scatter(x=[1, 2, 3], y=[4, 5, 6]),\n",
    "    row=1, col=1\n",
    ")\n",
    "\n",
    "fig.add_trace(\n",
    "    go.Scatter(x=[20, 30, 40], y=[50, 60, 70]),\n",
    "    row=1, col=2\n",
    ")\n",
    "\n",
    "fig.update_layout(height=600, width=800, title_text=\"Side By Side Subplots\")\n",
    "fig.show()"
   ]
  },
  {
   "cell_type": "code",
   "execution_count": null,
   "id": "6bbc9cfa",
   "metadata": {},
   "outputs": [],
   "source": [
    "fig = px.histogram(data_frame=gapminder,x='lifeExp',facet_col='continent',facet_col_wrap=3)\n",
    "fig.show()"
   ]
  },
  {
   "cell_type": "markdown",
   "id": "39f4a380-2737-451f-a84d-987d65dd2fcd",
   "metadata": {},
   "source": [
    "### Visualization with Plotly"
   ]
  },
  {
   "cell_type": "markdown",
   "id": "bf0a4aee-842e-4022-8d12-ae7eaff593de",
   "metadata": {},
   "source": [
    "### Scatter "
   ]
  },
  {
   "cell_type": "code",
   "execution_count": null,
   "id": "971a172e-211b-44ff-a542-dc3ceea70b0b",
   "metadata": {},
   "outputs": [],
   "source": [
    "#  scatter\n",
    "fig = px.scatter(data_frame=df_latest, \n",
    "                 x=\"gdpPercap\", \n",
    "                 y=\"lifeExp\", \n",
    "                 color='continent',\n",
    "                 hover_name='country',\n",
    "                 size='pop',title='GPD vs LifeExp',\n",
    "                 size_max=50\n",
    "                 )\n",
    "# Display\n",
    "fig.show()\n"
   ]
  },
  {
   "cell_type": "markdown",
   "id": "3c2e7c0a-1e98-49f7-b036-cf3759ee48c4",
   "metadata": {},
   "source": [
    "### Box plot"
   ]
  },
  {
   "cell_type": "code",
   "execution_count": null,
   "id": "2ad5773a",
   "metadata": {},
   "outputs": [],
   "source": [
    "fig_box = px.box(df_latest,\n",
    "                 y='lifeExp',\n",
    "                 title='Phân bố tuổi thọ trung bình của các châu lục')\n",
    "fig_box.show()"
   ]
  },
  {
   "cell_type": "code",
   "execution_count": null,
   "id": "08025978-0bfc-412a-9300-e9dd3ac37457",
   "metadata": {},
   "outputs": [],
   "source": [
    "\n",
    "fig_box = px.box(df_latest,\n",
    "                 x='continent', y='lifeExp',\n",
    "                 hover_name='country',\n",
    "                 title='Phân bố tuổi thọ trung bình của các châu lục')\n",
    "fig_box.show()"
   ]
  },
  {
   "cell_type": "code",
   "execution_count": null,
   "id": "092c1367-40b4-4532-9658-c972a5cbe0cc",
   "metadata": {},
   "outputs": [],
   "source": [
    "\n",
    "fig_box = px.box(df_latest,\n",
    "                 x='continent', y='lifeExp',\n",
    "                 title='Phân bố tuổi thọ trung bình của các châu lục')\n",
    "\n",
    "global_life_expectancy_avg = df_latest['lifeExp'].mean()\n",
    "\n",
    "# Add a horizontal line for global life expectancy average\n",
    "fig_box.add_trace(\n",
    "    go.Scatter(\n",
    "        x=df_latest['continent'].unique(),  # Trục x, bao gồm tất cả các châu lục\n",
    "        y=[global_life_expectancy_avg]*5,  # Trục y là giá trị trung bình tuổi thọ, lặp lại cho mỗi châu lục\n",
    "        mode='lines',  # Đặt chế độ vẽ là 'lines'\n",
    "        name='Trung bình tuổi thọ toàn cầu',  # Tên của đường trung bình\n",
    "        line=dict(color='red', dash='dash')  # Định dạng đường là nét đứt màu đỏ\n",
    "    )\n",
    ")\n",
    "fig_box.show()"
   ]
  },
  {
   "cell_type": "markdown",
   "id": "18054809-37b0-411b-8a00-7716d7007c25",
   "metadata": {},
   "source": [
    "### Histogram"
   ]
  },
  {
   "cell_type": "code",
   "execution_count": null,
   "id": "502f1cdb-3d2b-4c2c-b0f4-959c940a69b1",
   "metadata": {},
   "outputs": [],
   "source": [
    "\n",
    "fig_hist = px.histogram(df_latest,\n",
    "                        x='lifeExp',\n",
    "                        color='continent',\n",
    "                        title='Phân bố tuổi thọ trung bình của các nước',\n",
    "                        color_discrete_sequence=px.colors.sequential.Bluyl,\n",
    "                        nbins=25)\n",
    "fig_hist.show()"
   ]
  },
  {
   "cell_type": "markdown",
   "id": "17139764-ba39-4969-b653-46d87e1bfd2f",
   "metadata": {},
   "source": [
    "### Treemap"
   ]
  },
  {
   "cell_type": "code",
   "execution_count": null,
   "id": "d99f1d10",
   "metadata": {},
   "outputs": [],
   "source": [
    "df_latest.groupby(['continent','country'],as_index=False)['pop'].sum()"
   ]
  },
  {
   "cell_type": "code",
   "execution_count": null,
   "id": "2395c1c6-f86a-492b-a5a6-b4062e6c9c38",
   "metadata": {},
   "outputs": [],
   "source": [
    "fig = px.treemap(data_frame=df_latest, path=['continent','country'], values='pop',\n",
    "                  color='lifeExp', hover_data=['gdpPercap','iso_alpha'],\n",
    "                 hover_name='country',\n",
    "                  #color_continuous_scale='RdBu',\n",
    "                  title='Treemap của Dân số và Tuổi thọ theo Quốc gia và Châu lục')\n",
    "\n",
    "fig.update_layout(\n",
    "    width=1000,  # Chiều rộng của biểu đồ bằng pixel\n",
    "    height=500,   # Chiều cao của biểu đồ bằng pixel\n",
    "    margin = dict(t=40, l=0, r=0, b=0))\n",
    "fig.show()\n"
   ]
  },
  {
   "cell_type": "markdown",
   "id": "6d50a995-2c1f-4590-9fc5-24bf77a112e4",
   "metadata": {},
   "source": [
    "### Pie chart"
   ]
  },
  {
   "cell_type": "code",
   "execution_count": null,
   "id": "00de3126-506d-4a08-848c-2733274b6c50",
   "metadata": {},
   "outputs": [],
   "source": [
    "# Pie chart\n",
    "fig = px.pie(\n",
    "    df_continent,\n",
    "    values='pop',\n",
    "    names='continent',\n",
    "    title='Tỷ lệ dân số các châu lục',\n",
    "    color_discrete_sequence=px.colors.qualitative.D3\n",
    ")\n",
    "fig.update_traces(\n",
    "                  textposition=\"outside\")\n",
    "fig.update_layout(\n",
    "    width=600,  # Chiều rộng của biểu đồ bằng pixel\n",
    "    height=350,   # Chiều cao của biểu đồ bằng pixel\n",
    "    margin = dict(t=40, l=50, r=25, b=25),\n",
    "    showlegend=True)\n",
    "# Display chart\n",
    "fig.show()\n"
   ]
  },
  {
   "cell_type": "markdown",
   "id": "37a7f4e0-0baa-46e1-b821-2cb6a526dcc5",
   "metadata": {},
   "source": [
    "### Bar chart"
   ]
  },
  {
   "cell_type": "code",
   "execution_count": null,
   "id": "86ffb981",
   "metadata": {},
   "outputs": [],
   "source": [
    "df_continent"
   ]
  },
  {
   "cell_type": "code",
   "execution_count": null,
   "id": "c163e0b7",
   "metadata": {},
   "outputs": [],
   "source": [
    "df_latest.continent.value_counts()"
   ]
  },
  {
   "cell_type": "code",
   "execution_count": null,
   "id": "04f994eb-27da-4452-b4a6-ca35ff5bac55",
   "metadata": {},
   "outputs": [],
   "source": [
    "# Draw a bar chart showing the population of each continent\n",
    "fig_bar = px.bar(df_continent,\n",
    "                 x='continent', y='pop',\n",
    "                 color='lifeExp',\n",
    "                 title='Dân số của các châu lục')\n",
    "fig_bar.show()"
   ]
  },
  {
   "cell_type": "code",
   "execution_count": null,
   "id": "e2cd22ab",
   "metadata": {},
   "outputs": [],
   "source": [
    "df_latest.head()"
   ]
  },
  {
   "cell_type": "code",
   "execution_count": null,
   "id": "8f38a5bb-ef68-4bf5-90fa-f7c7303cb343",
   "metadata": {},
   "outputs": [],
   "source": [
    "# Draw a stack bar chart showing the population of each country in a continent\n",
    "fig_bar = px.bar(df_latest,x='continent', y='pop',color='lifeExp',title='Population of each continent',hover_data=['country','iso_alpha'],\n",
    "hover_name='country')\n",
    "fig_bar.show()"
   ]
  },
  {
   "cell_type": "markdown",
   "id": "a9611973-ddd3-47b8-b117-65696371d3e7",
   "metadata": {},
   "source": []
  },
  {
   "cell_type": "code",
   "execution_count": null,
   "id": "e066ae1b-011f-4094-a8bd-e21eb8952dd0",
   "metadata": {},
   "outputs": [],
   "source": []
  }
 ],
 "metadata": {
  "kernelspec": {
   "display_name": "Python [conda env:base] *",
   "language": "python",
   "name": "conda-base-py"
  },
  "language_info": {
   "codemirror_mode": {
    "name": "ipython",
    "version": 3
   },
   "file_extension": ".py",
   "mimetype": "text/x-python",
   "name": "python",
   "nbconvert_exporter": "python",
   "pygments_lexer": "ipython3",
   "version": "3.12.7"
  }
 },
 "nbformat": 4,
 "nbformat_minor": 5
}
