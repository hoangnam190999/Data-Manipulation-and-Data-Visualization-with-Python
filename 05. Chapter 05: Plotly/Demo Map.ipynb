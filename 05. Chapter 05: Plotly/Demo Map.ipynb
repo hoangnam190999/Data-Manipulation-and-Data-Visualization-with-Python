{
 "cells": [
  {
   "cell_type": "code",
   "execution_count": null,
   "id": "0ab3479b-dee6-4e12-a843-9efbab9b10e6",
   "metadata": {},
   "outputs": [],
   "source": [
    "import plotly.express as px\n",
    "import pandas as pd"
   ]
  },
  {
   "cell_type": "code",
   "execution_count": null,
   "id": "c0c45edb-a7f7-4b3e-95dd-d3dda7ed345b",
   "metadata": {},
   "outputs": [],
   "source": [
    "\n",
    "df = pd.read_csv('data\\gapminder.csv')\n",
    "\n",
    "df.head()\n"
   ]
  },
  {
   "cell_type": "markdown",
   "id": "37acba15-1c67-4b28-837c-b09fd8c0fd8b",
   "metadata": {},
   "source": [
    "### Visualization"
   ]
  },
  {
   "cell_type": "markdown",
   "id": "d0939236-ce52-4312-97ba-05aee9fecf88",
   "metadata": {},
   "source": [
    "#### Choropleth map"
   ]
  },
  {
   "cell_type": "code",
   "execution_count": null,
   "id": "d72f0f3e",
   "metadata": {},
   "outputs": [],
   "source": [
    "df1 = px.data.gapminder()\n",
    "df1.head()"
   ]
  },
  {
   "cell_type": "code",
   "execution_count": null,
   "id": "28e10a13",
   "metadata": {},
   "outputs": [],
   "source": [
    "# Choropleth map with sequential color gradients\n",
    "fig = px.choropleth(data_frame=df1[df1.year == 2007],\n",
    "                    locations='iso_alpha',\n",
    "                    color=\"lifeExp\", # Thuộc tính để thể hiện màu sắc\n",
    "                     # Kiểu chiếu bản đồ\n",
    "                    color_continuous_scale=px.colors.sequential.Peach,\n",
    "                    title='Bản đồ tuổi thọ trung bình trên thế giới') # Tiêu đề bản đồ\n",
    "\n",
    "fig.update_layout(\n",
    "    width=1000,  # Chiều rộng của biểu đồ bằng pixel\n",
    "    height=500,   # Chiều cao của biểu đồ bằng pixel\n",
    "    margin = dict(t=40, l=50, r=25, b=25))\n",
    "\n",
    "fig.show()"
   ]
  },
  {
   "cell_type": "code",
   "execution_count": null,
   "id": "bf12e280",
   "metadata": {},
   "outputs": [],
   "source": [
    "# Choropleth map with sequential color gradients\n",
    "fig = px.choropleth(data_frame=df,\n",
    "                    locations='country',\n",
    "                    locationmode='country names',\n",
    "                    color=\"life_exp\", # Thuộc tính để thể hiện màu sắc\n",
    "                     # Kiểu chiếu bản đồ\n",
    "                    title='Bản đồ tuổi thọ trung bình trên thế giới') # Tiêu đề bản đồ\n",
    "\n",
    "fig.update_layout(\n",
    "    width=1000,  # Chiều rộng của biểu đồ bằng pixel\n",
    "    height=500,   # Chiều cao của biểu đồ bằng pixel\n",
    "    margin = dict(t=40, l=50, r=25, b=25))\n",
    "\n",
    "fig.show()"
   ]
  },
  {
   "cell_type": "code",
   "execution_count": null,
   "id": "d89d9da5-f9a8-4424-aafc-e0d393a50607",
   "metadata": {},
   "outputs": [],
   "source": [
    "# Choropleth map with sequential color gradients\n",
    "fig = px.choropleth(df,\n",
    "                    locations='country',\n",
    "                    locationmode='country names',\n",
    "                    color='life_exp',\n",
    "                    hover_name='country',\n",
    "                    color_continuous_scale=px.colors.sequential.Plasma,\n",
    "                    projection='natural earth',\n",
    "                    title='Bản đồ tuổi thọ trung bình trên thế giới') # Tiêu đề bản đồ\n",
    "\n",
    "fig.update_layout(\n",
    "    width=1000,  # Chiều rộng của biểu đồ bằng pixel\n",
    "    height=500,   # Chiều cao của biểu đồ bằng pixel\n",
    "    margin = dict(t=40, l=50, r=25, b=25))\n",
    "\n",
    "fig.show()"
   ]
  },
  {
   "cell_type": "code",
   "execution_count": null,
   "id": "b99d095e-4000-4d84-aee9-e38f00bc1bcc",
   "metadata": {},
   "outputs": [],
   "source": [
    "\n",
    "# Choropleth map with diverging color bands\n",
    "fig = px.choropleth(df, \n",
    "                    locations=\"country\", \n",
    "                    locationmode='country names',\n",
    "                    color=\"income\", \n",
    "                    hover_name=\"country\", \n",
    "                    color_continuous_scale=px.colors.diverging.Spectral, #Dải màu phân kỳ\n",
    "                    projection=\"natural earth\",\n",
    "                    title=\"Thu nhập của các quốc gia theo Choropleth Map\")\n",
    "\n",
    "fig.update_layout(\n",
    "    width=1000,  # Chiều rộng của biểu đồ bằng pixel\n",
    "    height=500,   # Chiều cao của biểu đồ bằng pixel\n",
    "    margin = dict(t=40, l=50, r=25, b=25))\n",
    "# Show the map\n",
    "fig.show()\n"
   ]
  },
  {
   "cell_type": "code",
   "execution_count": null,
   "id": "2632a987-4cfa-4dba-8528-94e465a687e9",
   "metadata": {},
   "outputs": [],
   "source": [
    "# Choropleth map with discrete colors\n",
    "fig = px.choropleth(df,\n",
    "                    locations=\"country\", # Tên quốc gia\n",
    "                    locationmode='country names',\n",
    "                    color=\"region\", # Thuộc tính để thể hiện màu sắc\n",
    "                    hover_name=\"country\", # Tên quốc gia để hiển thị khi rê chuột\n",
    "                    color_discrete_sequence= px.colors.qualitative.Safe, # Màu rời rạc\n",
    "                    projection=\"natural earth\", # Kiểu chiếu bản đồ\n",
    "                    title='Bản đồ tuổi thọ trung bình trên thế giới') # Tiêu đề bản đồ\n",
    "\n",
    "fig.update_layout(\n",
    "    width=1000,  # Chiều rộng của biểu đồ bằng pixel\n",
    "    height=500,   # Chiều cao của biểu đồ bằng pixel\n",
    "    margin = dict(t=40, l=50, r=25, b=25))\n",
    "\n",
    "fig.show()"
   ]
  },
  {
   "cell_type": "markdown",
   "id": "6e5a7b10-98cb-4f48-b156-addbbaaeab3e",
   "metadata": {},
   "source": [
    "#### Scatter Geo"
   ]
  },
  {
   "cell_type": "code",
   "execution_count": null,
   "id": "4c4c47d2",
   "metadata": {},
   "outputs": [],
   "source": [
    "df.head()"
   ]
  },
  {
   "cell_type": "code",
   "execution_count": null,
   "id": "09027f9c-c863-4243-8c63-7333c0b91d6a",
   "metadata": {},
   "outputs": [],
   "source": [
    "#Scatter_geo\n",
    "fig = px.scatter_geo(df, \n",
    "                     locations=\"country\", \n",
    "                     locationmode='country names',\n",
    "                     size=\"population\", \n",
    "                     hover_name=\"country\", \n",
    "                     color=\"region\", \n",
    "                     title=\"Phân bố Dân số Của Mỗi Quốc Gia\",\n",
    "                     projection=\"natural earth\")\n",
    "\n",
    "fig.update_layout(\n",
    "    width=800,  # Chiều rộng của biểu đồ bằng pixel\n",
    "    height=500,   # Chiều cao của biểu đồ bằng pixel\n",
    "    margin = dict(t=40, l=50, r=25, b=25))\n",
    "\n",
    "fig.show()\n"
   ]
  },
  {
   "cell_type": "code",
   "execution_count": null,
   "id": "7a1442ea-8300-4223-a0d6-ff89f05a8e98",
   "metadata": {},
   "outputs": [],
   "source": [
    "\n",
    "earthquake = pd.read_csv('data\\earthquake.csv')\n",
    "\n",
    "\n",
    "data = earthquake.dropna(subset=['mag'])\n",
    "data = earthquake[data.mag >= 0]\n",
    "\n",
    "data.head()"
   ]
  },
  {
   "cell_type": "code",
   "execution_count": null,
   "id": "20a57fe1-e9d0-4018-a9f0-82cc04cc6dd4",
   "metadata": {},
   "outputs": [],
   "source": [
    "# Generate Scatter Geo map of earthquake location data\n",
    "fig = px.scatter_geo(data_frame=data, lat='latitude', lon='longitude', \n",
    "                     color='mag',\n",
    "                     hover_name='place', \n",
    "                     title='Bản đồ vị trí động đất trên thế giới')\n",
    "\n",
    "\n",
    "fig.update_layout(\n",
    "    width=800,  # Chiều rộng của biểu đồ bằng pixel\n",
    "    height=500,   # Chiều cao của biểu đồ bằng pixel\n",
    "    margin = dict(t=40, l=50, r=25, b=25))\n",
    "\n",
    "fig.show()\n"
   ]
  },
  {
   "cell_type": "markdown",
   "id": "2cb7ade6-af79-40c9-b9a0-b44c4a734c5d",
   "metadata": {},
   "source": [
    "#### Visualize geographic data with mapbox to present detailed maps"
   ]
  },
  {
   "cell_type": "code",
   "execution_count": null,
   "id": "df4e5d93-2ba3-41dc-b58e-ab5cdd34e53f",
   "metadata": {},
   "outputs": [],
   "source": [
    "top1k = pd.read_csv('data/us-cities-top-1k.csv')\n",
    "top1k.head()"
   ]
  },
  {
   "cell_type": "code",
   "execution_count": null,
   "id": "ef07cce3-2010-4483-8a27-0435b1ac63f7",
   "metadata": {},
   "outputs": [],
   "source": [
    "fig = px.scatter_mapbox(top1k, lat='lat', lon='lon',\n",
    "                       hover_name='City', \n",
    "                       hover_data=['State', 'Population'],\n",
    "                       color_discrete_sequence=['midnightblue'], # màu đơn: midnightblue, darkviolet, deeppink, deepskyblue, salmon,...\n",
    "                       mapbox_style='open-street-map',\n",
    "                       zoom=3, height=300)\n",
    "fig.update_layout(margin={\"r\":0,\"t\":0,\"l\":0,\"b\":0})\n",
    "fig.show()"
   ]
  },
  {
   "cell_type": "code",
   "execution_count": null,
   "id": "903989c0-08e3-402e-a6c4-040db52e275d",
   "metadata": {},
   "outputs": [],
   "source": [
    "# Customize the opacity parameter and show the first 100 cities in the dataset, the color changes according to Population,\n",
    "# Zoom into the New York City area\n",
    "fig = px.scatter_mapbox(top1k.head(100), lat='lat', lon='lon',\n",
    "                       hover_name='City', hover_data=['State', 'Population'],\n",
    "                       size='Population',\n",
    "                       color_continuous_scale=px.colors.sequential.Plasma, #Dải màu \n",
    "                       mapbox_style='open-street-map',\n",
    "                       opacity=0.9,\n",
    "                       center={\"lat\": 40.7128, \"lon\": -74.0060},\n",
    "                       zoom=5, height=300)\n",
    "fig.update_layout(margin={\"r\":0,\"t\":0,\"l\":0,\"b\":0})\n",
    "fig.show()"
   ]
  },
  {
   "cell_type": "markdown",
   "id": "2c23aac3-9c15-47cf-b78e-689351faa4cb",
   "metadata": {},
   "source": [
    "#### projection"
   ]
  },
  {
   "cell_type": "code",
   "execution_count": null,
   "id": "67a7607d-f994-4631-8928-577f0fe53d0b",
   "metadata": {},
   "outputs": [],
   "source": [
    "# scatter_geo \n",
    "fig = px.scatter_geo(df, \n",
    "                     locations=\"country\", \n",
    "                     locationmode='country names',\n",
    "                     size=\"population\", \n",
    "                     hover_name=\"country\", \n",
    "                     color=\"region\", \n",
    "                     title=\"Phân bố Dân số Của Mỗi Quốc Gia\",\n",
    "                     projection=\"mercator\")\n",
    "\n",
    "fig.update_layout(\n",
    "    width=900,  # Chiều rộng của biểu đồ bằng pixel\n",
    "    height=500,   # Chiều cao của biểu đồ bằng pixel\n",
    "    margin = dict(t=40, l=50, r=25, b=25))\n",
    "\n",
    "fig.show()"
   ]
  },
  {
   "cell_type": "code",
   "execution_count": null,
   "id": "b6189cb3-142f-4a95-9677-cc378ee12ae0",
   "metadata": {},
   "outputs": [],
   "source": [
    "# scatter_geo \n",
    "fig = px.scatter_geo(df, \n",
    "                     locations=\"country\", \n",
    "                     locationmode='country names',\n",
    "                     size=\"population\", \n",
    "                     hover_name=\"country\", \n",
    "                     color=\"region\", \n",
    "                     title=\"Phân bố Dân số Của Mỗi Quốc Gia\",\n",
    "                     projection=\"orthographic\")\n",
    "\n",
    "fig.update_layout(\n",
    "    width=500,  # Chiều rộng của biểu đồ bằng pixel\n",
    "    height=500,   # Chiều cao của biểu đồ bằng pixel\n",
    "    margin = dict(t=40, l=50, r=25, b=25))\n",
    "\n",
    "fig.show()"
   ]
  },
  {
   "cell_type": "code",
   "execution_count": null,
   "id": "10877024-026a-4696-9dbc-32eb4f8fd955",
   "metadata": {},
   "outputs": [],
   "source": [
    "#  scatter_geo\n",
    "fig = px.scatter_geo(df, \n",
    "                     locations=\"country\", \n",
    "                     locationmode='country names',\n",
    "                     size=\"population\", \n",
    "                     hover_name=\"country\", \n",
    "                     color=\"region\", \n",
    "                     title=\"Phân bố Dân số Của Mỗi Quốc Gia\",\n",
    "                     projection=\"natural earth\")\n",
    "\n",
    "fig.update_layout(\n",
    "    width=800,  # Chiều rộng của biểu đồ bằng pixel\n",
    "    height=500,   # Chiều cao của biểu đồ bằng pixel\n",
    "    margin = dict(t=40, l=50, r=25, b=25))\n",
    "\n",
    "fig.show()"
   ]
  },
  {
   "cell_type": "markdown",
   "id": "0a9b67b9-a6c6-4e6a-b91f-534d96b2bb18",
   "metadata": {},
   "source": [
    "####  Animation"
   ]
  },
  {
   "cell_type": "code",
   "execution_count": null,
   "id": "25551a03-1b21-4dab-a807-bae03b905719",
   "metadata": {},
   "outputs": [],
   "source": [
    "\n",
    "gapminder = px.data.gapminder()\n",
    "\n",
    "\n",
    "gapminder.head()"
   ]
  },
  {
   "cell_type": "code",
   "execution_count": null,
   "id": "efa433e2",
   "metadata": {},
   "outputs": [],
   "source": [
    "gapminder.year.unique()"
   ]
  },
  {
   "cell_type": "code",
   "execution_count": null,
   "id": "b4eb871b-8584-4108-b69c-6d8f253c0bbb",
   "metadata": {},
   "outputs": [],
   "source": [
    "# Create dynamic chart\n",
    "fig = px.scatter(gapminder, x=\"gdpPercap\", y=\"lifeExp\", \n",
    "                 animation_frame=\"year\", animation_group=\"country\", \n",
    "                 size=\"pop\", color=\"continent\", \n",
    "                 hover_name=\"country\", log_x=True, size_max=55, \n",
    "                 range_x=[100,100000], range_y=[25,90],\n",
    "                 title=\"Phát Triển Kinh Tế và Tuổi thọ TB Của Các Quốc Gia Qua Thời Gian\")\n",
    "\n",
    "fig.update_layout(\n",
    "    width=800,  # Chiều rộng của biểu đồ bằng pixel\n",
    "    height=400,   # Chiều cao của biểu đồ bằng pixel\n",
    "    margin = dict(t=40, l=50, r=25, b=25))\n",
    "\n",
    "\n",
    "fig.show()\n"
   ]
  },
  {
   "cell_type": "code",
   "execution_count": null,
   "id": "39e45ee0-405b-442a-b74c-9e8258301665",
   "metadata": {},
   "outputs": [],
   "source": [
    "# Draw scatter_geo with Natural earth projection\n",
    "fig = px.scatter_geo(gapminder, \n",
    "                     locations=\"iso_alpha\", \n",
    "                     size=\"pop\", \n",
    "                     hover_name=\"country\", \n",
    "                     color=\"continent\", \n",
    "                     title=\"Phân bố Dân số Của Mỗi Quốc Gia\",\n",
    "                     projection=\"natural earth\",\n",
    "                    animation_frame=\"year\", \n",
    "                 animation_group=\"country\")\n",
    "\n",
    "fig.update_layout(\n",
    "    width=800,  # Chiều rộng của biểu đồ bằng pixel\n",
    "    height=500,   # Chiều cao của biểu đồ bằng pixel\n",
    "    margin = dict(t=40, l=50, r=25, b=25))\n",
    "\n",
    "fig.show()"
   ]
  },
  {
   "cell_type": "code",
   "execution_count": null,
   "id": "9f0d3bee-e4a4-486b-b912-de075e043d45",
   "metadata": {},
   "outputs": [],
   "source": [
    "# Choropleth map with diverging color bands\n",
    "fig = px.choropleth(gapminder, \n",
    "                    locations=\"iso_alpha\", \n",
    "                    color=\"gdpPercap\", \n",
    "                    hover_name=\"country\", \n",
    "                    color_continuous_scale=px.colors.diverging.Spectral, #Dải màu phân kỳ\n",
    "                    projection=\"natural earth\",\n",
    "                    animation_frame=\"year\", \n",
    "                     animation_group=\"country\",\n",
    "                    title=\"Thu nhập của các quốc gia theo Choropleth Map\")\n",
    "\n",
    "fig.update_layout(\n",
    "    width=1000,  # Chiều rộng của biểu đồ bằng pixel\n",
    "    height=500,   # Chiều cao của biểu đồ bằng pixel\n",
    "    margin = dict(t=40, l=50, r=25, b=25))\n",
    "# Show the map\n",
    "fig.show()"
   ]
  },
  {
   "cell_type": "code",
   "execution_count": null,
   "id": "d241a888-b205-4116-93ef-7a7f32a861be",
   "metadata": {},
   "outputs": [],
   "source": []
  }
 ],
 "metadata": {
  "kernelspec": {
   "display_name": "Python [conda env:base] *",
   "language": "python",
   "name": "conda-base-py"
  },
  "language_info": {
   "codemirror_mode": {
    "name": "ipython",
    "version": 3
   },
   "file_extension": ".py",
   "mimetype": "text/x-python",
   "name": "python",
   "nbconvert_exporter": "python",
   "pygments_lexer": "ipython3",
   "version": "3.12.7"
  }
 },
 "nbformat": 4,
 "nbformat_minor": 5
}
