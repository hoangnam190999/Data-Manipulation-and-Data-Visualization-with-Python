{
 "cells": [
  {
   "cell_type": "markdown",
   "metadata": {},
   "source": [
    "## Word Cloud\n"
   ]
  },
  {
   "cell_type": "markdown",
   "metadata": {},
   "source": [
    "##### **Word cloud**: is a visual way to display frequently used keywords in a text (such as a speech, blog post, or text from a database), the larger the keyword size and the more centrally it appears when displayed. This format is useful for quickly recognizing the most prominent terms."
   ]
  },
  {
   "cell_type": "code",
   "execution_count": null,
   "metadata": {},
   "outputs": [],
   "source": [
    "# download https://www.lfd.uci.edu/~gohlke/pythonlibs/#wordcloud\n",
    "# python -m pip install wordcloud-1.8.1-cp39-cp39-win_amd64.whl"
   ]
  },
  {
   "cell_type": "code",
   "execution_count": 1,
   "metadata": {},
   "outputs": [],
   "source": [
    "import pandas as pd\n",
    "import matplotlib.pyplot as plt\n",
    "from wordcloud import WordCloud, STOPWORDS "
   ]
  },
  {
   "cell_type": "code",
   "execution_count": null,
   "metadata": {},
   "outputs": [],
   "source": [
    "df = pd.read_excel('data/movies.xlsx')\n",
    "df.head()"
   ]
  },
  {
   "cell_type": "code",
   "execution_count": null,
   "metadata": {},
   "outputs": [],
   "source": [
    "df.title"
   ]
  },
  {
   "cell_type": "code",
   "execution_count": null,
   "metadata": {
    "scrolled": true
   },
   "outputs": [],
   "source": [
    "ch = ''\n",
    "for line in df.title:\n",
    "    ch += line +' '\n",
    "ch"
   ]
  },
  {
   "cell_type": "code",
   "execution_count": null,
   "metadata": {},
   "outputs": [],
   "source": [
    "ch1 = ' '.join(df.title)\n",
    "ch1"
   ]
  },
  {
   "cell_type": "code",
   "execution_count": null,
   "metadata": {},
   "outputs": [],
   "source": [
    "# Path to uploaded text file\n",
    "file_path = 'data/Fox_and_Crow.txt'\n",
    "\n",
    "# Read the contents of the file\n",
    "with open(file_path, 'r', encoding='utf-8') as file:\n",
    "text = file.read()\n",
    "text"
   ]
  },
  {
   "cell_type": "code",
   "execution_count": null,
   "metadata": {},
   "outputs": [],
   "source": [
    "wordcloud = WordCloud().generate(text)\n",
    "plt.imshow(wordcloud, interpolation='bilinear')\n",
    "plt.axis(\"off\")\n",
    "plt.show()\n"
   ]
  },
  {
   "cell_type": "code",
   "execution_count": null,
   "metadata": {},
   "outputs": [],
   "source": [
    "stopwords = set(STOPWORDS)"
   ]
  },
  {
   "cell_type": "code",
   "execution_count": null,
   "metadata": {},
   "outputs": [],
   "source": [
    "# instantiate a word cloud object\n",
    "wc = WordCloud(\n",
    "    background_color='white',\n",
    "    max_words=30,\n",
    "    stopwords=stopwords\n",
    ")\n",
    "\n",
    "# generate the word cloud\n",
    "wc.generate(text)\n",
    "\n",
    "# display the word clouds\n",
    "fig = plt.figure(figsize=(10, 12))\n",
    "plt.imshow(wc, interpolation='bilinear')\n",
    "plt.axis('off')\n",
    "fig.savefig('ab.jpg')\n",
    "plt.show()\n"
   ]
  },
  {
   "cell_type": "code",
   "execution_count": null,
   "metadata": {},
   "outputs": [],
   "source": [
    "#Customize word cloud\n",
    "wc = WordCloud(\n",
    " background_color='white',\n",
    " max_words=20,\n",
    " stopwords=stopwords,\n",
    " colormap=\n",
    ")\n",
    "\n",
    "#Update and add stop word\n",
    "list_of_words = ['time','well','didn','today','anyone','day','way']\n",
    "stopwords.update(list_of_words)\n",
    "\n",
    "#Create word cloud\n",
    "wc.generate(text)\n",
    "\n",
    "# Show wordcloud\n",
    "plt.figure(figsize=(10, 12))\n",
    "plt.imshow(wc, interpolation='bilinear')\n",
    "plt.axis('off')\n",
    "plt.show()"
   ]
  },
  {
   "cell_type": "code",
   "execution_count": null,
   "metadata": {},
   "outputs": [],
   "source": [
    "import numpy as np\n",
    "from PIL import Image\n",
    "# pip install pillow"
   ]
  },
  {
   "cell_type": "code",
   "execution_count": null,
   "metadata": {},
   "outputs": [],
   "source": [
    "#wc_mask = np.array(Image.open(r'data\\crow.jpg'))\n",
    "#wc_mask = np.array(Image.open(r'data\\fox.png'))\n",
    "wc_mask = np.array(Image.open(r'data\\heart.jpg'))\n",
    "wc_mask"
   ]
  },
  {
   "cell_type": "code",
   "execution_count": null,
   "metadata": {},
   "outputs": [],
   "source": [
    "plt.imshow(wc_mask, interpolation='bilinear')\n",
    "plt.axis('off')\n",
    "plt.show()"
   ]
  },
  {
   "cell_type": "code",
   "execution_count": null,
   "metadata": {},
   "outputs": [],
   "source": [
    "#adjust word cloud \n",
    "wc = WordCloud(background_color='white', \n",
    "                max_words=20, mask=wc_mask, \n",
    "                stopwords=stopwords)\n",
    "#Tạo word cloud\n",
    "wc.generate(text)\n",
    "# Display word cloud\n",
    "plt.figure(figsize=(10, 12))\n",
    "plt.imshow(wc, interpolation='bilinear')\n",
    "plt.axis('off')\n",
    "plt.show()"
   ]
  },
  {
   "cell_type": "code",
   "execution_count": null,
   "metadata": {},
   "outputs": [],
   "source": [
    "text"
   ]
  },
  {
   "cell_type": "code",
   "execution_count": null,
   "metadata": {},
   "outputs": [],
   "source": [
    "# Reference - visualize sentence length in texts\n",
    "import re\n",
    "\n",
    "# Split text into sentences\n",
    "text = text.replace('\\n', '')\n",
    "sentences = re.split(r'[.!?]', text)\n",
    "\n",
    "# Calculate the length of each sentence\n",
    "sentence_lengths = [len(sentence.split()) for sentence in sentences if sentence]\n",
    "\n",
    "sentence_lengths\n"
   ]
  },
  {
   "cell_type": "code",
   "execution_count": null,
   "metadata": {},
   "outputs": [],
   "source": [
    "# Create a histogram of sentence lengths for the text\n",
    "plt.figure(figsize=(10, 6))\n",
    "plt.hist(sentence_lengths, bins=range(1, max(sentence_lengths)+1), color='skyblue', edgecolor='black')\n",
    "plt.title('Sentence Length Distribution')\n",
    "plt.xlabel('Sentence Length (Number of Words)')\n",
    "plt.ylabel('Frequency')\n",
    "plt.xticks(range(1, max(sentence_lengths)+1))\n",
    "plt.show()"
   ]
  },
  {
   "cell_type": "code",
   "execution_count": null,
   "metadata": {},
   "outputs": [],
   "source": []
  }
 ],
 "metadata": {
  "kernelspec": {
   "display_name": "Python 3 (ipykernel)",
   "language": "python",
   "name": "python3"
  },
  "language_info": {
   "codemirror_mode": {
    "name": "ipython",
    "version": 3
   },
   "file_extension": ".py",
   "mimetype": "text/x-python",
   "name": "python",
   "nbconvert_exporter": "python",
   "pygments_lexer": "ipython3",
   "version": "3.11.4"
  }
 },
 "nbformat": 4,
 "nbformat_minor": 4
}
