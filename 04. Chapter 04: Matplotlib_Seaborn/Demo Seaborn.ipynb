{
 "cells": [
  {
   "cell_type": "code",
   "execution_count": 1,
   "id": "2b6dcb30-2491-4556-ae02-ce65f0c5e30c",
   "metadata": {},
   "outputs": [],
   "source": [
    "import matplotlib.pyplot as plt\n",
    "import seaborn as sns\n",
    "import numpy as np\n",
    "import pandas as pd\n",
    "from datetime import datetime"
   ]
  },
  {
   "cell_type": "code",
   "execution_count": 2,
   "id": "df8d1ac9",
   "metadata": {},
   "outputs": [
    {
     "data": {
      "text/plain": [
       "['anagrams',\n",
       " 'anscombe',\n",
       " 'attention',\n",
       " 'brain_networks',\n",
       " 'car_crashes',\n",
       " 'diamonds',\n",
       " 'dots',\n",
       " 'dowjones',\n",
       " 'exercise',\n",
       " 'flights',\n",
       " 'fmri',\n",
       " 'geyser',\n",
       " 'glue',\n",
       " 'healthexp',\n",
       " 'iris',\n",
       " 'mpg',\n",
       " 'penguins',\n",
       " 'planets',\n",
       " 'seaice',\n",
       " 'taxis',\n",
       " 'tips',\n",
       " 'titanic',\n",
       " 'anagrams',\n",
       " 'anagrams',\n",
       " 'anscombe',\n",
       " 'anscombe',\n",
       " 'attention',\n",
       " 'attention',\n",
       " 'brain_networks',\n",
       " 'brain_networks',\n",
       " 'car_crashes',\n",
       " 'car_crashes',\n",
       " 'diamonds',\n",
       " 'diamonds',\n",
       " 'dots',\n",
       " 'dots',\n",
       " 'dowjones',\n",
       " 'dowjones',\n",
       " 'exercise',\n",
       " 'exercise',\n",
       " 'flights',\n",
       " 'flights',\n",
       " 'fmri',\n",
       " 'fmri',\n",
       " 'geyser',\n",
       " 'geyser',\n",
       " 'glue',\n",
       " 'glue',\n",
       " 'healthexp',\n",
       " 'healthexp',\n",
       " 'iris',\n",
       " 'iris',\n",
       " 'mpg',\n",
       " 'mpg',\n",
       " 'penguins',\n",
       " 'penguins',\n",
       " 'planets',\n",
       " 'planets',\n",
       " 'seaice',\n",
       " 'seaice',\n",
       " 'taxis',\n",
       " 'taxis',\n",
       " 'tips',\n",
       " 'tips',\n",
       " 'titanic',\n",
       " 'titanic',\n",
       " 'anagrams',\n",
       " 'anscombe',\n",
       " 'attention',\n",
       " 'brain_networks',\n",
       " 'car_crashes',\n",
       " 'diamonds',\n",
       " 'dots',\n",
       " 'dowjones',\n",
       " 'exercise',\n",
       " 'flights',\n",
       " 'fmri',\n",
       " 'geyser',\n",
       " 'glue',\n",
       " 'healthexp',\n",
       " 'iris',\n",
       " 'mpg',\n",
       " 'penguins',\n",
       " 'planets',\n",
       " 'seaice',\n",
       " 'taxis',\n",
       " 'tips',\n",
       " 'titanic']"
      ]
     },
     "execution_count": 2,
     "metadata": {},
     "output_type": "execute_result"
    }
   ],
   "source": [
    "sns.get_dataset_names()"
   ]
  },
  {
   "cell_type": "code",
   "execution_count": 3,
   "id": "444038c0",
   "metadata": {},
   "outputs": [
    {
     "data": {
      "text/html": [
       "<div>\n",
       "<style scoped>\n",
       "    .dataframe tbody tr th:only-of-type {\n",
       "        vertical-align: middle;\n",
       "    }\n",
       "\n",
       "    .dataframe tbody tr th {\n",
       "        vertical-align: top;\n",
       "    }\n",
       "\n",
       "    .dataframe thead th {\n",
       "        text-align: right;\n",
       "    }\n",
       "</style>\n",
       "<table border=\"1\" class=\"dataframe\">\n",
       "  <thead>\n",
       "    <tr style=\"text-align: right;\">\n",
       "      <th></th>\n",
       "      <th>total_bill</th>\n",
       "      <th>tip</th>\n",
       "      <th>sex</th>\n",
       "      <th>smoker</th>\n",
       "      <th>day</th>\n",
       "      <th>time</th>\n",
       "      <th>size</th>\n",
       "    </tr>\n",
       "  </thead>\n",
       "  <tbody>\n",
       "    <tr>\n",
       "      <th>0</th>\n",
       "      <td>16.99</td>\n",
       "      <td>1.01</td>\n",
       "      <td>Female</td>\n",
       "      <td>No</td>\n",
       "      <td>Sun</td>\n",
       "      <td>Dinner</td>\n",
       "      <td>2</td>\n",
       "    </tr>\n",
       "    <tr>\n",
       "      <th>1</th>\n",
       "      <td>10.34</td>\n",
       "      <td>1.66</td>\n",
       "      <td>Male</td>\n",
       "      <td>No</td>\n",
       "      <td>Sun</td>\n",
       "      <td>Dinner</td>\n",
       "      <td>3</td>\n",
       "    </tr>\n",
       "    <tr>\n",
       "      <th>2</th>\n",
       "      <td>21.01</td>\n",
       "      <td>3.50</td>\n",
       "      <td>Male</td>\n",
       "      <td>No</td>\n",
       "      <td>Sun</td>\n",
       "      <td>Dinner</td>\n",
       "      <td>3</td>\n",
       "    </tr>\n",
       "    <tr>\n",
       "      <th>3</th>\n",
       "      <td>23.68</td>\n",
       "      <td>3.31</td>\n",
       "      <td>Male</td>\n",
       "      <td>No</td>\n",
       "      <td>Sun</td>\n",
       "      <td>Dinner</td>\n",
       "      <td>2</td>\n",
       "    </tr>\n",
       "    <tr>\n",
       "      <th>4</th>\n",
       "      <td>24.59</td>\n",
       "      <td>3.61</td>\n",
       "      <td>Female</td>\n",
       "      <td>No</td>\n",
       "      <td>Sun</td>\n",
       "      <td>Dinner</td>\n",
       "      <td>4</td>\n",
       "    </tr>\n",
       "    <tr>\n",
       "      <th>...</th>\n",
       "      <td>...</td>\n",
       "      <td>...</td>\n",
       "      <td>...</td>\n",
       "      <td>...</td>\n",
       "      <td>...</td>\n",
       "      <td>...</td>\n",
       "      <td>...</td>\n",
       "    </tr>\n",
       "    <tr>\n",
       "      <th>239</th>\n",
       "      <td>29.03</td>\n",
       "      <td>5.92</td>\n",
       "      <td>Male</td>\n",
       "      <td>No</td>\n",
       "      <td>Sat</td>\n",
       "      <td>Dinner</td>\n",
       "      <td>3</td>\n",
       "    </tr>\n",
       "    <tr>\n",
       "      <th>240</th>\n",
       "      <td>27.18</td>\n",
       "      <td>2.00</td>\n",
       "      <td>Female</td>\n",
       "      <td>Yes</td>\n",
       "      <td>Sat</td>\n",
       "      <td>Dinner</td>\n",
       "      <td>2</td>\n",
       "    </tr>\n",
       "    <tr>\n",
       "      <th>241</th>\n",
       "      <td>22.67</td>\n",
       "      <td>2.00</td>\n",
       "      <td>Male</td>\n",
       "      <td>Yes</td>\n",
       "      <td>Sat</td>\n",
       "      <td>Dinner</td>\n",
       "      <td>2</td>\n",
       "    </tr>\n",
       "    <tr>\n",
       "      <th>242</th>\n",
       "      <td>17.82</td>\n",
       "      <td>1.75</td>\n",
       "      <td>Male</td>\n",
       "      <td>No</td>\n",
       "      <td>Sat</td>\n",
       "      <td>Dinner</td>\n",
       "      <td>2</td>\n",
       "    </tr>\n",
       "    <tr>\n",
       "      <th>243</th>\n",
       "      <td>18.78</td>\n",
       "      <td>3.00</td>\n",
       "      <td>Female</td>\n",
       "      <td>No</td>\n",
       "      <td>Thur</td>\n",
       "      <td>Dinner</td>\n",
       "      <td>2</td>\n",
       "    </tr>\n",
       "  </tbody>\n",
       "</table>\n",
       "<p>244 rows × 7 columns</p>\n",
       "</div>"
      ],
      "text/plain": [
       "     total_bill   tip     sex smoker   day    time  size\n",
       "0         16.99  1.01  Female     No   Sun  Dinner     2\n",
       "1         10.34  1.66    Male     No   Sun  Dinner     3\n",
       "2         21.01  3.50    Male     No   Sun  Dinner     3\n",
       "3         23.68  3.31    Male     No   Sun  Dinner     2\n",
       "4         24.59  3.61  Female     No   Sun  Dinner     4\n",
       "..          ...   ...     ...    ...   ...     ...   ...\n",
       "239       29.03  5.92    Male     No   Sat  Dinner     3\n",
       "240       27.18  2.00  Female    Yes   Sat  Dinner     2\n",
       "241       22.67  2.00    Male    Yes   Sat  Dinner     2\n",
       "242       17.82  1.75    Male     No   Sat  Dinner     2\n",
       "243       18.78  3.00  Female     No  Thur  Dinner     2\n",
       "\n",
       "[244 rows x 7 columns]"
      ]
     },
     "execution_count": 3,
     "metadata": {},
     "output_type": "execute_result"
    }
   ],
   "source": [
    "df = sns.load_dataset('tips')\n",
    "df"
   ]
  },
  {
   "cell_type": "code",
   "execution_count": 4,
   "id": "d29f9251",
   "metadata": {},
   "outputs": [
    {
     "data": {
      "text/plain": [
       "<seaborn.axisgrid.FacetGrid at 0x16a118950>"
      ]
     },
     "execution_count": 4,
     "metadata": {},
     "output_type": "execute_result"
    },
    {
     "data": {
      "image/png": "[encoded data removed]",
      "text/plain": [
       "<Figure size 600.25x500 with 1 Axes>"
      ]
     },
     "metadata": {},
     "output_type": "display_data"
    }
   ],
   "source": [
    "sns.displot(data=df,x='total_bill',kind='kde',hue='sex')"
   ]
  },
  {
   "cell_type": "code",
   "execution_count": 5,
   "id": "b19781ff",
   "metadata": {},
   "outputs": [
    {
     "data": {
      "image/png": "[encoded data removed]",
      "text/plain": [
       "<Figure size 640x480 with 1 Axes>"
      ]
     },
     "metadata": {},
     "output_type": "display_data"
    }
   ],
   "source": [
    "df_male= df[df.sex == 'Male']\n",
    "df_female= df[df.sex == 'Female']\n",
    "plt.hist(data=df_male,x='total_bill')\n",
    "plt.hist(data=df_female,x='total_bill')\n",
    "plt.show()"
   ]
  },
  {
   "cell_type": "code",
   "execution_count": null,
   "id": "6b692fa0",
   "metadata": {},
   "outputs": [],
   "source": [
    "fig,(ax1,ax2) = plt.subplots(1,2,figsize=(10,8))\n",
    "ax1.hist(data=df_male,x='total_bill')\n",
    "ax2.hist(data=df_female,x='total_bill')\n",
    "plt.show()"
   ]
  },
  {
   "cell_type": "code",
   "execution_count": null,
   "id": "92d3a674",
   "metadata": {},
   "outputs": [],
   "source": [
    "sns.displot(data=df,x='total_bill',col='day',hue='sex')"
   ]
  },
  {
   "cell_type": "code",
   "execution_count": null,
   "id": "62f2d6d3",
   "metadata": {},
   "outputs": [],
   "source": [
    "sns.boxplot(data=df,x='time',y='total_bill',hue='sex')"
   ]
  },
  {
   "cell_type": "markdown",
   "id": "3c891dd3-9026-465b-aed2-56c80d6895da",
   "metadata": {},
   "source": [
    "#### Đọc và xử lý dữ liệu DJIA"
   ]
  },
  {
   "cell_type": "code",
   "execution_count": null,
   "id": "d66b177e-b84f-41c6-900c-3ed9f156f492",
   "metadata": {},
   "outputs": [],
   "source": [
    "djia = pd.read_csv('data\\djia.csv')\n",
    "\n",
    "#Xóa khoảng trắng ở cột dữ liệu\n",
    "djia.columns = djia.columns.str.replace(' ', '')\n",
    "djia['Date'] = pd.to_datetime(djia['Date'])\n",
    "\n",
    "# Tạo cột Month cho biết tên tháng \n",
    "djia['Month'] = djia['Date'].dt.month_name()\n",
    "\n",
    "# Tạo cột Month_num cho biết tháng mấy trong năm\n",
    "djia['Month_num'] = djia['Date'].dt.month\n",
    "\n",
    "djia=djia.sort_values(by='Month_num')\n",
    "\n",
    "djia.head()"
   ]
  },
  {
   "cell_type": "markdown",
   "id": "3270ff4c-042e-4a9a-9689-6ba540d3131f",
   "metadata": {},
   "source": [
    "#### Displot - Đồ thị hàm mật độ xác suất"
   ]
  },
  {
   "cell_type": "code",
   "execution_count": null,
   "id": "69bb9b84",
   "metadata": {},
   "outputs": [],
   "source": [
    "sns.displot(data=djia, x='Close',kind='kde')"
   ]
  },
  {
   "cell_type": "code",
   "execution_count": null,
   "id": "7be7e286",
   "metadata": {},
   "outputs": [],
   "source": [
    "sns.kdeplot(data=djia,x='Close')"
   ]
  },
  {
   "cell_type": "code",
   "execution_count": null,
   "id": "8a609024-5e7f-4f2e-9048-5b5fbc3f0e63",
   "metadata": {},
   "outputs": [],
   "source": [
    "# Vẽ biểu đồ KDE với displot\n",
    "plt.figure(figsize=(10,5))\n",
    "sns.displot(data=djia, x='Close', kind='kde')\n",
    "plt.title('KDE of Close Prices from 01/2023 - 10/2023')\n",
    "plt.xlabel('Giá Close')\n",
    "plt.ylabel('Giá trị hàm phân phối')\n",
    "plt.show()"
   ]
  },
  {
   "cell_type": "code",
   "execution_count": null,
   "id": "6edf9d13-28c6-4176-8d93-84cc27957f7b",
   "metadata": {},
   "outputs": [],
   "source": [
    "# Biểu đồ histogram với displot\n",
    "his= sns.displot(data=djia, x='Close')\n",
    "plt.title('Histogram of Close Prices from 01/2023 - 10/2023')\n",
    "plt.show()\n"
   ]
  },
  {
   "cell_type": "markdown",
   "id": "4116b758-12f3-426b-a5d2-907616237d81",
   "metadata": {},
   "source": [
    "#### Box plot"
   ]
  },
  {
   "cell_type": "code",
   "execution_count": null,
   "id": "75163395",
   "metadata": {},
   "outputs": [],
   "source": [
    "djia.iloc[:,:-2].head()"
   ]
  },
  {
   "cell_type": "code",
   "execution_count": null,
   "id": "a76e104a",
   "metadata": {},
   "outputs": [],
   "source": [
    "sns.boxplot(data=djia.iloc[:,:-2])"
   ]
  },
  {
   "cell_type": "code",
   "execution_count": null,
   "id": "5a882537",
   "metadata": {},
   "outputs": [],
   "source": [
    "# Box plot of the 'Close' prices by 'Month'\n",
    "plt.figure(figsize=(10, 6))\n",
    "sns.boxplot(data=djia,y='Close') \n",
    "plt.show()"
   ]
  },
  {
   "cell_type": "code",
   "execution_count": null,
   "id": "65d02c81-06ef-4d3f-95eb-8b2d6fb3c8ae",
   "metadata": {},
   "outputs": [],
   "source": [
    "# Box plot of the 'Close' prices by 'Month'\n",
    "plt.figure(figsize=(10, 6))\n",
    "sns.boxplot(data=djia,x='Month',y='Close',hue='Month') \n",
    "plt.xlabel('Tháng')\n",
    "plt.show()"
   ]
  },
  {
   "cell_type": "markdown",
   "id": "3af14c4c-c1f5-474c-be7f-8c2679b48b9b",
   "metadata": {},
   "source": [
    "#### Functions to display data distribution similar to Box plot"
   ]
  },
  {
   "cell_type": "code",
   "execution_count": 6,
   "id": "f050bb66",
   "metadata": {},
   "outputs": [
    {
     "ename": "NameError",
     "evalue": "name 'djia' is not defined",
     "output_type": "error",
     "traceback": [
      "\u001b[0;31m---------------------------------------------------------------------------\u001b[0m",
      "\u001b[0;31mNameError\u001b[0m                                 Traceback (most recent call last)",
      "Cell \u001b[0;32mIn[6], line 3\u001b[0m\n\u001b[1;32m      1\u001b[0m \u001b[38;5;66;03m#violinplot\u001b[39;00m\n\u001b[1;32m      2\u001b[0m plt\u001b[38;5;241m.\u001b[39mfigure(figsize\u001b[38;5;241m=\u001b[39m(\u001b[38;5;241m10\u001b[39m, \u001b[38;5;241m6\u001b[39m))\n\u001b[0;32m----> 3\u001b[0m sns\u001b[38;5;241m.\u001b[39mviolinplot(data\u001b[38;5;241m=\u001b[39mdjia, x\u001b[38;5;241m=\u001b[39m\u001b[38;5;124m'\u001b[39m\u001b[38;5;124mClose\u001b[39m\u001b[38;5;124m'\u001b[39m)\n\u001b[1;32m      4\u001b[0m plt\u001b[38;5;241m.\u001b[39mshow()\n",
      "\u001b[0;31mNameError\u001b[0m: name 'djia' is not defined"
     ]
    },
    {
     "data": {
      "text/plain": [
       "<Figure size 1000x600 with 0 Axes>"
      ]
     },
     "metadata": {},
     "output_type": "display_data"
    }
   ],
   "source": [
    "#violinplot\n",
    "plt.figure(figsize=(10, 6))\n",
    "sns.violinplot(data=djia, x='Close')\n",
    "plt.show()"
   ]
  },
  {
   "cell_type": "code",
   "execution_count": null,
   "id": "112da956-b005-4f68-9ffb-eb2081adfa03",
   "metadata": {},
   "outputs": [],
   "source": [
    "#violinplot\n",
    "plt.figure(figsize=(10, 6))\n",
    "sns.violinplot(data=djia, x='Month', y='Close',hue='Month')\n",
    "plt.show()"
   ]
  },
  {
   "cell_type": "code",
   "execution_count": null,
   "id": "1d607170-a762-4548-aaec-9b30083d3fa5",
   "metadata": {},
   "outputs": [],
   "source": [
    "# swarmplot\n",
    "plt.figure(figsize=(10, 6))\n",
    "sns.boxplot(data=djia, x='Month', y='Close')\n",
    "sns.swarmplot(data=djia, x='Month', y='Close',hue='Month')\n",
    "plt.show()"
   ]
  },
  {
   "cell_type": "code",
   "execution_count": null,
   "id": "5410791a-aa9f-4744-8fc4-61a5033b25b2",
   "metadata": {},
   "outputs": [],
   "source": [
    "# stripplot\n",
    "plt.figure(figsize=(10, 6))\n",
    "sns.stripplot(data=djia, x='Month', y='Close',hue='Month')\n",
    "plt.show()"
   ]
  },
  {
   "cell_type": "markdown",
   "id": "958be2fc-9748-483c-b537-ba290ec7c1ec",
   "metadata": {},
   "source": [
    "#### Regression plot - Residual plot"
   ]
  },
  {
   "cell_type": "code",
   "execution_count": null,
   "id": "1c3bf8d8",
   "metadata": {},
   "outputs": [],
   "source": [
    "sns.scatterplot(data = djia, x='Open', y='Close')"
   ]
  },
  {
   "cell_type": "code",
   "execution_count": null,
   "id": "cf9871ce-8348-4e28-9b9e-615668a54c66",
   "metadata": {},
   "outputs": [],
   "source": [
    "# Regression plot cho biết mối liên hệ giữa 2 biến: giá 'Open' và 'Close'\n",
    "plt.figure(figsize=(10, 6))\n",
    "sns.regplot(data = djia, x='Open', y='Close')\n",
    "plt.title('Regression Plot of DJIA Open vs. Close Price')\n",
    "plt.xlabel('Open Price')\n",
    "plt.ylabel('Close Price')\n",
    "plt.grid(True)\n",
    "plt.show()"
   ]
  },
  {
   "cell_type": "code",
   "execution_count": null,
   "id": "e2d940db-1219-4e5e-a28d-b645b9f299d7",
   "metadata": {},
   "outputs": [],
   "source": [
    "# Residual plot cho biết sự khác biệt giữa các giá trị dữ liệu quan sát được và các giá trị dự đoán bởi mô hình hồi quy\n",
    "plt.figure(figsize=(10, 6))\n",
    "sns.residplot(djia, x='Open', y='Close')\n",
    "plt.title('Residual Plot of DJIA Open vs. Close Price')\n",
    "plt.xlabel('Open Price')\n",
    "plt.ylabel('Close Price')\n",
    "plt.grid(True)\n",
    "plt.show()"
   ]
  },
  {
   "cell_type": "markdown",
   "id": "15ce3b73-b6ed-4f3d-9791-88b11d1d4758",
   "metadata": {},
   "source": [
    "#### Bar plot"
   ]
  },
  {
   "cell_type": "code",
   "execution_count": null,
   "id": "bf1d49f5-5817-41b8-9eb4-a7a64a873ab6",
   "metadata": {},
   "outputs": [],
   "source": [
    "plt.figure(figsize=(8,4))\n",
    "sns.barplot(djia, y = 'Close', x='Month', errorbar=None, estimator='min')\n",
    "plt.title('Bar Plot of the Mean DJIA Close Prices from January 2023 to October 2023')\n",
    "plt.ylabel('Close Price')\n",
    "plt.xticks(rotation=45)\n",
    "plt.show()\n"
   ]
  },
  {
   "cell_type": "code",
   "execution_count": null,
   "id": "11e58ac2",
   "metadata": {},
   "outputs": [],
   "source": [
    "df = sns.load_dataset('tips')\n",
    "df.head()"
   ]
  },
  {
   "cell_type": "code",
   "execution_count": null,
   "id": "8af0394c",
   "metadata": {},
   "outputs": [],
   "source": [
    "df.groupby('day')['total_bill'].sum()"
   ]
  },
  {
   "cell_type": "code",
   "execution_count": null,
   "id": "6d5c44c4",
   "metadata": {},
   "outputs": [],
   "source": [
    "sns.barplot(data=df,x='day',y='total_bill',errorbar=None,estimator=sum,hue='day')"
   ]
  },
  {
   "cell_type": "code",
   "execution_count": null,
   "id": "5f2a368c",
   "metadata": {},
   "outputs": [],
   "source": [
    "df.tail()"
   ]
  },
  {
   "cell_type": "code",
   "execution_count": null,
   "id": "3b4cc9b1",
   "metadata": {},
   "outputs": [],
   "source": [
    "sns.barplot(data=df.tail(),x='day',y='total_bill',errorbar=None,estimator='sum')"
   ]
  },
  {
   "cell_type": "markdown",
   "id": "26e708da-e1d8-4f03-8851-81199fe51b07",
   "metadata": {},
   "source": [
    "#### Count plot"
   ]
  },
  {
   "cell_type": "code",
   "execution_count": null,
   "id": "2bad4199",
   "metadata": {},
   "outputs": [],
   "source": [
    "djia.groupby('Month')['Open'].count().sort_values(ascending=False)"
   ]
  },
  {
   "cell_type": "code",
   "execution_count": null,
   "id": "acd84082",
   "metadata": {},
   "outputs": [],
   "source": [
    "df1 = djia.Month.value_counts()\n",
    "df1"
   ]
  },
  {
   "cell_type": "code",
   "execution_count": null,
   "id": "792daa97",
   "metadata": {},
   "outputs": [],
   "source": [
    "plt.bar(df1.index,df1.values)\n",
    "plt.xticks(rotation=75)\n",
    "plt.show()"
   ]
  },
  {
   "cell_type": "code",
   "execution_count": null,
   "id": "2ecff38f-0356-4c61-ba11-fe7282311d40",
   "metadata": {},
   "outputs": [],
   "source": [
    "plt.figure(figsize=(9,5))\n",
    "sns.countplot(djia,  x='Month')\n",
    "plt.title('Bar Plot of the Number of Transaction Days Per Month from January 2023 to October 2023')\n",
    "plt.ylabel('Close Price')\n",
    "plt.xticks(rotation=45)\n",
    "plt.show()"
   ]
  },
  {
   "cell_type": "code",
   "execution_count": null,
   "id": "ee2146b4",
   "metadata": {},
   "outputs": [],
   "source": [
    "tips = sns.load_dataset('tips')"
   ]
  },
  {
   "cell_type": "code",
   "execution_count": null,
   "id": "fcf868ef",
   "metadata": {},
   "outputs": [],
   "source": [
    "sns.set_style('white')\n",
    "sns.countplot(data=tips,x='day',hue='day',palette='Set2')"
   ]
  },
  {
   "cell_type": "code",
   "execution_count": null,
   "id": "a5efd961",
   "metadata": {},
   "outputs": [],
   "source": [
    "sns.set_style('white')\n",
    "sns.countplot(data=tips,x='sex',hue='sex')"
   ]
  },
  {
   "cell_type": "markdown",
   "id": "6d964f33-1518-4e5f-aff9-13b14d863867",
   "metadata": {},
   "source": [
    "#### Heatmap"
   ]
  },
  {
   "cell_type": "code",
   "execution_count": null,
   "id": "30067def",
   "metadata": {},
   "outputs": [],
   "source": [
    "djia.head()"
   ]
  },
  {
   "cell_type": "code",
   "execution_count": null,
   "id": "0366504d",
   "metadata": {},
   "outputs": [],
   "source": [
    "djia.corr()"
   ]
  },
  {
   "cell_type": "code",
   "execution_count": null,
   "id": "a4474149",
   "metadata": {},
   "outputs": [],
   "source": [
    "djia.corr(numeric_only=True)"
   ]
  },
  {
   "cell_type": "code",
   "execution_count": null,
   "id": "744f5d7d-c605-46ce-843a-527fa4c4882e",
   "metadata": {},
   "outputs": [],
   "source": [
    "# Vẽ heatmap cho ma trận tương quan\n",
    "plt.figure(figsize=(8, 6))\n",
    "heatmap = sns.heatmap(djia.corr(numeric_only=True), annot=True, \n",
    "                      fmt=\".2f\", cmap='YlOrRd', cbar=True)\n",
    "plt.title('Correlation Heatmap of DJIA Components')\n",
    "plt.show()"
   ]
  },
  {
   "cell_type": "markdown",
   "id": "f63bfe76-9cb3-47ed-9df1-b5606aaa217f",
   "metadata": {},
   "source": [
    "#### Khai thác các tập dữ liệu có sẵn trong Seaborn"
   ]
  },
  {
   "cell_type": "code",
   "execution_count": null,
   "id": "57036675-118c-463f-8378-56630a953676",
   "metadata": {},
   "outputs": [],
   "source": [
    "# Liet ke tat ca cac bo du lieu mau co san trong Seaborn\n",
    "datasets = sns.get_dataset_names()\n",
    "print(datasets)\n"
   ]
  },
  {
   "cell_type": "code",
   "execution_count": null,
   "id": "2e6770e1-9889-4b8e-89ec-e7ed20ee2237",
   "metadata": {},
   "outputs": [],
   "source": [
    "# Lấy dữ liệu \n",
    "tips = sns.load_dataset('tips')"
   ]
  },
  {
   "cell_type": "code",
   "execution_count": null,
   "id": "ef1586c2-7709-42f5-93a8-4a469ce4a111",
   "metadata": {},
   "outputs": [],
   "source": [
    "tips.head()"
   ]
  },
  {
   "cell_type": "markdown",
   "id": "2625cb61-0c4c-48cc-8e3d-734bb5c9aa3d",
   "metadata": {},
   "source": [
    "#### Sử dụng các style trong Seaborn"
   ]
  },
  {
   "cell_type": "code",
   "execution_count": null,
   "id": "ea47e861-64be-4185-a4dd-a02eda337c11",
   "metadata": {},
   "outputs": [],
   "source": [
    "# Danh sách các styles\n",
    "styles = ['darkgrid', 'whitegrid', 'dark', 'white', 'ticks']\n",
    "plt.figure(figsize=(15, 10))\n",
    "for idx, style in enumerate(styles, start=1):\n",
    "    sns.set_style(style)\n",
    "    plt.subplot(2, 3, idx)\n",
    "    sns.lineplot(x='Date', y='Close', data=djia)\n",
    "    plt.xticks(rotation=45)  # Xoay các nhãn 45 độ\n",
    "    plt.title(f'Style: {style}')\n",
    "plt.tight_layout()\n",
    "plt.show()\n",
    "\n",
    "# Reset to default style\n",
    "sns.set()\n"
   ]
  },
  {
   "cell_type": "markdown",
   "id": "0a3e82b7-b0f5-4314-b054-fce43f3d9341",
   "metadata": {},
   "source": [
    "#### Customize color palette in Seaborn"
   ]
  },
  {
   "cell_type": "code",
   "execution_count": null,
   "id": "ca166f12-ffd1-4977-be33-3993ec923695",
   "metadata": {},
   "outputs": [],
   "source": [
    "\n",
    "# Example of different color palettes\n",
    "palettes = ['deep', 'muted', 'bright', 'pastel', 'dark', 'colorblind']\n",
    "plt.figure(figsize=(15, 10))\n",
    "for idx, palette in enumerate(palettes, start=1):\n",
    "    plt.subplot(2, 3, idx)\n",
    "    sns.boxplot(hue='Month',y='Close',x='Month',data=djia.sort_values(by='Month_num'), palette=palette)\n",
    "    plt.xticks(rotation=45)  # Xoay các nhãn 45 độ\n",
    "    plt.title(f'Palette: {palette}')\n",
    "    plt.legend([],[], frameon=False)\n",
    "plt.tight_layout()\n",
    "plt.show()\n"
   ]
  },
  {
   "cell_type": "code",
   "execution_count": null,
   "id": "7d8461b5",
   "metadata": {},
   "outputs": [],
   "source": [
    "pal = sns.color_palette(n_colors=10)\n",
    "sns.palplot(pal)"
   ]
  },
  {
   "cell_type": "code",
   "execution_count": null,
   "id": "394b1a27",
   "metadata": {},
   "outputs": [],
   "source": [
    "tips = sns.load_dataset('tips')"
   ]
  },
  {
   "cell_type": "code",
   "execution_count": null,
   "id": "29f0855f",
   "metadata": {},
   "outputs": [],
   "source": [
    "sns.countplot(data=tips,x='day',hue='day')"
   ]
  },
  {
   "cell_type": "code",
   "execution_count": null,
   "id": "a0c58f60",
   "metadata": {},
   "outputs": [],
   "source": [
    "pal = sns.color_palette('RdBu',n_colors=4)\n",
    "sns.palplot(pal)"
   ]
  },
  {
   "cell_type": "code",
   "execution_count": null,
   "id": "d7912bcd",
   "metadata": {},
   "outputs": [],
   "source": [
    "sns.barplot(data=tips,x='day',y='total_bill',palette=pal)"
   ]
  },
  {
   "cell_type": "code",
   "execution_count": null,
   "id": "33ef0845",
   "metadata": {},
   "outputs": [],
   "source": [
    "sns.countplot(djia,  x='Month',hue='Month',palette='Reds')\n"
   ]
  },
  {
   "cell_type": "code",
   "execution_count": null,
   "id": "b7a11332",
   "metadata": {},
   "outputs": [],
   "source": [
    "sns.set()\n",
    "sns.countplot(data=tips,x='sex',hue='sex')"
   ]
  },
  {
   "cell_type": "code",
   "execution_count": null,
   "id": "114c3a11",
   "metadata": {},
   "outputs": [],
   "source": []
  }
 ],
 "metadata": {
  "kernelspec": {
   "display_name": "Python 3 (ipykernel)",
   "language": "python",
   "name": "python3"
  },
  "language_info": {
   "codemirror_mode": {
    "name": "ipython",
    "version": 3
   },
   "file_extension": ".py",
   "mimetype": "text/x-python",
   "name": "python",
   "nbconvert_exporter": "python",
   "pygments_lexer": "ipython3",
   "version": "3.11.4"
  }
 },
 "nbformat": 4,
 "nbformat_minor": 5
}
