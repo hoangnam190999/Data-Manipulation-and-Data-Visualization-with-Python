{
 "cells": [
  {
   "cell_type": "code",
   "execution_count": null,
   "id": "civilian-surrey",
   "metadata": {},
   "outputs": [],
   "source": [
    "import numpy as np\n",
    "import pandas as pd\n",
    "import matplotlib.pyplot as plt\n",
    "import seaborn as sns\n",
    "import warnings\n",
    "warnings.filterwarnings('ignore')"
   ]
  },
  {
   "cell_type": "markdown",
   "id": "incomplete-butterfly",
   "metadata": {},
   "source": [
    "# Using Seaborn's FacetGrid"
   ]
  },
  {
   "cell_type": "markdown",
   "id": "e40067c3-b428-4836-b9f4-7e06d8298c00",
   "metadata": {},
   "source": [
    "#### Tips data is available in the Seaborn dataset"
   ]
  },
  {
   "cell_type": "code",
   "execution_count": null,
   "id": "8de7ffb9",
   "metadata": {},
   "outputs": [],
   "source": [
    "tips = sns.load_dataset(\"tips\")\n",
    "tips.head()"
   ]
  },
  {
   "cell_type": "code",
   "execution_count": null,
   "id": "69ffac43",
   "metadata": {},
   "outputs": [],
   "source": [
    "tips.sex.unique()"
   ]
  },
  {
   "cell_type": "code",
   "execution_count": null,
   "id": "5238e437",
   "metadata": {},
   "outputs": [],
   "source": [
    "g = sns.FacetGrid(tips, col=\"sex\")"
   ]
  },
  {
   "cell_type": "code",
   "execution_count": null,
   "id": "a4caaa19",
   "metadata": {},
   "outputs": [],
   "source": [
    "#Initialize grid, split data set by \"time\"\n",
    "g = sns.FacetGrid(tips, col=\"time\",hue='sex')\n",
    "\n",
    "#Use the map() function to plot the graph on the cells in the grid\n",
    "g.map(sns.kdeplot, \"total_bill\")\n",
    "g.add_legend()\n",
    "plt.show()"
   ]
  },
  {
   "cell_type": "code",
   "execution_count": null,
   "id": "3e0173da",
   "metadata": {},
   "outputs": [],
   "source": [
    "#Initialize grid, split data set by \"time\"\n",
    "g = sns.FacetGrid(tips, col=\"time\")\n",
    "\n",
    "#Use the map() function to plot the graph on the data cells in the grid\n",
    "g.map(sns.barplot,\"day\",\"total_bill\",ci=0)"
   ]
  },
  {
   "cell_type": "code",
   "execution_count": null,
   "id": "b861f89c",
   "metadata": {},
   "outputs": [],
   "source": [
    "g = sns.FacetGrid(tips, col=\"day\", col_wrap=3)\n",
    "\n",
    "#Use the map() function to plot the graph on the data cells in the grid\n",
    "g.map(sns.scatterplot, \"total_bill\",\"tip\")"
   ]
  },
  {
   "cell_type": "code",
   "execution_count": null,
   "id": "327aca83",
   "metadata": {},
   "outputs": [],
   "source": [
    "g = sns.FacetGrid(tips, col=\"time\", hue=\"sex\")\n",
    "\n",
    "#Use the map() function to plot the graph on the data cells in the grid\n",
    "g.map(sns.scatterplot, \"total_bill\",\"tip\")\n",
    "g.add_legend()"
   ]
  },
  {
   "cell_type": "code",
   "execution_count": null,
   "id": "4f7e79a6",
   "metadata": {},
   "outputs": [],
   "source": [
    "g = sns.FacetGrid(tips, col=\"time\",row='day',hue=\"sex\") #(4,2)\n",
    "\n",
    "#Use the map() function to plot the graph on the data cells in the grid\n",
    "g.map(sns.scatterplot, \"total_bill\",\"tip\")\n",
    "g.add_legend()"
   ]
  },
  {
   "cell_type": "code",
   "execution_count": null,
   "id": "b9de87e8",
   "metadata": {},
   "outputs": [],
   "source": [
    "sns.displot(data=tips,x='total_bill',col='day',row='time',kind='kde',hue='sex')"
   ]
  },
  {
   "cell_type": "code",
   "execution_count": null,
   "id": "3cf28ff3",
   "metadata": {},
   "outputs": [],
   "source": [
    "sns.scatterplot(data=tips,x='total_bill',y='tip',hue='sex')"
   ]
  },
  {
   "cell_type": "code",
   "execution_count": null,
   "id": "fa394ef0",
   "metadata": {},
   "outputs": [],
   "source": [
    "sns.relplot(data=tips,x='total_bill',y='tip',col='time',hue='sex')"
   ]
  },
  {
   "cell_type": "code",
   "execution_count": null,
   "id": "239fafbc",
   "metadata": {},
   "outputs": [],
   "source": [
    "sns.regplot(data=tips,x='total_bill',y='tip')"
   ]
  },
  {
   "cell_type": "code",
   "execution_count": null,
   "id": "08521d2d",
   "metadata": {},
   "outputs": [],
   "source": [
    "sns.lmplot(data=tips,x='total_bill',y='tip',col='time',hue='sex')"
   ]
  },
  {
   "cell_type": "code",
   "execution_count": null,
   "id": "e1a7d6c4",
   "metadata": {},
   "outputs": [],
   "source": [
    "g = sns.FacetGrid(tips,col='time')\n",
    "\n",
    "#Use the map() function to plot the graph on the data cells in the grid\n",
    "g.map(sns.boxplot,\"sex\", \"total_bill\")\n"
   ]
  },
  {
   "cell_type": "code",
   "execution_count": null,
   "id": "4842012b",
   "metadata": {},
   "outputs": [],
   "source": [
    "sns.catplot(data=tips, col=\"time\",hue='sex',kind='box',y='total_bill',x='sex')"
   ]
  },
  {
   "cell_type": "code",
   "execution_count": null,
   "id": "68fb9fc0",
   "metadata": {},
   "outputs": [],
   "source": [
    "sns.catplot(data=tips, col=\"time\",kind='count',x='sex',hue='sex')"
   ]
  },
  {
   "cell_type": "markdown",
   "id": "d125d7d1",
   "metadata": {},
   "source": [
    "### Using PairGrid to Analyze Variables in a Data Set"
   ]
  },
  {
   "cell_type": "code",
   "execution_count": null,
   "id": "8312f0f1",
   "metadata": {},
   "outputs": [],
   "source": [
    "g = sns.PairGrid(tips[['total_bill','tip','sex']],hue=\"sex\")"
   ]
  },
  {
   "cell_type": "code",
   "execution_count": null,
   "id": "bf65e21f",
   "metadata": {},
   "outputs": [],
   "source": [
    "#Grid\n",
    "g = sns.PairGrid(tips[['total_bill','tip','sex']],hue=\"sex\")\n",
    "\n",
    "#Draw the graph on the upper diagonal, lower diagonal and above diagonal\n",
    "g.map_upper(sns.scatterplot)\n",
    "g.map_lower(sns.kdeplot)\n",
    "g.map_diag(sns.kdeplot)\n",
    "g.add_legend()"
   ]
  },
  {
   "cell_type": "code",
   "execution_count": null,
   "id": "d84d2199",
   "metadata": {},
   "outputs": [],
   "source": [
    "#Grid\n",
    "g = sns.PairGrid(tips[['total_bill','tip','sex','size']],hue=\"sex\")\n",
    "\n",
    "#Plot the Diagonal and Non-Diagonal Areas\n",
    "g.map_upper(sns.scatterplot)\n",
    "g.map_diag(sns.histplot)\n",
    "g.map_lower(sns.regplot)\n",
    "g.add_legend()"
   ]
  },
  {
   "cell_type": "markdown",
   "id": "d41b876d",
   "metadata": {},
   "source": [
    "### Use Pairplot to quickly analyze variables in a data set"
   ]
  },
  {
   "cell_type": "code",
   "execution_count": null,
   "id": "0ba46dc9",
   "metadata": {},
   "outputs": [],
   "source": [
    "sns.pairplot(tips[['total_bill','tip','sex']], hue=\"sex\")"
   ]
  },
  {
   "cell_type": "code",
   "execution_count": null,
   "id": "2b5d9655",
   "metadata": {},
   "outputs": [],
   "source": [
    "sns.pairplot(tips[['total_bill','tip','sex']], hue=\"sex\",kind='reg')"
   ]
  },
  {
   "cell_type": "code",
   "execution_count": null,
   "id": "19f3d524",
   "metadata": {},
   "outputs": [],
   "source": [
    "#Redraw the above graph by adjusting the parameters of pairplot and map\n",
    "g=sns.pairplot(tips[['total_bill','tip','sex']], hue=\"sex\", diag_kind=\"hist\")\n",
    "g.map_lower(sns.kdeplot)"
   ]
  },
  {
   "cell_type": "markdown",
   "id": "4ffcd0d1",
   "metadata": {},
   "source": [
    "### Using JointGrid to Analyze Pairs of Variables"
   ]
  },
  {
   "cell_type": "code",
   "execution_count": null,
   "id": "fff6a957",
   "metadata": {},
   "outputs": [],
   "source": [
    "#Grid\n",
    "g=sns.JointGrid(data=tips, x='total_bill', y='tip')\n",
    "\n",
    "#Plot\n",
    "g.plot(sns.regplot, sns.kdeplot)"
   ]
  },
  {
   "cell_type": "code",
   "execution_count": null,
   "id": "05da0f24",
   "metadata": {},
   "outputs": [],
   "source": [
    "#Grid\n",
    "g=sns.JointGrid(data=tips, x='total_bill', y='tip',hue=\"sex\")\n",
    "\n",
    "#Plot\n",
    "g.plot(sns.scatterplot, sns.boxplot)"
   ]
  },
  {
   "cell_type": "markdown",
   "id": "a457d899",
   "metadata": {},
   "source": [
    "### Using jointplot to analyze pairs of variables"
   ]
  },
  {
   "cell_type": "code",
   "execution_count": null,
   "id": "fd28fb48",
   "metadata": {},
   "outputs": [],
   "source": [
    "sns.jointplot(x='total_bill', y='tip', data=tips)"
   ]
  },
  {
   "cell_type": "code",
   "execution_count": null,
   "id": "59873b20",
   "metadata": {},
   "outputs": [],
   "source": [
    "sns.jointplot(x='total_bill', y='tip', data=tips, kind=\"reg\")"
   ]
  },
  {
   "cell_type": "markdown",
   "id": "081243d8",
   "metadata": {},
   "source": [
    "## Use Matplotlib subplots to flexibly customize charts on a grid"
   ]
  },
  {
   "cell_type": "code",
   "execution_count": null,
   "id": "foster-martin",
   "metadata": {},
   "outputs": [],
   "source": [
    "# Initialize subplots\n",
    "fig, axes = plt.subplots(2, 2, figsize=(10, 8))\n",
    "\n",
    "# Plot the graph on each axes\n",
    "sns.histplot(tips[\"total_bill\"], ax=axes[0, 0])\n",
    "sns.boxplot(x=\"day\", y=\"total_bill\", data=tips, ax=axes[0, 1])\n",
    "sns.scatterplot(x=\"total_bill\", y=\"tip\", data=tips, ax=axes[1, 0])\n",
    "axes[1, 0].set_title('bieu scatter')\n",
    "sns.countplot(x=\"day\", data=tips, ax=axes[1, 1])\n",
    "\n",
    "# Customize layout and title\n",
    "plt.tight_layout()\n",
    "plt.suptitle(\"Multiple Seaborn Plots\", y = 1.05)\n",
    "\n",
    "# Show figure\n",
    "plt.show()"
   ]
  },
  {
   "cell_type": "markdown",
   "id": "25d7a111-4a09-4c09-a081-ef343ba5d929",
   "metadata": {},
   "source": [
    "plt.tight_layout() is a function in matplotlib that is used to\n",
    "automatically adjust the spacing between elements in a plot\n",
    "to minimize overlap between elements."
   ]
  },
  {
   "cell_type": "code",
   "execution_count": null,
   "id": "f6344c04-c321-4530-a55d-7d267645adad",
   "metadata": {},
   "outputs": [],
   "source": [
    "# Initialize figure\n",
    "plt.figure(figsize=(8,8))\n",
    "\n",
    "# Draw the chart in row 0\n",
    "plt.subplot(2,2,1)\n",
    "sns.histplot(tips[\"total_bill\"])\n",
    "plt.title('histogram')\n",
    "\n",
    "plt.subplot(2,2,2)\n",
    "sns.boxplot(x=\"day\", y=\"total_bill\", data=tips)\n",
    "plt.title('boxplot')\n",
    "# Draw a scatter chart in row 1\n",
    "plt.subplot(2,2,(3,4))\n",
    "sns.scatterplot(x=\"total_bill\", y=\"tip\", data=tips)\n",
    "plt.title('scatterlot')\n",
    "\n",
    "# Customize title\n",
    "plt.suptitle(\"Multiple Seaborn Plots\")\n",
    "plt.tight_layout()\n",
    "# Show figure\n",
    "plt.show()"
   ]
  },
  {
   "cell_type": "code",
   "execution_count": null,
   "id": "aeb7c237-0327-4466-9495-ed66e05905a0",
   "metadata": {},
   "outputs": [],
   "source": [
    "# Initialize figure\n",
    "plt.figure(figsize=(8,8))\n",
    "\n",
    "# Draw the chart in row 0\n",
    "plt.subplot(2,2,(1,3))\n",
    "sns.histplot(tips[\"total_bill\"])\n",
    "plt.title('histogram')\n",
    "\n",
    "plt.subplot(2,2,2)\n",
    "sns.boxplot(x=\"day\", y=\"total_bill\", data=tips)\n",
    "plt.title('boxplot')\n",
    "# Draw a scatter chart in row 1\n",
    "plt.subplot(2,2,4)\n",
    "sns.scatterplot(x=\"total_bill\", y=\"tip\", data=tips)\n",
    "plt.title('scatterlot')\n",
    "\n",
    "# Customize title\n",
    "plt.suptitle(\"Multiple Seaborn Plots\")\n",
    "plt.tight_layout() \n",
    "\n",
    "# Show figure\n",
    "plt.show()"
   ]
  },
  {
   "cell_type": "code",
   "execution_count": null,
   "id": "145b7194-e42c-4af9-914f-0e228097b72d",
   "metadata": {},
   "outputs": [],
   "source": []
  }
 ],
 "metadata": {
  "kernelspec": {
   "display_name": "Python 3 (ipykernel)",
   "language": "python",
   "name": "python3"
  },
  "language_info": {
   "codemirror_mode": {
    "name": "ipython",
    "version": 3
   },
   "file_extension": ".py",
   "mimetype": "text/x-python",
   "name": "python",
   "nbconvert_exporter": "python",
   "pygments_lexer": "ipython3",
   "version": "3.11.4"
  }
 },
 "nbformat": 4,
 "nbformat_minor": 5
}
