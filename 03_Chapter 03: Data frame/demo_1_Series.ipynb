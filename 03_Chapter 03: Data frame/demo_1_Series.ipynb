{
 "cells": [
  {
   "cell_type": "code",
   "execution_count": 2,
   "id": "26e72d90",
   "metadata": {},
   "outputs": [],
   "source": [
    "import numpy as np\n",
    "import pandas as pd"
   ]
  },
  {
   "cell_type": "markdown",
   "id": "f1d92436",
   "metadata": {},
   "source": [
    "## Series"
   ]
  },
  {
   "cell_type": "code",
   "execution_count": 2,
   "id": "b056d688",
   "metadata": {},
   "outputs": [
    {
     "data": {
      "text/plain": [
       "0    25\n",
       "1    27\n",
       "2    24\n",
       "3    28\n",
       "4    30\n",
       "dtype: int64"
      ]
     },
     "execution_count": 2,
     "metadata": {},
     "output_type": "execute_result"
    }
   ],
   "source": [
    "# create series containing the ages of 5 employees\n",
    "age_lst = [25,27,24,28,30]\n",
    "age_ser = pd.Series(age_lst)\n",
    "age_ser"
   ]
  },
  {
   "cell_type": "code",
   "execution_count": 3,
   "id": "05376151",
   "metadata": {},
   "outputs": [
    {
     "data": {
      "text/plain": [
       "em1    25.0\n",
       "em2    27.0\n",
       "em3    24.0\n",
       "em4    28.0\n",
       "em5    25.0\n",
       "em6    27.0\n",
       "em7     NaN\n",
       "dtype: float64"
      ]
     },
     "execution_count": 3,
     "metadata": {},
     "output_type": "execute_result"
    }
   ],
   "source": [
    "# Create series from list with explicit index\n",
    "age_ser = pd.Series([25,27,24,28,25,27,np.nan], \n",
    "                    index = ['em1', 'em2', 'em3', 'em4', 'em5', 'em6', 'em7'])\n",
    "age_ser"
   ]
  },
  {
   "cell_type": "code",
   "execution_count": 4,
   "id": "847b18d0",
   "metadata": {},
   "outputs": [
    {
     "data": {
      "text/plain": [
       "0    25.0\n",
       "1    27.0\n",
       "dtype: float64"
      ]
     },
     "execution_count": 4,
     "metadata": {},
     "output_type": "execute_result"
    }
   ],
   "source": [
    "age_ser.mode()"
   ]
  },
  {
   "cell_type": "code",
   "execution_count": 5,
   "id": "dd05a9b6",
   "metadata": {},
   "outputs": [
    {
     "data": {
      "text/plain": [
       "25.0    2\n",
       "27.0    2\n",
       "24.0    1\n",
       "28.0    1\n",
       "dtype: int64"
      ]
     },
     "execution_count": 5,
     "metadata": {},
     "output_type": "execute_result"
    }
   ],
   "source": [
    "age_ser.value_counts()"
   ]
  },
  {
   "cell_type": "markdown",
   "id": "2eb89689",
   "metadata": {},
   "source": [
    "## Properties"
   ]
  },
  {
   "cell_type": "code",
   "execution_count": 6,
   "id": "582d86d9",
   "metadata": {},
   "outputs": [
    {
     "data": {
      "text/plain": [
       "7"
      ]
     },
     "execution_count": 6,
     "metadata": {},
     "output_type": "execute_result"
    }
   ],
   "source": [
    "age_ser.size # gives the number of elements in the series"
   ]
  },
  {
   "cell_type": "code",
   "execution_count": 7,
   "id": "bb4c6f9e",
   "metadata": {},
   "outputs": [
    {
     "data": {
      "text/plain": [
       "(7,)"
      ]
     },
     "execution_count": 7,
     "metadata": {},
     "output_type": "execute_result"
    }
   ],
   "source": [
    "age_ser.shape # specifies the dimension and number of elements of the series"
   ]
  },
  {
   "cell_type": "code",
   "execution_count": 8,
   "id": "f94f1640",
   "metadata": {},
   "outputs": [
    {
     "data": {
      "text/plain": [
       "Index(['em1', 'em2', 'em3', 'em4', 'em5', 'em6', 'em7'], dtype='object')"
      ]
     },
     "execution_count": 8,
     "metadata": {},
     "output_type": "execute_result"
    }
   ],
   "source": [
    "age_ser.index # specifies the indexes of the series"
   ]
  },
  {
   "cell_type": "code",
   "execution_count": 9,
   "id": "42c3e693",
   "metadata": {},
   "outputs": [
    {
     "data": {
      "text/plain": [
       "array([25., 27., 24., 28., 25., 27., nan])"
      ]
     },
     "execution_count": 9,
     "metadata": {},
     "output_type": "execute_result"
    }
   ],
   "source": [
    "age_ser.values # show the values of the series"
   ]
  },
  {
   "cell_type": "code",
   "execution_count": 10,
   "id": "373352e4",
   "metadata": {},
   "outputs": [
    {
     "data": {
      "text/plain": [
       "dtype('float64')"
      ]
     },
     "execution_count": 10,
     "metadata": {},
     "output_type": "execute_result"
    }
   ],
   "source": [
    "age_ser.dtype # specifies the data type of the elements in the series"
   ]
  },
  {
   "cell_type": "markdown",
   "id": "e544c0e0",
   "metadata": {},
   "source": [
    "## Method"
   ]
  },
  {
   "cell_type": "code",
   "execution_count": 11,
   "id": "8ca159ea",
   "metadata": {},
   "outputs": [
    {
     "name": "stdout",
     "output_type": "stream",
     "text": [
      "<class 'pandas.core.series.Series'>\n",
      "Index: 7 entries, em1 to em7\n",
      "Series name: None\n",
      "Non-Null Count  Dtype  \n",
      "--------------  -----  \n",
      "6 non-null      float64\n",
      "dtypes: float64(1)\n",
      "memory usage: 412.0+ bytes\n"
     ]
    }
   ],
   "source": [
    "age_ser.info() "
   ]
  },
  {
   "cell_type": "code",
   "execution_count": 12,
   "id": "4affc11d",
   "metadata": {},
   "outputs": [
    {
     "data": {
      "text/plain": [
       "em1    25.0\n",
       "em2    27.0\n",
       "em3    24.0\n",
       "em4    28.0\n",
       "em5    25.0\n",
       "dtype: float64"
      ]
     },
     "execution_count": 12,
     "metadata": {},
     "output_type": "execute_result"
    }
   ],
   "source": [
    "age_ser.head() # 5 first elements"
   ]
  },
  {
   "cell_type": "code",
   "execution_count": 13,
   "id": "59d81df6",
   "metadata": {},
   "outputs": [
    {
     "data": {
      "text/plain": [
       "em3    24.0\n",
       "em4    28.0\n",
       "em5    25.0\n",
       "em6    27.0\n",
       "em7     NaN\n",
       "dtype: float64"
      ]
     },
     "execution_count": 13,
     "metadata": {},
     "output_type": "execute_result"
    }
   ],
   "source": [
    "age_ser.tail() # 5 last elements"
   ]
  },
  {
   "cell_type": "code",
   "execution_count": 14,
   "id": "69f63d9f",
   "metadata": {},
   "outputs": [
    {
     "data": {
      "text/plain": [
       "em1    25.0\n",
       "em2    27.0\n",
       "em3    24.0\n",
       "dtype: float64"
      ]
     },
     "execution_count": 14,
     "metadata": {},
     "output_type": "execute_result"
    }
   ],
   "source": [
    "age_ser.head(3) # 3 first elements"
   ]
  },
  {
   "cell_type": "code",
   "execution_count": 15,
   "id": "080193a2",
   "metadata": {},
   "outputs": [
    {
     "data": {
      "text/plain": [
       "em6    27.0\n",
       "em7     NaN\n",
       "dtype: float64"
      ]
     },
     "execution_count": 15,
     "metadata": {},
     "output_type": "execute_result"
    }
   ],
   "source": [
    "age_ser.tail(2)"
   ]
  },
  {
   "cell_type": "code",
   "execution_count": 16,
   "id": "ca5fb9d2",
   "metadata": {},
   "outputs": [
    {
     "data": {
      "text/plain": [
       "count     6.000000\n",
       "mean     26.000000\n",
       "std       1.549193\n",
       "min      24.000000\n",
       "25%      25.000000\n",
       "50%      26.000000\n",
       "75%      27.000000\n",
       "max      28.000000\n",
       "dtype: float64"
      ]
     },
     "execution_count": 16,
     "metadata": {},
     "output_type": "execute_result"
    }
   ],
   "source": [
    "age_ser.describe() # General statistics"
   ]
  },
  {
   "cell_type": "code",
   "execution_count": 17,
   "id": "556aae84",
   "metadata": {},
   "outputs": [
    {
     "data": {
      "text/plain": [
       "1.5491933384829668"
      ]
     },
     "execution_count": 17,
     "metadata": {},
     "output_type": "execute_result"
    }
   ],
   "source": [
    "age_ser.std()"
   ]
  },
  {
   "cell_type": "code",
   "execution_count": 18,
   "id": "82838aae",
   "metadata": {},
   "outputs": [
    {
     "data": {
      "text/plain": [
       "26.0"
      ]
     },
     "execution_count": 18,
     "metadata": {},
     "output_type": "execute_result"
    }
   ],
   "source": [
    "age_ser.mean()"
   ]
  },
  {
   "cell_type": "markdown",
   "id": "mature-carroll",
   "metadata": {},
   "source": [
    "## Retrieve\n",
    "#### Retrieve 1 element"
   ]
  },
  {
   "cell_type": "code",
   "execution_count": null,
   "id": "471ebec8",
   "metadata": {},
   "outputs": [],
   "source": [
    "# label => index tường minh\n",
    "# index => 2 index ngầm định\n",
    "# tenseries.loc[label]\n",
    "# tenseries.iloc[index]"
   ]
  },
  {
   "cell_type": "code",
   "execution_count": 19,
   "id": "5fb97ab9",
   "metadata": {},
   "outputs": [
    {
     "data": {
      "text/plain": [
       "em3    25\n",
       "em2    27\n",
       "em1    24\n",
       "em4    28\n",
       "em7    30\n",
       "em6    27\n",
       "em5    24\n",
       "dtype: int64"
      ]
     },
     "execution_count": 19,
     "metadata": {},
     "output_type": "execute_result"
    }
   ],
   "source": [
    "age_ser = pd.Series([25,27,24,28,30,27,24], \n",
    "                    index = ['em3', 'em2', 'em1', 'em4', 'em7', 'em6', 'em5'])\n",
    "age_ser"
   ]
  },
  {
   "cell_type": "code",
   "execution_count": 20,
   "id": "b9850520",
   "metadata": {},
   "outputs": [
    {
     "data": {
      "text/plain": [
       "25"
      ]
     },
     "execution_count": 20,
     "metadata": {},
     "output_type": "execute_result"
    }
   ],
   "source": [
    "# age of em3\n",
    "age_ser.loc['em3']"
   ]
  },
  {
   "cell_type": "code",
   "execution_count": 21,
   "id": "6635d003",
   "metadata": {},
   "outputs": [
    {
     "data": {
      "text/plain": [
       "24"
      ]
     },
     "execution_count": 21,
     "metadata": {},
     "output_type": "execute_result"
    }
   ],
   "source": [
    "age_ser.iloc[2] "
   ]
  },
  {
   "cell_type": "code",
   "execution_count": 22,
   "id": "1cbcd5a0",
   "metadata": {},
   "outputs": [
    {
     "data": {
      "text/plain": [
       "24"
      ]
     },
     "execution_count": 22,
     "metadata": {},
     "output_type": "execute_result"
    }
   ],
   "source": [
    "age_ser.iloc[-5]"
   ]
  },
  {
   "cell_type": "code",
   "execution_count": 23,
   "id": "9df24178",
   "metadata": {},
   "outputs": [
    {
     "data": {
      "text/plain": [
       "24"
      ]
     },
     "execution_count": 23,
     "metadata": {},
     "output_type": "execute_result"
    }
   ],
   "source": [
    "# age of last emp\n",
    "age_ser.iloc[-1]"
   ]
  },
  {
   "cell_type": "code",
   "execution_count": 26,
   "id": "e655bbb2",
   "metadata": {},
   "outputs": [
    {
     "data": {
      "text/plain": [
       "25"
      ]
     },
     "execution_count": 26,
     "metadata": {},
     "output_type": "execute_result"
    }
   ],
   "source": [
    "# age of 1st emp \n",
    "age_ser.iloc[0]"
   ]
  },
  {
   "cell_type": "code",
   "execution_count": 25,
   "id": "d322dba0",
   "metadata": {},
   "outputs": [
    {
     "data": {
      "text/plain": [
       "28"
      ]
     },
     "execution_count": 25,
     "metadata": {},
     "output_type": "execute_result"
    }
   ],
   "source": [
    "# age of index 3\n",
    "age_ser.iloc[3]"
   ]
  },
  {
   "cell_type": "code",
   "execution_count": null,
   "id": "e58cf234",
   "metadata": {},
   "outputs": [],
   "source": [
    "# Access 1 pt directly\n",
    "# tenseries[label]\n",
    "# tenseries[index] => label is string"
   ]
  },
  {
   "cell_type": "code",
   "execution_count": 27,
   "id": "0dd854cb",
   "metadata": {},
   "outputs": [
    {
     "data": {
      "text/plain": [
       "em3    25\n",
       "em2    27\n",
       "em1    24\n",
       "em4    28\n",
       "em7    30\n",
       "em6    27\n",
       "em5    24\n",
       "dtype: int64"
      ]
     },
     "execution_count": 27,
     "metadata": {},
     "output_type": "execute_result"
    }
   ],
   "source": [
    "age_ser"
   ]
  },
  {
   "cell_type": "code",
   "execution_count": 28,
   "id": "50331f24",
   "metadata": {},
   "outputs": [
    {
     "data": {
      "text/plain": [
       "24"
      ]
     },
     "execution_count": 28,
     "metadata": {},
     "output_type": "execute_result"
    }
   ],
   "source": [
    "# age of employee em1\n",
    "age_ser['em1']"
   ]
  },
  {
   "cell_type": "code",
   "execution_count": 29,
   "id": "3a4fb5d1",
   "metadata": {},
   "outputs": [
    {
     "data": {
      "text/plain": [
       "28"
      ]
     },
     "execution_count": 29,
     "metadata": {},
     "output_type": "execute_result"
    }
   ],
   "source": [
    "# age of employee em4\n",
    "age_ser[-4]"
   ]
  },
  {
   "cell_type": "code",
   "execution_count": 30,
   "id": "08cb5a31",
   "metadata": {},
   "outputs": [
    {
     "data": {
      "text/plain": [
       "1    a\n",
       "2    b\n",
       "3    c\n",
       "4    d\n",
       "dtype: object"
      ]
     },
     "execution_count": 30,
     "metadata": {},
     "output_type": "execute_result"
    }
   ],
   "source": [
    "# note for ser with label as number (other than zero_based index)\n",
    "lst = ['a','b','c','d']\n",
    "s1 = pd.Series(lst,index=[1,2,3,4])\n",
    "s1"
   ]
  },
  {
   "cell_type": "markdown",
   "id": "26f33c43",
   "metadata": {},
   "source": [
    "#### Retrieve multiple elements"
   ]
  },
  {
   "cell_type": "code",
   "execution_count": 32,
   "id": "a45589be",
   "metadata": {},
   "outputs": [],
   "source": [
    "# tenseries.loc[label list]\n",
    "# tenseries.loc[start : stop](include stop)\n",
    "# tenseries.iloc[start : stop(-1) : step] => with rule\n",
    "# tenseries.iloc[index list] => no rule"
   ]
  },
  {
   "cell_type": "code",
   "execution_count": 31,
   "id": "9cbb14a1",
   "metadata": {},
   "outputs": [
    {
     "data": {
      "text/plain": [
       "em3    25\n",
       "em2    27\n",
       "em1    24\n",
       "em4    28\n",
       "em7    30\n",
       "em6    27\n",
       "em5    24\n",
       "dtype: int64"
      ]
     },
     "execution_count": 31,
     "metadata": {},
     "output_type": "execute_result"
    }
   ],
   "source": [
    "age_ser"
   ]
  },
  {
   "cell_type": "code",
   "execution_count": 33,
   "id": "92a58145",
   "metadata": {},
   "outputs": [
    {
     "data": {
      "text/plain": [
       "em1    24\n",
       "em3    25\n",
       "dtype: int64"
      ]
     },
     "execution_count": 33,
     "metadata": {},
     "output_type": "execute_result"
    }
   ],
   "source": [
    "age_ser.loc[['em1','em3']] # age of em1, em3"
   ]
  },
  {
   "cell_type": "code",
   "execution_count": 34,
   "id": "83e99edc",
   "metadata": {},
   "outputs": [
    {
     "data": {
      "text/plain": [
       "em1    24\n",
       "em4    28\n",
       "em7    30\n",
       "dtype: int64"
      ]
     },
     "execution_count": 34,
     "metadata": {},
     "output_type": "execute_result"
    }
   ],
   "source": [
    "age_ser.loc['em1':'em7'] # age of từ em1 to em7"
   ]
  },
  {
   "cell_type": "code",
   "execution_count": 35,
   "id": "fe4cc8c6",
   "metadata": {},
   "outputs": [
    {
     "data": {
      "text/plain": [
       "em3    25\n",
       "em2    27\n",
       "em1    24\n",
       "dtype: int64"
      ]
     },
     "execution_count": 35,
     "metadata": {},
     "output_type": "execute_result"
    }
   ],
   "source": [
    "age_ser.loc['em3':'em1']"
   ]
  },
  {
   "cell_type": "code",
   "execution_count": 36,
   "id": "baa6bfc7",
   "metadata": {},
   "outputs": [
    {
     "data": {
      "text/plain": [
       "em1    24\n",
       "em4    28\n",
       "em7    30\n",
       "em6    27\n",
       "dtype: int64"
      ]
     },
     "execution_count": 36,
     "metadata": {},
     "output_type": "execute_result"
    }
   ],
   "source": [
    "age_ser.loc['em1':'em6']"
   ]
  },
  {
   "cell_type": "code",
   "execution_count": 37,
   "id": "ac8677c2",
   "metadata": {},
   "outputs": [
    {
     "data": {
      "text/plain": [
       "em2    27\n",
       "em1    24\n",
       "dtype: int64"
      ]
     },
     "execution_count": 37,
     "metadata": {},
     "output_type": "execute_result"
    }
   ],
   "source": [
    "age_ser.iloc[1:3] # age of character in index 1,2"
   ]
  },
  {
   "cell_type": "code",
   "execution_count": 38,
   "id": "88d336c0",
   "metadata": {},
   "outputs": [
    {
     "data": {
      "text/plain": [
       "em3    25\n",
       "em2    27\n",
       "em7    30\n",
       "dtype: int64"
      ]
     },
     "execution_count": 38,
     "metadata": {},
     "output_type": "execute_result"
    }
   ],
   "source": [
    "age_ser.iloc[[0,1,4]] # age of character at index 0,1,4"
   ]
  },
  {
   "cell_type": "code",
   "execution_count": 39,
   "id": "77c84611",
   "metadata": {},
   "outputs": [],
   "source": [
    "# Access multiple pts directly\n",
    "# tenseries[label list]\n",
    "# tenseries[start:stop]\n",
    "# tenseries[index list]\n",
    "# tenseries[start:stop:step]"
   ]
  },
  {
   "cell_type": "code",
   "execution_count": 40,
   "id": "2fa83877",
   "metadata": {},
   "outputs": [
    {
     "data": {
      "text/plain": [
       "em3    25\n",
       "em2    27\n",
       "em1    24\n",
       "em4    28\n",
       "em7    30\n",
       "em6    27\n",
       "em5    24\n",
       "dtype: int64"
      ]
     },
     "execution_count": 40,
     "metadata": {},
     "output_type": "execute_result"
    }
   ],
   "source": [
    "age_ser"
   ]
  },
  {
   "cell_type": "code",
   "execution_count": 41,
   "id": "c3cf3ecf",
   "metadata": {},
   "outputs": [
    {
     "data": {
      "text/plain": [
       "em2    27\n",
       "em1    24\n",
       "dtype: int64"
      ]
     },
     "execution_count": 41,
     "metadata": {},
     "output_type": "execute_result"
    }
   ],
   "source": [
    "age_ser[1:3]"
   ]
  },
  {
   "cell_type": "code",
   "execution_count": 42,
   "id": "8af1a649",
   "metadata": {},
   "outputs": [
    {
     "data": {
      "text/plain": [
       "em3    25\n",
       "em1    24\n",
       "em4    28\n",
       "dtype: int64"
      ]
     },
     "execution_count": 42,
     "metadata": {},
     "output_type": "execute_result"
    }
   ],
   "source": [
    "age_ser[[0,2,3]]"
   ]
  },
  {
   "cell_type": "code",
   "execution_count": 43,
   "id": "0a2a3a44",
   "metadata": {},
   "outputs": [
    {
     "data": {
      "text/plain": [
       "em3    25\n",
       "em4    28\n",
       "dtype: int64"
      ]
     },
     "execution_count": 43,
     "metadata": {},
     "output_type": "execute_result"
    }
   ],
   "source": [
    "age_ser[['em3','em4']]"
   ]
  },
  {
   "cell_type": "code",
   "execution_count": 44,
   "id": "8c948b11",
   "metadata": {},
   "outputs": [
    {
     "data": {
      "text/plain": [
       "em4    28\n",
       "em7    30\n",
       "em6    27\n",
       "em5    24\n",
       "dtype: int64"
      ]
     },
     "execution_count": 44,
     "metadata": {},
     "output_type": "execute_result"
    }
   ],
   "source": [
    "age_ser['em4':'em5']"
   ]
  },
  {
   "cell_type": "markdown",
   "id": "7b1f5090",
   "metadata": {},
   "source": [
    "#### Conditional access"
   ]
  },
  {
   "cell_type": "code",
   "execution_count": 45,
   "id": "29d95798",
   "metadata": {},
   "outputs": [
    {
     "data": {
      "text/plain": [
       "em3    25\n",
       "em2    27\n",
       "em1    24\n",
       "em4    28\n",
       "em7    30\n",
       "em6    27\n",
       "em5    24\n",
       "dtype: int64"
      ]
     },
     "execution_count": 45,
     "metadata": {},
     "output_type": "execute_result"
    }
   ],
   "source": [
    "age_ser"
   ]
  },
  {
   "cell_type": "code",
   "execution_count": 46,
   "id": "6f440c73",
   "metadata": {},
   "outputs": [
    {
     "data": {
      "text/plain": [
       "em3    False\n",
       "em2     True\n",
       "em1    False\n",
       "em4     True\n",
       "em7     True\n",
       "em6     True\n",
       "em5    False\n",
       "dtype: bool"
      ]
     },
     "execution_count": 46,
     "metadata": {},
     "output_type": "execute_result"
    }
   ],
   "source": [
    "age_ser>25"
   ]
  },
  {
   "cell_type": "code",
   "execution_count": 47,
   "id": "e3c06b1d",
   "metadata": {},
   "outputs": [
    {
     "data": {
      "text/plain": [
       "em2    27\n",
       "em4    28\n",
       "em7    30\n",
       "em6    27\n",
       "dtype: int64"
      ]
     },
     "execution_count": 47,
     "metadata": {},
     "output_type": "execute_result"
    }
   ],
   "source": [
    "age_ser[age_ser>25]"
   ]
  },
  {
   "cell_type": "code",
   "execution_count": 48,
   "id": "a7f393f2",
   "metadata": {},
   "outputs": [
    {
     "data": {
      "text/plain": [
       "em2    27\n",
       "em4    28\n",
       "em6    27\n",
       "dtype: int64"
      ]
     },
     "execution_count": 48,
     "metadata": {},
     "output_type": "execute_result"
    }
   ],
   "source": [
    "# Age of employees > 25 and < 30 years old\n",
    "age_ser[(age_ser>25) & (age_ser<30)] # and"
   ]
  },
  {
   "cell_type": "code",
   "execution_count": 49,
   "id": "3c11c1ed",
   "metadata": {},
   "outputs": [
    {
     "data": {
      "text/plain": [
       "em1    24\n",
       "em7    30\n",
       "em5    24\n",
       "dtype: int64"
      ]
     },
     "execution_count": 49,
     "metadata": {},
     "output_type": "execute_result"
    }
   ],
   "source": [
    "# Age of employees under 25 or over 30 years old\n",
    "age_ser[(age_ser<25) | (age_ser>=30)] # or"
   ]
  },
  {
   "cell_type": "code",
   "execution_count": 50,
   "id": "58cd70b2",
   "metadata": {},
   "outputs": [
    {
     "data": {
      "text/plain": [
       "em3    25\n",
       "em1    24\n",
       "em5    24\n",
       "dtype: int64"
      ]
     },
     "execution_count": 50,
     "metadata": {},
     "output_type": "execute_result"
    }
   ],
   "source": [
    "age_ser[~(age_ser>25)]"
   ]
  },
  {
   "cell_type": "markdown",
   "id": "424362e4",
   "metadata": {},
   "source": [
    "## Duplicate data handling"
   ]
  },
  {
   "cell_type": "code",
   "execution_count": 51,
   "id": "3c041886",
   "metadata": {},
   "outputs": [
    {
     "data": {
      "text/plain": [
       "0    0912846759\n",
       "1    0914963258\n",
       "2    0978254361\n",
       "3    0335469512\n",
       "4    0914963258\n",
       "5    0914963258\n",
       "6    0914963258\n",
       "dtype: object"
      ]
     },
     "execution_count": 51,
     "metadata": {},
     "output_type": "execute_result"
    }
   ],
   "source": [
    "\n",
    "# Create a Series storing employees' phone numbers\n",
    "phone_ser = pd.Series(['0912846759', '0914963258', '0978254361', \n",
    "                       '0335469512', '0914963258', '0914963258', '0914963258'])\n",
    "\n",
    "# Display the Series\n",
    "phone_ser\n"
   ]
  },
  {
   "cell_type": "code",
   "execution_count": 52,
   "id": "c8b69c2d",
   "metadata": {},
   "outputs": [
    {
     "data": {
      "text/plain": [
       "0    False\n",
       "1    False\n",
       "2    False\n",
       "3    False\n",
       "4     True\n",
       "5     True\n",
       "6     True\n",
       "dtype: bool"
      ]
     },
     "execution_count": 52,
     "metadata": {},
     "output_type": "execute_result"
    }
   ],
   "source": [
    "\n",
    "phone_ser.duplicated() # default keep=first"
   ]
  },
  {
   "cell_type": "code",
   "execution_count": 53,
   "id": "782b9a3c",
   "metadata": {},
   "outputs": [
    {
     "data": {
      "text/plain": [
       "0    False\n",
       "1     True\n",
       "2    False\n",
       "3    False\n",
       "4     True\n",
       "5     True\n",
       "6    False\n",
       "dtype: bool"
      ]
     },
     "execution_count": 53,
     "metadata": {},
     "output_type": "execute_result"
    }
   ],
   "source": [
    "phone_ser.duplicated(keep='last')"
   ]
  },
  {
   "cell_type": "code",
   "execution_count": 54,
   "id": "5f5b7d2e",
   "metadata": {},
   "outputs": [
    {
     "data": {
      "text/plain": [
       "0    False\n",
       "1     True\n",
       "2    False\n",
       "3    False\n",
       "4     True\n",
       "5     True\n",
       "6     True\n",
       "dtype: bool"
      ]
     },
     "execution_count": 54,
     "metadata": {},
     "output_type": "execute_result"
    }
   ],
   "source": [
    "phone_ser.duplicated(keep=False)"
   ]
  },
  {
   "cell_type": "code",
   "execution_count": 56,
   "id": "9674aca4",
   "metadata": {},
   "outputs": [],
   "source": [
    "phone_ser.drop_duplicates(inplace=True)"
   ]
  },
  {
   "cell_type": "code",
   "execution_count": 57,
   "id": "c0204856",
   "metadata": {},
   "outputs": [
    {
     "data": {
      "text/plain": [
       "0    0912846759\n",
       "1    0914963258\n",
       "2    0978254361\n",
       "3    0335469512\n",
       "dtype: object"
      ]
     },
     "execution_count": 57,
     "metadata": {},
     "output_type": "execute_result"
    }
   ],
   "source": [
    "phone_ser"
   ]
  },
  {
   "cell_type": "code",
   "execution_count": 58,
   "id": "19395ec1",
   "metadata": {},
   "outputs": [
    {
     "data": {
      "text/plain": [
       "0    0912846759\n",
       "1    0914963258\n",
       "2    0978254361\n",
       "3    0335469512\n",
       "dtype: object"
      ]
     },
     "execution_count": 58,
     "metadata": {},
     "output_type": "execute_result"
    }
   ],
   "source": [
    "phone_ser.drop_duplicates(keep='last')"
   ]
  },
  {
   "cell_type": "code",
   "execution_count": 59,
   "id": "333c36d3",
   "metadata": {},
   "outputs": [
    {
     "data": {
      "text/plain": [
       "0    0912846759\n",
       "1    0914963258\n",
       "2    0978254361\n",
       "3    0335469512\n",
       "dtype: object"
      ]
     },
     "execution_count": 59,
     "metadata": {},
     "output_type": "execute_result"
    }
   ],
   "source": [
    "#delete\n",
    "phone_ser.drop_duplicates(keep=False) # keep: first, last, False"
   ]
  },
  {
   "cell_type": "code",
   "execution_count": 60,
   "id": "faa815b7",
   "metadata": {},
   "outputs": [
    {
     "data": {
      "text/plain": [
       "0    0912846759\n",
       "1    0914963258\n",
       "2    0978254361\n",
       "3    0335469512\n",
       "dtype: object"
      ]
     },
     "execution_count": 60,
     "metadata": {},
     "output_type": "execute_result"
    }
   ],
   "source": [
    "phone_ser"
   ]
  },
  {
   "cell_type": "code",
   "execution_count": 61,
   "id": "6e8a1c34",
   "metadata": {},
   "outputs": [],
   "source": [
    "phone_ser.drop_duplicates(keep=False,inplace=True)"
   ]
  },
  {
   "cell_type": "code",
   "execution_count": 62,
   "id": "69c160f1",
   "metadata": {},
   "outputs": [
    {
     "data": {
      "text/plain": [
       "0    0912846759\n",
       "1    0914963258\n",
       "2    0978254361\n",
       "3    0335469512\n",
       "dtype: object"
      ]
     },
     "execution_count": 62,
     "metadata": {},
     "output_type": "execute_result"
    }
   ],
   "source": [
    "phone_ser"
   ]
  },
  {
   "cell_type": "code",
   "execution_count": 3,
   "id": "7318c2d5",
   "metadata": {},
   "outputs": [
    {
     "data": {
      "text/plain": [
       "0    25\n",
       "1    27\n",
       "2    24\n",
       "3    28\n",
       "4    30\n",
       "dtype: int64"
      ]
     },
     "execution_count": 3,
     "metadata": {},
     "output_type": "execute_result"
    }
   ],
   "source": [
    "\n",
    "# Create a Series from a list\n",
    "age_lst = [25, 27, 24, 28, 30]\n",
    "age_ser = pd.Series(age_lst)\n",
    "\n",
    "# Display the Series\n",
    "age_ser\n"
   ]
  },
  {
   "cell_type": "code",
   "execution_count": 4,
   "id": "d5bbedec",
   "metadata": {},
   "outputs": [
    {
     "data": {
      "text/plain": [
       "0    25\n",
       "1    27\n",
       "2    24\n",
       "3    28\n",
       "4    30\n",
       "dtype: int64"
      ]
     },
     "execution_count": 4,
     "metadata": {},
     "output_type": "execute_result"
    }
   ],
   "source": [
    "# Create a Series from a NumPy array\n",
    "age_arr = np.array([25, 27, 24, 28, 30])\n",
    "age_ser = pd.Series(age_arr)\n",
    "\n",
    "# Display the Series\n",
    "age_ser"
   ]
  },
  {
   "cell_type": "code",
   "execution_count": 5,
   "id": "3611815a",
   "metadata": {},
   "outputs": [
    {
     "data": {
      "text/plain": [
       "an      25\n",
       "tuan    27\n",
       "binh    24\n",
       "lan     28\n",
       "cuc     30\n",
       "dtype: int64"
      ]
     },
     "execution_count": 5,
     "metadata": {},
     "output_type": "execute_result"
    }
   ],
   "source": [
    "age_lst = [25,27,24,28,30]\n",
    "age_ser = pd.Series(age_lst,index=['an','tuan','binh','lan','cuc'])\n",
    "age_ser"
   ]
  },
  {
   "cell_type": "code",
   "execution_count": 6,
   "id": "cd322842",
   "metadata": {},
   "outputs": [
    {
     "data": {
      "text/plain": [
       "0    25\n",
       "1    27\n",
       "2    24\n",
       "3    28\n",
       "4    30\n",
       "dtype: int64"
      ]
     },
     "execution_count": 6,
     "metadata": {},
     "output_type": "execute_result"
    }
   ],
   "source": [
    "# create series from list --> array --> series\n",
    "age_lst = [25,27,24,28,30] # list\n",
    "age_arr = np.array(age_lst) # array\n",
    "age_ser = pd.Series(age_arr) # series\n",
    "age_ser"
   ]
  },
  {
   "cell_type": "markdown",
   "id": "ba681cec",
   "metadata": {},
   "source": [
    "#### Index is an auto-incrementing number: 0, 1, 2, ..."
   ]
  },
  {
   "cell_type": "code",
   "execution_count": 7,
   "id": "7ed9c37d",
   "metadata": {},
   "outputs": [],
   "source": [
    "# create series age_ser is the age of 5 employees\n",
    "age_ser = pd.Series([25,27,24,28,30])"
   ]
  },
  {
   "cell_type": "code",
   "execution_count": 8,
   "id": "7994441e",
   "metadata": {},
   "outputs": [
    {
     "data": {
      "text/plain": [
       "0    25\n",
       "1    27\n",
       "2    24\n",
       "3    28\n",
       "4    30\n",
       "dtype: int64"
      ]
     },
     "execution_count": 8,
     "metadata": {},
     "output_type": "execute_result"
    }
   ],
   "source": [
    "# in ra age_ser\n",
    "age_ser"
   ]
  },
  {
   "cell_type": "markdown",
   "id": "9785daec",
   "metadata": {},
   "source": [
    "#### Index is labeled ~ label index"
   ]
  },
  {
   "cell_type": "code",
   "execution_count": 9,
   "id": "c6c2086b",
   "metadata": {},
   "outputs": [],
   "source": [
    "# create series age_ser is the age of 5 employees\n",
    "age_ser = pd.Series([25,27,24,28,30], index=[101,102,103,104,105]) # assign label to index"
   ]
  },
  {
   "cell_type": "code",
   "execution_count": 10,
   "id": "8ef09746",
   "metadata": {},
   "outputs": [
    {
     "data": {
      "text/plain": [
       "101    25\n",
       "102    27\n",
       "103    24\n",
       "104    28\n",
       "105    30\n",
       "dtype: int64"
      ]
     },
     "execution_count": 10,
     "metadata": {},
     "output_type": "execute_result"
    }
   ],
   "source": [
    "age_ser"
   ]
  },
  {
   "cell_type": "code",
   "execution_count": 11,
   "id": "d8e44a84",
   "metadata": {},
   "outputs": [
    {
     "data": {
      "text/plain": [
       "std1    7.5\n",
       "std2    8.0\n",
       "std3    6.0\n",
       "std4    7.0\n",
       "std5    3.5\n",
       "dtype: float64"
      ]
     },
     "execution_count": 11,
     "metadata": {},
     "output_type": "execute_result"
    }
   ],
   "source": [
    "# create series score_ser is the score of 5 students\n",
    "score_ser = pd.Series([7.5,8.0,6.0,7.0,3.5], index=['std1','std2','std3','std4','std5'])\n",
    "score_ser"
   ]
  },
  {
   "cell_type": "code",
   "execution_count": 12,
   "id": "0639d910",
   "metadata": {},
   "outputs": [
    {
     "data": {
      "text/plain": [
       "array([74., 74., 72., ..., 75., 75., 73.])"
      ]
     },
     "execution_count": 12,
     "metadata": {},
     "output_type": "execute_result"
    }
   ],
   "source": [
    "# Create series from txt file of baseball players' heights, in inches\n",
    "height_arr = np.loadtxt('data/heights_1.txt', delimiter=',')\n",
    "height_arr"
   ]
  },
  {
   "cell_type": "code",
   "execution_count": 13,
   "id": "2ba416d6",
   "metadata": {},
   "outputs": [
    {
     "data": {
      "text/plain": [
       "array([74., 74., 72., ..., 75., 75., 73.])"
      ]
     },
     "execution_count": 13,
     "metadata": {},
     "output_type": "execute_result"
    }
   ],
   "source": [
    "height_arr = np.genfromtxt('data/heights_1.txt', delimiter=',') \n",
    "height_arr"
   ]
  },
  {
   "cell_type": "code",
   "execution_count": 16,
   "id": "6e11af53",
   "metadata": {},
   "outputs": [],
   "source": [
    "height_ser = pd.Series(height_arr)"
   ]
  },
  {
   "cell_type": "code",
   "execution_count": 15,
   "id": "adebc4a8",
   "metadata": {},
   "outputs": [
    {
     "data": {
      "text/plain": [
       "0    74.0\n",
       "1    74.0\n",
       "2    72.0\n",
       "3    72.0\n",
       "4    73.0\n",
       "dtype: float64"
      ]
     },
     "execution_count": 15,
     "metadata": {},
     "output_type": "execute_result"
    }
   ],
   "source": [
    "height_ser.head() # see first 5 lines"
   ]
  },
  {
   "cell_type": "code",
   "execution_count": 17,
   "id": "0cc0fd2c",
   "metadata": {},
   "outputs": [
    {
     "data": {
      "text/plain": [
       "1010    73.0\n",
       "1011    74.0\n",
       "1012    75.0\n",
       "1013    75.0\n",
       "1014    73.0\n",
       "dtype: float64"
      ]
     },
     "execution_count": 17,
     "metadata": {},
     "output_type": "execute_result"
    }
   ],
   "source": [
    "height_ser.tail() # see last 5 lines"
   ]
  },
  {
   "cell_type": "code",
   "execution_count": 18,
   "id": "4bc3dd85",
   "metadata": {},
   "outputs": [
    {
     "data": {
      "text/plain": [
       "(1015,)"
      ]
     },
     "execution_count": 18,
     "metadata": {},
     "output_type": "execute_result"
    }
   ],
   "source": [
    "height_ser.shape"
   ]
  },
  {
   "cell_type": "code",
   "execution_count": 19,
   "id": "82fea90f",
   "metadata": {},
   "outputs": [
    {
     "name": "stdout",
     "output_type": "stream",
     "text": [
      "<class 'pandas.core.series.Series'>\n",
      "RangeIndex: 1015 entries, 0 to 1014\n",
      "Series name: None\n",
      "Non-Null Count  Dtype  \n",
      "--------------  -----  \n",
      "1015 non-null   float64\n",
      "dtypes: float64(1)\n",
      "memory usage: 8.1 KB\n"
     ]
    }
   ],
   "source": [
    "height_ser.info()"
   ]
  }
 ],
 "metadata": {
  "kernelspec": {
   "display_name": "Python 3 (ipykernel)",
   "language": "python",
   "name": "python3"
  },
  "language_info": {
   "codemirror_mode": {
    "name": "ipython",
    "version": 3
   },
   "file_extension": ".py",
   "mimetype": "text/x-python",
   "name": "python",
   "nbconvert_exporter": "python",
   "pygments_lexer": "ipython3",
   "version": "3.11.4"
  }
 },
 "nbformat": 4,
 "nbformat_minor": 5
}
