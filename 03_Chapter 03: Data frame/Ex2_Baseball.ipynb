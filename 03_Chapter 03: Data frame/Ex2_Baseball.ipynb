{
 "cells": [
  {
   "cell_type": "markdown",
   "id": "0eb22768",
   "metadata": {},
   "source": [
    "# Chapter 2 - Exercise 2: Read and Process Data, Then Calculate BMI Based on Conditions, Retrieve Data\n",
    "\n",
    "\n",
    "### Data Extracted from http://wiki.stat.ucla.edu/socr/index.php/SOCR_Data_MLB_HeightsWeights\n",
    "Note:\n",
    "Major League Baseball (MLB) is a professional baseball league. It consists of a total of 30 teams from various states in the United States and Canada (29 teams from the U.S. and 1 team from Canada). MLB attracts significant attention from baseball fans worldwide and is considered the most prestigious and well-known league, featuring the highest-level players in the sport."
   ]
  },
  {
   "cell_type": "code",
   "execution_count": null,
   "id": "1cffc1c7",
   "metadata": {},
   "outputs": [],
   "source": [
    "import numpy as np"
   ]
  },
  {
   "cell_type": "markdown",
   "id": "a91cf1e9",
   "metadata": {},
   "source": [
    "# Part 1: Read Data into Arrays"
   ]
  },
  {
   "cell_type": "code",
   "execution_count": null,
   "id": "99a1fc5a",
   "metadata": {},
   "outputs": [],
   "source": [
    "# Read Height Data from heights.txt into an Array\n",
    "height = np.genfromtxt('heights.txt', delimiter=',', dtype = 'int')\n",
    "height"
   ]
  },
  {
   "cell_type": "code",
   "execution_count": null,
   "id": "31528cf2",
   "metadata": {},
   "outputs": [],
   "source": [
    "# Print the number of elements and data type of the height array elements.\n",
    "print(height.size)\n",
    "height.dtype"
   ]
  },
  {
   "cell_type": "code",
   "execution_count": null,
   "id": "b808d6e8",
   "metadata": {},
   "outputs": [],
   "source": [
    "# 2. Read height data from weights.txt file into weight array\n",
    "weight = np.genfromtxt('weights.txt', delimiter=',', dtype = 'int')\n",
    "weight"
   ]
  },
  {
   "cell_type": "code",
   "execution_count": null,
   "id": "5dbb585e",
   "metadata": {},
   "outputs": [],
   "source": [
    "# Print the number of elements and data types of the weight array elements.\n",
    "print(weight.size)\n",
    "weight.dtype"
   ]
  },
  {
   "cell_type": "markdown",
   "id": "7747471d",
   "metadata": {},
   "source": [
    "# P2. Unit conversion"
   ]
  },
  {
   "cell_type": "code",
   "execution_count": null,
   "id": "e19f587c",
   "metadata": {},
   "outputs": [],
   "source": [
    "# 3. Create array height_m (1 inch = 0.0254 meters) and weight_kg (1 pound = 0.453592 kilograms) from height and weight.\n",
    "# Round to 2 decimal places\n",
    "height_m = np.round(height * 0.0254,2)\n",
    "height_m"
   ]
  },
  {
   "cell_type": "code",
   "execution_count": null,
   "id": "9c6d9842",
   "metadata": {},
   "outputs": [],
   "source": [
    "weight_kg = np.round(weight * 0.453592,2)\n",
    "weight_kg"
   ]
  },
  {
   "cell_type": "markdown",
   "id": "f13c7a73",
   "metadata": {},
   "source": [
    "# P3: Data Statistics"
   ]
  },
  {
   "cell_type": "code",
   "execution_count": null,
   "id": "7c9354fa",
   "metadata": {},
   "outputs": [],
   "source": [
    "# 4. Calculate the average height and weight of the athletes.\n",
    "np.mean(height_m)"
   ]
  },
  {
   "cell_type": "code",
   "execution_count": null,
   "id": "f842cfcd",
   "metadata": {},
   "outputs": [],
   "source": [
    "np.mean(weight_kg)"
   ]
  },
  {
   "cell_type": "code",
   "execution_count": null,
   "id": "301b0bd2",
   "metadata": {},
   "outputs": [],
   "source": [
    "# 5. Calculate the median height and weight of the athletes.\n",
    "np.median(height_m)"
   ]
  },
  {
   "cell_type": "code",
   "execution_count": null,
   "id": "31fa0bcc",
   "metadata": {},
   "outputs": [],
   "source": [
    "np.median(weight_kg)"
   ]
  },
  {
   "cell_type": "code",
   "execution_count": null,
   "id": "7c043bab",
   "metadata": {},
   "outputs": [],
   "source": [
    "# 6. Calculate the standard deviation (std) of height\n",
    "np.std(height_m)"
   ]
  },
  {
   "cell_type": "code",
   "execution_count": null,
   "id": "c824d300",
   "metadata": {},
   "outputs": [],
   "source": [
    "# 7. Calculate the standard deviation (std) of the weight.\n",
    "np.std(weight_kg)"
   ]
  },
  {
   "cell_type": "code",
   "execution_count": null,
   "id": "07d9c90e",
   "metadata": {},
   "outputs": [],
   "source": [
    "# 8. Maximum and minimum weight\n",
    "np.max(weight_kg)"
   ]
  },
  {
   "cell_type": "code",
   "execution_count": null,
   "id": "fc484a28",
   "metadata": {},
   "outputs": [],
   "source": [
    "np.min(weight_kg)"
   ]
  },
  {
   "cell_type": "code",
   "execution_count": null,
   "id": "1b995b22",
   "metadata": {},
   "outputs": [],
   "source": [
    "# 9. Largest and smallest height\n",
    "np.max(height_m)"
   ]
  },
  {
   "cell_type": "code",
   "execution_count": null,
   "id": "ac4ec3f3",
   "metadata": {},
   "outputs": [],
   "source": [
    "np.min(height_m)"
   ]
  },
  {
   "cell_type": "markdown",
   "id": "44816e38",
   "metadata": {},
   "source": [
    "# P4. 2D arrays"
   ]
  },
  {
   "cell_type": "code",
   "execution_count": null,
   "id": "81e2dee3",
   "metadata": {},
   "outputs": [],
   "source": [
    "#10. Create a 2-dimensional numpy array baseball by concatenating the height_m and weight_kg arrays column by column.\n",
    "baseball = np.concatenate([height_m.reshape(-1,1), weight_kg.reshape(-1,1)], axis = 1) # np.column_stack((height_m, weight_kg))\n",
    "baseball"
   ]
  },
  {
   "cell_type": "code",
   "execution_count": null,
   "id": "8d027e6c",
   "metadata": {},
   "outputs": [],
   "source": [
    "# 11. Create a new column containing the BMI of each athlete.\n",
    "bmi = np.round(weight_kg / (height_m ** 2),2)\n",
    "baseball = np.concatenate([baseball, bmi.reshape(-1,1)], axis = 1) # np.column_stack((baseball, bmi_values))\n",
    "baseball"
   ]
  },
  {
   "cell_type": "code",
   "execution_count": null,
   "id": "88deacc4",
   "metadata": {},
   "outputs": [],
   "source": [
    "# Method 2:\n",
    "# baseball = np.zeros((1015,3))\n",
    "# baseball[:,0] = height_m\n",
    "# baseball[:,1] = weight_kg\n",
    "# baseball[:,2] = bmi\n",
    "# baseball"
   ]
  },
  {
   "cell_type": "markdown",
   "id": "4e0ada01",
   "metadata": {},
   "source": [
    "# Part 5: Data Retrieval"
   ]
  },
  {
   "cell_type": "code",
   "execution_count": null,
   "id": "91be1888",
   "metadata": {},
   "outputs": [],
   "source": [
    "# 12. Retrieve the height of the 5th athlete\n",
    "height_m[4]"
   ]
  },
  {
   "cell_type": "code",
   "execution_count": null,
   "id": "b602c032",
   "metadata": {},
   "outputs": [],
   "source": [
    "# 13. Retrieve the athlete with the greatest height.\n",
    "baseball[baseball[:,0] == np.max(baseball[:,0])]"
   ]
  },
  {
   "cell_type": "code",
   "execution_count": null,
   "id": "ad2befe0",
   "metadata": {},
   "outputs": [],
   "source": [
    "# 14. Retrieve athletes with height greater than 180 cm.\n",
    "baseball[baseball[:, 0] > 1.80]"
   ]
  },
  {
   "cell_type": "code",
   "execution_count": null,
   "id": "170c5a64",
   "metadata": {},
   "outputs": [],
   "source": [
    "# 15. Find the athlete with the largest BMI.\n",
    "baseball[baseball[:, 2] == np.max(baseball[:, 2])]"
   ]
  },
  {
   "cell_type": "code",
   "execution_count": null,
   "id": "a8f018d3",
   "metadata": {},
   "outputs": [],
   "source": [
    "# 16. Find the weight of the athlete with the smallest BMI.\n",
    "baseball[baseball[:, 2] == np.min(baseball[:, 2]), 1]"
   ]
  },
  {
   "cell_type": "code",
   "execution_count": null,
   "id": "d7924120",
   "metadata": {},
   "outputs": [],
   "source": [
    "# 17. Find an athlete who weighs more than 90 kg and is less than 1.8 m tall.\n",
    "baseball[(baseball[:, 0] < 1.80) & (baseball[:, 1] > 90)]"
   ]
  },
  {
   "cell_type": "code",
   "execution_count": null,
   "id": "5ce50e8d",
   "metadata": {},
   "outputs": [],
   "source": [
    "#18. Find the athlete with the greatest height or the smallest weight.\n",
    "baseball[(baseball[:, 0] == np.max(baseball[:, 0])) | (baseball[:, 1] == np.min(baseball[:, 1]))]"
   ]
  },
  {
   "cell_type": "markdown",
   "id": "22b34234",
   "metadata": {},
   "source": [
    "# Part 6: Statistics on 2-Dimensional Arrays"
   ]
  },
  {
   "cell_type": "code",
   "execution_count": null,
   "id": "d81eb703",
   "metadata": {},
   "outputs": [],
   "source": [
    "# 19. Average BMI\n",
    "np.mean(baseball[:, 2])"
   ]
  },
  {
   "cell_type": "code",
   "execution_count": null,
   "id": "7e5dd8c5",
   "metadata": {},
   "outputs": [],
   "source": [
    "# 20. TCalculate the average BMI value of athletes with height greater than 2m.\n",
    "np.mean(baseball[baseball[:, 0] > 2][:, 2])"
   ]
  },
  {
   "cell_type": "code",
   "execution_count": null,
   "id": "c4418531",
   "metadata": {},
   "outputs": [],
   "source": [
    "# 21. Calculate the average height of athletes weighing less than 70 kg.\n",
    "np.mean(baseball[baseball[:, 1] < 70][:, 0])"
   ]
  },
  {
   "cell_type": "code",
   "execution_count": null,
   "id": "2f58ee33",
   "metadata": {},
   "outputs": [],
   "source": [
    "# 22. Calculate the number of athletes with height greater than 2 m and weight less than 100 kg.\n",
    "baseball[(baseball[:, 0] > 2) & (baseball[:, 1] < 100)].shape[0]"
   ]
  },
  {
   "cell_type": "code",
   "execution_count": null,
   "id": "4624e3a7",
   "metadata": {},
   "outputs": [],
   "source": [
    "# 23. Calculate the correlation coefficient between height and weight of the\n",
    "np.corrcoef(height_m, weight_kg)"
   ]
  },
  {
   "cell_type": "code",
   "execution_count": null,
   "id": "2cb3104e",
   "metadata": {},
   "outputs": [],
   "source": []
  }
 ],
 "metadata": {
  "kernelspec": {
   "display_name": "Python 3 (ipykernel)",
   "language": "python",
   "name": "python3"
  },
  "language_info": {
   "codemirror_mode": {
    "name": "ipython",
    "version": 3
   },
   "file_extension": ".py",
   "mimetype": "text/x-python",
   "name": "python",
   "nbconvert_exporter": "python",
   "pygments_lexer": "ipython3",
   "version": "3.11.4"
  }
 },
 "nbformat": 4,
 "nbformat_minor": 5
}
