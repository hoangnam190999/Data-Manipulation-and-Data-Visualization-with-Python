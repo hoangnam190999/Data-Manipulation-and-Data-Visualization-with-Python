{
 "cells": [
  {
   "cell_type": "code",
   "execution_count": 9,
   "id": "collective-adaptation",
   "metadata": {},
   "outputs": [],
   "source": [
    "import numpy as np\n",
    "import pandas as pd"
   ]
  },
  {
   "cell_type": "code",
   "execution_count": 2,
   "id": "vocational-universal",
   "metadata": {},
   "outputs": [
    {
     "data": {
      "text/html": [
       "<div>\n",
       "<style scoped>\n",
       "    .dataframe tbody tr th:only-of-type {\n",
       "        vertical-align: middle;\n",
       "    }\n",
       "\n",
       "    .dataframe tbody tr th {\n",
       "        vertical-align: top;\n",
       "    }\n",
       "\n",
       "    .dataframe thead th {\n",
       "        text-align: right;\n",
       "    }\n",
       "</style>\n",
       "<table border=\"1\" class=\"dataframe\">\n",
       "  <thead>\n",
       "    <tr style=\"text-align: right;\">\n",
       "      <th></th>\n",
       "      <th>EMPLOYEE_ID</th>\n",
       "      <th>FIRST_NAME</th>\n",
       "      <th>LAST_NAME</th>\n",
       "      <th>EMAIL</th>\n",
       "      <th>PHONE_NUMBER</th>\n",
       "      <th>HIRE_DATE</th>\n",
       "      <th>JOB_ID</th>\n",
       "      <th>SALARY</th>\n",
       "      <th>COMMISSION_PCT</th>\n",
       "      <th>MANAGER_ID</th>\n",
       "      <th>DEPARTMENT_ID</th>\n",
       "    </tr>\n",
       "  </thead>\n",
       "  <tbody>\n",
       "    <tr>\n",
       "      <th>0</th>\n",
       "      <td>100</td>\n",
       "      <td>Steven</td>\n",
       "      <td>King</td>\n",
       "      <td>SKING</td>\n",
       "      <td>515.123.4567</td>\n",
       "      <td>2003-06-17 00:00:00</td>\n",
       "      <td>AD_PRES</td>\n",
       "      <td>24000</td>\n",
       "      <td>0.0</td>\n",
       "      <td>0</td>\n",
       "      <td>90</td>\n",
       "    </tr>\n",
       "    <tr>\n",
       "      <th>1</th>\n",
       "      <td>101</td>\n",
       "      <td>Neena</td>\n",
       "      <td>Kochhar</td>\n",
       "      <td>NKOCHHAR</td>\n",
       "      <td>515.123.4568</td>\n",
       "      <td>2005-09-21 00:00:00</td>\n",
       "      <td>AD_VP</td>\n",
       "      <td>17000</td>\n",
       "      <td>0.0</td>\n",
       "      <td>100</td>\n",
       "      <td>90</td>\n",
       "    </tr>\n",
       "    <tr>\n",
       "      <th>2</th>\n",
       "      <td>102</td>\n",
       "      <td>Lex</td>\n",
       "      <td>De Haan</td>\n",
       "      <td>LDEHAAN</td>\n",
       "      <td>515.123.4569</td>\n",
       "      <td>2001-01-13 00:00:00</td>\n",
       "      <td>AD_VP</td>\n",
       "      <td>17000</td>\n",
       "      <td>0.0</td>\n",
       "      <td>100</td>\n",
       "      <td>90</td>\n",
       "    </tr>\n",
       "    <tr>\n",
       "      <th>3</th>\n",
       "      <td>103</td>\n",
       "      <td>Alexander</td>\n",
       "      <td>Hunold</td>\n",
       "      <td>AHUNOLD</td>\n",
       "      <td>590.423.4567</td>\n",
       "      <td>2006-01-03 00:00:00</td>\n",
       "      <td>IT_PROG</td>\n",
       "      <td>9000</td>\n",
       "      <td>0.0</td>\n",
       "      <td>102</td>\n",
       "      <td>60</td>\n",
       "    </tr>\n",
       "    <tr>\n",
       "      <th>4</th>\n",
       "      <td>104</td>\n",
       "      <td>Bruce</td>\n",
       "      <td>Ernst</td>\n",
       "      <td>BERNST</td>\n",
       "      <td>590.423.4568</td>\n",
       "      <td>2007-05-21 00:00:00</td>\n",
       "      <td>IT_PROG</td>\n",
       "      <td>6000</td>\n",
       "      <td>0.0</td>\n",
       "      <td>103</td>\n",
       "      <td>60</td>\n",
       "    </tr>\n",
       "  </tbody>\n",
       "</table>\n",
       "</div>"
      ],
      "text/plain": [
       "   EMPLOYEE_ID FIRST_NAME LAST_NAME     EMAIL  PHONE_NUMBER  \\\n",
       "0          100     Steven      King     SKING  515.123.4567   \n",
       "1          101      Neena   Kochhar  NKOCHHAR  515.123.4568   \n",
       "2          102        Lex   De Haan   LDEHAAN  515.123.4569   \n",
       "3          103  Alexander    Hunold   AHUNOLD  590.423.4567   \n",
       "4          104      Bruce     Ernst    BERNST  590.423.4568   \n",
       "\n",
       "             HIRE_DATE   JOB_ID  SALARY  COMMISSION_PCT  MANAGER_ID  \\\n",
       "0  2003-06-17 00:00:00  AD_PRES   24000             0.0           0   \n",
       "1  2005-09-21 00:00:00    AD_VP   17000             0.0         100   \n",
       "2  2001-01-13 00:00:00    AD_VP   17000             0.0         100   \n",
       "3  2006-01-03 00:00:00  IT_PROG    9000             0.0         102   \n",
       "4  2007-05-21 00:00:00  IT_PROG    6000             0.0         103   \n",
       "\n",
       "   DEPARTMENT_ID  \n",
       "0             90  \n",
       "1             90  \n",
       "2             90  \n",
       "3             60  \n",
       "4             60  "
      ]
     },
     "execution_count": 2,
     "metadata": {},
     "output_type": "execute_result"
    }
   ],
   "source": [
    "# read employees_astyle.csv data (converted data type)\n",
    "emp_df = pd.read_csv('data/employees_astyle.csv')\n",
    "emp_df.head()"
   ]
  },
  {
   "cell_type": "code",
   "execution_count": 3,
   "id": "1dce500b",
   "metadata": {},
   "outputs": [
    {
     "data": {
      "text/plain": [
       "EMPLOYEE_ID         int64\n",
       "FIRST_NAME         object\n",
       "LAST_NAME          object\n",
       "EMAIL              object\n",
       "PHONE_NUMBER       object\n",
       "HIRE_DATE          object\n",
       "JOB_ID             object\n",
       "SALARY              int64\n",
       "COMMISSION_PCT    float64\n",
       "MANAGER_ID          int64\n",
       "DEPARTMENT_ID       int64\n",
       "dtype: object"
      ]
     },
     "execution_count": 3,
     "metadata": {},
     "output_type": "execute_result"
    }
   ],
   "source": [
    "emp_df.dtypes"
   ]
  },
  {
   "cell_type": "code",
   "execution_count": 11,
   "id": "7ae185bb",
   "metadata": {},
   "outputs": [
    {
     "data": {
      "text/html": [
       "<div>\n",
       "<style scoped>\n",
       "    .dataframe tbody tr th:only-of-type {\n",
       "        vertical-align: middle;\n",
       "    }\n",
       "\n",
       "    .dataframe tbody tr th {\n",
       "        vertical-align: top;\n",
       "    }\n",
       "\n",
       "    .dataframe thead th {\n",
       "        text-align: right;\n",
       "    }\n",
       "</style>\n",
       "<table border=\"1\" class=\"dataframe\">\n",
       "  <thead>\n",
       "    <tr style=\"text-align: right;\">\n",
       "      <th></th>\n",
       "      <th>EMPLOYEE_ID</th>\n",
       "      <th>FIRST_NAME</th>\n",
       "      <th>LAST_NAME</th>\n",
       "      <th>EMAIL</th>\n",
       "      <th>PHONE_NUMBER</th>\n",
       "      <th>HIRE_DATE</th>\n",
       "      <th>JOB_ID</th>\n",
       "      <th>SALARY</th>\n",
       "      <th>COMMISSION_PCT</th>\n",
       "      <th>MANAGER_ID</th>\n",
       "      <th>DEPARTMENT_ID</th>\n",
       "      <th>HIRE_YEAR</th>\n",
       "    </tr>\n",
       "  </thead>\n",
       "  <tbody>\n",
       "    <tr>\n",
       "      <th>0</th>\n",
       "      <td>100</td>\n",
       "      <td>Steven</td>\n",
       "      <td>King</td>\n",
       "      <td>SKING</td>\n",
       "      <td>515.123.4567</td>\n",
       "      <td>2003-06-17</td>\n",
       "      <td>AD_PRES</td>\n",
       "      <td>24000</td>\n",
       "      <td>0.0</td>\n",
       "      <td>0</td>\n",
       "      <td>90</td>\n",
       "      <td>2003</td>\n",
       "    </tr>\n",
       "    <tr>\n",
       "      <th>1</th>\n",
       "      <td>101</td>\n",
       "      <td>Neena</td>\n",
       "      <td>Kochhar</td>\n",
       "      <td>NKOCHHAR</td>\n",
       "      <td>515.123.4568</td>\n",
       "      <td>2005-09-21</td>\n",
       "      <td>AD_VP</td>\n",
       "      <td>17000</td>\n",
       "      <td>0.0</td>\n",
       "      <td>100</td>\n",
       "      <td>90</td>\n",
       "      <td>2005</td>\n",
       "    </tr>\n",
       "    <tr>\n",
       "      <th>2</th>\n",
       "      <td>102</td>\n",
       "      <td>Lex</td>\n",
       "      <td>De Haan</td>\n",
       "      <td>LDEHAAN</td>\n",
       "      <td>515.123.4569</td>\n",
       "      <td>2001-01-13</td>\n",
       "      <td>AD_VP</td>\n",
       "      <td>17000</td>\n",
       "      <td>0.0</td>\n",
       "      <td>100</td>\n",
       "      <td>90</td>\n",
       "      <td>2001</td>\n",
       "    </tr>\n",
       "    <tr>\n",
       "      <th>3</th>\n",
       "      <td>103</td>\n",
       "      <td>Alexander</td>\n",
       "      <td>Hunold</td>\n",
       "      <td>AHUNOLD</td>\n",
       "      <td>590.423.4567</td>\n",
       "      <td>2006-01-03</td>\n",
       "      <td>IT_PROG</td>\n",
       "      <td>9000</td>\n",
       "      <td>0.0</td>\n",
       "      <td>102</td>\n",
       "      <td>60</td>\n",
       "      <td>2006</td>\n",
       "    </tr>\n",
       "    <tr>\n",
       "      <th>4</th>\n",
       "      <td>104</td>\n",
       "      <td>Bruce</td>\n",
       "      <td>Ernst</td>\n",
       "      <td>BERNST</td>\n",
       "      <td>590.423.4568</td>\n",
       "      <td>2007-05-21</td>\n",
       "      <td>IT_PROG</td>\n",
       "      <td>6000</td>\n",
       "      <td>0.0</td>\n",
       "      <td>103</td>\n",
       "      <td>60</td>\n",
       "      <td>2007</td>\n",
       "    </tr>\n",
       "  </tbody>\n",
       "</table>\n",
       "</div>"
      ],
      "text/plain": [
       "   EMPLOYEE_ID FIRST_NAME LAST_NAME     EMAIL  PHONE_NUMBER  HIRE_DATE  \\\n",
       "0          100     Steven      King     SKING  515.123.4567 2003-06-17   \n",
       "1          101      Neena   Kochhar  NKOCHHAR  515.123.4568 2005-09-21   \n",
       "2          102        Lex   De Haan   LDEHAAN  515.123.4569 2001-01-13   \n",
       "3          103  Alexander    Hunold   AHUNOLD  590.423.4567 2006-01-03   \n",
       "4          104      Bruce     Ernst    BERNST  590.423.4568 2007-05-21   \n",
       "\n",
       "    JOB_ID  SALARY  COMMISSION_PCT  MANAGER_ID  DEPARTMENT_ID  HIRE_YEAR  \n",
       "0  AD_PRES   24000             0.0           0             90       2003  \n",
       "1    AD_VP   17000             0.0         100             90       2005  \n",
       "2    AD_VP   17000             0.0         100             90       2001  \n",
       "3  IT_PROG    9000             0.0         102             60       2006  \n",
       "4  IT_PROG    6000             0.0         103             60       2007  "
      ]
     },
     "execution_count": 11,
     "metadata": {},
     "output_type": "execute_result"
    }
   ],
   "source": [
    "emp_df['HIRE_DATE'] = pd.to_datetime(emp_df['HIRE_DATE'])\n",
    "emp_df['HIRE_YEAR'] = pd.to_datetime(emp_df['HIRE_DATE']).dt.year\n",
    "emp_df.head()"
   ]
  },
  {
   "cell_type": "code",
   "execution_count": 12,
   "id": "581a4244",
   "metadata": {},
   "outputs": [
    {
     "ename": "ImportError",
     "evalue": "Missing optional dependency 'xlrd'. Install xlrd >= 1.0.0 for Excel support Use pip or conda to install xlrd.",
     "output_type": "error",
     "traceback": [
      "\u001b[0;31m---------------------------------------------------------------------------\u001b[0m",
      "\u001b[0;31mModuleNotFoundError\u001b[0m                       Traceback (most recent call last)",
      "File \u001b[0;32m~/anaconda3/lib/python3.11/site-packages/pandas/compat/_optional.py:141\u001b[0m, in \u001b[0;36mimport_optional_dependency\u001b[0;34m(name, extra, errors, min_version)\u001b[0m\n\u001b[1;32m    140\u001b[0m \u001b[38;5;28;01mtry\u001b[39;00m:\n\u001b[0;32m--> 141\u001b[0m     module \u001b[38;5;241m=\u001b[39m importlib\u001b[38;5;241m.\u001b[39mimport_module(name)\n\u001b[1;32m    142\u001b[0m \u001b[38;5;28;01mexcept\u001b[39;00m \u001b[38;5;167;01mImportError\u001b[39;00m:\n",
      "File \u001b[0;32m~/anaconda3/lib/python3.11/importlib/__init__.py:126\u001b[0m, in \u001b[0;36mimport_module\u001b[0;34m(name, package)\u001b[0m\n\u001b[1;32m    125\u001b[0m         level \u001b[38;5;241m+\u001b[39m\u001b[38;5;241m=\u001b[39m \u001b[38;5;241m1\u001b[39m\n\u001b[0;32m--> 126\u001b[0m \u001b[38;5;28;01mreturn\u001b[39;00m _bootstrap\u001b[38;5;241m.\u001b[39m_gcd_import(name[level:], package, level)\n",
      "File \u001b[0;32m<frozen importlib._bootstrap>:1204\u001b[0m, in \u001b[0;36m_gcd_import\u001b[0;34m(name, package, level)\u001b[0m\n",
      "File \u001b[0;32m<frozen importlib._bootstrap>:1176\u001b[0m, in \u001b[0;36m_find_and_load\u001b[0;34m(name, import_)\u001b[0m\n",
      "File \u001b[0;32m<frozen importlib._bootstrap>:1140\u001b[0m, in \u001b[0;36m_find_and_load_unlocked\u001b[0;34m(name, import_)\u001b[0m\n",
      "\u001b[0;31mModuleNotFoundError\u001b[0m: No module named 'xlrd'",
      "\nDuring handling of the above exception, another exception occurred:\n",
      "\u001b[0;31mImportError\u001b[0m                               Traceback (most recent call last)",
      "Cell \u001b[0;32mIn[12], line 1\u001b[0m\n\u001b[0;32m----> 1\u001b[0m dep_df \u001b[38;5;241m=\u001b[39m pd\u001b[38;5;241m.\u001b[39mread_excel(\u001b[38;5;124m'\u001b[39m\u001b[38;5;124mdata/departments.xls\u001b[39m\u001b[38;5;124m'\u001b[39m)\n\u001b[1;32m      2\u001b[0m dep_df\u001b[38;5;241m.\u001b[39mhead()\n",
      "File \u001b[0;32m~/anaconda3/lib/python3.11/site-packages/pandas/util/_decorators.py:211\u001b[0m, in \u001b[0;36mdeprecate_kwarg.<locals>._deprecate_kwarg.<locals>.wrapper\u001b[0;34m(*args, **kwargs)\u001b[0m\n\u001b[1;32m    209\u001b[0m     \u001b[38;5;28;01melse\u001b[39;00m:\n\u001b[1;32m    210\u001b[0m         kwargs[new_arg_name] \u001b[38;5;241m=\u001b[39m new_arg_value\n\u001b[0;32m--> 211\u001b[0m \u001b[38;5;28;01mreturn\u001b[39;00m func(\u001b[38;5;241m*\u001b[39margs, \u001b[38;5;241m*\u001b[39m\u001b[38;5;241m*\u001b[39mkwargs)\n",
      "File \u001b[0;32m~/anaconda3/lib/python3.11/site-packages/pandas/util/_decorators.py:331\u001b[0m, in \u001b[0;36mdeprecate_nonkeyword_arguments.<locals>.decorate.<locals>.wrapper\u001b[0;34m(*args, **kwargs)\u001b[0m\n\u001b[1;32m    325\u001b[0m \u001b[38;5;28;01mif\u001b[39;00m \u001b[38;5;28mlen\u001b[39m(args) \u001b[38;5;241m>\u001b[39m num_allow_args:\n\u001b[1;32m    326\u001b[0m     warnings\u001b[38;5;241m.\u001b[39mwarn(\n\u001b[1;32m    327\u001b[0m         msg\u001b[38;5;241m.\u001b[39mformat(arguments\u001b[38;5;241m=\u001b[39m_format_argument_list(allow_args)),\n\u001b[1;32m    328\u001b[0m         \u001b[38;5;167;01mFutureWarning\u001b[39;00m,\n\u001b[1;32m    329\u001b[0m         stacklevel\u001b[38;5;241m=\u001b[39mfind_stack_level(),\n\u001b[1;32m    330\u001b[0m     )\n\u001b[0;32m--> 331\u001b[0m \u001b[38;5;28;01mreturn\u001b[39;00m func(\u001b[38;5;241m*\u001b[39margs, \u001b[38;5;241m*\u001b[39m\u001b[38;5;241m*\u001b[39mkwargs)\n",
      "File \u001b[0;32m~/anaconda3/lib/python3.11/site-packages/pandas/io/excel/_base.py:482\u001b[0m, in \u001b[0;36mread_excel\u001b[0;34m(io, sheet_name, header, names, index_col, usecols, squeeze, dtype, engine, converters, true_values, false_values, skiprows, nrows, na_values, keep_default_na, na_filter, verbose, parse_dates, date_parser, thousands, decimal, comment, skipfooter, convert_float, mangle_dupe_cols, storage_options)\u001b[0m\n\u001b[1;32m    480\u001b[0m \u001b[38;5;28;01mif\u001b[39;00m \u001b[38;5;129;01mnot\u001b[39;00m \u001b[38;5;28misinstance\u001b[39m(io, ExcelFile):\n\u001b[1;32m    481\u001b[0m     should_close \u001b[38;5;241m=\u001b[39m \u001b[38;5;28;01mTrue\u001b[39;00m\n\u001b[0;32m--> 482\u001b[0m     io \u001b[38;5;241m=\u001b[39m ExcelFile(io, storage_options\u001b[38;5;241m=\u001b[39mstorage_options, engine\u001b[38;5;241m=\u001b[39mengine)\n\u001b[1;32m    483\u001b[0m \u001b[38;5;28;01melif\u001b[39;00m engine \u001b[38;5;129;01mand\u001b[39;00m engine \u001b[38;5;241m!=\u001b[39m io\u001b[38;5;241m.\u001b[39mengine:\n\u001b[1;32m    484\u001b[0m     \u001b[38;5;28;01mraise\u001b[39;00m \u001b[38;5;167;01mValueError\u001b[39;00m(\n\u001b[1;32m    485\u001b[0m         \u001b[38;5;124m\"\u001b[39m\u001b[38;5;124mEngine should not be specified when passing \u001b[39m\u001b[38;5;124m\"\u001b[39m\n\u001b[1;32m    486\u001b[0m         \u001b[38;5;124m\"\u001b[39m\u001b[38;5;124man ExcelFile - ExcelFile already has the engine set\u001b[39m\u001b[38;5;124m\"\u001b[39m\n\u001b[1;32m    487\u001b[0m     )\n",
      "File \u001b[0;32m~/anaconda3/lib/python3.11/site-packages/pandas/io/excel/_base.py:1695\u001b[0m, in \u001b[0;36mExcelFile.__init__\u001b[0;34m(self, path_or_buffer, engine, storage_options)\u001b[0m\n\u001b[1;32m   1692\u001b[0m \u001b[38;5;28mself\u001b[39m\u001b[38;5;241m.\u001b[39mengine \u001b[38;5;241m=\u001b[39m engine\n\u001b[1;32m   1693\u001b[0m \u001b[38;5;28mself\u001b[39m\u001b[38;5;241m.\u001b[39mstorage_options \u001b[38;5;241m=\u001b[39m storage_options\n\u001b[0;32m-> 1695\u001b[0m \u001b[38;5;28mself\u001b[39m\u001b[38;5;241m.\u001b[39m_reader \u001b[38;5;241m=\u001b[39m \u001b[38;5;28mself\u001b[39m\u001b[38;5;241m.\u001b[39m_engines[engine](\u001b[38;5;28mself\u001b[39m\u001b[38;5;241m.\u001b[39m_io, storage_options\u001b[38;5;241m=\u001b[39mstorage_options)\n",
      "File \u001b[0;32m~/anaconda3/lib/python3.11/site-packages/pandas/io/excel/_xlrd.py:34\u001b[0m, in \u001b[0;36mXlrdReader.__init__\u001b[0;34m(self, filepath_or_buffer, storage_options)\u001b[0m\n\u001b[1;32m     24\u001b[0m \u001b[38;5;250m\u001b[39m\u001b[38;5;124;03m\"\"\"\u001b[39;00m\n\u001b[1;32m     25\u001b[0m \u001b[38;5;124;03mReader using xlrd engine.\u001b[39;00m\n\u001b[1;32m     26\u001b[0m \n\u001b[0;32m   (...)\u001b[0m\n\u001b[1;32m     31\u001b[0m \u001b[38;5;124;03m{storage_options}\u001b[39;00m\n\u001b[1;32m     32\u001b[0m \u001b[38;5;124;03m\"\"\"\u001b[39;00m\n\u001b[1;32m     33\u001b[0m err_msg \u001b[38;5;241m=\u001b[39m \u001b[38;5;124m\"\u001b[39m\u001b[38;5;124mInstall xlrd >= 1.0.0 for Excel support\u001b[39m\u001b[38;5;124m\"\u001b[39m\n\u001b[0;32m---> 34\u001b[0m import_optional_dependency(\u001b[38;5;124m\"\u001b[39m\u001b[38;5;124mxlrd\u001b[39m\u001b[38;5;124m\"\u001b[39m, extra\u001b[38;5;241m=\u001b[39merr_msg)\n\u001b[1;32m     35\u001b[0m \u001b[38;5;28msuper\u001b[39m()\u001b[38;5;241m.\u001b[39m\u001b[38;5;21m__init__\u001b[39m(filepath_or_buffer, storage_options\u001b[38;5;241m=\u001b[39mstorage_options)\n",
      "File \u001b[0;32m~/anaconda3/lib/python3.11/site-packages/pandas/compat/_optional.py:144\u001b[0m, in \u001b[0;36mimport_optional_dependency\u001b[0;34m(name, extra, errors, min_version)\u001b[0m\n\u001b[1;32m    142\u001b[0m \u001b[38;5;28;01mexcept\u001b[39;00m \u001b[38;5;167;01mImportError\u001b[39;00m:\n\u001b[1;32m    143\u001b[0m     \u001b[38;5;28;01mif\u001b[39;00m errors \u001b[38;5;241m==\u001b[39m \u001b[38;5;124m\"\u001b[39m\u001b[38;5;124mraise\u001b[39m\u001b[38;5;124m\"\u001b[39m:\n\u001b[0;32m--> 144\u001b[0m         \u001b[38;5;28;01mraise\u001b[39;00m \u001b[38;5;167;01mImportError\u001b[39;00m(msg)\n\u001b[1;32m    145\u001b[0m     \u001b[38;5;28;01melse\u001b[39;00m:\n\u001b[1;32m    146\u001b[0m         \u001b[38;5;28;01mreturn\u001b[39;00m \u001b[38;5;28;01mNone\u001b[39;00m\n",
      "\u001b[0;31mImportError\u001b[0m: Missing optional dependency 'xlrd'. Install xlrd >= 1.0.0 for Excel support Use pip or conda to install xlrd."
     ]
    }
   ],
   "source": [
    "dep_df = pd.read_excel('data/departments.xls')\n",
    "dep_df.head()"
   ]
  },
  {
   "cell_type": "code",
   "execution_count": 13,
   "id": "507f9744",
   "metadata": {},
   "outputs": [
    {
     "ename": "NameError",
     "evalue": "name 'dep_df' is not defined",
     "output_type": "error",
     "traceback": [
      "\u001b[0;31m---------------------------------------------------------------------------\u001b[0m",
      "\u001b[0;31mNameError\u001b[0m                                 Traceback (most recent call last)",
      "Cell \u001b[0;32mIn[13], line 2\u001b[0m\n\u001b[1;32m      1\u001b[0m \u001b[38;5;66;03m# merge emp_df and dep_df[['DEPARTMENT_ID', 'DEPARTMENT_NAME']]\u001b[39;00m\n\u001b[0;32m----> 2\u001b[0m emp_df \u001b[38;5;241m=\u001b[39m pd\u001b[38;5;241m.\u001b[39mmerge(emp_df, dep_df[[\u001b[38;5;124m'\u001b[39m\u001b[38;5;124mDEPARTMENT_ID\u001b[39m\u001b[38;5;124m'\u001b[39m, \u001b[38;5;124m'\u001b[39m\u001b[38;5;124mDEPARTMENT_NAME\u001b[39m\u001b[38;5;124m'\u001b[39m]])\n\u001b[1;32m      3\u001b[0m emp_df\u001b[38;5;241m.\u001b[39mhead()\n",
      "\u001b[0;31mNameError\u001b[0m: name 'dep_df' is not defined"
     ]
    }
   ],
   "source": [
    "# merge emp_df and dep_df[['DEPARTMENT_ID', 'DEPARTMENT_NAME']]\n",
    "emp_df = pd.merge(emp_df, dep_df[['DEPARTMENT_ID', 'DEPARTMENT_NAME']])\n",
    "emp_df.head()"
   ]
  },
  {
   "cell_type": "code",
   "execution_count": 14,
   "id": "e89d5c68",
   "metadata": {},
   "outputs": [
    {
     "name": "stdout",
     "output_type": "stream",
     "text": [
      "<class 'pandas.core.frame.DataFrame'>\n",
      "RangeIndex: 107 entries, 0 to 106\n",
      "Data columns (total 12 columns):\n",
      " #   Column          Non-Null Count  Dtype         \n",
      "---  ------          --------------  -----         \n",
      " 0   EMPLOYEE_ID     107 non-null    int64         \n",
      " 1   FIRST_NAME      107 non-null    object        \n",
      " 2   LAST_NAME       107 non-null    object        \n",
      " 3   EMAIL           107 non-null    object        \n",
      " 4   PHONE_NUMBER    107 non-null    object        \n",
      " 5   HIRE_DATE       107 non-null    datetime64[ns]\n",
      " 6   JOB_ID          107 non-null    object        \n",
      " 7   SALARY          107 non-null    int64         \n",
      " 8   COMMISSION_PCT  107 non-null    float64       \n",
      " 9   MANAGER_ID      107 non-null    int64         \n",
      " 10  DEPARTMENT_ID   107 non-null    int64         \n",
      " 11  HIRE_YEAR       107 non-null    int64         \n",
      "dtypes: datetime64[ns](1), float64(1), int64(5), object(5)\n",
      "memory usage: 10.2+ KB\n"
     ]
    }
   ],
   "source": [
    "emp_df.info()"
   ]
  },
  {
   "cell_type": "code",
   "execution_count": 15,
   "id": "caa75e26",
   "metadata": {},
   "outputs": [
    {
     "data": {
      "text/html": [
       "<div>\n",
       "<style scoped>\n",
       "    .dataframe tbody tr th:only-of-type {\n",
       "        vertical-align: middle;\n",
       "    }\n",
       "\n",
       "    .dataframe tbody tr th {\n",
       "        vertical-align: top;\n",
       "    }\n",
       "\n",
       "    .dataframe thead th {\n",
       "        text-align: right;\n",
       "    }\n",
       "</style>\n",
       "<table border=\"1\" class=\"dataframe\">\n",
       "  <thead>\n",
       "    <tr style=\"text-align: right;\">\n",
       "      <th></th>\n",
       "      <th>EMPLOYEE_ID</th>\n",
       "      <th>SALARY</th>\n",
       "      <th>COMMISSION_PCT</th>\n",
       "      <th>MANAGER_ID</th>\n",
       "      <th>DEPARTMENT_ID</th>\n",
       "      <th>HIRE_YEAR</th>\n",
       "    </tr>\n",
       "  </thead>\n",
       "  <tbody>\n",
       "    <tr>\n",
       "      <th>count</th>\n",
       "      <td>107.000000</td>\n",
       "      <td>107.000000</td>\n",
       "      <td>107.000000</td>\n",
       "      <td>107.000000</td>\n",
       "      <td>107.000000</td>\n",
       "      <td>107.000000</td>\n",
       "    </tr>\n",
       "    <tr>\n",
       "      <th>mean</th>\n",
       "      <td>153.000000</td>\n",
       "      <td>6461.831776</td>\n",
       "      <td>0.072897</td>\n",
       "      <td>123.598131</td>\n",
       "      <td>63.364486</td>\n",
       "      <td>2005.448598</td>\n",
       "    </tr>\n",
       "    <tr>\n",
       "      <th>std</th>\n",
       "      <td>31.032241</td>\n",
       "      <td>3909.579731</td>\n",
       "      <td>0.115595</td>\n",
       "      <td>23.543561</td>\n",
       "      <td>20.874464</td>\n",
       "      <td>1.655372</td>\n",
       "    </tr>\n",
       "    <tr>\n",
       "      <th>min</th>\n",
       "      <td>100.000000</td>\n",
       "      <td>2100.000000</td>\n",
       "      <td>0.000000</td>\n",
       "      <td>0.000000</td>\n",
       "      <td>10.000000</td>\n",
       "      <td>2001.000000</td>\n",
       "    </tr>\n",
       "    <tr>\n",
       "      <th>25%</th>\n",
       "      <td>126.500000</td>\n",
       "      <td>3100.000000</td>\n",
       "      <td>0.000000</td>\n",
       "      <td>108.000000</td>\n",
       "      <td>50.000000</td>\n",
       "      <td>2005.000000</td>\n",
       "    </tr>\n",
       "    <tr>\n",
       "      <th>50%</th>\n",
       "      <td>153.000000</td>\n",
       "      <td>6200.000000</td>\n",
       "      <td>0.000000</td>\n",
       "      <td>122.000000</td>\n",
       "      <td>50.000000</td>\n",
       "      <td>2006.000000</td>\n",
       "    </tr>\n",
       "    <tr>\n",
       "      <th>75%</th>\n",
       "      <td>179.500000</td>\n",
       "      <td>8900.000000</td>\n",
       "      <td>0.150000</td>\n",
       "      <td>145.000000</td>\n",
       "      <td>80.000000</td>\n",
       "      <td>2007.000000</td>\n",
       "    </tr>\n",
       "    <tr>\n",
       "      <th>max</th>\n",
       "      <td>206.000000</td>\n",
       "      <td>24000.000000</td>\n",
       "      <td>0.400000</td>\n",
       "      <td>205.000000</td>\n",
       "      <td>110.000000</td>\n",
       "      <td>2008.000000</td>\n",
       "    </tr>\n",
       "  </tbody>\n",
       "</table>\n",
       "</div>"
      ],
      "text/plain": [
       "       EMPLOYEE_ID        SALARY  COMMISSION_PCT  MANAGER_ID  DEPARTMENT_ID  \\\n",
       "count   107.000000    107.000000      107.000000  107.000000     107.000000   \n",
       "mean    153.000000   6461.831776        0.072897  123.598131      63.364486   \n",
       "std      31.032241   3909.579731        0.115595   23.543561      20.874464   \n",
       "min     100.000000   2100.000000        0.000000    0.000000      10.000000   \n",
       "25%     126.500000   3100.000000        0.000000  108.000000      50.000000   \n",
       "50%     153.000000   6200.000000        0.000000  122.000000      50.000000   \n",
       "75%     179.500000   8900.000000        0.150000  145.000000      80.000000   \n",
       "max     206.000000  24000.000000        0.400000  205.000000     110.000000   \n",
       "\n",
       "         HIRE_YEAR  \n",
       "count   107.000000  \n",
       "mean   2005.448598  \n",
       "std       1.655372  \n",
       "min    2001.000000  \n",
       "25%    2005.000000  \n",
       "50%    2006.000000  \n",
       "75%    2007.000000  \n",
       "max    2008.000000  "
      ]
     },
     "execution_count": 15,
     "metadata": {},
     "output_type": "execute_result"
    }
   ],
   "source": [
    "emp_df.describe()"
   ]
  },
  {
   "cell_type": "code",
   "execution_count": 16,
   "id": "07a5b1b9",
   "metadata": {},
   "outputs": [
    {
     "data": {
      "text/html": [
       "<div>\n",
       "<style scoped>\n",
       "    .dataframe tbody tr th:only-of-type {\n",
       "        vertical-align: middle;\n",
       "    }\n",
       "\n",
       "    .dataframe tbody tr th {\n",
       "        vertical-align: top;\n",
       "    }\n",
       "\n",
       "    .dataframe thead th {\n",
       "        text-align: right;\n",
       "    }\n",
       "</style>\n",
       "<table border=\"1\" class=\"dataframe\">\n",
       "  <thead>\n",
       "    <tr style=\"text-align: right;\">\n",
       "      <th></th>\n",
       "      <th>FIRST_NAME</th>\n",
       "      <th>LAST_NAME</th>\n",
       "      <th>EMAIL</th>\n",
       "      <th>PHONE_NUMBER</th>\n",
       "      <th>JOB_ID</th>\n",
       "    </tr>\n",
       "  </thead>\n",
       "  <tbody>\n",
       "    <tr>\n",
       "      <th>count</th>\n",
       "      <td>107</td>\n",
       "      <td>107</td>\n",
       "      <td>107</td>\n",
       "      <td>107</td>\n",
       "      <td>107</td>\n",
       "    </tr>\n",
       "    <tr>\n",
       "      <th>unique</th>\n",
       "      <td>91</td>\n",
       "      <td>102</td>\n",
       "      <td>107</td>\n",
       "      <td>107</td>\n",
       "      <td>19</td>\n",
       "    </tr>\n",
       "    <tr>\n",
       "      <th>top</th>\n",
       "      <td>Peter</td>\n",
       "      <td>King</td>\n",
       "      <td>SKING</td>\n",
       "      <td>515.123.4567</td>\n",
       "      <td>SA_REP</td>\n",
       "    </tr>\n",
       "    <tr>\n",
       "      <th>freq</th>\n",
       "      <td>3</td>\n",
       "      <td>2</td>\n",
       "      <td>1</td>\n",
       "      <td>1</td>\n",
       "      <td>30</td>\n",
       "    </tr>\n",
       "  </tbody>\n",
       "</table>\n",
       "</div>"
      ],
      "text/plain": [
       "       FIRST_NAME LAST_NAME  EMAIL  PHONE_NUMBER  JOB_ID\n",
       "count         107       107    107           107     107\n",
       "unique         91       102    107           107      19\n",
       "top         Peter      King  SKING  515.123.4567  SA_REP\n",
       "freq            3         2      1             1      30"
      ]
     },
     "execution_count": 16,
     "metadata": {},
     "output_type": "execute_result"
    }
   ],
   "source": [
    "emp_df.describe(include='O')"
   ]
  },
  {
   "cell_type": "markdown",
   "id": "8c731bbb",
   "metadata": {},
   "source": [
    "## Statistics on 1 column"
   ]
  },
  {
   "cell_type": "code",
   "execution_count": 17,
   "id": "16ccc2c9",
   "metadata": {},
   "outputs": [
    {
     "data": {
      "text/plain": [
       "0      24000\n",
       "1      17000\n",
       "2      17000\n",
       "3       9000\n",
       "4       6000\n",
       "       ...  \n",
       "102     6000\n",
       "103     6500\n",
       "104    10000\n",
       "105    12008\n",
       "106     8300\n",
       "Name: SALARY, Length: 107, dtype: int64"
      ]
     },
     "execution_count": 17,
     "metadata": {},
     "output_type": "execute_result"
    }
   ],
   "source": [
    "salary = emp_df.SALARY\n",
    "salary"
   ]
  },
  {
   "cell_type": "code",
   "execution_count": 18,
   "id": "49a0d593",
   "metadata": {},
   "outputs": [
    {
     "data": {
      "text/plain": [
       "107"
      ]
     },
     "execution_count": 18,
     "metadata": {},
     "output_type": "execute_result"
    }
   ],
   "source": [
    "salary.count()"
   ]
  },
  {
   "cell_type": "code",
   "execution_count": 19,
   "id": "ed2cba49",
   "metadata": {},
   "outputs": [
    {
     "data": {
      "text/plain": [
       "691416"
      ]
     },
     "execution_count": 19,
     "metadata": {},
     "output_type": "execute_result"
    }
   ],
   "source": [
    "salary.sum()"
   ]
  },
  {
   "cell_type": "code",
   "execution_count": 20,
   "id": "9a939efc",
   "metadata": {},
   "outputs": [
    {
     "data": {
      "text/plain": [
       "6461.8317757009345"
      ]
     },
     "execution_count": 20,
     "metadata": {},
     "output_type": "execute_result"
    }
   ],
   "source": [
    "salary.mean()"
   ]
  },
  {
   "cell_type": "code",
   "execution_count": 21,
   "id": "426b5e40",
   "metadata": {},
   "outputs": [
    {
     "data": {
      "text/plain": [
       "6200.0"
      ]
     },
     "execution_count": 21,
     "metadata": {},
     "output_type": "execute_result"
    }
   ],
   "source": [
    "salary.median()"
   ]
  },
  {
   "cell_type": "code",
   "execution_count": 22,
   "id": "f25f3c39",
   "metadata": {},
   "outputs": [],
   "source": [
    "s = pd.Series([1,2,3,4,1,2,5,7,1,2])"
   ]
  },
  {
   "cell_type": "code",
   "execution_count": 23,
   "id": "851e1916",
   "metadata": {},
   "outputs": [
    {
     "data": {
      "text/plain": [
       "1    3\n",
       "2    3\n",
       "3    1\n",
       "4    1\n",
       "5    1\n",
       "7    1\n",
       "dtype: int64"
      ]
     },
     "execution_count": 23,
     "metadata": {},
     "output_type": "execute_result"
    }
   ],
   "source": [
    "s.value_counts()"
   ]
  },
  {
   "cell_type": "code",
   "execution_count": 24,
   "id": "700d6e71",
   "metadata": {},
   "outputs": [
    {
     "data": {
      "text/plain": [
       "0    1\n",
       "1    2\n",
       "dtype: int64"
      ]
     },
     "execution_count": 24,
     "metadata": {},
     "output_type": "execute_result"
    }
   ],
   "source": [
    "s.mode()"
   ]
  },
  {
   "cell_type": "code",
   "execution_count": 25,
   "id": "48b8c435",
   "metadata": {},
   "outputs": [
    {
     "data": {
      "text/plain": [
       "0    2500\n",
       "Name: SALARY, dtype: int64"
      ]
     },
     "execution_count": 25,
     "metadata": {},
     "output_type": "execute_result"
    }
   ],
   "source": [
    "# Most common value: Most common salary\n",
    "salary.mode() #=> series "
   ]
  },
  {
   "cell_type": "code",
   "execution_count": 26,
   "id": "352b4140",
   "metadata": {},
   "outputs": [
    {
     "data": {
      "text/plain": [
       "2500     6\n",
       "3200     4\n",
       "3100     4\n",
       "2800     4\n",
       "2600     4\n",
       "10000    4\n",
       "9000     4\n",
       "7000     3\n",
       "9500     3\n",
       "11000    3\n",
       "2900     3\n",
       "8000     3\n",
       "17000    2\n",
       "3600     2\n",
       "3000     2\n",
       "3300     2\n",
       "2200     2\n",
       "2400     2\n",
       "2700     2\n",
       "7500     2\n",
       "4200     2\n",
       "6500     2\n",
       "12008    2\n",
       "10500    2\n",
       "6000     2\n",
       "4800     2\n",
       "6200     2\n",
       "8200     2\n",
       "8800     1\n",
       "6100     1\n",
       "8600     1\n",
       "24000    1\n",
       "8400     1\n",
       "4100     1\n",
       "3400     1\n",
       "7400     1\n",
       "3800     1\n",
       "4000     1\n",
       "3900     1\n",
       "4400     1\n",
       "13000    1\n",
       "7300     1\n",
       "14000    1\n",
       "9600     1\n",
       "11500    1\n",
       "6400     1\n",
       "6800     1\n",
       "7200     1\n",
       "12000    1\n",
       "13500    1\n",
       "3500     1\n",
       "2100     1\n",
       "5800     1\n",
       "7900     1\n",
       "6900     1\n",
       "7800     1\n",
       "7700     1\n",
       "8300     1\n",
       "Name: SALARY, dtype: int64"
      ]
     },
     "execution_count": 26,
     "metadata": {},
     "output_type": "execute_result"
    }
   ],
   "source": [
    "salary.value_counts()"
   ]
  },
  {
   "cell_type": "code",
   "execution_count": 27,
   "id": "aeb45d52",
   "metadata": {},
   "outputs": [
    {
     "data": {
      "text/plain": [
       "2100"
      ]
     },
     "execution_count": 27,
     "metadata": {},
     "output_type": "execute_result"
    }
   ],
   "source": [
    "salary.min()"
   ]
  },
  {
   "cell_type": "code",
   "execution_count": 28,
   "id": "d2fc1ac8",
   "metadata": {},
   "outputs": [
    {
     "data": {
      "text/plain": [
       "24000"
      ]
     },
     "execution_count": 28,
     "metadata": {},
     "output_type": "execute_result"
    }
   ],
   "source": [
    "salary.max()"
   ]
  },
  {
   "cell_type": "code",
   "execution_count": 29,
   "id": "009fd2b2",
   "metadata": {},
   "outputs": [
    {
     "data": {
      "text/plain": [
       "3909.5797305524825"
      ]
     },
     "execution_count": 29,
     "metadata": {},
     "output_type": "execute_result"
    }
   ],
   "source": [
    "salary.std()"
   ]
  },
  {
   "cell_type": "code",
   "execution_count": 30,
   "id": "1440645e",
   "metadata": {},
   "outputs": [
    {
     "data": {
      "text/plain": [
       "15284813.669546822"
      ]
     },
     "execution_count": 30,
     "metadata": {},
     "output_type": "execute_result"
    }
   ],
   "source": [
    "salary.var()"
   ]
  },
  {
   "cell_type": "code",
   "execution_count": 31,
   "id": "fb839675",
   "metadata": {},
   "outputs": [
    {
     "data": {
      "text/plain": [
       "3100.0"
      ]
     },
     "execution_count": 31,
     "metadata": {},
     "output_type": "execute_result"
    }
   ],
   "source": [
    "salary.quantile(0.25) # Q1"
   ]
  },
  {
   "cell_type": "code",
   "execution_count": 32,
   "id": "0f9921af",
   "metadata": {},
   "outputs": [
    {
     "data": {
      "text/plain": [
       "6200.0"
      ]
     },
     "execution_count": 32,
     "metadata": {},
     "output_type": "execute_result"
    }
   ],
   "source": [
    "salary.quantile(0.5) # Q2"
   ]
  },
  {
   "cell_type": "code",
   "execution_count": 33,
   "id": "f5eb5755",
   "metadata": {},
   "outputs": [
    {
     "data": {
      "text/plain": [
       "8900.0"
      ]
     },
     "execution_count": 33,
     "metadata": {},
     "output_type": "execute_result"
    }
   ],
   "source": [
    "salary.quantile(0.75) # Q3"
   ]
  },
  {
   "cell_type": "code",
   "execution_count": 34,
   "id": "bc819872",
   "metadata": {},
   "outputs": [
    {
     "data": {
      "text/plain": [
       "32     2100\n",
       "36     2200\n",
       "28     2200\n",
       "35     2400\n",
       "27     2400\n",
       "      ...  \n",
       "46    13500\n",
       "45    14000\n",
       "2     17000\n",
       "1     17000\n",
       "0     24000\n",
       "Name: SALARY, Length: 107, dtype: int64"
      ]
     },
     "execution_count": 34,
     "metadata": {},
     "output_type": "execute_result"
    }
   ],
   "source": [
    "salary.sort_values()"
   ]
  },
  {
   "cell_type": "code",
   "execution_count": 35,
   "id": "fd5fa029",
   "metadata": {},
   "outputs": [
    {
     "data": {
      "text/plain": [
       "0      24000\n",
       "1      17000\n",
       "2      17000\n",
       "3       9000\n",
       "4       6000\n",
       "       ...  \n",
       "102     6000\n",
       "103     6500\n",
       "104    10000\n",
       "105    12008\n",
       "106     8300\n",
       "Name: SALARY, Length: 107, dtype: int64"
      ]
     },
     "execution_count": 35,
     "metadata": {},
     "output_type": "execute_result"
    }
   ],
   "source": [
    "salary"
   ]
  },
  {
   "cell_type": "code",
   "execution_count": 36,
   "id": "b0497d04",
   "metadata": {},
   "outputs": [
    {
     "data": {
      "text/plain": [
       "0     24000\n",
       "2     17000\n",
       "1     17000\n",
       "45    14000\n",
       "46    13500\n",
       "      ...  \n",
       "27     2400\n",
       "35     2400\n",
       "28     2200\n",
       "36     2200\n",
       "32     2100\n",
       "Name: SALARY, Length: 107, dtype: int64"
      ]
     },
     "execution_count": 36,
     "metadata": {},
     "output_type": "execute_result"
    }
   ],
   "source": [
    "salary.sort_values(ascending=False)"
   ]
  },
  {
   "cell_type": "code",
   "execution_count": 37,
   "id": "54a2be40",
   "metadata": {},
   "outputs": [
    {
     "data": {
      "text/plain": [
       "2005    29\n",
       "2006    24\n",
       "2007    19\n",
       "2008    11\n",
       "2004    10\n",
       "2002     7\n",
       "2003     6\n",
       "2001     1\n",
       "Name: HIRE_YEAR, dtype: int64"
      ]
     },
     "execution_count": 37,
     "metadata": {},
     "output_type": "execute_result"
    }
   ],
   "source": [
    "# employee statistics by year of employment\n",
    "emp_df.HIRE_YEAR.value_counts()"
   ]
  },
  {
   "cell_type": "code",
   "execution_count": 40,
   "id": "347a08eb",
   "metadata": {},
   "outputs": [
    {
     "data": {
      "text/plain": [
       "EMPLOYEE_ID       107\n",
       "FIRST_NAME        107\n",
       "LAST_NAME         107\n",
       "EMAIL             107\n",
       "PHONE_NUMBER      107\n",
       "HIRE_DATE         107\n",
       "JOB_ID            107\n",
       "SALARY            107\n",
       "COMMISSION_PCT    107\n",
       "MANAGER_ID        107\n",
       "DEPARTMENT_ID     107\n",
       "HIRE_YEAR         107\n",
       "dtype: int64"
      ]
     },
     "execution_count": 40,
     "metadata": {},
     "output_type": "execute_result"
    }
   ],
   "source": [
    "emp_df.count()"
   ]
  },
  {
   "cell_type": "code",
   "execution_count": 41,
   "id": "73f7ff91",
   "metadata": {},
   "outputs": [
    {
     "data": {
      "text/plain": [
       "EMPLOYEE_ID                int64\n",
       "FIRST_NAME                object\n",
       "LAST_NAME                 object\n",
       "EMAIL                     object\n",
       "PHONE_NUMBER              object\n",
       "HIRE_DATE         datetime64[ns]\n",
       "JOB_ID                    object\n",
       "SALARY                     int64\n",
       "COMMISSION_PCT           float64\n",
       "MANAGER_ID                 int64\n",
       "DEPARTMENT_ID              int64\n",
       "HIRE_YEAR                  int64\n",
       "dtype: object"
      ]
     },
     "execution_count": 41,
     "metadata": {},
     "output_type": "execute_result"
    }
   ],
   "source": [
    "emp_df.dtypes"
   ]
  },
  {
   "cell_type": "code",
   "execution_count": 42,
   "id": "3eaf084a",
   "metadata": {},
   "outputs": [
    {
     "data": {
      "text/plain": [
       "EMPLOYEE_ID        16371.0\n",
       "SALARY            691416.0\n",
       "COMMISSION_PCT         7.8\n",
       "MANAGER_ID         13225.0\n",
       "DEPARTMENT_ID       6780.0\n",
       "HIRE_YEAR         214583.0\n",
       "dtype: float64"
      ]
     },
     "execution_count": 42,
     "metadata": {},
     "output_type": "execute_result"
    }
   ],
   "source": [
    "emp_df.sum(numeric_only=True)"
   ]
  },
  {
   "cell_type": "code",
   "execution_count": 43,
   "id": "e02fd11b",
   "metadata": {},
   "outputs": [
    {
     "data": {
      "text/plain": [
       "EMPLOYEE_ID        153.000000\n",
       "SALARY            6461.831776\n",
       "COMMISSION_PCT       0.072897\n",
       "MANAGER_ID         123.598131\n",
       "DEPARTMENT_ID       63.364486\n",
       "HIRE_YEAR         2005.448598\n",
       "dtype: float64"
      ]
     },
     "execution_count": 43,
     "metadata": {},
     "output_type": "execute_result"
    }
   ],
   "source": [
    "emp_df.mean(numeric_only=True)"
   ]
  },
  {
   "cell_type": "code",
   "execution_count": 44,
   "id": "a0fbe408",
   "metadata": {},
   "outputs": [
    {
     "data": {
      "text/plain": [
       "EMPLOYEE_ID        153.0\n",
       "SALARY            6200.0\n",
       "COMMISSION_PCT       0.0\n",
       "MANAGER_ID         122.0\n",
       "DEPARTMENT_ID       50.0\n",
       "HIRE_YEAR         2006.0\n",
       "dtype: float64"
      ]
     },
     "execution_count": 44,
     "metadata": {},
     "output_type": "execute_result"
    }
   ],
   "source": [
    "emp_df.median(numeric_only=True)"
   ]
  },
  {
   "cell_type": "code",
   "execution_count": 45,
   "id": "297490a5",
   "metadata": {},
   "outputs": [
    {
     "data": {
      "text/plain": [
       "EMPLOYEE_ID        100.0\n",
       "SALARY            2100.0\n",
       "COMMISSION_PCT       0.0\n",
       "MANAGER_ID           0.0\n",
       "DEPARTMENT_ID       10.0\n",
       "HIRE_YEAR         2001.0\n",
       "dtype: float64"
      ]
     },
     "execution_count": 45,
     "metadata": {},
     "output_type": "execute_result"
    }
   ],
   "source": [
    "emp_df.min(numeric_only=True)"
   ]
  },
  {
   "cell_type": "code",
   "execution_count": 46,
   "id": "2713f624",
   "metadata": {},
   "outputs": [
    {
     "data": {
      "text/plain": [
       "EMPLOYEE_ID         206.0\n",
       "SALARY            24000.0\n",
       "COMMISSION_PCT        0.4\n",
       "MANAGER_ID          205.0\n",
       "DEPARTMENT_ID       110.0\n",
       "HIRE_YEAR          2008.0\n",
       "dtype: float64"
      ]
     },
     "execution_count": 46,
     "metadata": {},
     "output_type": "execute_result"
    }
   ],
   "source": [
    "emp_df.max(numeric_only=True)"
   ]
  },
  {
   "cell_type": "code",
   "execution_count": 47,
   "id": "952024a4",
   "metadata": {},
   "outputs": [
    {
     "data": {
      "text/plain": [
       "EMPLOYEE_ID         31.032241\n",
       "SALARY            3909.579731\n",
       "COMMISSION_PCT       0.115595\n",
       "MANAGER_ID          23.543561\n",
       "DEPARTMENT_ID       20.874464\n",
       "HIRE_YEAR            1.655372\n",
       "dtype: float64"
      ]
     },
     "execution_count": 47,
     "metadata": {},
     "output_type": "execute_result"
    }
   ],
   "source": [
    "emp_df.std(numeric_only=True)"
   ]
  },
  {
   "cell_type": "code",
   "execution_count": 48,
   "id": "4f5aea7e",
   "metadata": {},
   "outputs": [
    {
     "data": {
      "text/plain": [
       "EMPLOYEE_ID       9.630000e+02\n",
       "SALARY            1.528481e+07\n",
       "COMMISSION_PCT    1.336228e-02\n",
       "MANAGER_ID        5.542992e+02\n",
       "DEPARTMENT_ID     4.357433e+02\n",
       "HIRE_YEAR         2.740257e+00\n",
       "dtype: float64"
      ]
     },
     "execution_count": 48,
     "metadata": {},
     "output_type": "execute_result"
    }
   ],
   "source": [
    "emp_df.var(numeric_only=True)"
   ]
  },
  {
   "cell_type": "code",
   "execution_count": 49,
   "id": "e36070d5",
   "metadata": {},
   "outputs": [
    {
     "data": {
      "text/plain": [
       "EMPLOYEE_ID        126.5\n",
       "SALARY            3100.0\n",
       "COMMISSION_PCT       0.0\n",
       "MANAGER_ID         108.0\n",
       "DEPARTMENT_ID       50.0\n",
       "HIRE_YEAR         2005.0\n",
       "Name: 0.25, dtype: float64"
      ]
     },
     "execution_count": 49,
     "metadata": {},
     "output_type": "execute_result"
    }
   ],
   "source": [
    "emp_df.quantile(0.25, numeric_only=True)"
   ]
  },
  {
   "cell_type": "code",
   "execution_count": 50,
   "id": "c58fb667",
   "metadata": {},
   "outputs": [
    {
     "data": {
      "text/html": [
       "<div>\n",
       "<style scoped>\n",
       "    .dataframe tbody tr th:only-of-type {\n",
       "        vertical-align: middle;\n",
       "    }\n",
       "\n",
       "    .dataframe tbody tr th {\n",
       "        vertical-align: top;\n",
       "    }\n",
       "\n",
       "    .dataframe thead th {\n",
       "        text-align: right;\n",
       "    }\n",
       "</style>\n",
       "<table border=\"1\" class=\"dataframe\">\n",
       "  <thead>\n",
       "    <tr style=\"text-align: right;\">\n",
       "      <th></th>\n",
       "      <th>EMPLOYEE_ID</th>\n",
       "      <th>FIRST_NAME</th>\n",
       "      <th>LAST_NAME</th>\n",
       "      <th>EMAIL</th>\n",
       "      <th>PHONE_NUMBER</th>\n",
       "      <th>HIRE_DATE</th>\n",
       "      <th>JOB_ID</th>\n",
       "      <th>SALARY</th>\n",
       "      <th>COMMISSION_PCT</th>\n",
       "      <th>MANAGER_ID</th>\n",
       "      <th>DEPARTMENT_ID</th>\n",
       "      <th>HIRE_YEAR</th>\n",
       "    </tr>\n",
       "  </thead>\n",
       "  <tbody>\n",
       "    <tr>\n",
       "      <th>0</th>\n",
       "      <td>100</td>\n",
       "      <td>Steven</td>\n",
       "      <td>King</td>\n",
       "      <td>SKING</td>\n",
       "      <td>515.123.4567</td>\n",
       "      <td>2003-06-17</td>\n",
       "      <td>AD_PRES</td>\n",
       "      <td>24000</td>\n",
       "      <td>0.0</td>\n",
       "      <td>0</td>\n",
       "      <td>90</td>\n",
       "      <td>2003</td>\n",
       "    </tr>\n",
       "    <tr>\n",
       "      <th>1</th>\n",
       "      <td>101</td>\n",
       "      <td>Neena</td>\n",
       "      <td>Kochhar</td>\n",
       "      <td>NKOCHHAR</td>\n",
       "      <td>515.123.4568</td>\n",
       "      <td>2005-09-21</td>\n",
       "      <td>AD_VP</td>\n",
       "      <td>17000</td>\n",
       "      <td>0.0</td>\n",
       "      <td>100</td>\n",
       "      <td>90</td>\n",
       "      <td>2005</td>\n",
       "    </tr>\n",
       "    <tr>\n",
       "      <th>2</th>\n",
       "      <td>102</td>\n",
       "      <td>Lex</td>\n",
       "      <td>De Haan</td>\n",
       "      <td>LDEHAAN</td>\n",
       "      <td>515.123.4569</td>\n",
       "      <td>2001-01-13</td>\n",
       "      <td>AD_VP</td>\n",
       "      <td>17000</td>\n",
       "      <td>0.0</td>\n",
       "      <td>100</td>\n",
       "      <td>90</td>\n",
       "      <td>2001</td>\n",
       "    </tr>\n",
       "    <tr>\n",
       "      <th>3</th>\n",
       "      <td>103</td>\n",
       "      <td>Alexander</td>\n",
       "      <td>Hunold</td>\n",
       "      <td>AHUNOLD</td>\n",
       "      <td>590.423.4567</td>\n",
       "      <td>2006-01-03</td>\n",
       "      <td>IT_PROG</td>\n",
       "      <td>9000</td>\n",
       "      <td>0.0</td>\n",
       "      <td>102</td>\n",
       "      <td>60</td>\n",
       "      <td>2006</td>\n",
       "    </tr>\n",
       "    <tr>\n",
       "      <th>4</th>\n",
       "      <td>104</td>\n",
       "      <td>Bruce</td>\n",
       "      <td>Ernst</td>\n",
       "      <td>BERNST</td>\n",
       "      <td>590.423.4568</td>\n",
       "      <td>2007-05-21</td>\n",
       "      <td>IT_PROG</td>\n",
       "      <td>6000</td>\n",
       "      <td>0.0</td>\n",
       "      <td>103</td>\n",
       "      <td>60</td>\n",
       "      <td>2007</td>\n",
       "    </tr>\n",
       "  </tbody>\n",
       "</table>\n",
       "</div>"
      ],
      "text/plain": [
       "   EMPLOYEE_ID FIRST_NAME LAST_NAME     EMAIL  PHONE_NUMBER  HIRE_DATE  \\\n",
       "0          100     Steven      King     SKING  515.123.4567 2003-06-17   \n",
       "1          101      Neena   Kochhar  NKOCHHAR  515.123.4568 2005-09-21   \n",
       "2          102        Lex   De Haan   LDEHAAN  515.123.4569 2001-01-13   \n",
       "3          103  Alexander    Hunold   AHUNOLD  590.423.4567 2006-01-03   \n",
       "4          104      Bruce     Ernst    BERNST  590.423.4568 2007-05-21   \n",
       "\n",
       "    JOB_ID  SALARY  COMMISSION_PCT  MANAGER_ID  DEPARTMENT_ID  HIRE_YEAR  \n",
       "0  AD_PRES   24000             0.0           0             90       2003  \n",
       "1    AD_VP   17000             0.0         100             90       2005  \n",
       "2    AD_VP   17000             0.0         100             90       2001  \n",
       "3  IT_PROG    9000             0.0         102             60       2006  \n",
       "4  IT_PROG    6000             0.0         103             60       2007  "
      ]
     },
     "execution_count": 50,
     "metadata": {},
     "output_type": "execute_result"
    }
   ],
   "source": [
    "emp_df.head()"
   ]
  },
  {
   "cell_type": "code",
   "execution_count": 51,
   "id": "dc6e7b0f",
   "metadata": {},
   "outputs": [
    {
     "data": {
      "text/html": [
       "<div>\n",
       "<style scoped>\n",
       "    .dataframe tbody tr th:only-of-type {\n",
       "        vertical-align: middle;\n",
       "    }\n",
       "\n",
       "    .dataframe tbody tr th {\n",
       "        vertical-align: top;\n",
       "    }\n",
       "\n",
       "    .dataframe thead th {\n",
       "        text-align: right;\n",
       "    }\n",
       "</style>\n",
       "<table border=\"1\" class=\"dataframe\">\n",
       "  <thead>\n",
       "    <tr style=\"text-align: right;\">\n",
       "      <th></th>\n",
       "      <th>EMPLOYEE_ID</th>\n",
       "      <th>FIRST_NAME</th>\n",
       "      <th>LAST_NAME</th>\n",
       "      <th>EMAIL</th>\n",
       "      <th>PHONE_NUMBER</th>\n",
       "      <th>HIRE_DATE</th>\n",
       "      <th>JOB_ID</th>\n",
       "      <th>SALARY</th>\n",
       "      <th>COMMISSION_PCT</th>\n",
       "      <th>MANAGER_ID</th>\n",
       "      <th>DEPARTMENT_ID</th>\n",
       "      <th>HIRE_YEAR</th>\n",
       "    </tr>\n",
       "  </thead>\n",
       "  <tbody>\n",
       "    <tr>\n",
       "      <th>0</th>\n",
       "      <td>100</td>\n",
       "      <td>Steven</td>\n",
       "      <td>King</td>\n",
       "      <td>SKING</td>\n",
       "      <td>515.123.4567</td>\n",
       "      <td>2003-06-17</td>\n",
       "      <td>AD_PRES</td>\n",
       "      <td>24000</td>\n",
       "      <td>0.0</td>\n",
       "      <td>0</td>\n",
       "      <td>90</td>\n",
       "      <td>2003</td>\n",
       "    </tr>\n",
       "    <tr>\n",
       "      <th>1</th>\n",
       "      <td>101</td>\n",
       "      <td>Neena</td>\n",
       "      <td>Kochhar</td>\n",
       "      <td>NKOCHHAR</td>\n",
       "      <td>515.123.4568</td>\n",
       "      <td>2005-09-21</td>\n",
       "      <td>AD_VP</td>\n",
       "      <td>17000</td>\n",
       "      <td>0.0</td>\n",
       "      <td>100</td>\n",
       "      <td>90</td>\n",
       "      <td>2005</td>\n",
       "    </tr>\n",
       "    <tr>\n",
       "      <th>2</th>\n",
       "      <td>102</td>\n",
       "      <td>Lex</td>\n",
       "      <td>De Haan</td>\n",
       "      <td>LDEHAAN</td>\n",
       "      <td>515.123.4569</td>\n",
       "      <td>2001-01-13</td>\n",
       "      <td>AD_VP</td>\n",
       "      <td>17000</td>\n",
       "      <td>0.0</td>\n",
       "      <td>100</td>\n",
       "      <td>90</td>\n",
       "      <td>2001</td>\n",
       "    </tr>\n",
       "    <tr>\n",
       "      <th>3</th>\n",
       "      <td>103</td>\n",
       "      <td>Alexander</td>\n",
       "      <td>Hunold</td>\n",
       "      <td>AHUNOLD</td>\n",
       "      <td>590.423.4567</td>\n",
       "      <td>2006-01-03</td>\n",
       "      <td>IT_PROG</td>\n",
       "      <td>9000</td>\n",
       "      <td>0.0</td>\n",
       "      <td>102</td>\n",
       "      <td>60</td>\n",
       "      <td>2006</td>\n",
       "    </tr>\n",
       "    <tr>\n",
       "      <th>4</th>\n",
       "      <td>104</td>\n",
       "      <td>Bruce</td>\n",
       "      <td>Ernst</td>\n",
       "      <td>BERNST</td>\n",
       "      <td>590.423.4568</td>\n",
       "      <td>2007-05-21</td>\n",
       "      <td>IT_PROG</td>\n",
       "      <td>6000</td>\n",
       "      <td>0.0</td>\n",
       "      <td>103</td>\n",
       "      <td>60</td>\n",
       "      <td>2007</td>\n",
       "    </tr>\n",
       "    <tr>\n",
       "      <th>...</th>\n",
       "      <td>...</td>\n",
       "      <td>...</td>\n",
       "      <td>...</td>\n",
       "      <td>...</td>\n",
       "      <td>...</td>\n",
       "      <td>...</td>\n",
       "      <td>...</td>\n",
       "      <td>...</td>\n",
       "      <td>...</td>\n",
       "      <td>...</td>\n",
       "      <td>...</td>\n",
       "      <td>...</td>\n",
       "    </tr>\n",
       "    <tr>\n",
       "      <th>102</th>\n",
       "      <td>202</td>\n",
       "      <td>Pat</td>\n",
       "      <td>Fay</td>\n",
       "      <td>PFAY</td>\n",
       "      <td>603.123.6666</td>\n",
       "      <td>2005-08-17</td>\n",
       "      <td>MK_REP</td>\n",
       "      <td>6000</td>\n",
       "      <td>0.0</td>\n",
       "      <td>201</td>\n",
       "      <td>20</td>\n",
       "      <td>2005</td>\n",
       "    </tr>\n",
       "    <tr>\n",
       "      <th>103</th>\n",
       "      <td>203</td>\n",
       "      <td>Susan</td>\n",
       "      <td>Mavris</td>\n",
       "      <td>SMAVRIS</td>\n",
       "      <td>515.123.7777</td>\n",
       "      <td>2002-06-07</td>\n",
       "      <td>HR_REP</td>\n",
       "      <td>6500</td>\n",
       "      <td>0.0</td>\n",
       "      <td>101</td>\n",
       "      <td>40</td>\n",
       "      <td>2002</td>\n",
       "    </tr>\n",
       "    <tr>\n",
       "      <th>104</th>\n",
       "      <td>204</td>\n",
       "      <td>Hermann</td>\n",
       "      <td>Baer</td>\n",
       "      <td>HBAER</td>\n",
       "      <td>515.123.8888</td>\n",
       "      <td>2002-06-07</td>\n",
       "      <td>PR_REP</td>\n",
       "      <td>10000</td>\n",
       "      <td>0.0</td>\n",
       "      <td>101</td>\n",
       "      <td>70</td>\n",
       "      <td>2002</td>\n",
       "    </tr>\n",
       "    <tr>\n",
       "      <th>105</th>\n",
       "      <td>205</td>\n",
       "      <td>Shelley</td>\n",
       "      <td>Higgins</td>\n",
       "      <td>SHIGGINS</td>\n",
       "      <td>515.123.8080</td>\n",
       "      <td>2002-06-07</td>\n",
       "      <td>AC_MGR</td>\n",
       "      <td>12008</td>\n",
       "      <td>0.0</td>\n",
       "      <td>101</td>\n",
       "      <td>110</td>\n",
       "      <td>2002</td>\n",
       "    </tr>\n",
       "    <tr>\n",
       "      <th>106</th>\n",
       "      <td>206</td>\n",
       "      <td>William</td>\n",
       "      <td>Gietz</td>\n",
       "      <td>WGIETZ</td>\n",
       "      <td>515.123.8181</td>\n",
       "      <td>2002-06-07</td>\n",
       "      <td>AC_ACCOUNT</td>\n",
       "      <td>8300</td>\n",
       "      <td>0.0</td>\n",
       "      <td>205</td>\n",
       "      <td>110</td>\n",
       "      <td>2002</td>\n",
       "    </tr>\n",
       "  </tbody>\n",
       "</table>\n",
       "<p>107 rows × 12 columns</p>\n",
       "</div>"
      ],
      "text/plain": [
       "     EMPLOYEE_ID FIRST_NAME LAST_NAME     EMAIL  PHONE_NUMBER  HIRE_DATE  \\\n",
       "0            100     Steven      King     SKING  515.123.4567 2003-06-17   \n",
       "1            101      Neena   Kochhar  NKOCHHAR  515.123.4568 2005-09-21   \n",
       "2            102        Lex   De Haan   LDEHAAN  515.123.4569 2001-01-13   \n",
       "3            103  Alexander    Hunold   AHUNOLD  590.423.4567 2006-01-03   \n",
       "4            104      Bruce     Ernst    BERNST  590.423.4568 2007-05-21   \n",
       "..           ...        ...       ...       ...           ...        ...   \n",
       "102          202        Pat       Fay      PFAY  603.123.6666 2005-08-17   \n",
       "103          203      Susan    Mavris   SMAVRIS  515.123.7777 2002-06-07   \n",
       "104          204    Hermann      Baer     HBAER  515.123.8888 2002-06-07   \n",
       "105          205    Shelley   Higgins  SHIGGINS  515.123.8080 2002-06-07   \n",
       "106          206    William     Gietz    WGIETZ  515.123.8181 2002-06-07   \n",
       "\n",
       "         JOB_ID  SALARY  COMMISSION_PCT  MANAGER_ID  DEPARTMENT_ID  HIRE_YEAR  \n",
       "0       AD_PRES   24000             0.0           0             90       2003  \n",
       "1         AD_VP   17000             0.0         100             90       2005  \n",
       "2         AD_VP   17000             0.0         100             90       2001  \n",
       "3       IT_PROG    9000             0.0         102             60       2006  \n",
       "4       IT_PROG    6000             0.0         103             60       2007  \n",
       "..          ...     ...             ...         ...            ...        ...  \n",
       "102      MK_REP    6000             0.0         201             20       2005  \n",
       "103      HR_REP    6500             0.0         101             40       2002  \n",
       "104      PR_REP   10000             0.0         101             70       2002  \n",
       "105      AC_MGR   12008             0.0         101            110       2002  \n",
       "106  AC_ACCOUNT    8300             0.0         205            110       2002  \n",
       "\n",
       "[107 rows x 12 columns]"
      ]
     },
     "execution_count": 51,
     "metadata": {},
     "output_type": "execute_result"
    }
   ],
   "source": [
    "emp_df.sort_values(by='EMPLOYEE_ID')"
   ]
  },
  {
   "cell_type": "code",
   "execution_count": 52,
   "id": "d7e241c3",
   "metadata": {},
   "outputs": [
    {
     "data": {
      "text/html": [
       "<div>\n",
       "<style scoped>\n",
       "    .dataframe tbody tr th:only-of-type {\n",
       "        vertical-align: middle;\n",
       "    }\n",
       "\n",
       "    .dataframe tbody tr th {\n",
       "        vertical-align: top;\n",
       "    }\n",
       "\n",
       "    .dataframe thead th {\n",
       "        text-align: right;\n",
       "    }\n",
       "</style>\n",
       "<table border=\"1\" class=\"dataframe\">\n",
       "  <thead>\n",
       "    <tr style=\"text-align: right;\">\n",
       "      <th></th>\n",
       "      <th>EMPLOYEE_ID</th>\n",
       "      <th>FIRST_NAME</th>\n",
       "      <th>LAST_NAME</th>\n",
       "      <th>EMAIL</th>\n",
       "      <th>PHONE_NUMBER</th>\n",
       "      <th>HIRE_DATE</th>\n",
       "      <th>JOB_ID</th>\n",
       "      <th>SALARY</th>\n",
       "      <th>COMMISSION_PCT</th>\n",
       "      <th>MANAGER_ID</th>\n",
       "      <th>DEPARTMENT_ID</th>\n",
       "      <th>HIRE_YEAR</th>\n",
       "    </tr>\n",
       "  </thead>\n",
       "  <tbody>\n",
       "    <tr>\n",
       "      <th>73</th>\n",
       "      <td>173</td>\n",
       "      <td>Sundita</td>\n",
       "      <td>Kumar</td>\n",
       "      <td>SKUMAR</td>\n",
       "      <td>011.44.1343.329268</td>\n",
       "      <td>2008-04-21</td>\n",
       "      <td>SA_REP</td>\n",
       "      <td>6100</td>\n",
       "      <td>0.1</td>\n",
       "      <td>148</td>\n",
       "      <td>80</td>\n",
       "      <td>2008</td>\n",
       "    </tr>\n",
       "    <tr>\n",
       "      <th>67</th>\n",
       "      <td>167</td>\n",
       "      <td>Amit</td>\n",
       "      <td>Banda</td>\n",
       "      <td>ABANDA</td>\n",
       "      <td>011.44.1346.729268</td>\n",
       "      <td>2008-04-21</td>\n",
       "      <td>SA_REP</td>\n",
       "      <td>6200</td>\n",
       "      <td>0.1</td>\n",
       "      <td>147</td>\n",
       "      <td>80</td>\n",
       "      <td>2008</td>\n",
       "    </tr>\n",
       "    <tr>\n",
       "      <th>66</th>\n",
       "      <td>166</td>\n",
       "      <td>Sundar</td>\n",
       "      <td>Ande</td>\n",
       "      <td>SANDE</td>\n",
       "      <td>011.44.1346.629268</td>\n",
       "      <td>2008-03-24</td>\n",
       "      <td>SA_REP</td>\n",
       "      <td>6400</td>\n",
       "      <td>0.1</td>\n",
       "      <td>147</td>\n",
       "      <td>80</td>\n",
       "      <td>2008</td>\n",
       "    </tr>\n",
       "    <tr>\n",
       "      <th>28</th>\n",
       "      <td>128</td>\n",
       "      <td>Steven</td>\n",
       "      <td>Markle</td>\n",
       "      <td>SMARKLE</td>\n",
       "      <td>650.124.1434</td>\n",
       "      <td>2008-03-08</td>\n",
       "      <td>ST_CLERK</td>\n",
       "      <td>2200</td>\n",
       "      <td>0.0</td>\n",
       "      <td>120</td>\n",
       "      <td>50</td>\n",
       "      <td>2008</td>\n",
       "    </tr>\n",
       "    <tr>\n",
       "      <th>65</th>\n",
       "      <td>165</td>\n",
       "      <td>David</td>\n",
       "      <td>Lee</td>\n",
       "      <td>DLEE</td>\n",
       "      <td>011.44.1346.529268</td>\n",
       "      <td>2008-02-23</td>\n",
       "      <td>SA_REP</td>\n",
       "      <td>6800</td>\n",
       "      <td>0.1</td>\n",
       "      <td>147</td>\n",
       "      <td>80</td>\n",
       "      <td>2008</td>\n",
       "    </tr>\n",
       "    <tr>\n",
       "      <th>...</th>\n",
       "      <td>...</td>\n",
       "      <td>...</td>\n",
       "      <td>...</td>\n",
       "      <td>...</td>\n",
       "      <td>...</td>\n",
       "      <td>...</td>\n",
       "      <td>...</td>\n",
       "      <td>...</td>\n",
       "      <td>...</td>\n",
       "      <td>...</td>\n",
       "      <td>...</td>\n",
       "      <td>...</td>\n",
       "    </tr>\n",
       "    <tr>\n",
       "      <th>103</th>\n",
       "      <td>203</td>\n",
       "      <td>Susan</td>\n",
       "      <td>Mavris</td>\n",
       "      <td>SMAVRIS</td>\n",
       "      <td>515.123.7777</td>\n",
       "      <td>2002-06-07</td>\n",
       "      <td>HR_REP</td>\n",
       "      <td>6500</td>\n",
       "      <td>0.0</td>\n",
       "      <td>101</td>\n",
       "      <td>40</td>\n",
       "      <td>2002</td>\n",
       "    </tr>\n",
       "    <tr>\n",
       "      <th>104</th>\n",
       "      <td>204</td>\n",
       "      <td>Hermann</td>\n",
       "      <td>Baer</td>\n",
       "      <td>HBAER</td>\n",
       "      <td>515.123.8888</td>\n",
       "      <td>2002-06-07</td>\n",
       "      <td>PR_REP</td>\n",
       "      <td>10000</td>\n",
       "      <td>0.0</td>\n",
       "      <td>101</td>\n",
       "      <td>70</td>\n",
       "      <td>2002</td>\n",
       "    </tr>\n",
       "    <tr>\n",
       "      <th>105</th>\n",
       "      <td>205</td>\n",
       "      <td>Shelley</td>\n",
       "      <td>Higgins</td>\n",
       "      <td>SHIGGINS</td>\n",
       "      <td>515.123.8080</td>\n",
       "      <td>2002-06-07</td>\n",
       "      <td>AC_MGR</td>\n",
       "      <td>12008</td>\n",
       "      <td>0.0</td>\n",
       "      <td>101</td>\n",
       "      <td>110</td>\n",
       "      <td>2002</td>\n",
       "    </tr>\n",
       "    <tr>\n",
       "      <th>106</th>\n",
       "      <td>206</td>\n",
       "      <td>William</td>\n",
       "      <td>Gietz</td>\n",
       "      <td>WGIETZ</td>\n",
       "      <td>515.123.8181</td>\n",
       "      <td>2002-06-07</td>\n",
       "      <td>AC_ACCOUNT</td>\n",
       "      <td>8300</td>\n",
       "      <td>0.0</td>\n",
       "      <td>205</td>\n",
       "      <td>110</td>\n",
       "      <td>2002</td>\n",
       "    </tr>\n",
       "    <tr>\n",
       "      <th>2</th>\n",
       "      <td>102</td>\n",
       "      <td>Lex</td>\n",
       "      <td>De Haan</td>\n",
       "      <td>LDEHAAN</td>\n",
       "      <td>515.123.4569</td>\n",
       "      <td>2001-01-13</td>\n",
       "      <td>AD_VP</td>\n",
       "      <td>17000</td>\n",
       "      <td>0.0</td>\n",
       "      <td>100</td>\n",
       "      <td>90</td>\n",
       "      <td>2001</td>\n",
       "    </tr>\n",
       "  </tbody>\n",
       "</table>\n",
       "<p>107 rows × 12 columns</p>\n",
       "</div>"
      ],
      "text/plain": [
       "     EMPLOYEE_ID FIRST_NAME LAST_NAME     EMAIL        PHONE_NUMBER  \\\n",
       "73           173    Sundita     Kumar    SKUMAR  011.44.1343.329268   \n",
       "67           167       Amit     Banda    ABANDA  011.44.1346.729268   \n",
       "66           166     Sundar      Ande     SANDE  011.44.1346.629268   \n",
       "28           128     Steven    Markle   SMARKLE        650.124.1434   \n",
       "65           165      David       Lee      DLEE  011.44.1346.529268   \n",
       "..           ...        ...       ...       ...                 ...   \n",
       "103          203      Susan    Mavris   SMAVRIS        515.123.7777   \n",
       "104          204    Hermann      Baer     HBAER        515.123.8888   \n",
       "105          205    Shelley   Higgins  SHIGGINS        515.123.8080   \n",
       "106          206    William     Gietz    WGIETZ        515.123.8181   \n",
       "2            102        Lex   De Haan   LDEHAAN        515.123.4569   \n",
       "\n",
       "     HIRE_DATE      JOB_ID  SALARY  COMMISSION_PCT  MANAGER_ID  DEPARTMENT_ID  \\\n",
       "73  2008-04-21      SA_REP    6100             0.1         148             80   \n",
       "67  2008-04-21      SA_REP    6200             0.1         147             80   \n",
       "66  2008-03-24      SA_REP    6400             0.1         147             80   \n",
       "28  2008-03-08    ST_CLERK    2200             0.0         120             50   \n",
       "65  2008-02-23      SA_REP    6800             0.1         147             80   \n",
       "..         ...         ...     ...             ...         ...            ...   \n",
       "103 2002-06-07      HR_REP    6500             0.0         101             40   \n",
       "104 2002-06-07      PR_REP   10000             0.0         101             70   \n",
       "105 2002-06-07      AC_MGR   12008             0.0         101            110   \n",
       "106 2002-06-07  AC_ACCOUNT    8300             0.0         205            110   \n",
       "2   2001-01-13       AD_VP   17000             0.0         100             90   \n",
       "\n",
       "     HIRE_YEAR  \n",
       "73        2008  \n",
       "67        2008  \n",
       "66        2008  \n",
       "28        2008  \n",
       "65        2008  \n",
       "..         ...  \n",
       "103       2002  \n",
       "104       2002  \n",
       "105       2002  \n",
       "106       2002  \n",
       "2         2001  \n",
       "\n",
       "[107 rows x 12 columns]"
      ]
     },
     "execution_count": 52,
     "metadata": {},
     "output_type": "execute_result"
    }
   ],
   "source": [
    "emp_df.sort_values('HIRE_DATE', ascending=False)"
   ]
  },
  {
   "cell_type": "code",
   "execution_count": 53,
   "id": "cd0234ed",
   "metadata": {},
   "outputs": [
    {
     "data": {
      "text/html": [
       "<div>\n",
       "<style scoped>\n",
       "    .dataframe tbody tr th:only-of-type {\n",
       "        vertical-align: middle;\n",
       "    }\n",
       "\n",
       "    .dataframe tbody tr th {\n",
       "        vertical-align: top;\n",
       "    }\n",
       "\n",
       "    .dataframe thead th {\n",
       "        text-align: right;\n",
       "    }\n",
       "</style>\n",
       "<table border=\"1\" class=\"dataframe\">\n",
       "  <thead>\n",
       "    <tr style=\"text-align: right;\">\n",
       "      <th></th>\n",
       "      <th>EMPLOYEE_ID</th>\n",
       "      <th>FIRST_NAME</th>\n",
       "      <th>LAST_NAME</th>\n",
       "      <th>SALARY</th>\n",
       "    </tr>\n",
       "  </thead>\n",
       "  <tbody>\n",
       "    <tr>\n",
       "      <th>0</th>\n",
       "      <td>100</td>\n",
       "      <td>Steven</td>\n",
       "      <td>King</td>\n",
       "      <td>24000</td>\n",
       "    </tr>\n",
       "    <tr>\n",
       "      <th>1</th>\n",
       "      <td>101</td>\n",
       "      <td>Neena</td>\n",
       "      <td>Kochhar</td>\n",
       "      <td>17000</td>\n",
       "    </tr>\n",
       "    <tr>\n",
       "      <th>2</th>\n",
       "      <td>102</td>\n",
       "      <td>Lex</td>\n",
       "      <td>De Haan</td>\n",
       "      <td>17000</td>\n",
       "    </tr>\n",
       "    <tr>\n",
       "      <th>3</th>\n",
       "      <td>103</td>\n",
       "      <td>Alexander</td>\n",
       "      <td>Hunold</td>\n",
       "      <td>9000</td>\n",
       "    </tr>\n",
       "    <tr>\n",
       "      <th>4</th>\n",
       "      <td>104</td>\n",
       "      <td>Bruce</td>\n",
       "      <td>Ernst</td>\n",
       "      <td>6000</td>\n",
       "    </tr>\n",
       "  </tbody>\n",
       "</table>\n",
       "</div>"
      ],
      "text/plain": [
       "   EMPLOYEE_ID FIRST_NAME LAST_NAME  SALARY\n",
       "0          100     Steven      King   24000\n",
       "1          101      Neena   Kochhar   17000\n",
       "2          102        Lex   De Haan   17000\n",
       "3          103  Alexander    Hunold    9000\n",
       "4          104      Bruce     Ernst    6000"
      ]
     },
     "execution_count": 53,
     "metadata": {},
     "output_type": "execute_result"
    }
   ],
   "source": [
    "df = emp_df.iloc[:,[0,1,2,7]]\n",
    "df.head()"
   ]
  },
  {
   "cell_type": "code",
   "execution_count": 54,
   "id": "c0f1064d",
   "metadata": {},
   "outputs": [
    {
     "data": {
      "text/html": [
       "<div>\n",
       "<style scoped>\n",
       "    .dataframe tbody tr th:only-of-type {\n",
       "        vertical-align: middle;\n",
       "    }\n",
       "\n",
       "    .dataframe tbody tr th {\n",
       "        vertical-align: top;\n",
       "    }\n",
       "\n",
       "    .dataframe thead th {\n",
       "        text-align: right;\n",
       "    }\n",
       "</style>\n",
       "<table border=\"1\" class=\"dataframe\">\n",
       "  <thead>\n",
       "    <tr style=\"text-align: right;\">\n",
       "      <th></th>\n",
       "      <th>EMPLOYEE_ID</th>\n",
       "      <th>FIRST_NAME</th>\n",
       "      <th>LAST_NAME</th>\n",
       "      <th>SALARY</th>\n",
       "    </tr>\n",
       "  </thead>\n",
       "  <tbody>\n",
       "    <tr>\n",
       "      <th>32</th>\n",
       "      <td>132</td>\n",
       "      <td>TJ</td>\n",
       "      <td>Olson</td>\n",
       "      <td>2100</td>\n",
       "    </tr>\n",
       "    <tr>\n",
       "      <th>36</th>\n",
       "      <td>136</td>\n",
       "      <td>Hazel</td>\n",
       "      <td>Philtanker</td>\n",
       "      <td>2200</td>\n",
       "    </tr>\n",
       "    <tr>\n",
       "      <th>28</th>\n",
       "      <td>128</td>\n",
       "      <td>Steven</td>\n",
       "      <td>Markle</td>\n",
       "      <td>2200</td>\n",
       "    </tr>\n",
       "    <tr>\n",
       "      <th>27</th>\n",
       "      <td>127</td>\n",
       "      <td>James</td>\n",
       "      <td>Landry</td>\n",
       "      <td>2400</td>\n",
       "    </tr>\n",
       "    <tr>\n",
       "      <th>35</th>\n",
       "      <td>135</td>\n",
       "      <td>Ki</td>\n",
       "      <td>Gee</td>\n",
       "      <td>2400</td>\n",
       "    </tr>\n",
       "    <tr>\n",
       "      <th>...</th>\n",
       "      <td>...</td>\n",
       "      <td>...</td>\n",
       "      <td>...</td>\n",
       "      <td>...</td>\n",
       "    </tr>\n",
       "    <tr>\n",
       "      <th>46</th>\n",
       "      <td>146</td>\n",
       "      <td>Karen</td>\n",
       "      <td>Partners</td>\n",
       "      <td>13500</td>\n",
       "    </tr>\n",
       "    <tr>\n",
       "      <th>45</th>\n",
       "      <td>145</td>\n",
       "      <td>John</td>\n",
       "      <td>Russell</td>\n",
       "      <td>14000</td>\n",
       "    </tr>\n",
       "    <tr>\n",
       "      <th>1</th>\n",
       "      <td>101</td>\n",
       "      <td>Neena</td>\n",
       "      <td>Kochhar</td>\n",
       "      <td>17000</td>\n",
       "    </tr>\n",
       "    <tr>\n",
       "      <th>2</th>\n",
       "      <td>102</td>\n",
       "      <td>Lex</td>\n",
       "      <td>De Haan</td>\n",
       "      <td>17000</td>\n",
       "    </tr>\n",
       "    <tr>\n",
       "      <th>0</th>\n",
       "      <td>100</td>\n",
       "      <td>Steven</td>\n",
       "      <td>King</td>\n",
       "      <td>24000</td>\n",
       "    </tr>\n",
       "  </tbody>\n",
       "</table>\n",
       "<p>107 rows × 4 columns</p>\n",
       "</div>"
      ],
      "text/plain": [
       "    EMPLOYEE_ID FIRST_NAME   LAST_NAME  SALARY\n",
       "32          132         TJ       Olson    2100\n",
       "36          136      Hazel  Philtanker    2200\n",
       "28          128     Steven      Markle    2200\n",
       "27          127      James      Landry    2400\n",
       "35          135         Ki         Gee    2400\n",
       "..          ...        ...         ...     ...\n",
       "46          146      Karen    Partners   13500\n",
       "45          145       John     Russell   14000\n",
       "1           101      Neena     Kochhar   17000\n",
       "2           102        Lex     De Haan   17000\n",
       "0           100     Steven        King   24000\n",
       "\n",
       "[107 rows x 4 columns]"
      ]
     },
     "execution_count": 54,
     "metadata": {},
     "output_type": "execute_result"
    }
   ],
   "source": [
    "df.sort_values(by=['SALARY','LAST_NAME'],ascending=[True,False])"
   ]
  },
  {
   "cell_type": "code",
   "execution_count": 55,
   "id": "540fecd2",
   "metadata": {},
   "outputs": [
    {
     "data": {
      "text/plain": [
       "HIRE_YEAR\n",
       "2005    29\n",
       "2006    24\n",
       "2007    19\n",
       "2008    11\n",
       "2004    10\n",
       "2002     7\n",
       "2003     6\n",
       "2001     1\n",
       "dtype: int64"
      ]
     },
     "execution_count": 55,
     "metadata": {},
     "output_type": "execute_result"
    }
   ],
   "source": [
    "#emp_df.HIRE_YEAR.value_counts()\n",
    "emp_df.value_counts('HIRE_YEAR')"
   ]
  },
  {
   "cell_type": "code",
   "execution_count": 56,
   "id": "4b8cc2ee",
   "metadata": {},
   "outputs": [
    {
     "data": {
      "text/plain": [
       "2005    29\n",
       "2006    24\n",
       "2007    19\n",
       "2008    11\n",
       "2004    10\n",
       "2002     7\n",
       "2003     6\n",
       "2001     1\n",
       "Name: HIRE_YEAR, dtype: int64"
      ]
     },
     "execution_count": 56,
     "metadata": {},
     "output_type": "execute_result"
    }
   ],
   "source": [
    "emp_df.HIRE_YEAR.value_counts()"
   ]
  },
  {
   "cell_type": "code",
   "execution_count": 57,
   "id": "2be58a3a",
   "metadata": {},
   "outputs": [
    {
     "ename": "KeyError",
     "evalue": "'DEPARTMENT_NAME'",
     "output_type": "error",
     "traceback": [
      "\u001b[0;31m---------------------------------------------------------------------------\u001b[0m",
      "\u001b[0;31mKeyError\u001b[0m                                  Traceback (most recent call last)",
      "Cell \u001b[0;32mIn[57], line 1\u001b[0m\n\u001b[0;32m----> 1\u001b[0m emp_df\u001b[38;5;241m.\u001b[39mvalue_counts([\u001b[38;5;124m'\u001b[39m\u001b[38;5;124mHIRE_YEAR\u001b[39m\u001b[38;5;124m'\u001b[39m, \u001b[38;5;124m'\u001b[39m\u001b[38;5;124mDEPARTMENT_NAME\u001b[39m\u001b[38;5;124m'\u001b[39m])\u001b[38;5;241m.\u001b[39mhead(\u001b[38;5;241m10\u001b[39m)\n",
      "File \u001b[0;32m~/anaconda3/lib/python3.11/site-packages/pandas/core/frame.py:7218\u001b[0m, in \u001b[0;36mDataFrame.value_counts\u001b[0;34m(self, subset, normalize, sort, ascending, dropna)\u001b[0m\n\u001b[1;32m   7215\u001b[0m \u001b[38;5;28;01mif\u001b[39;00m subset \u001b[38;5;129;01mis\u001b[39;00m \u001b[38;5;28;01mNone\u001b[39;00m:\n\u001b[1;32m   7216\u001b[0m     subset \u001b[38;5;241m=\u001b[39m \u001b[38;5;28mself\u001b[39m\u001b[38;5;241m.\u001b[39mcolumns\u001b[38;5;241m.\u001b[39mtolist()\n\u001b[0;32m-> 7218\u001b[0m counts \u001b[38;5;241m=\u001b[39m \u001b[38;5;28mself\u001b[39m\u001b[38;5;241m.\u001b[39mgroupby(subset, dropna\u001b[38;5;241m=\u001b[39mdropna)\u001b[38;5;241m.\u001b[39mgrouper\u001b[38;5;241m.\u001b[39msize()\n\u001b[1;32m   7220\u001b[0m \u001b[38;5;28;01mif\u001b[39;00m sort:\n\u001b[1;32m   7221\u001b[0m     counts \u001b[38;5;241m=\u001b[39m counts\u001b[38;5;241m.\u001b[39msort_values(ascending\u001b[38;5;241m=\u001b[39mascending)\n",
      "File \u001b[0;32m~/anaconda3/lib/python3.11/site-packages/pandas/core/frame.py:8402\u001b[0m, in \u001b[0;36mDataFrame.groupby\u001b[0;34m(self, by, axis, level, as_index, sort, group_keys, squeeze, observed, dropna)\u001b[0m\n\u001b[1;32m   8399\u001b[0m     \u001b[38;5;28;01mraise\u001b[39;00m \u001b[38;5;167;01mTypeError\u001b[39;00m(\u001b[38;5;124m\"\u001b[39m\u001b[38;5;124mYou have to supply one of \u001b[39m\u001b[38;5;124m'\u001b[39m\u001b[38;5;124mby\u001b[39m\u001b[38;5;124m'\u001b[39m\u001b[38;5;124m and \u001b[39m\u001b[38;5;124m'\u001b[39m\u001b[38;5;124mlevel\u001b[39m\u001b[38;5;124m'\u001b[39m\u001b[38;5;124m\"\u001b[39m)\n\u001b[1;32m   8400\u001b[0m axis \u001b[38;5;241m=\u001b[39m \u001b[38;5;28mself\u001b[39m\u001b[38;5;241m.\u001b[39m_get_axis_number(axis)\n\u001b[0;32m-> 8402\u001b[0m \u001b[38;5;28;01mreturn\u001b[39;00m DataFrameGroupBy(\n\u001b[1;32m   8403\u001b[0m     obj\u001b[38;5;241m=\u001b[39m\u001b[38;5;28mself\u001b[39m,\n\u001b[1;32m   8404\u001b[0m     keys\u001b[38;5;241m=\u001b[39mby,\n\u001b[1;32m   8405\u001b[0m     axis\u001b[38;5;241m=\u001b[39maxis,\n\u001b[1;32m   8406\u001b[0m     level\u001b[38;5;241m=\u001b[39mlevel,\n\u001b[1;32m   8407\u001b[0m     as_index\u001b[38;5;241m=\u001b[39mas_index,\n\u001b[1;32m   8408\u001b[0m     sort\u001b[38;5;241m=\u001b[39msort,\n\u001b[1;32m   8409\u001b[0m     group_keys\u001b[38;5;241m=\u001b[39mgroup_keys,\n\u001b[1;32m   8410\u001b[0m     squeeze\u001b[38;5;241m=\u001b[39msqueeze,\n\u001b[1;32m   8411\u001b[0m     observed\u001b[38;5;241m=\u001b[39mobserved,\n\u001b[1;32m   8412\u001b[0m     dropna\u001b[38;5;241m=\u001b[39mdropna,\n\u001b[1;32m   8413\u001b[0m )\n",
      "File \u001b[0;32m~/anaconda3/lib/python3.11/site-packages/pandas/core/groupby/groupby.py:965\u001b[0m, in \u001b[0;36mGroupBy.__init__\u001b[0;34m(self, obj, keys, axis, level, grouper, exclusions, selection, as_index, sort, group_keys, squeeze, observed, mutated, dropna)\u001b[0m\n\u001b[1;32m    962\u001b[0m \u001b[38;5;28;01mif\u001b[39;00m grouper \u001b[38;5;129;01mis\u001b[39;00m \u001b[38;5;28;01mNone\u001b[39;00m:\n\u001b[1;32m    963\u001b[0m     \u001b[38;5;28;01mfrom\u001b[39;00m \u001b[38;5;21;01mpandas\u001b[39;00m\u001b[38;5;21;01m.\u001b[39;00m\u001b[38;5;21;01mcore\u001b[39;00m\u001b[38;5;21;01m.\u001b[39;00m\u001b[38;5;21;01mgroupby\u001b[39;00m\u001b[38;5;21;01m.\u001b[39;00m\u001b[38;5;21;01mgrouper\u001b[39;00m \u001b[38;5;28;01mimport\u001b[39;00m get_grouper\n\u001b[0;32m--> 965\u001b[0m     grouper, exclusions, obj \u001b[38;5;241m=\u001b[39m get_grouper(\n\u001b[1;32m    966\u001b[0m         obj,\n\u001b[1;32m    967\u001b[0m         keys,\n\u001b[1;32m    968\u001b[0m         axis\u001b[38;5;241m=\u001b[39maxis,\n\u001b[1;32m    969\u001b[0m         level\u001b[38;5;241m=\u001b[39mlevel,\n\u001b[1;32m    970\u001b[0m         sort\u001b[38;5;241m=\u001b[39msort,\n\u001b[1;32m    971\u001b[0m         observed\u001b[38;5;241m=\u001b[39mobserved,\n\u001b[1;32m    972\u001b[0m         mutated\u001b[38;5;241m=\u001b[39m\u001b[38;5;28mself\u001b[39m\u001b[38;5;241m.\u001b[39mmutated,\n\u001b[1;32m    973\u001b[0m         dropna\u001b[38;5;241m=\u001b[39m\u001b[38;5;28mself\u001b[39m\u001b[38;5;241m.\u001b[39mdropna,\n\u001b[1;32m    974\u001b[0m     )\n\u001b[1;32m    976\u001b[0m \u001b[38;5;28mself\u001b[39m\u001b[38;5;241m.\u001b[39mobj \u001b[38;5;241m=\u001b[39m obj\n\u001b[1;32m    977\u001b[0m \u001b[38;5;28mself\u001b[39m\u001b[38;5;241m.\u001b[39maxis \u001b[38;5;241m=\u001b[39m obj\u001b[38;5;241m.\u001b[39m_get_axis_number(axis)\n",
      "File \u001b[0;32m~/anaconda3/lib/python3.11/site-packages/pandas/core/groupby/grouper.py:888\u001b[0m, in \u001b[0;36mget_grouper\u001b[0;34m(obj, key, axis, level, sort, observed, mutated, validate, dropna)\u001b[0m\n\u001b[1;32m    886\u001b[0m         in_axis, level, gpr \u001b[38;5;241m=\u001b[39m \u001b[38;5;28;01mFalse\u001b[39;00m, gpr, \u001b[38;5;28;01mNone\u001b[39;00m\n\u001b[1;32m    887\u001b[0m     \u001b[38;5;28;01melse\u001b[39;00m:\n\u001b[0;32m--> 888\u001b[0m         \u001b[38;5;28;01mraise\u001b[39;00m \u001b[38;5;167;01mKeyError\u001b[39;00m(gpr)\n\u001b[1;32m    889\u001b[0m \u001b[38;5;28;01melif\u001b[39;00m \u001b[38;5;28misinstance\u001b[39m(gpr, Grouper) \u001b[38;5;129;01mand\u001b[39;00m gpr\u001b[38;5;241m.\u001b[39mkey \u001b[38;5;129;01mis\u001b[39;00m \u001b[38;5;129;01mnot\u001b[39;00m \u001b[38;5;28;01mNone\u001b[39;00m:\n\u001b[1;32m    890\u001b[0m     \u001b[38;5;66;03m# Add key to exclusions\u001b[39;00m\n\u001b[1;32m    891\u001b[0m     exclusions\u001b[38;5;241m.\u001b[39madd(gpr\u001b[38;5;241m.\u001b[39mkey)\n",
      "\u001b[0;31mKeyError\u001b[0m: 'DEPARTMENT_NAME'"
     ]
    }
   ],
   "source": [
    "emp_df.value_counts(['HIRE_YEAR', 'DEPARTMENT_NAME']).head(10)"
   ]
  },
  {
   "cell_type": "code",
   "execution_count": 58,
   "id": "b80f0617",
   "metadata": {},
   "outputs": [
    {
     "ename": "KeyError",
     "evalue": "'DEPARTMENT_NAME'",
     "output_type": "error",
     "traceback": [
      "\u001b[0;31m---------------------------------------------------------------------------\u001b[0m",
      "\u001b[0;31mKeyError\u001b[0m                                  Traceback (most recent call last)",
      "Cell \u001b[0;32mIn[58], line 1\u001b[0m\n\u001b[0;32m----> 1\u001b[0m emp_df\u001b[38;5;241m.\u001b[39mvalue_counts([\u001b[38;5;124m'\u001b[39m\u001b[38;5;124mHIRE_YEAR\u001b[39m\u001b[38;5;124m'\u001b[39m, \u001b[38;5;124m'\u001b[39m\u001b[38;5;124mDEPARTMENT_NAME\u001b[39m\u001b[38;5;124m'\u001b[39m])\u001b[38;5;241m.\u001b[39mhead(\u001b[38;5;241m10\u001b[39m)\u001b[38;5;241m.\u001b[39mreset_index()\n",
      "File \u001b[0;32m~/anaconda3/lib/python3.11/site-packages/pandas/core/frame.py:7218\u001b[0m, in \u001b[0;36mDataFrame.value_counts\u001b[0;34m(self, subset, normalize, sort, ascending, dropna)\u001b[0m\n\u001b[1;32m   7215\u001b[0m \u001b[38;5;28;01mif\u001b[39;00m subset \u001b[38;5;129;01mis\u001b[39;00m \u001b[38;5;28;01mNone\u001b[39;00m:\n\u001b[1;32m   7216\u001b[0m     subset \u001b[38;5;241m=\u001b[39m \u001b[38;5;28mself\u001b[39m\u001b[38;5;241m.\u001b[39mcolumns\u001b[38;5;241m.\u001b[39mtolist()\n\u001b[0;32m-> 7218\u001b[0m counts \u001b[38;5;241m=\u001b[39m \u001b[38;5;28mself\u001b[39m\u001b[38;5;241m.\u001b[39mgroupby(subset, dropna\u001b[38;5;241m=\u001b[39mdropna)\u001b[38;5;241m.\u001b[39mgrouper\u001b[38;5;241m.\u001b[39msize()\n\u001b[1;32m   7220\u001b[0m \u001b[38;5;28;01mif\u001b[39;00m sort:\n\u001b[1;32m   7221\u001b[0m     counts \u001b[38;5;241m=\u001b[39m counts\u001b[38;5;241m.\u001b[39msort_values(ascending\u001b[38;5;241m=\u001b[39mascending)\n",
      "File \u001b[0;32m~/anaconda3/lib/python3.11/site-packages/pandas/core/frame.py:8402\u001b[0m, in \u001b[0;36mDataFrame.groupby\u001b[0;34m(self, by, axis, level, as_index, sort, group_keys, squeeze, observed, dropna)\u001b[0m\n\u001b[1;32m   8399\u001b[0m     \u001b[38;5;28;01mraise\u001b[39;00m \u001b[38;5;167;01mTypeError\u001b[39;00m(\u001b[38;5;124m\"\u001b[39m\u001b[38;5;124mYou have to supply one of \u001b[39m\u001b[38;5;124m'\u001b[39m\u001b[38;5;124mby\u001b[39m\u001b[38;5;124m'\u001b[39m\u001b[38;5;124m and \u001b[39m\u001b[38;5;124m'\u001b[39m\u001b[38;5;124mlevel\u001b[39m\u001b[38;5;124m'\u001b[39m\u001b[38;5;124m\"\u001b[39m)\n\u001b[1;32m   8400\u001b[0m axis \u001b[38;5;241m=\u001b[39m \u001b[38;5;28mself\u001b[39m\u001b[38;5;241m.\u001b[39m_get_axis_number(axis)\n\u001b[0;32m-> 8402\u001b[0m \u001b[38;5;28;01mreturn\u001b[39;00m DataFrameGroupBy(\n\u001b[1;32m   8403\u001b[0m     obj\u001b[38;5;241m=\u001b[39m\u001b[38;5;28mself\u001b[39m,\n\u001b[1;32m   8404\u001b[0m     keys\u001b[38;5;241m=\u001b[39mby,\n\u001b[1;32m   8405\u001b[0m     axis\u001b[38;5;241m=\u001b[39maxis,\n\u001b[1;32m   8406\u001b[0m     level\u001b[38;5;241m=\u001b[39mlevel,\n\u001b[1;32m   8407\u001b[0m     as_index\u001b[38;5;241m=\u001b[39mas_index,\n\u001b[1;32m   8408\u001b[0m     sort\u001b[38;5;241m=\u001b[39msort,\n\u001b[1;32m   8409\u001b[0m     group_keys\u001b[38;5;241m=\u001b[39mgroup_keys,\n\u001b[1;32m   8410\u001b[0m     squeeze\u001b[38;5;241m=\u001b[39msqueeze,\n\u001b[1;32m   8411\u001b[0m     observed\u001b[38;5;241m=\u001b[39mobserved,\n\u001b[1;32m   8412\u001b[0m     dropna\u001b[38;5;241m=\u001b[39mdropna,\n\u001b[1;32m   8413\u001b[0m )\n",
      "File \u001b[0;32m~/anaconda3/lib/python3.11/site-packages/pandas/core/groupby/groupby.py:965\u001b[0m, in \u001b[0;36mGroupBy.__init__\u001b[0;34m(self, obj, keys, axis, level, grouper, exclusions, selection, as_index, sort, group_keys, squeeze, observed, mutated, dropna)\u001b[0m\n\u001b[1;32m    962\u001b[0m \u001b[38;5;28;01mif\u001b[39;00m grouper \u001b[38;5;129;01mis\u001b[39;00m \u001b[38;5;28;01mNone\u001b[39;00m:\n\u001b[1;32m    963\u001b[0m     \u001b[38;5;28;01mfrom\u001b[39;00m \u001b[38;5;21;01mpandas\u001b[39;00m\u001b[38;5;21;01m.\u001b[39;00m\u001b[38;5;21;01mcore\u001b[39;00m\u001b[38;5;21;01m.\u001b[39;00m\u001b[38;5;21;01mgroupby\u001b[39;00m\u001b[38;5;21;01m.\u001b[39;00m\u001b[38;5;21;01mgrouper\u001b[39;00m \u001b[38;5;28;01mimport\u001b[39;00m get_grouper\n\u001b[0;32m--> 965\u001b[0m     grouper, exclusions, obj \u001b[38;5;241m=\u001b[39m get_grouper(\n\u001b[1;32m    966\u001b[0m         obj,\n\u001b[1;32m    967\u001b[0m         keys,\n\u001b[1;32m    968\u001b[0m         axis\u001b[38;5;241m=\u001b[39maxis,\n\u001b[1;32m    969\u001b[0m         level\u001b[38;5;241m=\u001b[39mlevel,\n\u001b[1;32m    970\u001b[0m         sort\u001b[38;5;241m=\u001b[39msort,\n\u001b[1;32m    971\u001b[0m         observed\u001b[38;5;241m=\u001b[39mobserved,\n\u001b[1;32m    972\u001b[0m         mutated\u001b[38;5;241m=\u001b[39m\u001b[38;5;28mself\u001b[39m\u001b[38;5;241m.\u001b[39mmutated,\n\u001b[1;32m    973\u001b[0m         dropna\u001b[38;5;241m=\u001b[39m\u001b[38;5;28mself\u001b[39m\u001b[38;5;241m.\u001b[39mdropna,\n\u001b[1;32m    974\u001b[0m     )\n\u001b[1;32m    976\u001b[0m \u001b[38;5;28mself\u001b[39m\u001b[38;5;241m.\u001b[39mobj \u001b[38;5;241m=\u001b[39m obj\n\u001b[1;32m    977\u001b[0m \u001b[38;5;28mself\u001b[39m\u001b[38;5;241m.\u001b[39maxis \u001b[38;5;241m=\u001b[39m obj\u001b[38;5;241m.\u001b[39m_get_axis_number(axis)\n",
      "File \u001b[0;32m~/anaconda3/lib/python3.11/site-packages/pandas/core/groupby/grouper.py:888\u001b[0m, in \u001b[0;36mget_grouper\u001b[0;34m(obj, key, axis, level, sort, observed, mutated, validate, dropna)\u001b[0m\n\u001b[1;32m    886\u001b[0m         in_axis, level, gpr \u001b[38;5;241m=\u001b[39m \u001b[38;5;28;01mFalse\u001b[39;00m, gpr, \u001b[38;5;28;01mNone\u001b[39;00m\n\u001b[1;32m    887\u001b[0m     \u001b[38;5;28;01melse\u001b[39;00m:\n\u001b[0;32m--> 888\u001b[0m         \u001b[38;5;28;01mraise\u001b[39;00m \u001b[38;5;167;01mKeyError\u001b[39;00m(gpr)\n\u001b[1;32m    889\u001b[0m \u001b[38;5;28;01melif\u001b[39;00m \u001b[38;5;28misinstance\u001b[39m(gpr, Grouper) \u001b[38;5;129;01mand\u001b[39;00m gpr\u001b[38;5;241m.\u001b[39mkey \u001b[38;5;129;01mis\u001b[39;00m \u001b[38;5;129;01mnot\u001b[39;00m \u001b[38;5;28;01mNone\u001b[39;00m:\n\u001b[1;32m    890\u001b[0m     \u001b[38;5;66;03m# Add key to exclusions\u001b[39;00m\n\u001b[1;32m    891\u001b[0m     exclusions\u001b[38;5;241m.\u001b[39madd(gpr\u001b[38;5;241m.\u001b[39mkey)\n",
      "\u001b[0;31mKeyError\u001b[0m: 'DEPARTMENT_NAME'"
     ]
    }
   ],
   "source": [
    "emp_df.value_counts(['HIRE_YEAR', 'DEPARTMENT_NAME']).head(10).reset_index()"
   ]
  },
  {
   "cell_type": "code",
   "execution_count": null,
   "id": "2f2895da",
   "metadata": {},
   "outputs": [],
   "source": [
    "emp_df.value_counts(['HIRE_YEAR', 'DEPARTMENT_NAME']).head(10).reset_index().rename(columns={0:'Cnt'})"
   ]
  },
  {
   "cell_type": "markdown",
   "id": "372d684d",
   "metadata": {},
   "source": [
    "## Groupby"
   ]
  },
  {
   "cell_type": "code",
   "execution_count": 59,
   "id": "5c170f1c",
   "metadata": {},
   "outputs": [
    {
     "ename": "KeyError",
     "evalue": "'DEPARTMENT_NAME'",
     "output_type": "error",
     "traceback": [
      "\u001b[0;31m---------------------------------------------------------------------------\u001b[0m",
      "\u001b[0;31mKeyError\u001b[0m                                  Traceback (most recent call last)",
      "Cell \u001b[0;32mIn[59], line 1\u001b[0m\n\u001b[0;32m----> 1\u001b[0m emp_df\u001b[38;5;241m.\u001b[39mgroupby(\u001b[38;5;124m'\u001b[39m\u001b[38;5;124mDEPARTMENT_NAME\u001b[39m\u001b[38;5;124m'\u001b[39m)\n",
      "File \u001b[0;32m~/anaconda3/lib/python3.11/site-packages/pandas/core/frame.py:8402\u001b[0m, in \u001b[0;36mDataFrame.groupby\u001b[0;34m(self, by, axis, level, as_index, sort, group_keys, squeeze, observed, dropna)\u001b[0m\n\u001b[1;32m   8399\u001b[0m     \u001b[38;5;28;01mraise\u001b[39;00m \u001b[38;5;167;01mTypeError\u001b[39;00m(\u001b[38;5;124m\"\u001b[39m\u001b[38;5;124mYou have to supply one of \u001b[39m\u001b[38;5;124m'\u001b[39m\u001b[38;5;124mby\u001b[39m\u001b[38;5;124m'\u001b[39m\u001b[38;5;124m and \u001b[39m\u001b[38;5;124m'\u001b[39m\u001b[38;5;124mlevel\u001b[39m\u001b[38;5;124m'\u001b[39m\u001b[38;5;124m\"\u001b[39m)\n\u001b[1;32m   8400\u001b[0m axis \u001b[38;5;241m=\u001b[39m \u001b[38;5;28mself\u001b[39m\u001b[38;5;241m.\u001b[39m_get_axis_number(axis)\n\u001b[0;32m-> 8402\u001b[0m \u001b[38;5;28;01mreturn\u001b[39;00m DataFrameGroupBy(\n\u001b[1;32m   8403\u001b[0m     obj\u001b[38;5;241m=\u001b[39m\u001b[38;5;28mself\u001b[39m,\n\u001b[1;32m   8404\u001b[0m     keys\u001b[38;5;241m=\u001b[39mby,\n\u001b[1;32m   8405\u001b[0m     axis\u001b[38;5;241m=\u001b[39maxis,\n\u001b[1;32m   8406\u001b[0m     level\u001b[38;5;241m=\u001b[39mlevel,\n\u001b[1;32m   8407\u001b[0m     as_index\u001b[38;5;241m=\u001b[39mas_index,\n\u001b[1;32m   8408\u001b[0m     sort\u001b[38;5;241m=\u001b[39msort,\n\u001b[1;32m   8409\u001b[0m     group_keys\u001b[38;5;241m=\u001b[39mgroup_keys,\n\u001b[1;32m   8410\u001b[0m     squeeze\u001b[38;5;241m=\u001b[39msqueeze,\n\u001b[1;32m   8411\u001b[0m     observed\u001b[38;5;241m=\u001b[39mobserved,\n\u001b[1;32m   8412\u001b[0m     dropna\u001b[38;5;241m=\u001b[39mdropna,\n\u001b[1;32m   8413\u001b[0m )\n",
      "File \u001b[0;32m~/anaconda3/lib/python3.11/site-packages/pandas/core/groupby/groupby.py:965\u001b[0m, in \u001b[0;36mGroupBy.__init__\u001b[0;34m(self, obj, keys, axis, level, grouper, exclusions, selection, as_index, sort, group_keys, squeeze, observed, mutated, dropna)\u001b[0m\n\u001b[1;32m    962\u001b[0m \u001b[38;5;28;01mif\u001b[39;00m grouper \u001b[38;5;129;01mis\u001b[39;00m \u001b[38;5;28;01mNone\u001b[39;00m:\n\u001b[1;32m    963\u001b[0m     \u001b[38;5;28;01mfrom\u001b[39;00m \u001b[38;5;21;01mpandas\u001b[39;00m\u001b[38;5;21;01m.\u001b[39;00m\u001b[38;5;21;01mcore\u001b[39;00m\u001b[38;5;21;01m.\u001b[39;00m\u001b[38;5;21;01mgroupby\u001b[39;00m\u001b[38;5;21;01m.\u001b[39;00m\u001b[38;5;21;01mgrouper\u001b[39;00m \u001b[38;5;28;01mimport\u001b[39;00m get_grouper\n\u001b[0;32m--> 965\u001b[0m     grouper, exclusions, obj \u001b[38;5;241m=\u001b[39m get_grouper(\n\u001b[1;32m    966\u001b[0m         obj,\n\u001b[1;32m    967\u001b[0m         keys,\n\u001b[1;32m    968\u001b[0m         axis\u001b[38;5;241m=\u001b[39maxis,\n\u001b[1;32m    969\u001b[0m         level\u001b[38;5;241m=\u001b[39mlevel,\n\u001b[1;32m    970\u001b[0m         sort\u001b[38;5;241m=\u001b[39msort,\n\u001b[1;32m    971\u001b[0m         observed\u001b[38;5;241m=\u001b[39mobserved,\n\u001b[1;32m    972\u001b[0m         mutated\u001b[38;5;241m=\u001b[39m\u001b[38;5;28mself\u001b[39m\u001b[38;5;241m.\u001b[39mmutated,\n\u001b[1;32m    973\u001b[0m         dropna\u001b[38;5;241m=\u001b[39m\u001b[38;5;28mself\u001b[39m\u001b[38;5;241m.\u001b[39mdropna,\n\u001b[1;32m    974\u001b[0m     )\n\u001b[1;32m    976\u001b[0m \u001b[38;5;28mself\u001b[39m\u001b[38;5;241m.\u001b[39mobj \u001b[38;5;241m=\u001b[39m obj\n\u001b[1;32m    977\u001b[0m \u001b[38;5;28mself\u001b[39m\u001b[38;5;241m.\u001b[39maxis \u001b[38;5;241m=\u001b[39m obj\u001b[38;5;241m.\u001b[39m_get_axis_number(axis)\n",
      "File \u001b[0;32m~/anaconda3/lib/python3.11/site-packages/pandas/core/groupby/grouper.py:888\u001b[0m, in \u001b[0;36mget_grouper\u001b[0;34m(obj, key, axis, level, sort, observed, mutated, validate, dropna)\u001b[0m\n\u001b[1;32m    886\u001b[0m         in_axis, level, gpr \u001b[38;5;241m=\u001b[39m \u001b[38;5;28;01mFalse\u001b[39;00m, gpr, \u001b[38;5;28;01mNone\u001b[39;00m\n\u001b[1;32m    887\u001b[0m     \u001b[38;5;28;01melse\u001b[39;00m:\n\u001b[0;32m--> 888\u001b[0m         \u001b[38;5;28;01mraise\u001b[39;00m \u001b[38;5;167;01mKeyError\u001b[39;00m(gpr)\n\u001b[1;32m    889\u001b[0m \u001b[38;5;28;01melif\u001b[39;00m \u001b[38;5;28misinstance\u001b[39m(gpr, Grouper) \u001b[38;5;129;01mand\u001b[39;00m gpr\u001b[38;5;241m.\u001b[39mkey \u001b[38;5;129;01mis\u001b[39;00m \u001b[38;5;129;01mnot\u001b[39;00m \u001b[38;5;28;01mNone\u001b[39;00m:\n\u001b[1;32m    890\u001b[0m     \u001b[38;5;66;03m# Add key to exclusions\u001b[39;00m\n\u001b[1;32m    891\u001b[0m     exclusions\u001b[38;5;241m.\u001b[39madd(gpr\u001b[38;5;241m.\u001b[39mkey)\n",
      "\u001b[0;31mKeyError\u001b[0m: 'DEPARTMENT_NAME'"
     ]
    }
   ],
   "source": [
    "emp_df.groupby('DEPARTMENT_NAME')"
   ]
  },
  {
   "cell_type": "code",
   "execution_count": null,
   "id": "9c0cef10",
   "metadata": {},
   "outputs": [],
   "source": [
    "emp_df.columns"
   ]
  },
  {
   "cell_type": "code",
   "execution_count": null,
   "id": "1f9ded18",
   "metadata": {},
   "outputs": [],
   "source": [
    "emp_df.dtypes"
   ]
  },
  {
   "cell_type": "code",
   "execution_count": null,
   "id": "sublime-scanning",
   "metadata": {},
   "outputs": [],
   "source": [
    "emp_df.groupby('DEPARTMENT_NAME').mean(numeric_only=True)"
   ]
  },
  {
   "cell_type": "code",
   "execution_count": null,
   "id": "1b5aab02",
   "metadata": {},
   "outputs": [],
   "source": [
    "emp_df.groupby('DEPARTMENT_NAME')[['SALARY','COMMISSION_PCT']].mean().reset_index()"
   ]
  },
  {
   "cell_type": "code",
   "execution_count": null,
   "id": "fcf28c73",
   "metadata": {},
   "outputs": [],
   "source": [
    "emp_df.groupby('DEPARTMENT_NAME',as_index=False)[['SALARY','COMMISSION_PCT']].mean()"
   ]
  },
  {
   "cell_type": "code",
   "execution_count": null,
   "id": "chief-leisure",
   "metadata": {},
   "outputs": [],
   "source": [
    "# lương nhân viên trung bình theo năm vào làm\n",
    "emp_df.groupby('HIRE_YEAR',as_index=False)['SALARY'].mean()"
   ]
  },
  {
   "cell_type": "code",
   "execution_count": null,
   "id": "7d1027a9",
   "metadata": {},
   "outputs": [],
   "source": [
    "emp_df.DEPARTMENT_NAME.value_counts()"
   ]
  },
  {
   "cell_type": "code",
   "execution_count": null,
   "id": "f349c71c",
   "metadata": {},
   "outputs": [],
   "source": [
    "emp_df.groupby('DEPARTMENT_NAME')['EMPLOYEE_ID'].count()"
   ]
  },
  {
   "cell_type": "code",
   "execution_count": null,
   "id": "refined-special",
   "metadata": {},
   "outputs": [],
   "source": [
    "# đếm số NV theo phòng ban\n",
    "emp_df.groupby(by='DEPARTMENT_NAME',as_index=False)['EMPLOYEE_ID'].count()"
   ]
  },
  {
   "cell_type": "code",
   "execution_count": null,
   "id": "33bcf5b9",
   "metadata": {},
   "outputs": [],
   "source": [
    "emp_df.groupby('DEPARTMENT_NAME',as_index=False)['EMPLOYEE_ID'].count().sort_values(by='EMPLOYEE_ID',ascending=False)"
   ]
  },
  {
   "cell_type": "code",
   "execution_count": null,
   "id": "d0a329ed",
   "metadata": {},
   "outputs": [],
   "source": [
    "emp_df.groupby('DEPARTMENT_NAME')['EMPLOYEE_ID'].count().reset_index().sort_values(by='EMPLOYEE_ID',ascending=False)"
   ]
  },
  {
   "cell_type": "code",
   "execution_count": null,
   "id": "civilian-journalist",
   "metadata": {},
   "outputs": [],
   "source": [
    "# calculate average salary by JOB_ID\n",
    "emp_df.groupby('JOB_ID')['SALARY'].mean()"
   ]
  },
  {
   "cell_type": "code",
   "execution_count": null,
   "id": "efficient-journalism",
   "metadata": {},
   "outputs": [],
   "source": [
    "# view salary statistics by year of employment\n",
    "emp_df.groupby('HIRE_YEAR')['SALARY'].describe()"
   ]
  },
  {
   "cell_type": "code",
   "execution_count": null,
   "id": "45255d29",
   "metadata": {},
   "outputs": [],
   "source": [
    "emp_df.groupby('DEPARTMENT_NAME')['SALARY'].median()"
   ]
  },
  {
   "cell_type": "code",
   "execution_count": null,
   "id": "52ac9e01",
   "metadata": {},
   "outputs": [],
   "source": [
    "emp_df.groupby('DEPARTMENT_NAME')['SALARY'].mean()"
   ]
  },
  {
   "cell_type": "code",
   "execution_count": null,
   "id": "7c270ad3",
   "metadata": {},
   "outputs": [],
   "source": [
    "emp_df.groupby('DEPARTMENT_NAME')['SALARY'].max()"
   ]
  },
  {
   "cell_type": "code",
   "execution_count": null,
   "id": "68b76d1e",
   "metadata": {},
   "outputs": [],
   "source": [
    "emp_df.groupby('DEPARTMENT_NAME')['SALARY'].count()"
   ]
  },
  {
   "cell_type": "code",
   "execution_count": null,
   "id": "stone-container",
   "metadata": {},
   "outputs": [],
   "source": [
    "# calculate number of employees, average salary, median, maximum, minimum by department\n",
    "emp_df.groupby('DEPARTMENT_NAME')['SALARY'].agg(['count','min','max','mean','median'])"
   ]
  },
  {
   "cell_type": "code",
   "execution_count": null,
   "id": "9b21dabe",
   "metadata": {},
   "outputs": [],
   "source": [
    "emp_df.groupby('DEPARTMENT_NAME').agg(Count_Emp = pd.NamedAgg(column='EMPLOYEE_ID',aggfunc='count'),\n",
    "                                     Sal_avg = pd.NamedAgg(column='SALARY',aggfunc='mean'))"
   ]
  },
  {
   "cell_type": "code",
   "execution_count": null,
   "id": "expired-police",
   "metadata": {},
   "outputs": [],
   "source": [
    "# count number of employees by year of employment and by department\n",
    "df = emp_df.groupby(['HIRE_YEAR', 'DEPARTMENT_NAME'],as_index=False)['DEPARTMENT_ID'].count()\n",
    "df.head(10)"
   ]
  },
  {
   "cell_type": "code",
   "execution_count": null,
   "id": "4623f0cb",
   "metadata": {},
   "outputs": [],
   "source": [
    "df.loc[(df.HIRE_YEAR==2007) & (df.DEPARTMENT_NAME=='IT'),'DEPARTMENT_ID'].iloc[0]"
   ]
  },
  {
   "cell_type": "code",
   "execution_count": null,
   "id": "f570c57a",
   "metadata": {},
   "outputs": [],
   "source": [
    "df1 = pd.crosstab(index=emp_df.HIRE_YEAR, columns=emp_df.DEPARTMENT_NAME,values=emp_df.DEPARTMENT_ID,aggfunc='count')\n",
    "df1.fillna(0).applymap(int)"
   ]
  },
  {
   "cell_type": "code",
   "execution_count": null,
   "id": "c1eb86b0",
   "metadata": {},
   "outputs": [],
   "source": [
    "df1.loc[2007,'IT']"
   ]
  },
  {
   "cell_type": "markdown",
   "id": "adopted-passenger",
   "metadata": {},
   "source": [
    "### Cross Tab"
   ]
  },
  {
   "cell_type": "code",
   "execution_count": null,
   "id": "numerous-spell",
   "metadata": {},
   "outputs": [],
   "source": [
    "round(pd.crosstab(index=emp_df['HIRE_YEAR'], columns=emp_df['DEPARTMENT_NAME'], \n",
    "                  values=emp_df['SALARY'], aggfunc='mean'))"
   ]
  },
  {
   "cell_type": "code",
   "execution_count": null,
   "id": "assigned-bulgarian",
   "metadata": {},
   "outputs": [],
   "source": [
    "pd.crosstab(index=emp_df['HIRE_YEAR'], columns=emp_df['DEPARTMENT_NAME']) # đếm"
   ]
  },
  {
   "cell_type": "code",
   "execution_count": null,
   "id": "through-mongolia",
   "metadata": {},
   "outputs": [],
   "source": [
    "pd.crosstab(index=emp_df['HIRE_YEAR'], columns=emp_df['DEPARTMENT_NAME'], margins=True)"
   ]
  },
  {
   "cell_type": "code",
   "execution_count": null,
   "id": "amino-harvest",
   "metadata": {},
   "outputs": [],
   "source": [
    "pd.crosstab(index=emp_df['HIRE_YEAR'], columns=emp_df['DEPARTMENT_NAME'], normalize=True)"
   ]
  },
  {
   "cell_type": "code",
   "execution_count": null,
   "id": "respective-payroll",
   "metadata": {},
   "outputs": [],
   "source": [
    "pd.crosstab(index=emp_df['HIRE_YEAR'], columns=emp_df['DEPARTMENT_NAME'], normalize='index')"
   ]
  },
  {
   "cell_type": "code",
   "execution_count": null,
   "id": "a82891f8",
   "metadata": {},
   "outputs": [],
   "source": [
    "pd.crosstab(columns=emp_df.DEPARTMENT_NAME, index=emp_df.HIRE_YEAR, values=emp_df.SALARY,aggfunc='sum')"
   ]
  },
  {
   "cell_type": "markdown",
   "id": "changed-serum",
   "metadata": {},
   "source": [
    "### Pivot table"
   ]
  },
  {
   "cell_type": "code",
   "execution_count": null,
   "id": "5b82a071",
   "metadata": {},
   "outputs": [],
   "source": [
    "pd.pivot_table(data=emp_df, columns='DEPARTMENT_NAME', index='HIRE_YEAR', values='SALARY',aggfunc='sum')"
   ]
  },
  {
   "cell_type": "code",
   "execution_count": null,
   "id": "9a95ba0a",
   "metadata": {},
   "outputs": [],
   "source": [
    "pd.pivot_table(data=emp_df, columns='DEPARTMENT_NAME', index='HIRE_YEAR', values='SALARY',fill_value=0)"
   ]
  },
  {
   "cell_type": "code",
   "execution_count": null,
   "id": "unexpected-window",
   "metadata": {},
   "outputs": [],
   "source": [
    "pivot = round(pd.pivot_table(data=emp_df, index='DEPARTMENT_NAME', columns='HIRE_YEAR', values='SALARY')) # mean\n",
    "pivot"
   ]
  },
  {
   "cell_type": "code",
   "execution_count": null,
   "id": "genetic-there",
   "metadata": {},
   "outputs": [],
   "source": [
    "#sum\n",
    "round(pd.pivot_table(data=emp_df, index='DEPARTMENT_NAME', columns='HIRE_YEAR', \n",
    "                     values='SALARY', aggfunc='sum'))"
   ]
  },
  {
   "cell_type": "markdown",
   "id": "705f32c1",
   "metadata": {},
   "source": [
    "### Melt"
   ]
  },
  {
   "cell_type": "code",
   "execution_count": null,
   "id": "f11d2fa9",
   "metadata": {},
   "outputs": [],
   "source": [
    "pivot = pivot.reset_index()\n",
    "pivot"
   ]
  },
  {
   "cell_type": "code",
   "execution_count": null,
   "id": "romance-bolivia",
   "metadata": {},
   "outputs": [],
   "source": [
    "unpivoted_df = pd.melt(pivot, id_vars=['DEPARTMENT_NAME'], var_name='HIRE_YEAR_tmp', value_name='mean_SALARY')\n",
    "\n",
    "# Delete NaN\n",
    "unpivoted_df = unpivoted_df.dropna()\n",
    "\n",
    "# Display unpivoted DataFrame\n",
    "unpivoted_df"
   ]
  },
  {
   "cell_type": "code",
   "execution_count": null,
   "id": "01307bbe",
   "metadata": {},
   "outputs": [],
   "source": [
    "# Save emp_df to csv file (with department information)\n",
    "emp_df.to_csv('data/employees_full.csv', index=False)"
   ]
  },
  {
   "cell_type": "code",
   "execution_count": null,
   "id": "e8b2c8f3",
   "metadata": {},
   "outputs": [],
   "source": [
    "df = pd.DataFrame({'Name': {0: 'John', 1: 'Bob', 2: 'Shiela'},\n",
    "                   'Course': {0: 'Masters', 1: 'Graduate', 2: 'Graduate'},\n",
    "                   'Age': {0: 27, 1: 23, 2: 21}})\n",
    "df"
   ]
  },
  {
   "cell_type": "code",
   "execution_count": null,
   "id": "186932f0",
   "metadata": {},
   "outputs": [],
   "source": [
    "pd.melt(df, id_vars=['Name'])"
   ]
  },
  {
   "cell_type": "code",
   "execution_count": null,
   "id": "491accf5",
   "metadata": {},
   "outputs": [],
   "source": [
    "pd.melt(df, id_vars=['Name'], value_vars=['Age'],var_name='col1',value_name='col 2')"
   ]
  },
  {
   "cell_type": "code",
   "execution_count": null,
   "id": "d123ceac",
   "metadata": {},
   "outputs": [],
   "source": [
    "pd.melt(df, id_vars=['Name','Course'], value_vars=['Age'])"
   ]
  },
  {
   "cell_type": "code",
   "execution_count": null,
   "id": "d74c6a70",
   "metadata": {},
   "outputs": [],
   "source": [
    "pd.melt(df, id_vars=['Name','Course'], value_vars=['Age'],\n",
    "        var_name='ChangedVarname', value_name='ChangedValname')"
   ]
  },
  {
   "cell_type": "code",
   "execution_count": null,
   "id": "c56e694a",
   "metadata": {},
   "outputs": [],
   "source": [
    "pd.melt(df, id_vars=['Name'], value_vars=['Course'],\n",
    "        var_name='ChangedVarname', value_name='ChangedValname')"
   ]
  },
  {
   "cell_type": "markdown",
   "id": "f5a0ad2b",
   "metadata": {},
   "source": [
    "## Group cols"
   ]
  },
  {
   "cell_type": "code",
   "execution_count": null,
   "id": "92e7b01a",
   "metadata": {},
   "outputs": [],
   "source": [
    "emp_df.columns"
   ]
  },
  {
   "cell_type": "code",
   "execution_count": null,
   "id": "827d9869",
   "metadata": {},
   "outputs": [],
   "source": [
    "df = emp_df.groupby(['HIRE_YEAR','DEPARTMENT_NAME'])['SALARY'].mean().reset_index()\n",
    "df.head()"
   ]
  },
  {
   "cell_type": "code",
   "execution_count": null,
   "id": "b7d9909a",
   "metadata": {},
   "outputs": [],
   "source": [
    "df = emp_df.groupby(['HIRE_YEAR','DEPARTMENT_NAME'],as_index=False)['SALARY'].mean()\n",
    "df.head()"
   ]
  },
  {
   "cell_type": "code",
   "execution_count": null,
   "id": "b4db262f",
   "metadata": {},
   "outputs": [],
   "source": [
    "emp_df.groupby(['HIRE_YEAR','DEPARTMENT_NAME'])['SALARY'].mean()"
   ]
  },
  {
   "cell_type": "code",
   "execution_count": null,
   "id": "16257890",
   "metadata": {},
   "outputs": [],
   "source": []
  }
 ],
 "metadata": {
  "kernelspec": {
   "display_name": "Python 3 (ipykernel)",
   "language": "python",
   "name": "python3"
  },
  "language_info": {
   "codemirror_mode": {
    "name": "ipython",
    "version": 3
   },
   "file_extension": ".py",
   "mimetype": "text/x-python",
   "name": "python",
   "nbconvert_exporter": "python",
   "pygments_lexer": "ipython3",
   "version": "3.11.4"
  }
 },
 "nbformat": 4,
 "nbformat_minor": 5
}
