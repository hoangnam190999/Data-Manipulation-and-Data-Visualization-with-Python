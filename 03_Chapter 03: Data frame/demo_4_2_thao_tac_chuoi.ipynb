{
 "cells": [
  {
   "cell_type": "code",
   "execution_count": 1,
   "id": "0fb3bc54",
   "metadata": {},
   "outputs": [],
   "source": [
    "import numpy as np\n",
    "import pandas as pd\n",
    "import re"
   ]
  },
  {
   "cell_type": "code",
   "execution_count": 2,
   "id": "85eff3c4",
   "metadata": {},
   "outputs": [
    {
     "data": {
      "text/html": [
       "<div>\n",
       "<style scoped>\n",
       "    .dataframe tbody tr th:only-of-type {\n",
       "        vertical-align: middle;\n",
       "    }\n",
       "\n",
       "    .dataframe tbody tr th {\n",
       "        vertical-align: top;\n",
       "    }\n",
       "\n",
       "    .dataframe thead th {\n",
       "        text-align: right;\n",
       "    }\n",
       "</style>\n",
       "<table border=\"1\" class=\"dataframe\">\n",
       "  <thead>\n",
       "    <tr style=\"text-align: right;\">\n",
       "      <th></th>\n",
       "      <th>EMPLOYEE_ID</th>\n",
       "      <th>FIRST_NAME</th>\n",
       "      <th>LAST_NAME</th>\n",
       "      <th>EMAIL</th>\n",
       "      <th>PHONE_NUMBER</th>\n",
       "      <th>HIRE_DATE</th>\n",
       "      <th>JOB_ID</th>\n",
       "      <th>SALARY</th>\n",
       "      <th>COMMISSION_PCT</th>\n",
       "      <th>MANAGER_ID</th>\n",
       "      <th>DEPARTMENT_ID</th>\n",
       "    </tr>\n",
       "  </thead>\n",
       "  <tbody>\n",
       "    <tr>\n",
       "      <th>0</th>\n",
       "      <td>100</td>\n",
       "      <td>Steven</td>\n",
       "      <td>King</td>\n",
       "      <td>SKING</td>\n",
       "      <td>515.123.4567</td>\n",
       "      <td>2003-06-17 00:00:00</td>\n",
       "      <td>AD_PRES</td>\n",
       "      <td>24000</td>\n",
       "      <td>0.0</td>\n",
       "      <td>0</td>\n",
       "      <td>90</td>\n",
       "    </tr>\n",
       "    <tr>\n",
       "      <th>1</th>\n",
       "      <td>101</td>\n",
       "      <td>Neena</td>\n",
       "      <td>Kochhar</td>\n",
       "      <td>NKOCHHAR</td>\n",
       "      <td>515.123.4568</td>\n",
       "      <td>2005-09-21 00:00:00</td>\n",
       "      <td>AD_VP</td>\n",
       "      <td>17000</td>\n",
       "      <td>0.0</td>\n",
       "      <td>100</td>\n",
       "      <td>90</td>\n",
       "    </tr>\n",
       "    <tr>\n",
       "      <th>2</th>\n",
       "      <td>102</td>\n",
       "      <td>Lex</td>\n",
       "      <td>De Haan</td>\n",
       "      <td>LDEHAAN</td>\n",
       "      <td>515.123.4569</td>\n",
       "      <td>2001-01-13 00:00:00</td>\n",
       "      <td>AD_VP</td>\n",
       "      <td>17000</td>\n",
       "      <td>0.0</td>\n",
       "      <td>100</td>\n",
       "      <td>90</td>\n",
       "    </tr>\n",
       "    <tr>\n",
       "      <th>3</th>\n",
       "      <td>103</td>\n",
       "      <td>Alexander</td>\n",
       "      <td>Hunold</td>\n",
       "      <td>AHUNOLD</td>\n",
       "      <td>590.423.4567</td>\n",
       "      <td>2006-01-03 00:00:00</td>\n",
       "      <td>IT_PROG</td>\n",
       "      <td>9000</td>\n",
       "      <td>0.0</td>\n",
       "      <td>102</td>\n",
       "      <td>60</td>\n",
       "    </tr>\n",
       "    <tr>\n",
       "      <th>4</th>\n",
       "      <td>104</td>\n",
       "      <td>Bruce</td>\n",
       "      <td>Ernst</td>\n",
       "      <td>BERNST</td>\n",
       "      <td>590.423.4568</td>\n",
       "      <td>2007-05-21 00:00:00</td>\n",
       "      <td>IT_PROG</td>\n",
       "      <td>6000</td>\n",
       "      <td>0.0</td>\n",
       "      <td>103</td>\n",
       "      <td>60</td>\n",
       "    </tr>\n",
       "  </tbody>\n",
       "</table>\n",
       "</div>"
      ],
      "text/plain": [
       "   EMPLOYEE_ID FIRST_NAME LAST_NAME     EMAIL  PHONE_NUMBER  \\\n",
       "0          100     Steven      King     SKING  515.123.4567   \n",
       "1          101      Neena   Kochhar  NKOCHHAR  515.123.4568   \n",
       "2          102        Lex   De Haan   LDEHAAN  515.123.4569   \n",
       "3          103  Alexander    Hunold   AHUNOLD  590.423.4567   \n",
       "4          104      Bruce     Ernst    BERNST  590.423.4568   \n",
       "\n",
       "             HIRE_DATE   JOB_ID  SALARY  COMMISSION_PCT  MANAGER_ID  \\\n",
       "0  2003-06-17 00:00:00  AD_PRES   24000             0.0           0   \n",
       "1  2005-09-21 00:00:00    AD_VP   17000             0.0         100   \n",
       "2  2001-01-13 00:00:00    AD_VP   17000             0.0         100   \n",
       "3  2006-01-03 00:00:00  IT_PROG    9000             0.0         102   \n",
       "4  2007-05-21 00:00:00  IT_PROG    6000             0.0         103   \n",
       "\n",
       "   DEPARTMENT_ID  \n",
       "0             90  \n",
       "1             90  \n",
       "2             90  \n",
       "3             60  \n",
       "4             60  "
      ]
     },
     "execution_count": 2,
     "metadata": {},
     "output_type": "execute_result"
    }
   ],
   "source": [
    "# read employees_astyle.csv data (converted data type)\n",
    "emp_df = pd.read_csv('data/employees_astyle.csv')\n",
    "emp_df.head()"
   ]
  },
  {
   "cell_type": "code",
   "execution_count": null,
   "id": "40ec6f06",
   "metadata": {},
   "outputs": [],
   "source": [
    "# Find starting substring: use df[“Column_name”].str.startswith(“substring”)"
   ]
  },
  {
   "cell_type": "code",
   "execution_count": 3,
   "id": "e157f5ee",
   "metadata": {},
   "outputs": [
    {
     "data": {
      "text/plain": [
       "0      False\n",
       "1      False\n",
       "2      False\n",
       "3      False\n",
       "4      False\n",
       "       ...  \n",
       "102    False\n",
       "103    False\n",
       "104    False\n",
       "105     True\n",
       "106     True\n",
       "Name: JOB_ID, Length: 107, dtype: bool"
      ]
     },
     "execution_count": 3,
     "metadata": {},
     "output_type": "execute_result"
    }
   ],
   "source": [
    "emp_df['JOB_ID'].str.startswith('AC')"
   ]
  },
  {
   "cell_type": "code",
   "execution_count": 4,
   "id": "f1c6f084",
   "metadata": {},
   "outputs": [
    {
     "data": {
      "text/html": [
       "<div>\n",
       "<style scoped>\n",
       "    .dataframe tbody tr th:only-of-type {\n",
       "        vertical-align: middle;\n",
       "    }\n",
       "\n",
       "    .dataframe tbody tr th {\n",
       "        vertical-align: top;\n",
       "    }\n",
       "\n",
       "    .dataframe thead th {\n",
       "        text-align: right;\n",
       "    }\n",
       "</style>\n",
       "<table border=\"1\" class=\"dataframe\">\n",
       "  <thead>\n",
       "    <tr style=\"text-align: right;\">\n",
       "      <th></th>\n",
       "      <th>EMPLOYEE_ID</th>\n",
       "      <th>FIRST_NAME</th>\n",
       "      <th>LAST_NAME</th>\n",
       "      <th>EMAIL</th>\n",
       "      <th>PHONE_NUMBER</th>\n",
       "      <th>HIRE_DATE</th>\n",
       "      <th>JOB_ID</th>\n",
       "      <th>SALARY</th>\n",
       "      <th>COMMISSION_PCT</th>\n",
       "      <th>MANAGER_ID</th>\n",
       "      <th>DEPARTMENT_ID</th>\n",
       "    </tr>\n",
       "  </thead>\n",
       "  <tbody>\n",
       "    <tr>\n",
       "      <th>105</th>\n",
       "      <td>205</td>\n",
       "      <td>Shelley</td>\n",
       "      <td>Higgins</td>\n",
       "      <td>SHIGGINS</td>\n",
       "      <td>515.123.8080</td>\n",
       "      <td>2002-06-07 00:00:00</td>\n",
       "      <td>AC_MGR</td>\n",
       "      <td>12008</td>\n",
       "      <td>0.0</td>\n",
       "      <td>101</td>\n",
       "      <td>110</td>\n",
       "    </tr>\n",
       "    <tr>\n",
       "      <th>106</th>\n",
       "      <td>206</td>\n",
       "      <td>William</td>\n",
       "      <td>Gietz</td>\n",
       "      <td>WGIETZ</td>\n",
       "      <td>515.123.8181</td>\n",
       "      <td>2002-06-07 00:00:00</td>\n",
       "      <td>AC_ACCOUNT</td>\n",
       "      <td>8300</td>\n",
       "      <td>0.0</td>\n",
       "      <td>205</td>\n",
       "      <td>110</td>\n",
       "    </tr>\n",
       "  </tbody>\n",
       "</table>\n",
       "</div>"
      ],
      "text/plain": [
       "     EMPLOYEE_ID FIRST_NAME LAST_NAME     EMAIL  PHONE_NUMBER  \\\n",
       "105          205    Shelley   Higgins  SHIGGINS  515.123.8080   \n",
       "106          206    William     Gietz    WGIETZ  515.123.8181   \n",
       "\n",
       "               HIRE_DATE      JOB_ID  SALARY  COMMISSION_PCT  MANAGER_ID  \\\n",
       "105  2002-06-07 00:00:00      AC_MGR   12008             0.0         101   \n",
       "106  2002-06-07 00:00:00  AC_ACCOUNT    8300             0.0         205   \n",
       "\n",
       "     DEPARTMENT_ID  \n",
       "105            110  \n",
       "106            110  "
      ]
     },
     "execution_count": 4,
     "metadata": {},
     "output_type": "execute_result"
    }
   ],
   "source": [
    "# Find employees whose JOB_ID starts with “AC” (Accounting Department)\n",
    "emp_df[emp_df['JOB_ID'].str.startswith('AC')]"
   ]
  },
  {
   "cell_type": "code",
   "execution_count": 5,
   "id": "e227e2b5",
   "metadata": {},
   "outputs": [
    {
     "data": {
      "text/html": [
       "<div>\n",
       "<style scoped>\n",
       "    .dataframe tbody tr th:only-of-type {\n",
       "        vertical-align: middle;\n",
       "    }\n",
       "\n",
       "    .dataframe tbody tr th {\n",
       "        vertical-align: top;\n",
       "    }\n",
       "\n",
       "    .dataframe thead th {\n",
       "        text-align: right;\n",
       "    }\n",
       "</style>\n",
       "<table border=\"1\" class=\"dataframe\">\n",
       "  <thead>\n",
       "    <tr style=\"text-align: right;\">\n",
       "      <th></th>\n",
       "      <th>FIRST_NAME</th>\n",
       "      <th>LAST_NAME</th>\n",
       "    </tr>\n",
       "  </thead>\n",
       "  <tbody>\n",
       "    <tr>\n",
       "      <th>105</th>\n",
       "      <td>Shelley</td>\n",
       "      <td>Higgins</td>\n",
       "    </tr>\n",
       "    <tr>\n",
       "      <th>106</th>\n",
       "      <td>William</td>\n",
       "      <td>Gietz</td>\n",
       "    </tr>\n",
       "  </tbody>\n",
       "</table>\n",
       "</div>"
      ],
      "text/plain": [
       "    FIRST_NAME LAST_NAME\n",
       "105    Shelley   Higgins\n",
       "106    William     Gietz"
      ]
     },
     "execution_count": 5,
     "metadata": {},
     "output_type": "execute_result"
    }
   ],
   "source": [
    "emp_df.loc[emp_df['JOB_ID'].str.startswith('AC'),['FIRST_NAME','LAST_NAME']]"
   ]
  },
  {
   "cell_type": "code",
   "execution_count": 6,
   "id": "b830d6af",
   "metadata": {},
   "outputs": [
    {
     "data": {
      "text/plain": [
       "0      False\n",
       "1      False\n",
       "2      False\n",
       "3      False\n",
       "4      False\n",
       "       ...  \n",
       "102     True\n",
       "103     True\n",
       "104     True\n",
       "105    False\n",
       "106    False\n",
       "Name: JOB_ID, Length: 107, dtype: bool"
      ]
     },
     "execution_count": 6,
     "metadata": {},
     "output_type": "execute_result"
    }
   ],
   "source": [
    "emp_df['JOB_ID'].str.contains('REP')"
   ]
  },
  {
   "cell_type": "code",
   "execution_count": 7,
   "id": "285b08d7",
   "metadata": {},
   "outputs": [
    {
     "data": {
      "text/html": [
       "<div>\n",
       "<style scoped>\n",
       "    .dataframe tbody tr th:only-of-type {\n",
       "        vertical-align: middle;\n",
       "    }\n",
       "\n",
       "    .dataframe tbody tr th {\n",
       "        vertical-align: top;\n",
       "    }\n",
       "\n",
       "    .dataframe thead th {\n",
       "        text-align: right;\n",
       "    }\n",
       "</style>\n",
       "<table border=\"1\" class=\"dataframe\">\n",
       "  <thead>\n",
       "    <tr style=\"text-align: right;\">\n",
       "      <th></th>\n",
       "      <th>EMPLOYEE_ID</th>\n",
       "      <th>FIRST_NAME</th>\n",
       "      <th>LAST_NAME</th>\n",
       "      <th>EMAIL</th>\n",
       "      <th>PHONE_NUMBER</th>\n",
       "      <th>HIRE_DATE</th>\n",
       "      <th>JOB_ID</th>\n",
       "      <th>SALARY</th>\n",
       "      <th>COMMISSION_PCT</th>\n",
       "      <th>MANAGER_ID</th>\n",
       "      <th>DEPARTMENT_ID</th>\n",
       "    </tr>\n",
       "  </thead>\n",
       "  <tbody>\n",
       "    <tr>\n",
       "      <th>50</th>\n",
       "      <td>150</td>\n",
       "      <td>Peter</td>\n",
       "      <td>Tucker</td>\n",
       "      <td>PTUCKER</td>\n",
       "      <td>011.44.1344.129268</td>\n",
       "      <td>2005-01-30 00:00:00</td>\n",
       "      <td>SA_REP</td>\n",
       "      <td>10000</td>\n",
       "      <td>0.30</td>\n",
       "      <td>145</td>\n",
       "      <td>80</td>\n",
       "    </tr>\n",
       "    <tr>\n",
       "      <th>51</th>\n",
       "      <td>151</td>\n",
       "      <td>David</td>\n",
       "      <td>Bernstein</td>\n",
       "      <td>DBERNSTE</td>\n",
       "      <td>011.44.1344.345268</td>\n",
       "      <td>2005-03-24 00:00:00</td>\n",
       "      <td>SA_REP</td>\n",
       "      <td>9500</td>\n",
       "      <td>0.25</td>\n",
       "      <td>145</td>\n",
       "      <td>80</td>\n",
       "    </tr>\n",
       "    <tr>\n",
       "      <th>52</th>\n",
       "      <td>152</td>\n",
       "      <td>Peter</td>\n",
       "      <td>Hall</td>\n",
       "      <td>PHALL</td>\n",
       "      <td>011.44.1344.478968</td>\n",
       "      <td>2005-08-20 00:00:00</td>\n",
       "      <td>SA_REP</td>\n",
       "      <td>9000</td>\n",
       "      <td>0.25</td>\n",
       "      <td>145</td>\n",
       "      <td>80</td>\n",
       "    </tr>\n",
       "    <tr>\n",
       "      <th>53</th>\n",
       "      <td>153</td>\n",
       "      <td>Christopher</td>\n",
       "      <td>Olsen</td>\n",
       "      <td>COLSEN</td>\n",
       "      <td>011.44.1344.498718</td>\n",
       "      <td>2006-03-30 00:00:00</td>\n",
       "      <td>SA_REP</td>\n",
       "      <td>8000</td>\n",
       "      <td>0.20</td>\n",
       "      <td>145</td>\n",
       "      <td>80</td>\n",
       "    </tr>\n",
       "    <tr>\n",
       "      <th>54</th>\n",
       "      <td>154</td>\n",
       "      <td>Nanette</td>\n",
       "      <td>Cambrault</td>\n",
       "      <td>NCAMBRAU</td>\n",
       "      <td>011.44.1344.987668</td>\n",
       "      <td>2006-12-09 00:00:00</td>\n",
       "      <td>SA_REP</td>\n",
       "      <td>7500</td>\n",
       "      <td>0.20</td>\n",
       "      <td>145</td>\n",
       "      <td>80</td>\n",
       "    </tr>\n",
       "    <tr>\n",
       "      <th>55</th>\n",
       "      <td>155</td>\n",
       "      <td>Oliver</td>\n",
       "      <td>Tuvault</td>\n",
       "      <td>OTUVAULT</td>\n",
       "      <td>011.44.1344.486508</td>\n",
       "      <td>2007-11-23 00:00:00</td>\n",
       "      <td>SA_REP</td>\n",
       "      <td>7000</td>\n",
       "      <td>0.15</td>\n",
       "      <td>145</td>\n",
       "      <td>80</td>\n",
       "    </tr>\n",
       "    <tr>\n",
       "      <th>56</th>\n",
       "      <td>156</td>\n",
       "      <td>Janette</td>\n",
       "      <td>King</td>\n",
       "      <td>JKING</td>\n",
       "      <td>011.44.1345.429268</td>\n",
       "      <td>2004-01-30 00:00:00</td>\n",
       "      <td>SA_REP</td>\n",
       "      <td>10000</td>\n",
       "      <td>0.35</td>\n",
       "      <td>146</td>\n",
       "      <td>80</td>\n",
       "    </tr>\n",
       "    <tr>\n",
       "      <th>57</th>\n",
       "      <td>157</td>\n",
       "      <td>Patrick</td>\n",
       "      <td>Sully</td>\n",
       "      <td>PSULLY</td>\n",
       "      <td>011.44.1345.929268</td>\n",
       "      <td>2004-03-04 00:00:00</td>\n",
       "      <td>SA_REP</td>\n",
       "      <td>9500</td>\n",
       "      <td>0.35</td>\n",
       "      <td>146</td>\n",
       "      <td>80</td>\n",
       "    </tr>\n",
       "    <tr>\n",
       "      <th>58</th>\n",
       "      <td>158</td>\n",
       "      <td>Allan</td>\n",
       "      <td>McEwen</td>\n",
       "      <td>AMCEWEN</td>\n",
       "      <td>011.44.1345.829268</td>\n",
       "      <td>2004-08-01 00:00:00</td>\n",
       "      <td>SA_REP</td>\n",
       "      <td>9000</td>\n",
       "      <td>0.35</td>\n",
       "      <td>146</td>\n",
       "      <td>80</td>\n",
       "    </tr>\n",
       "    <tr>\n",
       "      <th>59</th>\n",
       "      <td>159</td>\n",
       "      <td>Lindsey</td>\n",
       "      <td>Smith</td>\n",
       "      <td>LSMITH</td>\n",
       "      <td>011.44.1345.729268</td>\n",
       "      <td>2005-03-10 00:00:00</td>\n",
       "      <td>SA_REP</td>\n",
       "      <td>8000</td>\n",
       "      <td>0.30</td>\n",
       "      <td>146</td>\n",
       "      <td>80</td>\n",
       "    </tr>\n",
       "    <tr>\n",
       "      <th>60</th>\n",
       "      <td>160</td>\n",
       "      <td>Louise</td>\n",
       "      <td>Doran</td>\n",
       "      <td>LDORAN</td>\n",
       "      <td>011.44.1345.629268</td>\n",
       "      <td>2005-12-15 00:00:00</td>\n",
       "      <td>SA_REP</td>\n",
       "      <td>7500</td>\n",
       "      <td>0.30</td>\n",
       "      <td>146</td>\n",
       "      <td>80</td>\n",
       "    </tr>\n",
       "    <tr>\n",
       "      <th>61</th>\n",
       "      <td>161</td>\n",
       "      <td>Sarath</td>\n",
       "      <td>Sewall</td>\n",
       "      <td>SSEWALL</td>\n",
       "      <td>011.44.1345.529268</td>\n",
       "      <td>2006-11-03 00:00:00</td>\n",
       "      <td>SA_REP</td>\n",
       "      <td>7000</td>\n",
       "      <td>0.25</td>\n",
       "      <td>146</td>\n",
       "      <td>80</td>\n",
       "    </tr>\n",
       "    <tr>\n",
       "      <th>62</th>\n",
       "      <td>162</td>\n",
       "      <td>Clara</td>\n",
       "      <td>Vishney</td>\n",
       "      <td>CVISHNEY</td>\n",
       "      <td>011.44.1346.129268</td>\n",
       "      <td>2005-11-11 00:00:00</td>\n",
       "      <td>SA_REP</td>\n",
       "      <td>10500</td>\n",
       "      <td>0.25</td>\n",
       "      <td>147</td>\n",
       "      <td>80</td>\n",
       "    </tr>\n",
       "    <tr>\n",
       "      <th>63</th>\n",
       "      <td>163</td>\n",
       "      <td>Danielle</td>\n",
       "      <td>Greene</td>\n",
       "      <td>DGREENE</td>\n",
       "      <td>011.44.1346.229268</td>\n",
       "      <td>2007-03-19 00:00:00</td>\n",
       "      <td>SA_REP</td>\n",
       "      <td>9500</td>\n",
       "      <td>0.15</td>\n",
       "      <td>147</td>\n",
       "      <td>80</td>\n",
       "    </tr>\n",
       "    <tr>\n",
       "      <th>64</th>\n",
       "      <td>164</td>\n",
       "      <td>Mattea</td>\n",
       "      <td>Marvins</td>\n",
       "      <td>MMARVINS</td>\n",
       "      <td>011.44.1346.329268</td>\n",
       "      <td>2008-01-24 00:00:00</td>\n",
       "      <td>SA_REP</td>\n",
       "      <td>7200</td>\n",
       "      <td>0.10</td>\n",
       "      <td>147</td>\n",
       "      <td>80</td>\n",
       "    </tr>\n",
       "    <tr>\n",
       "      <th>65</th>\n",
       "      <td>165</td>\n",
       "      <td>David</td>\n",
       "      <td>Lee</td>\n",
       "      <td>DLEE</td>\n",
       "      <td>011.44.1346.529268</td>\n",
       "      <td>2008-02-23 00:00:00</td>\n",
       "      <td>SA_REP</td>\n",
       "      <td>6800</td>\n",
       "      <td>0.10</td>\n",
       "      <td>147</td>\n",
       "      <td>80</td>\n",
       "    </tr>\n",
       "    <tr>\n",
       "      <th>66</th>\n",
       "      <td>166</td>\n",
       "      <td>Sundar</td>\n",
       "      <td>Ande</td>\n",
       "      <td>SANDE</td>\n",
       "      <td>011.44.1346.629268</td>\n",
       "      <td>2008-03-24 00:00:00</td>\n",
       "      <td>SA_REP</td>\n",
       "      <td>6400</td>\n",
       "      <td>0.10</td>\n",
       "      <td>147</td>\n",
       "      <td>80</td>\n",
       "    </tr>\n",
       "    <tr>\n",
       "      <th>67</th>\n",
       "      <td>167</td>\n",
       "      <td>Amit</td>\n",
       "      <td>Banda</td>\n",
       "      <td>ABANDA</td>\n",
       "      <td>011.44.1346.729268</td>\n",
       "      <td>2008-04-21 00:00:00</td>\n",
       "      <td>SA_REP</td>\n",
       "      <td>6200</td>\n",
       "      <td>0.10</td>\n",
       "      <td>147</td>\n",
       "      <td>80</td>\n",
       "    </tr>\n",
       "    <tr>\n",
       "      <th>68</th>\n",
       "      <td>168</td>\n",
       "      <td>Lisa</td>\n",
       "      <td>Ozer</td>\n",
       "      <td>LOZER</td>\n",
       "      <td>011.44.1343.929268</td>\n",
       "      <td>2005-03-11 00:00:00</td>\n",
       "      <td>SA_REP</td>\n",
       "      <td>11500</td>\n",
       "      <td>0.25</td>\n",
       "      <td>148</td>\n",
       "      <td>80</td>\n",
       "    </tr>\n",
       "    <tr>\n",
       "      <th>69</th>\n",
       "      <td>169</td>\n",
       "      <td>Harrison</td>\n",
       "      <td>Bloom</td>\n",
       "      <td>HBLOOM</td>\n",
       "      <td>011.44.1343.829268</td>\n",
       "      <td>2006-03-23 00:00:00</td>\n",
       "      <td>SA_REP</td>\n",
       "      <td>10000</td>\n",
       "      <td>0.20</td>\n",
       "      <td>148</td>\n",
       "      <td>80</td>\n",
       "    </tr>\n",
       "    <tr>\n",
       "      <th>70</th>\n",
       "      <td>170</td>\n",
       "      <td>Tayler</td>\n",
       "      <td>Fox</td>\n",
       "      <td>TFOX</td>\n",
       "      <td>011.44.1343.729268</td>\n",
       "      <td>2006-01-24 00:00:00</td>\n",
       "      <td>SA_REP</td>\n",
       "      <td>9600</td>\n",
       "      <td>0.20</td>\n",
       "      <td>148</td>\n",
       "      <td>80</td>\n",
       "    </tr>\n",
       "    <tr>\n",
       "      <th>71</th>\n",
       "      <td>171</td>\n",
       "      <td>William</td>\n",
       "      <td>Smith</td>\n",
       "      <td>WSMITH</td>\n",
       "      <td>011.44.1343.629268</td>\n",
       "      <td>2007-02-23 00:00:00</td>\n",
       "      <td>SA_REP</td>\n",
       "      <td>7400</td>\n",
       "      <td>0.15</td>\n",
       "      <td>148</td>\n",
       "      <td>80</td>\n",
       "    </tr>\n",
       "    <tr>\n",
       "      <th>72</th>\n",
       "      <td>172</td>\n",
       "      <td>Elizabeth</td>\n",
       "      <td>Bates</td>\n",
       "      <td>EBATES</td>\n",
       "      <td>011.44.1343.529268</td>\n",
       "      <td>2007-03-24 00:00:00</td>\n",
       "      <td>SA_REP</td>\n",
       "      <td>7300</td>\n",
       "      <td>0.15</td>\n",
       "      <td>148</td>\n",
       "      <td>80</td>\n",
       "    </tr>\n",
       "    <tr>\n",
       "      <th>73</th>\n",
       "      <td>173</td>\n",
       "      <td>Sundita</td>\n",
       "      <td>Kumar</td>\n",
       "      <td>SKUMAR</td>\n",
       "      <td>011.44.1343.329268</td>\n",
       "      <td>2008-04-21 00:00:00</td>\n",
       "      <td>SA_REP</td>\n",
       "      <td>6100</td>\n",
       "      <td>0.10</td>\n",
       "      <td>148</td>\n",
       "      <td>80</td>\n",
       "    </tr>\n",
       "    <tr>\n",
       "      <th>74</th>\n",
       "      <td>174</td>\n",
       "      <td>Ellen</td>\n",
       "      <td>Abel</td>\n",
       "      <td>EABEL</td>\n",
       "      <td>011.44.1644.429267</td>\n",
       "      <td>2004-05-11 00:00:00</td>\n",
       "      <td>SA_REP</td>\n",
       "      <td>11000</td>\n",
       "      <td>0.30</td>\n",
       "      <td>149</td>\n",
       "      <td>80</td>\n",
       "    </tr>\n",
       "    <tr>\n",
       "      <th>75</th>\n",
       "      <td>175</td>\n",
       "      <td>Alyssa</td>\n",
       "      <td>Hutton</td>\n",
       "      <td>AHUTTON</td>\n",
       "      <td>011.44.1644.429266</td>\n",
       "      <td>2005-03-19 00:00:00</td>\n",
       "      <td>SA_REP</td>\n",
       "      <td>8800</td>\n",
       "      <td>0.25</td>\n",
       "      <td>149</td>\n",
       "      <td>80</td>\n",
       "    </tr>\n",
       "    <tr>\n",
       "      <th>76</th>\n",
       "      <td>176</td>\n",
       "      <td>Jonathon</td>\n",
       "      <td>Taylor</td>\n",
       "      <td>JTAYLOR</td>\n",
       "      <td>011.44.1644.429265</td>\n",
       "      <td>2006-03-24 00:00:00</td>\n",
       "      <td>SA_REP</td>\n",
       "      <td>8600</td>\n",
       "      <td>0.20</td>\n",
       "      <td>149</td>\n",
       "      <td>80</td>\n",
       "    </tr>\n",
       "    <tr>\n",
       "      <th>77</th>\n",
       "      <td>177</td>\n",
       "      <td>Jack</td>\n",
       "      <td>Livingston</td>\n",
       "      <td>JLIVINGS</td>\n",
       "      <td>011.44.1644.429264</td>\n",
       "      <td>2006-04-23 00:00:00</td>\n",
       "      <td>SA_REP</td>\n",
       "      <td>8400</td>\n",
       "      <td>0.20</td>\n",
       "      <td>149</td>\n",
       "      <td>80</td>\n",
       "    </tr>\n",
       "    <tr>\n",
       "      <th>78</th>\n",
       "      <td>178</td>\n",
       "      <td>Kimberely</td>\n",
       "      <td>Grant</td>\n",
       "      <td>KGRANT</td>\n",
       "      <td>011.44.1644.429263</td>\n",
       "      <td>2007-05-24 00:00:00</td>\n",
       "      <td>SA_REP</td>\n",
       "      <td>7000</td>\n",
       "      <td>0.15</td>\n",
       "      <td>149</td>\n",
       "      <td>80</td>\n",
       "    </tr>\n",
       "    <tr>\n",
       "      <th>79</th>\n",
       "      <td>179</td>\n",
       "      <td>Charles</td>\n",
       "      <td>Johnson</td>\n",
       "      <td>CJOHNSON</td>\n",
       "      <td>011.44.1644.429262</td>\n",
       "      <td>2008-01-04 00:00:00</td>\n",
       "      <td>SA_REP</td>\n",
       "      <td>6200</td>\n",
       "      <td>0.10</td>\n",
       "      <td>149</td>\n",
       "      <td>80</td>\n",
       "    </tr>\n",
       "    <tr>\n",
       "      <th>102</th>\n",
       "      <td>202</td>\n",
       "      <td>Pat</td>\n",
       "      <td>Fay</td>\n",
       "      <td>PFAY</td>\n",
       "      <td>603.123.6666</td>\n",
       "      <td>2005-08-17 00:00:00</td>\n",
       "      <td>MK_REP</td>\n",
       "      <td>6000</td>\n",
       "      <td>0.00</td>\n",
       "      <td>201</td>\n",
       "      <td>20</td>\n",
       "    </tr>\n",
       "    <tr>\n",
       "      <th>103</th>\n",
       "      <td>203</td>\n",
       "      <td>Susan</td>\n",
       "      <td>Mavris</td>\n",
       "      <td>SMAVRIS</td>\n",
       "      <td>515.123.7777</td>\n",
       "      <td>2002-06-07 00:00:00</td>\n",
       "      <td>HR_REP</td>\n",
       "      <td>6500</td>\n",
       "      <td>0.00</td>\n",
       "      <td>101</td>\n",
       "      <td>40</td>\n",
       "    </tr>\n",
       "    <tr>\n",
       "      <th>104</th>\n",
       "      <td>204</td>\n",
       "      <td>Hermann</td>\n",
       "      <td>Baer</td>\n",
       "      <td>HBAER</td>\n",
       "      <td>515.123.8888</td>\n",
       "      <td>2002-06-07 00:00:00</td>\n",
       "      <td>PR_REP</td>\n",
       "      <td>10000</td>\n",
       "      <td>0.00</td>\n",
       "      <td>101</td>\n",
       "      <td>70</td>\n",
       "    </tr>\n",
       "  </tbody>\n",
       "</table>\n",
       "</div>"
      ],
      "text/plain": [
       "     EMPLOYEE_ID   FIRST_NAME   LAST_NAME     EMAIL        PHONE_NUMBER  \\\n",
       "50           150        Peter      Tucker   PTUCKER  011.44.1344.129268   \n",
       "51           151        David   Bernstein  DBERNSTE  011.44.1344.345268   \n",
       "52           152        Peter        Hall     PHALL  011.44.1344.478968   \n",
       "53           153  Christopher       Olsen    COLSEN  011.44.1344.498718   \n",
       "54           154      Nanette   Cambrault  NCAMBRAU  011.44.1344.987668   \n",
       "55           155       Oliver     Tuvault  OTUVAULT  011.44.1344.486508   \n",
       "56           156      Janette        King     JKING  011.44.1345.429268   \n",
       "57           157      Patrick       Sully    PSULLY  011.44.1345.929268   \n",
       "58           158        Allan      McEwen   AMCEWEN  011.44.1345.829268   \n",
       "59           159      Lindsey       Smith    LSMITH  011.44.1345.729268   \n",
       "60           160       Louise       Doran    LDORAN  011.44.1345.629268   \n",
       "61           161       Sarath      Sewall   SSEWALL  011.44.1345.529268   \n",
       "62           162        Clara     Vishney  CVISHNEY  011.44.1346.129268   \n",
       "63           163     Danielle      Greene   DGREENE  011.44.1346.229268   \n",
       "64           164       Mattea     Marvins  MMARVINS  011.44.1346.329268   \n",
       "65           165        David         Lee      DLEE  011.44.1346.529268   \n",
       "66           166       Sundar        Ande     SANDE  011.44.1346.629268   \n",
       "67           167         Amit       Banda    ABANDA  011.44.1346.729268   \n",
       "68           168         Lisa        Ozer     LOZER  011.44.1343.929268   \n",
       "69           169     Harrison       Bloom    HBLOOM  011.44.1343.829268   \n",
       "70           170       Tayler         Fox      TFOX  011.44.1343.729268   \n",
       "71           171      William       Smith    WSMITH  011.44.1343.629268   \n",
       "72           172    Elizabeth       Bates    EBATES  011.44.1343.529268   \n",
       "73           173      Sundita       Kumar    SKUMAR  011.44.1343.329268   \n",
       "74           174        Ellen        Abel     EABEL  011.44.1644.429267   \n",
       "75           175       Alyssa      Hutton   AHUTTON  011.44.1644.429266   \n",
       "76           176     Jonathon      Taylor   JTAYLOR  011.44.1644.429265   \n",
       "77           177         Jack  Livingston  JLIVINGS  011.44.1644.429264   \n",
       "78           178    Kimberely       Grant    KGRANT  011.44.1644.429263   \n",
       "79           179      Charles     Johnson  CJOHNSON  011.44.1644.429262   \n",
       "102          202          Pat         Fay      PFAY        603.123.6666   \n",
       "103          203        Susan      Mavris   SMAVRIS        515.123.7777   \n",
       "104          204      Hermann        Baer     HBAER        515.123.8888   \n",
       "\n",
       "               HIRE_DATE  JOB_ID  SALARY  COMMISSION_PCT  MANAGER_ID  \\\n",
       "50   2005-01-30 00:00:00  SA_REP   10000            0.30         145   \n",
       "51   2005-03-24 00:00:00  SA_REP    9500            0.25         145   \n",
       "52   2005-08-20 00:00:00  SA_REP    9000            0.25         145   \n",
       "53   2006-03-30 00:00:00  SA_REP    8000            0.20         145   \n",
       "54   2006-12-09 00:00:00  SA_REP    7500            0.20         145   \n",
       "55   2007-11-23 00:00:00  SA_REP    7000            0.15         145   \n",
       "56   2004-01-30 00:00:00  SA_REP   10000            0.35         146   \n",
       "57   2004-03-04 00:00:00  SA_REP    9500            0.35         146   \n",
       "58   2004-08-01 00:00:00  SA_REP    9000            0.35         146   \n",
       "59   2005-03-10 00:00:00  SA_REP    8000            0.30         146   \n",
       "60   2005-12-15 00:00:00  SA_REP    7500            0.30         146   \n",
       "61   2006-11-03 00:00:00  SA_REP    7000            0.25         146   \n",
       "62   2005-11-11 00:00:00  SA_REP   10500            0.25         147   \n",
       "63   2007-03-19 00:00:00  SA_REP    9500            0.15         147   \n",
       "64   2008-01-24 00:00:00  SA_REP    7200            0.10         147   \n",
       "65   2008-02-23 00:00:00  SA_REP    6800            0.10         147   \n",
       "66   2008-03-24 00:00:00  SA_REP    6400            0.10         147   \n",
       "67   2008-04-21 00:00:00  SA_REP    6200            0.10         147   \n",
       "68   2005-03-11 00:00:00  SA_REP   11500            0.25         148   \n",
       "69   2006-03-23 00:00:00  SA_REP   10000            0.20         148   \n",
       "70   2006-01-24 00:00:00  SA_REP    9600            0.20         148   \n",
       "71   2007-02-23 00:00:00  SA_REP    7400            0.15         148   \n",
       "72   2007-03-24 00:00:00  SA_REP    7300            0.15         148   \n",
       "73   2008-04-21 00:00:00  SA_REP    6100            0.10         148   \n",
       "74   2004-05-11 00:00:00  SA_REP   11000            0.30         149   \n",
       "75   2005-03-19 00:00:00  SA_REP    8800            0.25         149   \n",
       "76   2006-03-24 00:00:00  SA_REP    8600            0.20         149   \n",
       "77   2006-04-23 00:00:00  SA_REP    8400            0.20         149   \n",
       "78   2007-05-24 00:00:00  SA_REP    7000            0.15         149   \n",
       "79   2008-01-04 00:00:00  SA_REP    6200            0.10         149   \n",
       "102  2005-08-17 00:00:00  MK_REP    6000            0.00         201   \n",
       "103  2002-06-07 00:00:00  HR_REP    6500            0.00         101   \n",
       "104  2002-06-07 00:00:00  PR_REP   10000            0.00         101   \n",
       "\n",
       "     DEPARTMENT_ID  \n",
       "50              80  \n",
       "51              80  \n",
       "52              80  \n",
       "53              80  \n",
       "54              80  \n",
       "55              80  \n",
       "56              80  \n",
       "57              80  \n",
       "58              80  \n",
       "59              80  \n",
       "60              80  \n",
       "61              80  \n",
       "62              80  \n",
       "63              80  \n",
       "64              80  \n",
       "65              80  \n",
       "66              80  \n",
       "67              80  \n",
       "68              80  \n",
       "69              80  \n",
       "70              80  \n",
       "71              80  \n",
       "72              80  \n",
       "73              80  \n",
       "74              80  \n",
       "75              80  \n",
       "76              80  \n",
       "77              80  \n",
       "78              80  \n",
       "79              80  \n",
       "102             20  \n",
       "103             40  \n",
       "104             70  "
      ]
     },
     "execution_count": 7,
     "metadata": {},
     "output_type": "execute_result"
    }
   ],
   "source": [
    "# Find employees whose JOB_ID contains “REP” (Representative)\n",
    "emp_df[emp_df['JOB_ID'].str.contains('REP')]"
   ]
  },
  {
   "cell_type": "code",
   "execution_count": 8,
   "id": "ee398623",
   "metadata": {},
   "outputs": [
    {
     "data": {
      "text/plain": [
       "0         sking\n",
       "1      nkochhar\n",
       "2       ldehaan\n",
       "3       ahunold\n",
       "4        bernst\n",
       "         ...   \n",
       "102        pfay\n",
       "103     smavris\n",
       "104       hbaer\n",
       "105    shiggins\n",
       "106      wgietz\n",
       "Name: EMAIL, Length: 107, dtype: object"
      ]
     },
     "execution_count": 8,
     "metadata": {},
     "output_type": "execute_result"
    }
   ],
   "source": [
    "emp_df['EMAIL'].str.lower()"
   ]
  },
  {
   "cell_type": "code",
   "execution_count": 9,
   "id": "2fb69a5d",
   "metadata": {},
   "outputs": [
    {
     "data": {
      "text/html": [
       "<div>\n",
       "<style scoped>\n",
       "    .dataframe tbody tr th:only-of-type {\n",
       "        vertical-align: middle;\n",
       "    }\n",
       "\n",
       "    .dataframe tbody tr th {\n",
       "        vertical-align: top;\n",
       "    }\n",
       "\n",
       "    .dataframe thead th {\n",
       "        text-align: right;\n",
       "    }\n",
       "</style>\n",
       "<table border=\"1\" class=\"dataframe\">\n",
       "  <thead>\n",
       "    <tr style=\"text-align: right;\">\n",
       "      <th></th>\n",
       "      <th>EMPLOYEE_ID</th>\n",
       "      <th>FIRST_NAME</th>\n",
       "      <th>LAST_NAME</th>\n",
       "      <th>EMAIL</th>\n",
       "      <th>PHONE_NUMBER</th>\n",
       "      <th>HIRE_DATE</th>\n",
       "      <th>JOB_ID</th>\n",
       "      <th>SALARY</th>\n",
       "      <th>COMMISSION_PCT</th>\n",
       "      <th>MANAGER_ID</th>\n",
       "      <th>DEPARTMENT_ID</th>\n",
       "    </tr>\n",
       "  </thead>\n",
       "  <tbody>\n",
       "    <tr>\n",
       "      <th>0</th>\n",
       "      <td>100</td>\n",
       "      <td>Steven</td>\n",
       "      <td>King</td>\n",
       "      <td>sking</td>\n",
       "      <td>515.123.4567</td>\n",
       "      <td>2003-06-17 00:00:00</td>\n",
       "      <td>AD_PRES</td>\n",
       "      <td>24000</td>\n",
       "      <td>0.0</td>\n",
       "      <td>0</td>\n",
       "      <td>90</td>\n",
       "    </tr>\n",
       "    <tr>\n",
       "      <th>1</th>\n",
       "      <td>101</td>\n",
       "      <td>Neena</td>\n",
       "      <td>Kochhar</td>\n",
       "      <td>nkochhar</td>\n",
       "      <td>515.123.4568</td>\n",
       "      <td>2005-09-21 00:00:00</td>\n",
       "      <td>AD_VP</td>\n",
       "      <td>17000</td>\n",
       "      <td>0.0</td>\n",
       "      <td>100</td>\n",
       "      <td>90</td>\n",
       "    </tr>\n",
       "    <tr>\n",
       "      <th>2</th>\n",
       "      <td>102</td>\n",
       "      <td>Lex</td>\n",
       "      <td>De Haan</td>\n",
       "      <td>ldehaan</td>\n",
       "      <td>515.123.4569</td>\n",
       "      <td>2001-01-13 00:00:00</td>\n",
       "      <td>AD_VP</td>\n",
       "      <td>17000</td>\n",
       "      <td>0.0</td>\n",
       "      <td>100</td>\n",
       "      <td>90</td>\n",
       "    </tr>\n",
       "    <tr>\n",
       "      <th>3</th>\n",
       "      <td>103</td>\n",
       "      <td>Alexander</td>\n",
       "      <td>Hunold</td>\n",
       "      <td>ahunold</td>\n",
       "      <td>590.423.4567</td>\n",
       "      <td>2006-01-03 00:00:00</td>\n",
       "      <td>IT_PROG</td>\n",
       "      <td>9000</td>\n",
       "      <td>0.0</td>\n",
       "      <td>102</td>\n",
       "      <td>60</td>\n",
       "    </tr>\n",
       "    <tr>\n",
       "      <th>4</th>\n",
       "      <td>104</td>\n",
       "      <td>Bruce</td>\n",
       "      <td>Ernst</td>\n",
       "      <td>bernst</td>\n",
       "      <td>590.423.4568</td>\n",
       "      <td>2007-05-21 00:00:00</td>\n",
       "      <td>IT_PROG</td>\n",
       "      <td>6000</td>\n",
       "      <td>0.0</td>\n",
       "      <td>103</td>\n",
       "      <td>60</td>\n",
       "    </tr>\n",
       "  </tbody>\n",
       "</table>\n",
       "</div>"
      ],
      "text/plain": [
       "   EMPLOYEE_ID FIRST_NAME LAST_NAME     EMAIL  PHONE_NUMBER  \\\n",
       "0          100     Steven      King     sking  515.123.4567   \n",
       "1          101      Neena   Kochhar  nkochhar  515.123.4568   \n",
       "2          102        Lex   De Haan   ldehaan  515.123.4569   \n",
       "3          103  Alexander    Hunold   ahunold  590.423.4567   \n",
       "4          104      Bruce     Ernst    bernst  590.423.4568   \n",
       "\n",
       "             HIRE_DATE   JOB_ID  SALARY  COMMISSION_PCT  MANAGER_ID  \\\n",
       "0  2003-06-17 00:00:00  AD_PRES   24000             0.0           0   \n",
       "1  2005-09-21 00:00:00    AD_VP   17000             0.0         100   \n",
       "2  2001-01-13 00:00:00    AD_VP   17000             0.0         100   \n",
       "3  2006-01-03 00:00:00  IT_PROG    9000             0.0         102   \n",
       "4  2007-05-21 00:00:00  IT_PROG    6000             0.0         103   \n",
       "\n",
       "   DEPARTMENT_ID  \n",
       "0             90  \n",
       "1             90  \n",
       "2             90  \n",
       "3             60  \n",
       "4             60  "
      ]
     },
     "execution_count": 9,
     "metadata": {},
     "output_type": "execute_result"
    }
   ],
   "source": [
    "# Convert EMAIL column to lowercase\n",
    "emp_df['EMAIL'] = emp_df['EMAIL'].str.lower()\n",
    "emp_df.head()"
   ]
  },
  {
   "cell_type": "code",
   "execution_count": 10,
   "id": "625936c8",
   "metadata": {},
   "outputs": [
    {
     "data": {
      "text/plain": [
       "0         [AD, PRES]\n",
       "1           [AD, VP]\n",
       "2           [AD, VP]\n",
       "3         [IT, PROG]\n",
       "4         [IT, PROG]\n",
       "           ...      \n",
       "102        [MK, REP]\n",
       "103        [HR, REP]\n",
       "104        [PR, REP]\n",
       "105        [AC, MGR]\n",
       "106    [AC, ACCOUNT]\n",
       "Name: JOB_ID, Length: 107, dtype: object"
      ]
     },
     "execution_count": 10,
     "metadata": {},
     "output_type": "execute_result"
    }
   ],
   "source": [
    "emp_df['JOB_ID'].str.split('_')"
   ]
  },
  {
   "cell_type": "code",
   "execution_count": 13,
   "id": "236a888a",
   "metadata": {},
   "outputs": [
    {
     "name": "stdout",
     "output_type": "stream",
     "text": [
      "Cox\n",
      "Alexander\n",
      "Dixon\n",
      "Fox\n",
      "Vasquez\n",
      "Rodriquez\n",
      "Maxwell\n",
      "Wilcox\n",
      "Marquez\n",
      "Vazquez\n",
      "Baxter\n",
      "Knox\n",
      "Nixon\n",
      "Sexton\n",
      "Velasquez\n",
      "Maddox\n",
      "Hendrix\n",
      "Velazquez\n",
      "Felix\n",
      "Nix\n",
      "Mcqueen\n",
      "Enriquez\n",
      "Naquin\n",
      "Boudreaux\n",
      "Esquivel\n",
      "Braxton\n",
      "Paquette\n",
      "Mixon\n",
      "Squires\n",
      "Jacques\n",
      "Paxton\n",
      "Levesque\n"
     ]
    }
   ],
   "source": [
    "# q-x\n",
    "f = open('data/last_names.txt')\n",
    "for line in f:\n",
    "    regex = '[qx]'\n",
    "    if re.search(regex, line):\n",
    "        print(line, end = '')\n",
    "f.close()"
   ]
  },
  {
   "cell_type": "code",
   "execution_count": 14,
   "id": "0d3f24b8",
   "metadata": {},
   "outputs": [
    {
     "name": "stdout",
     "output_type": "stream",
     "text": [
      "Vasquez\n",
      "Vargas\n",
      "Varner\n",
      "Varela\n",
      "Varney\n"
     ]
    }
   ],
   "source": [
    "# last-name Barn\n",
    "f = open('data/last_names.txt')\n",
    "for line in f:\n",
    "    regex = '^Va[rs]'\n",
    "    if re.search(regex, line):\n",
    "        print(line, end = '')\n",
    "f.close()"
   ]
  },
  {
   "cell_type": "code",
   "execution_count": 15,
   "id": "805fb57f",
   "metadata": {},
   "outputs": [
    {
     "name": "stdout",
     "output_type": "stream",
     "text": [
      "Klein\n",
      "Morin\n",
      "Stein\n",
      "Irwin\n",
      "Swain\n",
      "Ervin\n",
      "Erwin\n",
      "Irvin\n",
      "Marin\n",
      "Tobin\n",
      "Crain\n",
      "Rubin\n",
      "Spain\n",
      "Levin\n"
     ]
    }
   ],
   "source": [
    "# Find last_names with 5 characters, starting with M and ending with in\n",
    "f = open('data/last_names.txt')\n",
    "for line in f:\n",
    "    regex = '^...in$'\n",
    "    if re.search(regex, line):\n",
    "        print(line, end = '')\n",
    "f.close()"
   ]
  },
  {
   "cell_type": "code",
   "execution_count": 17,
   "id": "2852fd2c",
   "metadata": {},
   "outputs": [],
   "source": [
    "text = \"\"\"Lương nhân viên theo đơn vị tiền tệ Euro là 800€, 1000€, 1500€, 1200€, 960€, 786€.\n",
    "Chuyển đổi sang Dollar sẽ là 848$, 1060$, 1590$, 1272.$, 1017.6$, 833.16$\"\"\""
   ]
  },
  {
   "cell_type": "code",
   "execution_count": 18,
   "id": "fc123bc5",
   "metadata": {},
   "outputs": [
    {
     "name": "stdout",
     "output_type": "stream",
     "text": [
      "['800€', '1000€', '1500€', '1200€', '960€', '786€', '848$', '1060$', '1590$', '1272.$', '1017.6$', '833.16$']\n"
     ]
    }
   ],
   "source": [
    "pattern = '[0-9]+\\.?\\d*\\W'\n",
    "\n",
    "print(re.findall(pattern, text))"
   ]
  },
  {
   "cell_type": "code",
   "execution_count": 19,
   "id": "1ef521b1",
   "metadata": {},
   "outputs": [
    {
     "name": "stdout",
     "output_type": "stream",
     "text": [
      "['800€', '1000€', '1500€', '1200€', '960€', '786€', '848$', '1060$', '1590$', '1017.6$', '833.16$']\n"
     ]
    }
   ],
   "source": [
    "pattern = '\\d+\\.?\\d+[€$]'\n",
    "\n",
    "print(re.findall(pattern, text))"
   ]
  },
  {
   "cell_type": "code",
   "execution_count": 20,
   "id": "599598fc",
   "metadata": {},
   "outputs": [
    {
     "name": "stdout",
     "output_type": "stream",
     "text": [
      "['800€', '1000€', '1500€', '1200€', '960€', '786€', '848$', '1060$', '1590$', '1017.6$', '833.16$']\n"
     ]
    }
   ],
   "source": [
    "pattern = '\\d{1,}\\.{0,1}\\d+[€$]'\n",
    "\n",
    "print(re.findall(pattern, text))"
   ]
  },
  {
   "cell_type": "code",
   "execution_count": 21,
   "id": "04d18686",
   "metadata": {},
   "outputs": [
    {
     "name": "stdout",
     "output_type": "stream",
     "text": [
      "['800€', '1000€', '1500€', '1200€', '960€', '786€', '848$', '1060$', '1590$', '1272.$', '1017.6$', '833.16$']\n"
     ]
    }
   ],
   "source": [
    "# Get all salaries in Euro and Dollar (including currency symbol)\n",
    "pattern = '\\d+\\.?\\d*\\W'\n",
    "\n",
    "print(re.findall(pattern, text))"
   ]
  },
  {
   "cell_type": "code",
   "execution_count": null,
   "id": "2967d9fa",
   "metadata": {},
   "outputs": [],
   "source": [
    "# create a pattern for the user name from 3 to 16 characters.\n",
    "# It can only contain numbers and letters (no uppercase letters),\n",
    "# hyphens and underscores"
   ]
  },
  {
   "cell_type": "code",
   "execution_count": 22,
   "id": "aa85b297",
   "metadata": {},
   "outputs": [],
   "source": [
    "p = '^[a-z0-9_-]{3,16}$'"
   ]
  },
  {
   "cell_type": "code",
   "execution_count": 23,
   "id": "d8daffce",
   "metadata": {},
   "outputs": [
    {
     "name": "stdout",
     "output_type": "stream",
     "text": [
      "True\n"
     ]
    }
   ],
   "source": [
    "# Check if the username meets the requirements\n",
    "print(bool(re.match(p, 'alice_20-03-05')))"
   ]
  },
  {
   "cell_type": "code",
   "execution_count": 24,
   "id": "5bc6e274",
   "metadata": {},
   "outputs": [
    {
     "name": "stdout",
     "output_type": "stream",
     "text": [
      "True\n"
     ]
    }
   ],
   "source": [
    "print(bool(re.match(p, 'ali')))"
   ]
  },
  {
   "cell_type": "code",
   "execution_count": 25,
   "id": "f1aa478c",
   "metadata": {},
   "outputs": [
    {
     "name": "stdout",
     "output_type": "stream",
     "text": [
      "False\n"
     ]
    }
   ],
   "source": [
    "print(bool(re.match(p, 'samantha@1996')))"
   ]
  },
  {
   "cell_type": "code",
   "execution_count": 26,
   "id": "a88682eb",
   "metadata": {},
   "outputs": [
    {
     "data": {
      "text/plain": [
       "['User9', 'User8']"
      ]
     },
     "execution_count": 26,
     "metadata": {},
     "output_type": "execute_result"
    }
   ],
   "source": [
    "text = \"The winners are: User9, UserN, User8. The prize is $3000.\"\n",
    "# Find all Users whose user code is a number\n",
    "re.findall(\"User\\d\", text)"
   ]
  },
  {
   "cell_type": "code",
   "execution_count": 27,
   "id": "ba4f4527",
   "metadata": {},
   "outputs": [
    {
     "data": {
      "text/plain": [
       "['UserN']"
      ]
     },
     "execution_count": 27,
     "metadata": {},
     "output_type": "execute_result"
    }
   ],
   "source": [
    "# Find all Users whose user ID is not a number\n",
    "re.findall(\"User\\D\", text)"
   ]
  },
  {
   "cell_type": "code",
   "execution_count": 28,
   "id": "c414c4b6",
   "metadata": {},
   "outputs": [
    {
     "data": {
      "text/plain": [
       "['User9', 'UserN', 'User8']"
      ]
     },
     "execution_count": 28,
     "metadata": {},
     "output_type": "execute_result"
    }
   ],
   "source": [
    "# Find all Users whose user code is a number or letter\n",
    "re.findall(\"User\\w\", text)"
   ]
  },
  {
   "cell_type": "code",
   "execution_count": 29,
   "id": "91f09b95",
   "metadata": {},
   "outputs": [
    {
     "data": {
      "text/plain": [
       "['$3000']"
      ]
     },
     "execution_count": 29,
     "metadata": {},
     "output_type": "execute_result"
    }
   ],
   "source": [
    "# Find bonuses (including currency symbols)\n",
    "re.findall(\"\\W\\d+\", text)"
   ]
  },
  {
   "cell_type": "code",
   "execution_count": 30,
   "id": "9749d0d8",
   "metadata": {},
   "outputs": [
    {
     "data": {
      "text/plain": [
       "'The winners are: User9, UserN, User8. The prize is $3000.'"
      ]
     },
     "execution_count": 30,
     "metadata": {},
     "output_type": "execute_result"
    }
   ],
   "source": [
    "text"
   ]
  },
  {
   "cell_type": "code",
   "execution_count": 31,
   "id": "f64f1356",
   "metadata": {},
   "outputs": [
    {
     "data": {
      "text/plain": [
       "['The winners are', 'User9', 'UserN', 'User8', 'The prize is $3000.']"
      ]
     },
     "execution_count": 31,
     "metadata": {},
     "output_type": "execute_result"
    }
   ],
   "source": [
    "# Split string based on punctuation and whitespace\n",
    "re.split(\"\\W\\s\", text)"
   ]
  },
  {
   "cell_type": "code",
   "execution_count": 32,
   "id": "0f4458cc",
   "metadata": {},
   "outputs": [
    {
     "data": {
      "text/plain": [
       "['20230209', 'TT', 'CV', '0001']"
      ]
     },
     "execution_count": 32,
     "metadata": {},
     "output_type": "execute_result"
    }
   ],
   "source": [
    "# split\n",
    "order_id = '20230209-TT*CV#0001'\n",
    "re.split('\\W', order_id)"
   ]
  },
  {
   "cell_type": "code",
   "execution_count": 33,
   "id": "45011eb6",
   "metadata": {},
   "outputs": [
    {
     "data": {
      "text/html": [
       "<div>\n",
       "<style scoped>\n",
       "    .dataframe tbody tr th:only-of-type {\n",
       "        vertical-align: middle;\n",
       "    }\n",
       "\n",
       "    .dataframe tbody tr th {\n",
       "        vertical-align: top;\n",
       "    }\n",
       "\n",
       "    .dataframe thead th {\n",
       "        text-align: right;\n",
       "    }\n",
       "</style>\n",
       "<table border=\"1\" class=\"dataframe\">\n",
       "  <thead>\n",
       "    <tr style=\"text-align: right;\">\n",
       "      <th></th>\n",
       "      <th>order_id</th>\n",
       "    </tr>\n",
       "  </thead>\n",
       "  <tbody>\n",
       "    <tr>\n",
       "      <th>0</th>\n",
       "      <td>20230209-TT*CV#0001</td>\n",
       "    </tr>\n",
       "    <tr>\n",
       "      <th>1</th>\n",
       "      <td>20230208-DT*LT#0010</td>\n",
       "    </tr>\n",
       "  </tbody>\n",
       "</table>\n",
       "</div>"
      ],
      "text/plain": [
       "              order_id\n",
       "0  20230209-TT*CV#0001\n",
       "1  20230208-DT*LT#0010"
      ]
     },
     "execution_count": 33,
     "metadata": {},
     "output_type": "execute_result"
    }
   ],
   "source": [
    "order = pd.DataFrame(['20230209-TT*CV#0001', '20230208-DT*LT#0010'],\n",
    "                     columns=['order_id'])\n",
    "order"
   ]
  },
  {
   "cell_type": "code",
   "execution_count": 34,
   "id": "c20262d2",
   "metadata": {},
   "outputs": [
    {
     "data": {
      "text/html": [
       "<div>\n",
       "<style scoped>\n",
       "    .dataframe tbody tr th:only-of-type {\n",
       "        vertical-align: middle;\n",
       "    }\n",
       "\n",
       "    .dataframe tbody tr th {\n",
       "        vertical-align: top;\n",
       "    }\n",
       "\n",
       "    .dataframe thead th {\n",
       "        text-align: right;\n",
       "    }\n",
       "</style>\n",
       "<table border=\"1\" class=\"dataframe\">\n",
       "  <thead>\n",
       "    <tr style=\"text-align: right;\">\n",
       "      <th></th>\n",
       "      <th>0</th>\n",
       "      <th>1</th>\n",
       "      <th>2</th>\n",
       "      <th>3</th>\n",
       "    </tr>\n",
       "  </thead>\n",
       "  <tbody>\n",
       "    <tr>\n",
       "      <th>0</th>\n",
       "      <td>20230209</td>\n",
       "      <td>TT</td>\n",
       "      <td>CV</td>\n",
       "      <td>0001</td>\n",
       "    </tr>\n",
       "    <tr>\n",
       "      <th>1</th>\n",
       "      <td>20230208</td>\n",
       "      <td>DT</td>\n",
       "      <td>LT</td>\n",
       "      <td>0010</td>\n",
       "    </tr>\n",
       "  </tbody>\n",
       "</table>\n",
       "</div>"
      ],
      "text/plain": [
       "          0   1   2     3\n",
       "0  20230209  TT  CV  0001\n",
       "1  20230208  DT  LT  0010"
      ]
     },
     "execution_count": 34,
     "metadata": {},
     "output_type": "execute_result"
    }
   ],
   "source": [
    "order['order_id'].str.split('\\W',expand=True)"
   ]
  },
  {
   "cell_type": "code",
   "execution_count": 35,
   "id": "465ff64f",
   "metadata": {},
   "outputs": [
    {
     "data": {
      "text/html": [
       "<div>\n",
       "<style scoped>\n",
       "    .dataframe tbody tr th:only-of-type {\n",
       "        vertical-align: middle;\n",
       "    }\n",
       "\n",
       "    .dataframe tbody tr th {\n",
       "        vertical-align: top;\n",
       "    }\n",
       "\n",
       "    .dataframe thead th {\n",
       "        text-align: right;\n",
       "    }\n",
       "</style>\n",
       "<table border=\"1\" class=\"dataframe\">\n",
       "  <thead>\n",
       "    <tr style=\"text-align: right;\">\n",
       "      <th></th>\n",
       "      <th>order_id</th>\n",
       "      <th>order_date</th>\n",
       "      <th>category</th>\n",
       "      <th>product</th>\n",
       "      <th>item</th>\n",
       "    </tr>\n",
       "  </thead>\n",
       "  <tbody>\n",
       "    <tr>\n",
       "      <th>0</th>\n",
       "      <td>20230209-TT*CV#0001</td>\n",
       "      <td>20230209</td>\n",
       "      <td>TT</td>\n",
       "      <td>CV</td>\n",
       "      <td>0001</td>\n",
       "    </tr>\n",
       "    <tr>\n",
       "      <th>1</th>\n",
       "      <td>20230208-DT*LT#0010</td>\n",
       "      <td>20230208</td>\n",
       "      <td>DT</td>\n",
       "      <td>LT</td>\n",
       "      <td>0010</td>\n",
       "    </tr>\n",
       "  </tbody>\n",
       "</table>\n",
       "</div>"
      ],
      "text/plain": [
       "              order_id order_date category product  item\n",
       "0  20230209-TT*CV#0001   20230209       TT      CV  0001\n",
       "1  20230208-DT*LT#0010   20230208       DT      LT  0010"
      ]
     },
     "execution_count": 35,
     "metadata": {},
     "output_type": "execute_result"
    }
   ],
   "source": [
    "order[['order_date', 'category', 'product', 'item']] = order['order_id'].str.split('\\W', expand=True)\n",
    "order"
   ]
  },
  {
   "cell_type": "code",
   "execution_count": 36,
   "id": "be7301d7",
   "metadata": {},
   "outputs": [
    {
     "data": {
      "text/html": [
       "<div>\n",
       "<style scoped>\n",
       "    .dataframe tbody tr th:only-of-type {\n",
       "        vertical-align: middle;\n",
       "    }\n",
       "\n",
       "    .dataframe tbody tr th {\n",
       "        vertical-align: top;\n",
       "    }\n",
       "\n",
       "    .dataframe thead th {\n",
       "        text-align: right;\n",
       "    }\n",
       "</style>\n",
       "<table border=\"1\" class=\"dataframe\">\n",
       "  <thead>\n",
       "    <tr style=\"text-align: right;\">\n",
       "      <th></th>\n",
       "      <th>0</th>\n",
       "      <th>1</th>\n",
       "      <th>2</th>\n",
       "      <th>3</th>\n",
       "    </tr>\n",
       "  </thead>\n",
       "  <tbody>\n",
       "    <tr>\n",
       "      <th>0</th>\n",
       "      <td>20230209</td>\n",
       "      <td>TT</td>\n",
       "      <td>CV</td>\n",
       "      <td>0001</td>\n",
       "    </tr>\n",
       "    <tr>\n",
       "      <th>1</th>\n",
       "      <td>20230208</td>\n",
       "      <td>DT</td>\n",
       "      <td>LT</td>\n",
       "      <td>0010</td>\n",
       "    </tr>\n",
       "  </tbody>\n",
       "</table>\n",
       "</div>"
      ],
      "text/plain": [
       "          0   1   2     3\n",
       "0  20230209  TT  CV  0001\n",
       "1  20230208  DT  LT  0010"
      ]
     },
     "execution_count": 36,
     "metadata": {},
     "output_type": "execute_result"
    }
   ],
   "source": [
    "order['order_id'].str.extract('(\\d+)-([A-Z]+)\\W(\\w+)#(\\d+)')"
   ]
  },
  {
   "cell_type": "code",
   "execution_count": 37,
   "id": "89df5a51",
   "metadata": {},
   "outputs": [
    {
     "data": {
      "text/html": [
       "<div>\n",
       "<style scoped>\n",
       "    .dataframe tbody tr th:only-of-type {\n",
       "        vertical-align: middle;\n",
       "    }\n",
       "\n",
       "    .dataframe tbody tr th {\n",
       "        vertical-align: top;\n",
       "    }\n",
       "\n",
       "    .dataframe thead th {\n",
       "        text-align: right;\n",
       "    }\n",
       "</style>\n",
       "<table border=\"1\" class=\"dataframe\">\n",
       "  <thead>\n",
       "    <tr style=\"text-align: right;\">\n",
       "      <th></th>\n",
       "      <th>0</th>\n",
       "      <th>1</th>\n",
       "      <th>2</th>\n",
       "      <th>3</th>\n",
       "    </tr>\n",
       "  </thead>\n",
       "  <tbody>\n",
       "    <tr>\n",
       "      <th>0</th>\n",
       "      <td>20230209</td>\n",
       "      <td>TT</td>\n",
       "      <td>CV</td>\n",
       "      <td>0001</td>\n",
       "    </tr>\n",
       "    <tr>\n",
       "      <th>1</th>\n",
       "      <td>20230208</td>\n",
       "      <td>DT</td>\n",
       "      <td>LT</td>\n",
       "      <td>0010</td>\n",
       "    </tr>\n",
       "  </tbody>\n",
       "</table>\n",
       "</div>"
      ],
      "text/plain": [
       "          0   1   2     3\n",
       "0  20230209  TT  CV  0001\n",
       "1  20230208  DT  LT  0010"
      ]
     },
     "execution_count": 37,
     "metadata": {},
     "output_type": "execute_result"
    }
   ],
   "source": [
    "order['order_id'].str.extract('(\\w+)\\W(\\w+)\\W(\\w+)\\W(\\w+)')"
   ]
  },
  {
   "cell_type": "code",
   "execution_count": 38,
   "id": "e228134e",
   "metadata": {},
   "outputs": [
    {
     "data": {
      "text/html": [
       "<div>\n",
       "<style scoped>\n",
       "    .dataframe tbody tr th:only-of-type {\n",
       "        vertical-align: middle;\n",
       "    }\n",
       "\n",
       "    .dataframe tbody tr th {\n",
       "        vertical-align: top;\n",
       "    }\n",
       "\n",
       "    .dataframe thead th {\n",
       "        text-align: right;\n",
       "    }\n",
       "</style>\n",
       "<table border=\"1\" class=\"dataframe\">\n",
       "  <thead>\n",
       "    <tr style=\"text-align: right;\">\n",
       "      <th></th>\n",
       "      <th>order_id</th>\n",
       "      <th>order_date</th>\n",
       "      <th>category</th>\n",
       "      <th>product</th>\n",
       "      <th>item</th>\n",
       "    </tr>\n",
       "  </thead>\n",
       "  <tbody>\n",
       "    <tr>\n",
       "      <th>0</th>\n",
       "      <td>20230209-TT*CV#0001</td>\n",
       "      <td>20230209</td>\n",
       "      <td>TT</td>\n",
       "      <td>CV</td>\n",
       "      <td>0001</td>\n",
       "    </tr>\n",
       "    <tr>\n",
       "      <th>1</th>\n",
       "      <td>20230208-DT*LT#0010</td>\n",
       "      <td>20230208</td>\n",
       "      <td>DT</td>\n",
       "      <td>LT</td>\n",
       "      <td>0010</td>\n",
       "    </tr>\n",
       "  </tbody>\n",
       "</table>\n",
       "</div>"
      ],
      "text/plain": [
       "              order_id order_date category product  item\n",
       "0  20230209-TT*CV#0001   20230209       TT      CV  0001\n",
       "1  20230208-DT*LT#0010   20230208       DT      LT  0010"
      ]
     },
     "execution_count": 38,
     "metadata": {},
     "output_type": "execute_result"
    }
   ],
   "source": [
    "# other\n",
    "order[['order_date', 'category', 'product', 'item']] = order['order_id'].str.extract('(\\w+)\\W(\\w+)\\W(\\w+)\\W(\\w+)')\n",
    "order"
   ]
  },
  {
   "cell_type": "code",
   "execution_count": 39,
   "id": "8ba2a33e",
   "metadata": {},
   "outputs": [
    {
     "data": {
      "text/plain": [
       "40000"
      ]
     },
     "execution_count": 39,
     "metadata": {},
     "output_type": "execute_result"
    }
   ],
   "source": [
    "# replace\n",
    "price = '$40,000'\n",
    "price = int(re.sub('\\D+', '', price))\n",
    "price"
   ]
  },
  {
   "cell_type": "code",
   "execution_count": 40,
   "id": "2afa8b34",
   "metadata": {},
   "outputs": [
    {
     "data": {
      "text/html": [
       "<div>\n",
       "<style scoped>\n",
       "    .dataframe tbody tr th:only-of-type {\n",
       "        vertical-align: middle;\n",
       "    }\n",
       "\n",
       "    .dataframe tbody tr th {\n",
       "        vertical-align: top;\n",
       "    }\n",
       "\n",
       "    .dataframe thead th {\n",
       "        text-align: right;\n",
       "    }\n",
       "</style>\n",
       "<table border=\"1\" class=\"dataframe\">\n",
       "  <thead>\n",
       "    <tr style=\"text-align: right;\">\n",
       "      <th></th>\n",
       "      <th>Price</th>\n",
       "    </tr>\n",
       "  </thead>\n",
       "  <tbody>\n",
       "    <tr>\n",
       "      <th>0</th>\n",
       "      <td>$40,000*</td>\n",
       "    </tr>\n",
       "    <tr>\n",
       "      <th>1</th>\n",
       "      <td>$40000 conditions attached</td>\n",
       "    </tr>\n",
       "  </tbody>\n",
       "</table>\n",
       "</div>"
      ],
      "text/plain": [
       "                        Price\n",
       "0                    $40,000*\n",
       "1  $40000 conditions attached"
      ]
     },
     "execution_count": 40,
     "metadata": {},
     "output_type": "execute_result"
    }
   ],
   "source": [
    "df = pd.DataFrame(['$40,000*','$40000 conditions attached'], columns=['Price'])\n",
    "df"
   ]
  },
  {
   "cell_type": "code",
   "execution_count": 41,
   "id": "67f415b8",
   "metadata": {},
   "outputs": [
    {
     "data": {
      "text/plain": [
       "0    40000\n",
       "1    40000\n",
       "Name: Price, dtype: object"
      ]
     },
     "execution_count": 41,
     "metadata": {},
     "output_type": "execute_result"
    }
   ],
   "source": [
    "df['Price'].str.replace('\\D+', '', regex=True)"
   ]
  },
  {
   "cell_type": "code",
   "execution_count": 42,
   "id": "theoretical-tribe",
   "metadata": {},
   "outputs": [
    {
     "data": {
      "text/html": [
       "<div>\n",
       "<style scoped>\n",
       "    .dataframe tbody tr th:only-of-type {\n",
       "        vertical-align: middle;\n",
       "    }\n",
       "\n",
       "    .dataframe tbody tr th {\n",
       "        vertical-align: top;\n",
       "    }\n",
       "\n",
       "    .dataframe thead th {\n",
       "        text-align: right;\n",
       "    }\n",
       "</style>\n",
       "<table border=\"1\" class=\"dataframe\">\n",
       "  <thead>\n",
       "    <tr style=\"text-align: right;\">\n",
       "      <th></th>\n",
       "      <th>Price</th>\n",
       "    </tr>\n",
       "  </thead>\n",
       "  <tbody>\n",
       "    <tr>\n",
       "      <th>0</th>\n",
       "      <td>40000</td>\n",
       "    </tr>\n",
       "    <tr>\n",
       "      <th>1</th>\n",
       "      <td>40000</td>\n",
       "    </tr>\n",
       "  </tbody>\n",
       "</table>\n",
       "</div>"
      ],
      "text/plain": [
       "   Price\n",
       "0  40000\n",
       "1  40000"
      ]
     },
     "execution_count": 42,
     "metadata": {},
     "output_type": "execute_result"
    }
   ],
   "source": [
    "df['Price'] = df['Price'].str.replace('\\D+', '', regex=True).astype('int')\n",
    "df"
   ]
  },
  {
   "cell_type": "code",
   "execution_count": 43,
   "id": "initial-destination",
   "metadata": {},
   "outputs": [
    {
     "data": {
      "text/plain": [
       "['10.0', '6.25']"
      ]
     },
     "execution_count": 43,
     "metadata": {},
     "output_type": "execute_result"
    }
   ],
   "source": [
    "# findall\n",
    "diem = 'toán: 10.0 văn: 6.25'\n",
    "re.findall('(\\d+\\.\\d+)', diem)"
   ]
  },
  {
   "cell_type": "code",
   "execution_count": 44,
   "id": "6383a7e4",
   "metadata": {},
   "outputs": [
    {
     "data": {
      "text/html": [
       "<div>\n",
       "<style scoped>\n",
       "    .dataframe tbody tr th:only-of-type {\n",
       "        vertical-align: middle;\n",
       "    }\n",
       "\n",
       "    .dataframe tbody tr th {\n",
       "        vertical-align: top;\n",
       "    }\n",
       "\n",
       "    .dataframe thead th {\n",
       "        text-align: right;\n",
       "    }\n",
       "</style>\n",
       "<table border=\"1\" class=\"dataframe\">\n",
       "  <thead>\n",
       "    <tr style=\"text-align: right;\">\n",
       "      <th></th>\n",
       "      <th>Điểm</th>\n",
       "    </tr>\n",
       "  </thead>\n",
       "  <tbody>\n",
       "    <tr>\n",
       "      <th>0</th>\n",
       "      <td>toán: 7.0 văn: 6.5</td>\n",
       "    </tr>\n",
       "    <tr>\n",
       "      <th>1</th>\n",
       "      <td>toán: 10.0 văn: 8.5</td>\n",
       "    </tr>\n",
       "    <tr>\n",
       "      <th>2</th>\n",
       "      <td>toán: 9.5 văn: 7.0</td>\n",
       "    </tr>\n",
       "  </tbody>\n",
       "</table>\n",
       "</div>"
      ],
      "text/plain": [
       "                  Điểm\n",
       "0   toán: 7.0 văn: 6.5\n",
       "1  toán: 10.0 văn: 8.5\n",
       "2   toán: 9.5 văn: 7.0"
      ]
     },
     "execution_count": 44,
     "metadata": {},
     "output_type": "execute_result"
    }
   ],
   "source": [
    "diem_df = pd.DataFrame(['toán: 7.0 văn: 6.5', 'toán: 10.0 văn: 8.5', \n",
    "                  'toán: 9.5 văn: 7.0'], columns=['Điểm'])\n",
    "diem_df"
   ]
  },
  {
   "cell_type": "code",
   "execution_count": 45,
   "id": "900ded8d",
   "metadata": {},
   "outputs": [
    {
     "data": {
      "text/plain": [
       "[['7.0', '6.5'], ['10.0', '8.5'], ['9.5', '7.0']]"
      ]
     },
     "execution_count": 45,
     "metadata": {},
     "output_type": "execute_result"
    }
   ],
   "source": [
    "diem_df['Điểm'].str.findall('(\\d+\\.\\d+)').to_list()"
   ]
  },
  {
   "cell_type": "code",
   "execution_count": 46,
   "id": "11c8e4b5",
   "metadata": {},
   "outputs": [
    {
     "data": {
      "text/html": [
       "<div>\n",
       "<style scoped>\n",
       "    .dataframe tbody tr th:only-of-type {\n",
       "        vertical-align: middle;\n",
       "    }\n",
       "\n",
       "    .dataframe tbody tr th {\n",
       "        vertical-align: top;\n",
       "    }\n",
       "\n",
       "    .dataframe thead th {\n",
       "        text-align: right;\n",
       "    }\n",
       "</style>\n",
       "<table border=\"1\" class=\"dataframe\">\n",
       "  <thead>\n",
       "    <tr style=\"text-align: right;\">\n",
       "      <th></th>\n",
       "      <th>Điểm</th>\n",
       "      <th>Toán</th>\n",
       "      <th>Văn</th>\n",
       "    </tr>\n",
       "  </thead>\n",
       "  <tbody>\n",
       "    <tr>\n",
       "      <th>0</th>\n",
       "      <td>toán: 7.0 văn: 6.5</td>\n",
       "      <td>7.0</td>\n",
       "      <td>6.5</td>\n",
       "    </tr>\n",
       "    <tr>\n",
       "      <th>1</th>\n",
       "      <td>toán: 10.0 văn: 8.5</td>\n",
       "      <td>10.0</td>\n",
       "      <td>8.5</td>\n",
       "    </tr>\n",
       "    <tr>\n",
       "      <th>2</th>\n",
       "      <td>toán: 9.5 văn: 7.0</td>\n",
       "      <td>9.5</td>\n",
       "      <td>7.0</td>\n",
       "    </tr>\n",
       "  </tbody>\n",
       "</table>\n",
       "</div>"
      ],
      "text/plain": [
       "                  Điểm  Toán  Văn\n",
       "0   toán: 7.0 văn: 6.5   7.0  6.5\n",
       "1  toán: 10.0 văn: 8.5  10.0  8.5\n",
       "2   toán: 9.5 văn: 7.0   9.5  7.0"
      ]
     },
     "execution_count": 46,
     "metadata": {},
     "output_type": "execute_result"
    }
   ],
   "source": [
    "diem_df[['Toán', 'Văn']] = diem_df['Điểm'].str.findall('(\\d+\\.\\d+)').to_list()\n",
    "diem_df"
   ]
  },
  {
   "cell_type": "code",
   "execution_count": 47,
   "id": "6e98e14d",
   "metadata": {},
   "outputs": [
    {
     "data": {
      "text/plain": [
       "Điểm    object\n",
       "Toán    object\n",
       "Văn     object\n",
       "dtype: object"
      ]
     },
     "execution_count": 47,
     "metadata": {},
     "output_type": "execute_result"
    }
   ],
   "source": [
    "diem_df.dtypes"
   ]
  },
  {
   "cell_type": "code",
   "execution_count": 48,
   "id": "78ec587f",
   "metadata": {},
   "outputs": [],
   "source": [
    "diem_df[['Toán', 'Văn']] = diem_df[['Toán', 'Văn']].astype(float)"
   ]
  },
  {
   "cell_type": "code",
   "execution_count": 49,
   "id": "43a8ced7",
   "metadata": {},
   "outputs": [
    {
     "data": {
      "text/html": [
       "<div>\n",
       "<style scoped>\n",
       "    .dataframe tbody tr th:only-of-type {\n",
       "        vertical-align: middle;\n",
       "    }\n",
       "\n",
       "    .dataframe tbody tr th {\n",
       "        vertical-align: top;\n",
       "    }\n",
       "\n",
       "    .dataframe thead th {\n",
       "        text-align: right;\n",
       "    }\n",
       "</style>\n",
       "<table border=\"1\" class=\"dataframe\">\n",
       "  <thead>\n",
       "    <tr style=\"text-align: right;\">\n",
       "      <th></th>\n",
       "      <th>Điểm</th>\n",
       "      <th>Toán</th>\n",
       "      <th>Văn</th>\n",
       "      <th>toan</th>\n",
       "      <th>van</th>\n",
       "    </tr>\n",
       "  </thead>\n",
       "  <tbody>\n",
       "    <tr>\n",
       "      <th>0</th>\n",
       "      <td>toán: 7.0 văn: 6.5</td>\n",
       "      <td>7.0</td>\n",
       "      <td>6.5</td>\n",
       "      <td>7.0</td>\n",
       "      <td>6.5</td>\n",
       "    </tr>\n",
       "    <tr>\n",
       "      <th>1</th>\n",
       "      <td>toán: 10.0 văn: 8.5</td>\n",
       "      <td>10.0</td>\n",
       "      <td>8.5</td>\n",
       "      <td>10.0</td>\n",
       "      <td>8.5</td>\n",
       "    </tr>\n",
       "    <tr>\n",
       "      <th>2</th>\n",
       "      <td>toán: 9.5 văn: 7.0</td>\n",
       "      <td>9.5</td>\n",
       "      <td>7.0</td>\n",
       "      <td>9.5</td>\n",
       "      <td>7.0</td>\n",
       "    </tr>\n",
       "  </tbody>\n",
       "</table>\n",
       "</div>"
      ],
      "text/plain": [
       "                  Điểm  Toán  Văn  toan  van\n",
       "0   toán: 7.0 văn: 6.5   7.0  6.5   7.0  6.5\n",
       "1  toán: 10.0 văn: 8.5  10.0  8.5  10.0  8.5\n",
       "2   toán: 9.5 văn: 7.0   9.5  7.0   9.5  7.0"
      ]
     },
     "execution_count": 49,
     "metadata": {},
     "output_type": "execute_result"
    }
   ],
   "source": [
    "# cách khác\n",
    "diem_df[['toan', 'van']] = diem_df['Điểm'].str.extract('toán: (\\d+\\.\\d+) văn: (\\d+\\.\\d+)', expand=True)\n",
    "diem_df"
   ]
  },
  {
   "cell_type": "code",
   "execution_count": 50,
   "id": "c93463e6",
   "metadata": {},
   "outputs": [
    {
     "data": {
      "text/plain": [
       "Điểm     object\n",
       "Toán    float64\n",
       "Văn     float64\n",
       "toan     object\n",
       "van      object\n",
       "dtype: object"
      ]
     },
     "execution_count": 50,
     "metadata": {},
     "output_type": "execute_result"
    }
   ],
   "source": [
    "diem_df.dtypes"
   ]
  },
  {
   "cell_type": "code",
   "execution_count": 51,
   "id": "9d27a035",
   "metadata": {},
   "outputs": [
    {
     "name": "stderr",
     "output_type": "stream",
     "text": [
      "/var/folders/p_/jr0kwjpn3qn57ngzpt6y5d6w0000gn/T/ipykernel_1415/3034421437.py:1: DeprecationWarning: In a future version, `df.iloc[:, i] = newvals` will attempt to set the values inplace instead of always setting a new array. To retain the old behavior, use either `df[df.columns[i]] = newvals` or, if columns are non-unique, `df.isetitem(i, newvals)`\n",
      "  diem_df.iloc[:,1:] = diem_df.iloc[:,1:].applymap(float)\n"
     ]
    }
   ],
   "source": [
    "diem_df.iloc[:,1:] = diem_df.iloc[:,1:].applymap(float)"
   ]
  },
  {
   "cell_type": "code",
   "execution_count": 52,
   "id": "baa21e4a",
   "metadata": {},
   "outputs": [
    {
     "name": "stdout",
     "output_type": "stream",
     "text": [
      "abc\n"
     ]
    }
   ],
   "source": [
    "# search\n",
    "text = \"abc.pdf\"\n",
    "pattern = '^([a-z]+)\\.pdf$'  # Một pattern đơn giản để tìm các con số.\n",
    "\n",
    "print(re.search(pattern, text).group(1))\n"
   ]
  },
  {
   "cell_type": "code",
   "execution_count": 53,
   "id": "dcf556fb",
   "metadata": {},
   "outputs": [
    {
     "data": {
      "text/html": [
       "<div>\n",
       "<style scoped>\n",
       "    .dataframe tbody tr th:only-of-type {\n",
       "        vertical-align: middle;\n",
       "    }\n",
       "\n",
       "    .dataframe tbody tr th {\n",
       "        vertical-align: top;\n",
       "    }\n",
       "\n",
       "    .dataframe thead th {\n",
       "        text-align: right;\n",
       "    }\n",
       "</style>\n",
       "<table border=\"1\" class=\"dataframe\">\n",
       "  <thead>\n",
       "    <tr style=\"text-align: right;\">\n",
       "      <th></th>\n",
       "      <th>Text</th>\n",
       "    </tr>\n",
       "  </thead>\n",
       "  <tbody>\n",
       "    <tr>\n",
       "      <th>0</th>\n",
       "      <td>This is a sentence with 123 numbers.</td>\n",
       "    </tr>\n",
       "    <tr>\n",
       "      <th>1</th>\n",
       "      <td>Python is a powerful programming language.</td>\n",
       "    </tr>\n",
       "    <tr>\n",
       "      <th>2</th>\n",
       "      <td>Regular expressions are useful for text proces...</td>\n",
       "    </tr>\n",
       "    <tr>\n",
       "      <th>3</th>\n",
       "      <td>Data science involves 456 data analysis.</td>\n",
       "    </tr>\n",
       "  </tbody>\n",
       "</table>\n",
       "</div>"
      ],
      "text/plain": [
       "                                                Text\n",
       "0               This is a sentence with 123 numbers.\n",
       "1         Python is a powerful programming language.\n",
       "2  Regular expressions are useful for text proces...\n",
       "3           Data science involves 456 data analysis."
      ]
     },
     "execution_count": 53,
     "metadata": {},
     "output_type": "execute_result"
    }
   ],
   "source": [
    "data = {'Text': ['This is a sentence with 123 numbers.',\n",
    "                 'Python is a powerful programming language.',\n",
    "                 'Regular expressions are useful for text processing.',\n",
    "                 'Data science involves 456 data analysis.']}\n",
    "df = pd.DataFrame(data)\n",
    "\n",
    "df"
   ]
  },
  {
   "cell_type": "code",
   "execution_count": 54,
   "id": "d436318a",
   "metadata": {},
   "outputs": [
    {
     "name": "stderr",
     "output_type": "stream",
     "text": [
      "/var/folders/p_/jr0kwjpn3qn57ngzpt6y5d6w0000gn/T/ipykernel_1415/2059845622.py:1: UserWarning: This pattern is interpreted as a regular expression, and has match groups. To actually get the groups, use str.extract.\n",
      "  df['Text'].str.contains(pattern, regex=True)\n"
     ]
    },
    {
     "data": {
      "text/plain": [
       "0    False\n",
       "1    False\n",
       "2    False\n",
       "3    False\n",
       "Name: Text, dtype: bool"
      ]
     },
     "execution_count": 54,
     "metadata": {},
     "output_type": "execute_result"
    }
   ],
   "source": [
    "df['Text'].str.contains(pattern, regex=True)"
   ]
  },
  {
   "cell_type": "code",
   "execution_count": 55,
   "id": "3a8ff4e1",
   "metadata": {},
   "outputs": [
    {
     "data": {
      "text/html": [
       "<div>\n",
       "<style scoped>\n",
       "    .dataframe tbody tr th:only-of-type {\n",
       "        vertical-align: middle;\n",
       "    }\n",
       "\n",
       "    .dataframe tbody tr th {\n",
       "        vertical-align: top;\n",
       "    }\n",
       "\n",
       "    .dataframe thead th {\n",
       "        text-align: right;\n",
       "    }\n",
       "</style>\n",
       "<table border=\"1\" class=\"dataframe\">\n",
       "  <thead>\n",
       "    <tr style=\"text-align: right;\">\n",
       "      <th></th>\n",
       "      <th>Text</th>\n",
       "    </tr>\n",
       "  </thead>\n",
       "  <tbody>\n",
       "    <tr>\n",
       "      <th>0</th>\n",
       "      <td>This is a sentence with 123 numbers.</td>\n",
       "    </tr>\n",
       "    <tr>\n",
       "      <th>3</th>\n",
       "      <td>Data science involves 456 data analysis.</td>\n",
       "    </tr>\n",
       "  </tbody>\n",
       "</table>\n",
       "</div>"
      ],
      "text/plain": [
       "                                       Text\n",
       "0      This is a sentence with 123 numbers.\n",
       "3  Data science involves 456 data analysis."
      ]
     },
     "execution_count": 55,
     "metadata": {},
     "output_type": "execute_result"
    }
   ],
   "source": [
    "# Sử dụng str.contains với regular expression pattern\n",
    "pattern = '\\d+'  # Tìm các số\n",
    "\n",
    "matches = df[df['Text'].str.contains(pattern, regex=True)]\n",
    "\n",
    "matches"
   ]
  },
  {
   "cell_type": "code",
   "execution_count": 56,
   "id": "5464a73c",
   "metadata": {},
   "outputs": [
    {
     "data": {
      "text/plain": [
       "0      515.123.4567\n",
       "1      515.123.4568\n",
       "2      515.123.4569\n",
       "3      590.423.4567\n",
       "4      590.423.4568\n",
       "           ...     \n",
       "102    603.123.6666\n",
       "103    515.123.7777\n",
       "104    515.123.8888\n",
       "105    515.123.8080\n",
       "106    515.123.8181\n",
       "Name: PHONE_NUMBER, Length: 107, dtype: object"
      ]
     },
     "execution_count": 56,
     "metadata": {},
     "output_type": "execute_result"
    }
   ],
   "source": [
    "emp_df['PHONE_NUMBER']"
   ]
  },
  {
   "cell_type": "code",
   "execution_count": 57,
   "id": "7680702b",
   "metadata": {},
   "outputs": [
    {
     "data": {
      "text/html": [
       "<div>\n",
       "<style scoped>\n",
       "    .dataframe tbody tr th:only-of-type {\n",
       "        vertical-align: middle;\n",
       "    }\n",
       "\n",
       "    .dataframe tbody tr th {\n",
       "        vertical-align: top;\n",
       "    }\n",
       "\n",
       "    .dataframe thead th {\n",
       "        text-align: right;\n",
       "    }\n",
       "</style>\n",
       "<table border=\"1\" class=\"dataframe\">\n",
       "  <thead>\n",
       "    <tr style=\"text-align: right;\">\n",
       "      <th></th>\n",
       "      <th>0</th>\n",
       "    </tr>\n",
       "  </thead>\n",
       "  <tbody>\n",
       "    <tr>\n",
       "      <th>0</th>\n",
       "      <td>123</td>\n",
       "    </tr>\n",
       "    <tr>\n",
       "      <th>1</th>\n",
       "      <td>123</td>\n",
       "    </tr>\n",
       "    <tr>\n",
       "      <th>2</th>\n",
       "      <td>123</td>\n",
       "    </tr>\n",
       "    <tr>\n",
       "      <th>3</th>\n",
       "      <td>423</td>\n",
       "    </tr>\n",
       "    <tr>\n",
       "      <th>4</th>\n",
       "      <td>423</td>\n",
       "    </tr>\n",
       "    <tr>\n",
       "      <th>...</th>\n",
       "      <td>...</td>\n",
       "    </tr>\n",
       "    <tr>\n",
       "      <th>102</th>\n",
       "      <td>123</td>\n",
       "    </tr>\n",
       "    <tr>\n",
       "      <th>103</th>\n",
       "      <td>123</td>\n",
       "    </tr>\n",
       "    <tr>\n",
       "      <th>104</th>\n",
       "      <td>123</td>\n",
       "    </tr>\n",
       "    <tr>\n",
       "      <th>105</th>\n",
       "      <td>123</td>\n",
       "    </tr>\n",
       "    <tr>\n",
       "      <th>106</th>\n",
       "      <td>123</td>\n",
       "    </tr>\n",
       "  </tbody>\n",
       "</table>\n",
       "<p>107 rows × 1 columns</p>\n",
       "</div>"
      ],
      "text/plain": [
       "       0\n",
       "0    123\n",
       "1    123\n",
       "2    123\n",
       "3    423\n",
       "4    423\n",
       "..   ...\n",
       "102  123\n",
       "103  123\n",
       "104  123\n",
       "105  123\n",
       "106  123\n",
       "\n",
       "[107 rows x 1 columns]"
      ]
     },
     "execution_count": 57,
     "metadata": {},
     "output_type": "execute_result"
    }
   ],
   "source": [
    "# extract \n",
    "emp_df['PHONE_NUMBER'].str.extract('.(\\d{3}).')"
   ]
  },
  {
   "cell_type": "code",
   "execution_count": 58,
   "id": "7e030b5a",
   "metadata": {},
   "outputs": [
    {
     "data": {
      "text/plain": [
       "[['515', '123', '4567'],\n",
       " ['515', '123', '4568'],\n",
       " ['515', '123', '4569'],\n",
       " ['590', '423', '4567'],\n",
       " ['590', '423', '4568'],\n",
       " ['590', '423', '4569'],\n",
       " ['590', '423', '4560'],\n",
       " ['590', '423', '5567'],\n",
       " ['515', '124', '4569'],\n",
       " ['515', '124', '4169'],\n",
       " ['515', '124', '4269'],\n",
       " ['515', '124', '4369'],\n",
       " ['515', '124', '4469'],\n",
       " ['515', '124', '4567'],\n",
       " ['515', '127', '4561'],\n",
       " ['515', '127', '4562'],\n",
       " ['515', '127', '4563'],\n",
       " ['515', '127', '4564'],\n",
       " ['515', '127', '4565'],\n",
       " ['515', '127', '4566'],\n",
       " ['650', '123', '1234'],\n",
       " ['650', '123', '2234'],\n",
       " ['650', '123', '3234'],\n",
       " ['650', '123', '4234'],\n",
       " ['650', '123', '5234'],\n",
       " ['650', '124', '1214'],\n",
       " ['650', '124', '1224'],\n",
       " ['650', '124', '1334'],\n",
       " ['650', '124', '1434'],\n",
       " ['650', '124', '5234'],\n",
       " ['650', '124', '6234'],\n",
       " ['650', '124', '7234'],\n",
       " ['650', '124', '8234'],\n",
       " ['650', '127', '1934'],\n",
       " ['650', '127', '1834'],\n",
       " ['650', '127', '1734'],\n",
       " ['650', '127', '1634'],\n",
       " ['650', '121', '1234'],\n",
       " ['650', '121', '2034'],\n",
       " ['650', '121', '2019'],\n",
       " ['650', '121', '1834'],\n",
       " ['650', '121', '8009'],\n",
       " ['650', '121', '2994'],\n",
       " ['650', '121', '2874'],\n",
       " ['650', '121', '2004'],\n",
       " ['011', '44', '1344', '429268'],\n",
       " ['011', '44', '1344', '467268'],\n",
       " ['011', '44', '1344', '429278'],\n",
       " ['011', '44', '1344', '619268'],\n",
       " ['011', '44', '1344', '429018'],\n",
       " ['011', '44', '1344', '129268'],\n",
       " ['011', '44', '1344', '345268'],\n",
       " ['011', '44', '1344', '478968'],\n",
       " ['011', '44', '1344', '498718'],\n",
       " ['011', '44', '1344', '987668'],\n",
       " ['011', '44', '1344', '486508'],\n",
       " ['011', '44', '1345', '429268'],\n",
       " ['011', '44', '1345', '929268'],\n",
       " ['011', '44', '1345', '829268'],\n",
       " ['011', '44', '1345', '729268'],\n",
       " ['011', '44', '1345', '629268'],\n",
       " ['011', '44', '1345', '529268'],\n",
       " ['011', '44', '1346', '129268'],\n",
       " ['011', '44', '1346', '229268'],\n",
       " ['011', '44', '1346', '329268'],\n",
       " ['011', '44', '1346', '529268'],\n",
       " ['011', '44', '1346', '629268'],\n",
       " ['011', '44', '1346', '729268'],\n",
       " ['011', '44', '1343', '929268'],\n",
       " ['011', '44', '1343', '829268'],\n",
       " ['011', '44', '1343', '729268'],\n",
       " ['011', '44', '1343', '629268'],\n",
       " ['011', '44', '1343', '529268'],\n",
       " ['011', '44', '1343', '329268'],\n",
       " ['011', '44', '1644', '429267'],\n",
       " ['011', '44', '1644', '429266'],\n",
       " ['011', '44', '1644', '429265'],\n",
       " ['011', '44', '1644', '429264'],\n",
       " ['011', '44', '1644', '429263'],\n",
       " ['011', '44', '1644', '429262'],\n",
       " ['650', '507', '9876'],\n",
       " ['650', '507', '9877'],\n",
       " ['650', '507', '9878'],\n",
       " ['650', '507', '9879'],\n",
       " ['650', '509', '1876'],\n",
       " ['650', '509', '2876'],\n",
       " ['650', '509', '3876'],\n",
       " ['650', '509', '4876'],\n",
       " ['650', '505', '1876'],\n",
       " ['650', '505', '2876'],\n",
       " ['650', '505', '3876'],\n",
       " ['650', '505', '4876'],\n",
       " ['650', '501', '1876'],\n",
       " ['650', '501', '2876'],\n",
       " ['650', '501', '3876'],\n",
       " ['650', '501', '4876'],\n",
       " ['650', '507', '9811'],\n",
       " ['650', '507', '9822'],\n",
       " ['650', '507', '9833'],\n",
       " ['650', '507', '9844'],\n",
       " ['515', '123', '4444'],\n",
       " ['515', '123', '5555'],\n",
       " ['603', '123', '6666'],\n",
       " ['515', '123', '7777'],\n",
       " ['515', '123', '8888'],\n",
       " ['515', '123', '8080'],\n",
       " ['515', '123', '8181']]"
      ]
     },
     "execution_count": 58,
     "metadata": {},
     "output_type": "execute_result"
    }
   ],
   "source": [
    "emp_df['PHONE_NUMBER'].str.split('.').to_list()"
   ]
  },
  {
   "cell_type": "code",
   "execution_count": 59,
   "id": "6b1461d7",
   "metadata": {},
   "outputs": [
    {
     "data": {
      "text/plain": [
       "0         AD_PRES\n",
       "1           AD_VP\n",
       "2           AD_VP\n",
       "3         IT_PROG\n",
       "4         IT_PROG\n",
       "          ...    \n",
       "102        MK_REP\n",
       "103        HR_REP\n",
       "104        PR_REP\n",
       "105        AC_MGR\n",
       "106    AC_ACCOUNT\n",
       "Name: JOB_ID, Length: 107, dtype: object"
      ]
     },
     "execution_count": 59,
     "metadata": {},
     "output_type": "execute_result"
    }
   ],
   "source": [
    "emp_df['JOB_ID']"
   ]
  },
  {
   "cell_type": "code",
   "execution_count": 60,
   "id": "1d56a7dc",
   "metadata": {},
   "outputs": [
    {
     "data": {
      "text/html": [
       "<div>\n",
       "<style scoped>\n",
       "    .dataframe tbody tr th:only-of-type {\n",
       "        vertical-align: middle;\n",
       "    }\n",
       "\n",
       "    .dataframe tbody tr th {\n",
       "        vertical-align: top;\n",
       "    }\n",
       "\n",
       "    .dataframe thead th {\n",
       "        text-align: right;\n",
       "    }\n",
       "</style>\n",
       "<table border=\"1\" class=\"dataframe\">\n",
       "  <thead>\n",
       "    <tr style=\"text-align: right;\">\n",
       "      <th></th>\n",
       "      <th>0</th>\n",
       "    </tr>\n",
       "  </thead>\n",
       "  <tbody>\n",
       "    <tr>\n",
       "      <th>0</th>\n",
       "      <td>PRES</td>\n",
       "    </tr>\n",
       "    <tr>\n",
       "      <th>1</th>\n",
       "      <td>VP</td>\n",
       "    </tr>\n",
       "    <tr>\n",
       "      <th>2</th>\n",
       "      <td>VP</td>\n",
       "    </tr>\n",
       "    <tr>\n",
       "      <th>3</th>\n",
       "      <td>PROG</td>\n",
       "    </tr>\n",
       "    <tr>\n",
       "      <th>4</th>\n",
       "      <td>PROG</td>\n",
       "    </tr>\n",
       "    <tr>\n",
       "      <th>...</th>\n",
       "      <td>...</td>\n",
       "    </tr>\n",
       "    <tr>\n",
       "      <th>102</th>\n",
       "      <td>REP</td>\n",
       "    </tr>\n",
       "    <tr>\n",
       "      <th>103</th>\n",
       "      <td>REP</td>\n",
       "    </tr>\n",
       "    <tr>\n",
       "      <th>104</th>\n",
       "      <td>REP</td>\n",
       "    </tr>\n",
       "    <tr>\n",
       "      <th>105</th>\n",
       "      <td>MGR</td>\n",
       "    </tr>\n",
       "    <tr>\n",
       "      <th>106</th>\n",
       "      <td>ACCOUNT</td>\n",
       "    </tr>\n",
       "  </tbody>\n",
       "</table>\n",
       "<p>107 rows × 1 columns</p>\n",
       "</div>"
      ],
      "text/plain": [
       "           0\n",
       "0       PRES\n",
       "1         VP\n",
       "2         VP\n",
       "3       PROG\n",
       "4       PROG\n",
       "..       ...\n",
       "102      REP\n",
       "103      REP\n",
       "104      REP\n",
       "105      MGR\n",
       "106  ACCOUNT\n",
       "\n",
       "[107 rows x 1 columns]"
      ]
     },
     "execution_count": 60,
     "metadata": {},
     "output_type": "execute_result"
    }
   ],
   "source": [
    "emp_df['JOB_ID'].str.extract('_(\\w+)')"
   ]
  },
  {
   "cell_type": "code",
   "execution_count": 61,
   "id": "6b07e2f3",
   "metadata": {},
   "outputs": [
    {
     "data": {
      "text/html": [
       "<div>\n",
       "<style scoped>\n",
       "    .dataframe tbody tr th:only-of-type {\n",
       "        vertical-align: middle;\n",
       "    }\n",
       "\n",
       "    .dataframe tbody tr th {\n",
       "        vertical-align: top;\n",
       "    }\n",
       "\n",
       "    .dataframe thead th {\n",
       "        text-align: right;\n",
       "    }\n",
       "</style>\n",
       "<table border=\"1\" class=\"dataframe\">\n",
       "  <thead>\n",
       "    <tr style=\"text-align: right;\">\n",
       "      <th></th>\n",
       "      <th>EMPLOYEE_ID</th>\n",
       "      <th>FIRST_NAME</th>\n",
       "      <th>LAST_NAME</th>\n",
       "      <th>EMAIL</th>\n",
       "      <th>PHONE_NUMBER</th>\n",
       "      <th>HIRE_DATE</th>\n",
       "      <th>JOB_ID</th>\n",
       "      <th>SALARY</th>\n",
       "      <th>COMMISSION_PCT</th>\n",
       "      <th>MANAGER_ID</th>\n",
       "      <th>DEPARTMENT_ID</th>\n",
       "      <th>Job_Code</th>\n",
       "    </tr>\n",
       "  </thead>\n",
       "  <tbody>\n",
       "    <tr>\n",
       "      <th>0</th>\n",
       "      <td>100</td>\n",
       "      <td>Steven</td>\n",
       "      <td>King</td>\n",
       "      <td>sking</td>\n",
       "      <td>515.123.4567</td>\n",
       "      <td>2003-06-17 00:00:00</td>\n",
       "      <td>AD_PRES</td>\n",
       "      <td>24000</td>\n",
       "      <td>0.0</td>\n",
       "      <td>0</td>\n",
       "      <td>90</td>\n",
       "      <td>AD</td>\n",
       "    </tr>\n",
       "    <tr>\n",
       "      <th>1</th>\n",
       "      <td>101</td>\n",
       "      <td>Neena</td>\n",
       "      <td>Kochhar</td>\n",
       "      <td>nkochhar</td>\n",
       "      <td>515.123.4568</td>\n",
       "      <td>2005-09-21 00:00:00</td>\n",
       "      <td>AD_VP</td>\n",
       "      <td>17000</td>\n",
       "      <td>0.0</td>\n",
       "      <td>100</td>\n",
       "      <td>90</td>\n",
       "      <td>AD</td>\n",
       "    </tr>\n",
       "    <tr>\n",
       "      <th>2</th>\n",
       "      <td>102</td>\n",
       "      <td>Lex</td>\n",
       "      <td>De Haan</td>\n",
       "      <td>ldehaan</td>\n",
       "      <td>515.123.4569</td>\n",
       "      <td>2001-01-13 00:00:00</td>\n",
       "      <td>AD_VP</td>\n",
       "      <td>17000</td>\n",
       "      <td>0.0</td>\n",
       "      <td>100</td>\n",
       "      <td>90</td>\n",
       "      <td>AD</td>\n",
       "    </tr>\n",
       "    <tr>\n",
       "      <th>3</th>\n",
       "      <td>103</td>\n",
       "      <td>Alexander</td>\n",
       "      <td>Hunold</td>\n",
       "      <td>ahunold</td>\n",
       "      <td>590.423.4567</td>\n",
       "      <td>2006-01-03 00:00:00</td>\n",
       "      <td>IT_PROG</td>\n",
       "      <td>9000</td>\n",
       "      <td>0.0</td>\n",
       "      <td>102</td>\n",
       "      <td>60</td>\n",
       "      <td>IT</td>\n",
       "    </tr>\n",
       "    <tr>\n",
       "      <th>4</th>\n",
       "      <td>104</td>\n",
       "      <td>Bruce</td>\n",
       "      <td>Ernst</td>\n",
       "      <td>bernst</td>\n",
       "      <td>590.423.4568</td>\n",
       "      <td>2007-05-21 00:00:00</td>\n",
       "      <td>IT_PROG</td>\n",
       "      <td>6000</td>\n",
       "      <td>0.0</td>\n",
       "      <td>103</td>\n",
       "      <td>60</td>\n",
       "      <td>IT</td>\n",
       "    </tr>\n",
       "  </tbody>\n",
       "</table>\n",
       "</div>"
      ],
      "text/plain": [
       "   EMPLOYEE_ID FIRST_NAME LAST_NAME     EMAIL  PHONE_NUMBER  \\\n",
       "0          100     Steven      King     sking  515.123.4567   \n",
       "1          101      Neena   Kochhar  nkochhar  515.123.4568   \n",
       "2          102        Lex   De Haan   ldehaan  515.123.4569   \n",
       "3          103  Alexander    Hunold   ahunold  590.423.4567   \n",
       "4          104      Bruce     Ernst    bernst  590.423.4568   \n",
       "\n",
       "             HIRE_DATE   JOB_ID  SALARY  COMMISSION_PCT  MANAGER_ID  \\\n",
       "0  2003-06-17 00:00:00  AD_PRES   24000             0.0           0   \n",
       "1  2005-09-21 00:00:00    AD_VP   17000             0.0         100   \n",
       "2  2001-01-13 00:00:00    AD_VP   17000             0.0         100   \n",
       "3  2006-01-03 00:00:00  IT_PROG    9000             0.0         102   \n",
       "4  2007-05-21 00:00:00  IT_PROG    6000             0.0         103   \n",
       "\n",
       "   DEPARTMENT_ID Job_Code  \n",
       "0             90       AD  \n",
       "1             90       AD  \n",
       "2             90       AD  \n",
       "3             60       IT  \n",
       "4             60       IT  "
      ]
     },
     "execution_count": 61,
     "metadata": {},
     "output_type": "execute_result"
    }
   ],
   "source": [
    "emp_df['Job_Code'] = emp_df['JOB_ID'].str.extract('(\\w+)_')\n",
    "emp_df.head()"
   ]
  },
  {
   "cell_type": "code",
   "execution_count": 62,
   "id": "c36398f4",
   "metadata": {},
   "outputs": [
    {
     "data": {
      "text/html": [
       "<div>\n",
       "<style scoped>\n",
       "    .dataframe tbody tr th:only-of-type {\n",
       "        vertical-align: middle;\n",
       "    }\n",
       "\n",
       "    .dataframe tbody tr th {\n",
       "        vertical-align: top;\n",
       "    }\n",
       "\n",
       "    .dataframe thead th {\n",
       "        text-align: right;\n",
       "    }\n",
       "</style>\n",
       "<table border=\"1\" class=\"dataframe\">\n",
       "  <thead>\n",
       "    <tr style=\"text-align: right;\">\n",
       "      <th></th>\n",
       "      <th>EMPLOYEE_ID</th>\n",
       "      <th>FIRST_NAME</th>\n",
       "      <th>LAST_NAME</th>\n",
       "      <th>EMAIL</th>\n",
       "      <th>PHONE_NUMBER</th>\n",
       "      <th>HIRE_DATE</th>\n",
       "      <th>JOB_ID</th>\n",
       "      <th>SALARY</th>\n",
       "      <th>COMMISSION_PCT</th>\n",
       "      <th>MANAGER_ID</th>\n",
       "      <th>DEPARTMENT_ID</th>\n",
       "      <th>Job_Code</th>\n",
       "      <th>Job_Code1</th>\n",
       "    </tr>\n",
       "  </thead>\n",
       "  <tbody>\n",
       "    <tr>\n",
       "      <th>0</th>\n",
       "      <td>100</td>\n",
       "      <td>Steven</td>\n",
       "      <td>King</td>\n",
       "      <td>sking</td>\n",
       "      <td>515.123.4567</td>\n",
       "      <td>2003-06-17 00:00:00</td>\n",
       "      <td>AD_PRES</td>\n",
       "      <td>24000</td>\n",
       "      <td>0.0</td>\n",
       "      <td>0</td>\n",
       "      <td>90</td>\n",
       "      <td>AD</td>\n",
       "      <td>PRES</td>\n",
       "    </tr>\n",
       "    <tr>\n",
       "      <th>1</th>\n",
       "      <td>101</td>\n",
       "      <td>Neena</td>\n",
       "      <td>Kochhar</td>\n",
       "      <td>nkochhar</td>\n",
       "      <td>515.123.4568</td>\n",
       "      <td>2005-09-21 00:00:00</td>\n",
       "      <td>AD_VP</td>\n",
       "      <td>17000</td>\n",
       "      <td>0.0</td>\n",
       "      <td>100</td>\n",
       "      <td>90</td>\n",
       "      <td>AD</td>\n",
       "      <td>VP</td>\n",
       "    </tr>\n",
       "    <tr>\n",
       "      <th>2</th>\n",
       "      <td>102</td>\n",
       "      <td>Lex</td>\n",
       "      <td>De Haan</td>\n",
       "      <td>ldehaan</td>\n",
       "      <td>515.123.4569</td>\n",
       "      <td>2001-01-13 00:00:00</td>\n",
       "      <td>AD_VP</td>\n",
       "      <td>17000</td>\n",
       "      <td>0.0</td>\n",
       "      <td>100</td>\n",
       "      <td>90</td>\n",
       "      <td>AD</td>\n",
       "      <td>VP</td>\n",
       "    </tr>\n",
       "    <tr>\n",
       "      <th>3</th>\n",
       "      <td>103</td>\n",
       "      <td>Alexander</td>\n",
       "      <td>Hunold</td>\n",
       "      <td>ahunold</td>\n",
       "      <td>590.423.4567</td>\n",
       "      <td>2006-01-03 00:00:00</td>\n",
       "      <td>IT_PROG</td>\n",
       "      <td>9000</td>\n",
       "      <td>0.0</td>\n",
       "      <td>102</td>\n",
       "      <td>60</td>\n",
       "      <td>IT</td>\n",
       "      <td>PROG</td>\n",
       "    </tr>\n",
       "    <tr>\n",
       "      <th>4</th>\n",
       "      <td>104</td>\n",
       "      <td>Bruce</td>\n",
       "      <td>Ernst</td>\n",
       "      <td>bernst</td>\n",
       "      <td>590.423.4568</td>\n",
       "      <td>2007-05-21 00:00:00</td>\n",
       "      <td>IT_PROG</td>\n",
       "      <td>6000</td>\n",
       "      <td>0.0</td>\n",
       "      <td>103</td>\n",
       "      <td>60</td>\n",
       "      <td>IT</td>\n",
       "      <td>PROG</td>\n",
       "    </tr>\n",
       "  </tbody>\n",
       "</table>\n",
       "</div>"
      ],
      "text/plain": [
       "   EMPLOYEE_ID FIRST_NAME LAST_NAME     EMAIL  PHONE_NUMBER  \\\n",
       "0          100     Steven      King     sking  515.123.4567   \n",
       "1          101      Neena   Kochhar  nkochhar  515.123.4568   \n",
       "2          102        Lex   De Haan   ldehaan  515.123.4569   \n",
       "3          103  Alexander    Hunold   ahunold  590.423.4567   \n",
       "4          104      Bruce     Ernst    bernst  590.423.4568   \n",
       "\n",
       "             HIRE_DATE   JOB_ID  SALARY  COMMISSION_PCT  MANAGER_ID  \\\n",
       "0  2003-06-17 00:00:00  AD_PRES   24000             0.0           0   \n",
       "1  2005-09-21 00:00:00    AD_VP   17000             0.0         100   \n",
       "2  2001-01-13 00:00:00    AD_VP   17000             0.0         100   \n",
       "3  2006-01-03 00:00:00  IT_PROG    9000             0.0         102   \n",
       "4  2007-05-21 00:00:00  IT_PROG    6000             0.0         103   \n",
       "\n",
       "   DEPARTMENT_ID Job_Code Job_Code1  \n",
       "0             90       AD      PRES  \n",
       "1             90       AD        VP  \n",
       "2             90       AD        VP  \n",
       "3             60       IT      PROG  \n",
       "4             60       IT      PROG  "
      ]
     },
     "execution_count": 62,
     "metadata": {},
     "output_type": "execute_result"
    }
   ],
   "source": [
    "emp_df['Job_Code1'] = emp_df['JOB_ID'].str.extract('_([A-Z]+)')\n",
    "emp_df.head()"
   ]
  },
  {
   "cell_type": "code",
   "execution_count": 63,
   "id": "b8deb042",
   "metadata": {},
   "outputs": [
    {
     "data": {
      "text/html": [
       "<div>\n",
       "<style scoped>\n",
       "    .dataframe tbody tr th:only-of-type {\n",
       "        vertical-align: middle;\n",
       "    }\n",
       "\n",
       "    .dataframe tbody tr th {\n",
       "        vertical-align: top;\n",
       "    }\n",
       "\n",
       "    .dataframe thead th {\n",
       "        text-align: right;\n",
       "    }\n",
       "</style>\n",
       "<table border=\"1\" class=\"dataframe\">\n",
       "  <thead>\n",
       "    <tr style=\"text-align: right;\">\n",
       "      <th></th>\n",
       "      <th>EMPLOYEE_ID</th>\n",
       "      <th>FIRST_NAME</th>\n",
       "      <th>LAST_NAME</th>\n",
       "      <th>EMAIL</th>\n",
       "      <th>PHONE_NUMBER</th>\n",
       "      <th>HIRE_DATE</th>\n",
       "      <th>JOB_ID</th>\n",
       "      <th>SALARY</th>\n",
       "      <th>COMMISSION_PCT</th>\n",
       "      <th>MANAGER_ID</th>\n",
       "      <th>DEPARTMENT_ID</th>\n",
       "      <th>Job_Code</th>\n",
       "      <th>Job_Code1</th>\n",
       "      <th>HIRED_YEAR</th>\n",
       "      <th>HIRED_MONTH</th>\n",
       "    </tr>\n",
       "  </thead>\n",
       "  <tbody>\n",
       "    <tr>\n",
       "      <th>0</th>\n",
       "      <td>100</td>\n",
       "      <td>Steven</td>\n",
       "      <td>King</td>\n",
       "      <td>sking</td>\n",
       "      <td>515.123.4567</td>\n",
       "      <td>2003-06-17 00:00:00</td>\n",
       "      <td>AD_PRES</td>\n",
       "      <td>24000</td>\n",
       "      <td>0.0</td>\n",
       "      <td>0</td>\n",
       "      <td>90</td>\n",
       "      <td>AD</td>\n",
       "      <td>PRES</td>\n",
       "      <td>2003</td>\n",
       "      <td>06</td>\n",
       "    </tr>\n",
       "    <tr>\n",
       "      <th>1</th>\n",
       "      <td>101</td>\n",
       "      <td>Neena</td>\n",
       "      <td>Kochhar</td>\n",
       "      <td>nkochhar</td>\n",
       "      <td>515.123.4568</td>\n",
       "      <td>2005-09-21 00:00:00</td>\n",
       "      <td>AD_VP</td>\n",
       "      <td>17000</td>\n",
       "      <td>0.0</td>\n",
       "      <td>100</td>\n",
       "      <td>90</td>\n",
       "      <td>AD</td>\n",
       "      <td>VP</td>\n",
       "      <td>2005</td>\n",
       "      <td>09</td>\n",
       "    </tr>\n",
       "    <tr>\n",
       "      <th>2</th>\n",
       "      <td>102</td>\n",
       "      <td>Lex</td>\n",
       "      <td>De Haan</td>\n",
       "      <td>ldehaan</td>\n",
       "      <td>515.123.4569</td>\n",
       "      <td>2001-01-13 00:00:00</td>\n",
       "      <td>AD_VP</td>\n",
       "      <td>17000</td>\n",
       "      <td>0.0</td>\n",
       "      <td>100</td>\n",
       "      <td>90</td>\n",
       "      <td>AD</td>\n",
       "      <td>VP</td>\n",
       "      <td>2001</td>\n",
       "      <td>01</td>\n",
       "    </tr>\n",
       "    <tr>\n",
       "      <th>3</th>\n",
       "      <td>103</td>\n",
       "      <td>Alexander</td>\n",
       "      <td>Hunold</td>\n",
       "      <td>ahunold</td>\n",
       "      <td>590.423.4567</td>\n",
       "      <td>2006-01-03 00:00:00</td>\n",
       "      <td>IT_PROG</td>\n",
       "      <td>9000</td>\n",
       "      <td>0.0</td>\n",
       "      <td>102</td>\n",
       "      <td>60</td>\n",
       "      <td>IT</td>\n",
       "      <td>PROG</td>\n",
       "      <td>2006</td>\n",
       "      <td>01</td>\n",
       "    </tr>\n",
       "    <tr>\n",
       "      <th>4</th>\n",
       "      <td>104</td>\n",
       "      <td>Bruce</td>\n",
       "      <td>Ernst</td>\n",
       "      <td>bernst</td>\n",
       "      <td>590.423.4568</td>\n",
       "      <td>2007-05-21 00:00:00</td>\n",
       "      <td>IT_PROG</td>\n",
       "      <td>6000</td>\n",
       "      <td>0.0</td>\n",
       "      <td>103</td>\n",
       "      <td>60</td>\n",
       "      <td>IT</td>\n",
       "      <td>PROG</td>\n",
       "      <td>2007</td>\n",
       "      <td>05</td>\n",
       "    </tr>\n",
       "  </tbody>\n",
       "</table>\n",
       "</div>"
      ],
      "text/plain": [
       "   EMPLOYEE_ID FIRST_NAME LAST_NAME     EMAIL  PHONE_NUMBER  \\\n",
       "0          100     Steven      King     sking  515.123.4567   \n",
       "1          101      Neena   Kochhar  nkochhar  515.123.4568   \n",
       "2          102        Lex   De Haan   ldehaan  515.123.4569   \n",
       "3          103  Alexander    Hunold   ahunold  590.423.4567   \n",
       "4          104      Bruce     Ernst    bernst  590.423.4568   \n",
       "\n",
       "             HIRE_DATE   JOB_ID  SALARY  COMMISSION_PCT  MANAGER_ID  \\\n",
       "0  2003-06-17 00:00:00  AD_PRES   24000             0.0           0   \n",
       "1  2005-09-21 00:00:00    AD_VP   17000             0.0         100   \n",
       "2  2001-01-13 00:00:00    AD_VP   17000             0.0         100   \n",
       "3  2006-01-03 00:00:00  IT_PROG    9000             0.0         102   \n",
       "4  2007-05-21 00:00:00  IT_PROG    6000             0.0         103   \n",
       "\n",
       "   DEPARTMENT_ID Job_Code Job_Code1 HIRED_YEAR HIRED_MONTH  \n",
       "0             90       AD      PRES       2003          06  \n",
       "1             90       AD        VP       2005          09  \n",
       "2             90       AD        VP       2001          01  \n",
       "3             60       IT      PROG       2006          01  \n",
       "4             60       IT      PROG       2007          05  "
      ]
     },
     "execution_count": 63,
     "metadata": {},
     "output_type": "execute_result"
    }
   ],
   "source": [
    "emp_df[['HIRED_YEAR', 'HIRED_MONTH']] = emp_df['HIRE_DATE'].str.extract('(\\d{4})-(\\d{2})')\n",
    "emp_df.head()"
   ]
  },
  {
   "cell_type": "code",
   "execution_count": 64,
   "id": "30df2c7e",
   "metadata": {},
   "outputs": [
    {
     "data": {
      "text/plain": [
       "EMPLOYEE_ID         int64\n",
       "FIRST_NAME         object\n",
       "LAST_NAME          object\n",
       "EMAIL              object\n",
       "PHONE_NUMBER       object\n",
       "HIRE_DATE          object\n",
       "JOB_ID             object\n",
       "SALARY              int64\n",
       "COMMISSION_PCT    float64\n",
       "MANAGER_ID          int64\n",
       "DEPARTMENT_ID       int64\n",
       "Job_Code           object\n",
       "Job_Code1          object\n",
       "HIRED_YEAR         object\n",
       "HIRED_MONTH        object\n",
       "dtype: object"
      ]
     },
     "execution_count": 64,
     "metadata": {},
     "output_type": "execute_result"
    }
   ],
   "source": [
    "emp_df.dtypes"
   ]
  },
  {
   "cell_type": "code",
   "execution_count": 66,
   "id": "c852eef5",
   "metadata": {},
   "outputs": [],
   "source": [
    "emp_df[['HIRED_YEAR', 'HIRED_MONTH']] = emp_df[['HIRED_YEAR', 'HIRED_MONTH']].applymap(int)"
   ]
  }
 ],
 "metadata": {
  "kernelspec": {
   "display_name": "Python 3 (ipykernel)",
   "language": "python",
   "name": "python3"
  },
  "language_info": {
   "codemirror_mode": {
    "name": "ipython",
    "version": 3
   },
   "file_extension": ".py",
   "mimetype": "text/x-python",
   "name": "python",
   "nbconvert_exporter": "python",
   "pygments_lexer": "ipython3",
   "version": "3.11.4"
  }
 },
 "nbformat": 4,
 "nbformat_minor": 5
}
